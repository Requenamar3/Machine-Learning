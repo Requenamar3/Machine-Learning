{
  "cells": [
    {
      "cell_type": "markdown",
      "metadata": {
        "id": "view-in-github",
        "colab_type": "text"
      },
      "source": [
        "<a href=\"https://colab.research.google.com/github/Requenamar3/Machine-Learning/blob/main/Machine_Learning_Assigment1_ipynb.ipynb\" target=\"_parent\"><img src=\"https://colab.research.google.com/assets/colab-badge.svg\" alt=\"Open In Colab\"/></a>"
      ]
    },
    {
      "cell_type": "markdown",
      "id": "a1624fd8",
      "metadata": {
        "id": "a1624fd8"
      },
      "source": [
        "#Understanding NumPy and Pandas: A Practical Guide with Environmental Data\n",
        "Welcome to this interactive tutorial! Today, we'll work with real environmental radiation data from the EPA's RadNet Database to learn fundamental concepts in NumPy and Pandas. This tutorial will help you understand how to manipulate and analyze scientific data effectively."
      ]
    },
    {
      "cell_type": "markdown",
      "source": [
        "### Setting Up Our Environment\n",
        "First, let's import our essential libraries:"
      ],
      "metadata": {
        "id": "CMO3xOdryIgd"
      },
      "id": "CMO3xOdryIgd"
    },
    {
      "cell_type": "code",
      "source": [
        "import numpy as np\n",
        "import pandas as pd"
      ],
      "metadata": {
        "id": "K-mhN6VayHxW"
      },
      "id": "K-mhN6VayHxW",
      "execution_count": 62,
      "outputs": []
    },
    {
      "cell_type": "markdown",
      "source": [
        "### Reading and Understanding Our Data\n",
        "The dataset we're working with contains radiation measurements from various locations across the United States. This is real-world data that scientists use to monitor environmental radiation levels."
      ],
      "metadata": {
        "id": "ti9nJj7vxxnJ"
      },
      "id": "ti9nJj7vxxnJ"
    },
    {
      "cell_type": "markdown",
      "source": [
        "When working in Google Colab, we first need to connect to our Google Drive to access our data files:"
      ],
      "metadata": {
        "id": "AaEJtjcpzDoz"
      },
      "id": "AaEJtjcpzDoz"
    },
    {
      "cell_type": "code",
      "source": [
        "# @title\n",
        "from google.colab import drive\n",
        "\n",
        "# Mount Google Drive\n",
        "drive.mount('/content/drive')\n",
        "\n",
        "# Load the CSV file\n",
        "file_path = '/content/drive/MyDrive/Colab Notebooks/Machine learning/Data set/radiation_clean.csv'\n",
        "df_assig1 = pd.read_csv(file_path)\n"
      ],
      "metadata": {
        "colab": {
          "base_uri": "https://localhost:8080/"
        },
        "id": "viho7n-nzEIB",
        "outputId": "bab7fffc-0bb1-4b09-91a8-cd695ae1311e",
        "cellView": "form"
      },
      "id": "viho7n-nzEIB",
      "execution_count": 63,
      "outputs": [
        {
          "output_type": "stream",
          "name": "stdout",
          "text": [
            "Drive already mounted at /content/drive; to attempt to forcibly remount, call drive.mount(\"/content/drive\", force_remount=True).\n"
          ]
        }
      ]
    },
    {
      "cell_type": "markdown",
      "source": [
        "This setup is crucial because:\n",
        "\n",
        " 1.Google Colab runs in a temporary environment\n",
        "\n",
        " 2.We need to establish a connection to access files stored in Google Drive\n",
        "\n",
        " 3.The mount point /content/drive becomes our gateway to access Drive files"
      ],
      "metadata": {
        "id": "8tBDiVTW6IY6"
      },
      "id": "8tBDiVTW6IY6"
    },
    {
      "cell_type": "markdown",
      "id": "43cc3cfe",
      "metadata": {
        "id": "43cc3cfe"
      },
      "source": [
        "__AFTER__ you read the csv file as a data frame, take a look at __df_assig1__ by running the following code cell:"
      ]
    },
    {
      "cell_type": "code",
      "source": [
        "# @title\n",
        "# View dataset information\n",
        "df_assig1.info()"
      ],
      "metadata": {
        "colab": {
          "base_uri": "https://localhost:8080/"
        },
        "id": "pbKWIi8W6ZjV",
        "outputId": "2f123a2a-a503-4869-88cc-0090ec6885eb",
        "cellView": "form"
      },
      "id": "pbKWIi8W6ZjV",
      "execution_count": 64,
      "outputs": [
        {
          "output_type": "stream",
          "name": "stdout",
          "text": [
            "<class 'pandas.core.frame.DataFrame'>\n",
            "RangeIndex: 606 entries, 0 to 605\n",
            "Data columns (total 18 columns):\n",
            " #   Column          Non-Null Count  Dtype  \n",
            "---  ------          --------------  -----  \n",
            " 0   State           606 non-null    object \n",
            " 1   Location        606 non-null    object \n",
            " 2   Date Posted     606 non-null    object \n",
            " 3   Date Collected  606 non-null    object \n",
            " 4   Sample Type     606 non-null    object \n",
            " 5   Unit            606 non-null    object \n",
            " 6   Ba-140          605 non-null    float64\n",
            " 7   Co-60           605 non-null    float64\n",
            " 8   Cs-134          606 non-null    int64  \n",
            " 9   Cs-136          506 non-null    float64\n",
            " 10  Cs-137          606 non-null    int64  \n",
            " 11  I-131           606 non-null    int64  \n",
            " 12  I-132           606 non-null    int64  \n",
            " 13  I-133           605 non-null    float64\n",
            " 14  Te-129          506 non-null    float64\n",
            " 15  Te-129m         506 non-null    float64\n",
            " 16  Te-132          606 non-null    int64  \n",
            " 17  Ba-140.1        0 non-null      float64\n",
            "dtypes: float64(7), int64(5), object(6)\n",
            "memory usage: 85.3+ KB\n"
          ]
        }
      ]
    },
    {
      "cell_type": "markdown",
      "source": [
        "💡 Key Insight: Notice how our dataset has 18 columns, including location information and measurements for different radioactive isotopes. Some columns have missing values (when Non-Null Count is less than 606), which is common in real-world data."
      ],
      "metadata": {
        "id": "hZtYE8w58EnB"
      },
      "id": "hZtYE8w58EnB"
    },
    {
      "cell_type": "code",
      "source": [
        "# @title\n",
        "df_assig1.head()"
      ],
      "metadata": {
        "colab": {
          "base_uri": "https://localhost:8080/",
          "height": 206
        },
        "id": "cdYv66Lh9MPH",
        "outputId": "a56927a8-c60f-4a64-a2c7-496f59174415",
        "cellView": "form"
      },
      "id": "cdYv66Lh9MPH",
      "execution_count": 65,
      "outputs": [
        {
          "output_type": "execute_result",
          "data": {
            "text/plain": [
              "  State Location Date Posted Date Collected Sample Type    Unit  Ba-140  \\\n",
              "0    ID    Boise  2011-03-30     2011-03-23  Air Filter  pCi/m3     0.0   \n",
              "1    ID    Boise  2011-03-30     2011-03-23  Air Filter  pCi/m3     0.0   \n",
              "2    AK   Juneau  2011-03-30     2011-03-23  Air Filter  pCi/m3     0.0   \n",
              "3    AK     Nome  2011-03-30     2011-03-22  Air Filter  pCi/m3     0.0   \n",
              "4    AK     Nome  2011-03-30     2011-03-23  Air Filter  pCi/m3     0.0   \n",
              "\n",
              "   Co-60  Cs-134  Cs-136  Cs-137  I-131  I-132  I-133  Te-129  Te-129m  \\\n",
              "0    0.0       0     NaN       0      0      0    0.0     NaN      NaN   \n",
              "1    0.0       0     NaN       0      0      0    0.0     NaN      NaN   \n",
              "2    0.0       0     NaN       0      0      0    0.0     NaN      NaN   \n",
              "3    0.0       0     NaN       0      0      0    0.0     NaN      NaN   \n",
              "4    0.0       0     NaN       0      0      0    0.0     NaN      NaN   \n",
              "\n",
              "   Te-132  Ba-140.1  \n",
              "0       0       NaN  \n",
              "1       0       NaN  \n",
              "2       0       NaN  \n",
              "3       0       NaN  \n",
              "4       0       NaN  "
            ],
            "text/html": [
              "\n",
              "  <div id=\"df-01153dcc-11f3-4f58-bfff-8978cce0226c\" class=\"colab-df-container\">\n",
              "    <div>\n",
              "<style scoped>\n",
              "    .dataframe tbody tr th:only-of-type {\n",
              "        vertical-align: middle;\n",
              "    }\n",
              "\n",
              "    .dataframe tbody tr th {\n",
              "        vertical-align: top;\n",
              "    }\n",
              "\n",
              "    .dataframe thead th {\n",
              "        text-align: right;\n",
              "    }\n",
              "</style>\n",
              "<table border=\"1\" class=\"dataframe\">\n",
              "  <thead>\n",
              "    <tr style=\"text-align: right;\">\n",
              "      <th></th>\n",
              "      <th>State</th>\n",
              "      <th>Location</th>\n",
              "      <th>Date Posted</th>\n",
              "      <th>Date Collected</th>\n",
              "      <th>Sample Type</th>\n",
              "      <th>Unit</th>\n",
              "      <th>Ba-140</th>\n",
              "      <th>Co-60</th>\n",
              "      <th>Cs-134</th>\n",
              "      <th>Cs-136</th>\n",
              "      <th>Cs-137</th>\n",
              "      <th>I-131</th>\n",
              "      <th>I-132</th>\n",
              "      <th>I-133</th>\n",
              "      <th>Te-129</th>\n",
              "      <th>Te-129m</th>\n",
              "      <th>Te-132</th>\n",
              "      <th>Ba-140.1</th>\n",
              "    </tr>\n",
              "  </thead>\n",
              "  <tbody>\n",
              "    <tr>\n",
              "      <th>0</th>\n",
              "      <td>ID</td>\n",
              "      <td>Boise</td>\n",
              "      <td>2011-03-30</td>\n",
              "      <td>2011-03-23</td>\n",
              "      <td>Air Filter</td>\n",
              "      <td>pCi/m3</td>\n",
              "      <td>0.0</td>\n",
              "      <td>0.0</td>\n",
              "      <td>0</td>\n",
              "      <td>NaN</td>\n",
              "      <td>0</td>\n",
              "      <td>0</td>\n",
              "      <td>0</td>\n",
              "      <td>0.0</td>\n",
              "      <td>NaN</td>\n",
              "      <td>NaN</td>\n",
              "      <td>0</td>\n",
              "      <td>NaN</td>\n",
              "    </tr>\n",
              "    <tr>\n",
              "      <th>1</th>\n",
              "      <td>ID</td>\n",
              "      <td>Boise</td>\n",
              "      <td>2011-03-30</td>\n",
              "      <td>2011-03-23</td>\n",
              "      <td>Air Filter</td>\n",
              "      <td>pCi/m3</td>\n",
              "      <td>0.0</td>\n",
              "      <td>0.0</td>\n",
              "      <td>0</td>\n",
              "      <td>NaN</td>\n",
              "      <td>0</td>\n",
              "      <td>0</td>\n",
              "      <td>0</td>\n",
              "      <td>0.0</td>\n",
              "      <td>NaN</td>\n",
              "      <td>NaN</td>\n",
              "      <td>0</td>\n",
              "      <td>NaN</td>\n",
              "    </tr>\n",
              "    <tr>\n",
              "      <th>2</th>\n",
              "      <td>AK</td>\n",
              "      <td>Juneau</td>\n",
              "      <td>2011-03-30</td>\n",
              "      <td>2011-03-23</td>\n",
              "      <td>Air Filter</td>\n",
              "      <td>pCi/m3</td>\n",
              "      <td>0.0</td>\n",
              "      <td>0.0</td>\n",
              "      <td>0</td>\n",
              "      <td>NaN</td>\n",
              "      <td>0</td>\n",
              "      <td>0</td>\n",
              "      <td>0</td>\n",
              "      <td>0.0</td>\n",
              "      <td>NaN</td>\n",
              "      <td>NaN</td>\n",
              "      <td>0</td>\n",
              "      <td>NaN</td>\n",
              "    </tr>\n",
              "    <tr>\n",
              "      <th>3</th>\n",
              "      <td>AK</td>\n",
              "      <td>Nome</td>\n",
              "      <td>2011-03-30</td>\n",
              "      <td>2011-03-22</td>\n",
              "      <td>Air Filter</td>\n",
              "      <td>pCi/m3</td>\n",
              "      <td>0.0</td>\n",
              "      <td>0.0</td>\n",
              "      <td>0</td>\n",
              "      <td>NaN</td>\n",
              "      <td>0</td>\n",
              "      <td>0</td>\n",
              "      <td>0</td>\n",
              "      <td>0.0</td>\n",
              "      <td>NaN</td>\n",
              "      <td>NaN</td>\n",
              "      <td>0</td>\n",
              "      <td>NaN</td>\n",
              "    </tr>\n",
              "    <tr>\n",
              "      <th>4</th>\n",
              "      <td>AK</td>\n",
              "      <td>Nome</td>\n",
              "      <td>2011-03-30</td>\n",
              "      <td>2011-03-23</td>\n",
              "      <td>Air Filter</td>\n",
              "      <td>pCi/m3</td>\n",
              "      <td>0.0</td>\n",
              "      <td>0.0</td>\n",
              "      <td>0</td>\n",
              "      <td>NaN</td>\n",
              "      <td>0</td>\n",
              "      <td>0</td>\n",
              "      <td>0</td>\n",
              "      <td>0.0</td>\n",
              "      <td>NaN</td>\n",
              "      <td>NaN</td>\n",
              "      <td>0</td>\n",
              "      <td>NaN</td>\n",
              "    </tr>\n",
              "  </tbody>\n",
              "</table>\n",
              "</div>\n",
              "    <div class=\"colab-df-buttons\">\n",
              "\n",
              "  <div class=\"colab-df-container\">\n",
              "    <button class=\"colab-df-convert\" onclick=\"convertToInteractive('df-01153dcc-11f3-4f58-bfff-8978cce0226c')\"\n",
              "            title=\"Convert this dataframe to an interactive table.\"\n",
              "            style=\"display:none;\">\n",
              "\n",
              "  <svg xmlns=\"http://www.w3.org/2000/svg\" height=\"24px\" viewBox=\"0 -960 960 960\">\n",
              "    <path d=\"M120-120v-720h720v720H120Zm60-500h600v-160H180v160Zm220 220h160v-160H400v160Zm0 220h160v-160H400v160ZM180-400h160v-160H180v160Zm440 0h160v-160H620v160ZM180-180h160v-160H180v160Zm440 0h160v-160H620v160Z\"/>\n",
              "  </svg>\n",
              "    </button>\n",
              "\n",
              "  <style>\n",
              "    .colab-df-container {\n",
              "      display:flex;\n",
              "      gap: 12px;\n",
              "    }\n",
              "\n",
              "    .colab-df-convert {\n",
              "      background-color: #E8F0FE;\n",
              "      border: none;\n",
              "      border-radius: 50%;\n",
              "      cursor: pointer;\n",
              "      display: none;\n",
              "      fill: #1967D2;\n",
              "      height: 32px;\n",
              "      padding: 0 0 0 0;\n",
              "      width: 32px;\n",
              "    }\n",
              "\n",
              "    .colab-df-convert:hover {\n",
              "      background-color: #E2EBFA;\n",
              "      box-shadow: 0px 1px 2px rgba(60, 64, 67, 0.3), 0px 1px 3px 1px rgba(60, 64, 67, 0.15);\n",
              "      fill: #174EA6;\n",
              "    }\n",
              "\n",
              "    .colab-df-buttons div {\n",
              "      margin-bottom: 4px;\n",
              "    }\n",
              "\n",
              "    [theme=dark] .colab-df-convert {\n",
              "      background-color: #3B4455;\n",
              "      fill: #D2E3FC;\n",
              "    }\n",
              "\n",
              "    [theme=dark] .colab-df-convert:hover {\n",
              "      background-color: #434B5C;\n",
              "      box-shadow: 0px 1px 3px 1px rgba(0, 0, 0, 0.15);\n",
              "      filter: drop-shadow(0px 1px 2px rgba(0, 0, 0, 0.3));\n",
              "      fill: #FFFFFF;\n",
              "    }\n",
              "  </style>\n",
              "\n",
              "    <script>\n",
              "      const buttonEl =\n",
              "        document.querySelector('#df-01153dcc-11f3-4f58-bfff-8978cce0226c button.colab-df-convert');\n",
              "      buttonEl.style.display =\n",
              "        google.colab.kernel.accessAllowed ? 'block' : 'none';\n",
              "\n",
              "      async function convertToInteractive(key) {\n",
              "        const element = document.querySelector('#df-01153dcc-11f3-4f58-bfff-8978cce0226c');\n",
              "        const dataTable =\n",
              "          await google.colab.kernel.invokeFunction('convertToInteractive',\n",
              "                                                    [key], {});\n",
              "        if (!dataTable) return;\n",
              "\n",
              "        const docLinkHtml = 'Like what you see? Visit the ' +\n",
              "          '<a target=\"_blank\" href=https://colab.research.google.com/notebooks/data_table.ipynb>data table notebook</a>'\n",
              "          + ' to learn more about interactive tables.';\n",
              "        element.innerHTML = '';\n",
              "        dataTable['output_type'] = 'display_data';\n",
              "        await google.colab.output.renderOutput(dataTable, element);\n",
              "        const docLink = document.createElement('div');\n",
              "        docLink.innerHTML = docLinkHtml;\n",
              "        element.appendChild(docLink);\n",
              "      }\n",
              "    </script>\n",
              "  </div>\n",
              "\n",
              "\n",
              "<div id=\"df-6ca2ef1d-6ed7-4d8c-9662-a69365f6e23f\">\n",
              "  <button class=\"colab-df-quickchart\" onclick=\"quickchart('df-6ca2ef1d-6ed7-4d8c-9662-a69365f6e23f')\"\n",
              "            title=\"Suggest charts\"\n",
              "            style=\"display:none;\">\n",
              "\n",
              "<svg xmlns=\"http://www.w3.org/2000/svg\" height=\"24px\"viewBox=\"0 0 24 24\"\n",
              "     width=\"24px\">\n",
              "    <g>\n",
              "        <path d=\"M19 3H5c-1.1 0-2 .9-2 2v14c0 1.1.9 2 2 2h14c1.1 0 2-.9 2-2V5c0-1.1-.9-2-2-2zM9 17H7v-7h2v7zm4 0h-2V7h2v10zm4 0h-2v-4h2v4z\"/>\n",
              "    </g>\n",
              "</svg>\n",
              "  </button>\n",
              "\n",
              "<style>\n",
              "  .colab-df-quickchart {\n",
              "      --bg-color: #E8F0FE;\n",
              "      --fill-color: #1967D2;\n",
              "      --hover-bg-color: #E2EBFA;\n",
              "      --hover-fill-color: #174EA6;\n",
              "      --disabled-fill-color: #AAA;\n",
              "      --disabled-bg-color: #DDD;\n",
              "  }\n",
              "\n",
              "  [theme=dark] .colab-df-quickchart {\n",
              "      --bg-color: #3B4455;\n",
              "      --fill-color: #D2E3FC;\n",
              "      --hover-bg-color: #434B5C;\n",
              "      --hover-fill-color: #FFFFFF;\n",
              "      --disabled-bg-color: #3B4455;\n",
              "      --disabled-fill-color: #666;\n",
              "  }\n",
              "\n",
              "  .colab-df-quickchart {\n",
              "    background-color: var(--bg-color);\n",
              "    border: none;\n",
              "    border-radius: 50%;\n",
              "    cursor: pointer;\n",
              "    display: none;\n",
              "    fill: var(--fill-color);\n",
              "    height: 32px;\n",
              "    padding: 0;\n",
              "    width: 32px;\n",
              "  }\n",
              "\n",
              "  .colab-df-quickchart:hover {\n",
              "    background-color: var(--hover-bg-color);\n",
              "    box-shadow: 0 1px 2px rgba(60, 64, 67, 0.3), 0 1px 3px 1px rgba(60, 64, 67, 0.15);\n",
              "    fill: var(--button-hover-fill-color);\n",
              "  }\n",
              "\n",
              "  .colab-df-quickchart-complete:disabled,\n",
              "  .colab-df-quickchart-complete:disabled:hover {\n",
              "    background-color: var(--disabled-bg-color);\n",
              "    fill: var(--disabled-fill-color);\n",
              "    box-shadow: none;\n",
              "  }\n",
              "\n",
              "  .colab-df-spinner {\n",
              "    border: 2px solid var(--fill-color);\n",
              "    border-color: transparent;\n",
              "    border-bottom-color: var(--fill-color);\n",
              "    animation:\n",
              "      spin 1s steps(1) infinite;\n",
              "  }\n",
              "\n",
              "  @keyframes spin {\n",
              "    0% {\n",
              "      border-color: transparent;\n",
              "      border-bottom-color: var(--fill-color);\n",
              "      border-left-color: var(--fill-color);\n",
              "    }\n",
              "    20% {\n",
              "      border-color: transparent;\n",
              "      border-left-color: var(--fill-color);\n",
              "      border-top-color: var(--fill-color);\n",
              "    }\n",
              "    30% {\n",
              "      border-color: transparent;\n",
              "      border-left-color: var(--fill-color);\n",
              "      border-top-color: var(--fill-color);\n",
              "      border-right-color: var(--fill-color);\n",
              "    }\n",
              "    40% {\n",
              "      border-color: transparent;\n",
              "      border-right-color: var(--fill-color);\n",
              "      border-top-color: var(--fill-color);\n",
              "    }\n",
              "    60% {\n",
              "      border-color: transparent;\n",
              "      border-right-color: var(--fill-color);\n",
              "    }\n",
              "    80% {\n",
              "      border-color: transparent;\n",
              "      border-right-color: var(--fill-color);\n",
              "      border-bottom-color: var(--fill-color);\n",
              "    }\n",
              "    90% {\n",
              "      border-color: transparent;\n",
              "      border-bottom-color: var(--fill-color);\n",
              "    }\n",
              "  }\n",
              "</style>\n",
              "\n",
              "  <script>\n",
              "    async function quickchart(key) {\n",
              "      const quickchartButtonEl =\n",
              "        document.querySelector('#' + key + ' button');\n",
              "      quickchartButtonEl.disabled = true;  // To prevent multiple clicks.\n",
              "      quickchartButtonEl.classList.add('colab-df-spinner');\n",
              "      try {\n",
              "        const charts = await google.colab.kernel.invokeFunction(\n",
              "            'suggestCharts', [key], {});\n",
              "      } catch (error) {\n",
              "        console.error('Error during call to suggestCharts:', error);\n",
              "      }\n",
              "      quickchartButtonEl.classList.remove('colab-df-spinner');\n",
              "      quickchartButtonEl.classList.add('colab-df-quickchart-complete');\n",
              "    }\n",
              "    (() => {\n",
              "      let quickchartButtonEl =\n",
              "        document.querySelector('#df-6ca2ef1d-6ed7-4d8c-9662-a69365f6e23f button');\n",
              "      quickchartButtonEl.style.display =\n",
              "        google.colab.kernel.accessAllowed ? 'block' : 'none';\n",
              "    })();\n",
              "  </script>\n",
              "</div>\n",
              "\n",
              "    </div>\n",
              "  </div>\n"
            ],
            "application/vnd.google.colaboratory.intrinsic+json": {
              "type": "dataframe",
              "variable_name": "df_assig1",
              "summary": "{\n  \"name\": \"df_assig1\",\n  \"rows\": 606,\n  \"fields\": [\n    {\n      \"column\": \"State\",\n      \"properties\": {\n        \"dtype\": \"category\",\n        \"num_unique_values\": 52,\n        \"samples\": [\n          \"SC\",\n          \"OR\",\n          \"NJ\"\n        ],\n        \"semantic_type\": \"\",\n        \"description\": \"\"\n      }\n    },\n    {\n      \"column\": \"Location\",\n      \"properties\": {\n        \"dtype\": \"category\",\n        \"num_unique_values\": 141,\n        \"samples\": [\n          \"Oak Ridge/4442\",\n          \"Louisville \",\n          \"Chattanooga\"\n        ],\n        \"semantic_type\": \"\",\n        \"description\": \"\"\n      }\n    },\n    {\n      \"column\": \"Date Posted\",\n      \"properties\": {\n        \"dtype\": \"object\",\n        \"num_unique_values\": 18,\n        \"samples\": [\n          \"2011-03-30\",\n          \"2011-04-04\",\n          \"2011-04-15\"\n        ],\n        \"semantic_type\": \"\",\n        \"description\": \"\"\n      }\n    },\n    {\n      \"column\": \"Date Collected\",\n      \"properties\": {\n        \"dtype\": \"object\",\n        \"num_unique_values\": 43,\n        \"samples\": [\n          \"2011-04-24\",\n          \"2011-04-12\",\n          \"2011-04-14\"\n        ],\n        \"semantic_type\": \"\",\n        \"description\": \"\"\n      }\n    },\n    {\n      \"column\": \"Sample Type\",\n      \"properties\": {\n        \"dtype\": \"category\",\n        \"num_unique_values\": 6,\n        \"samples\": [\n          \"Air Filter\",\n          \"Air Cartridge\",\n          \"Precipitation \"\n        ],\n        \"semantic_type\": \"\",\n        \"description\": \"\"\n      }\n    },\n    {\n      \"column\": \"Unit\",\n      \"properties\": {\n        \"dtype\": \"category\",\n        \"num_unique_values\": 2,\n        \"samples\": [\n          \"pCi/l\",\n          \"pCi/m3\"\n        ],\n        \"semantic_type\": \"\",\n        \"description\": \"\"\n      }\n    },\n    {\n      \"column\": \"Ba-140\",\n      \"properties\": {\n        \"dtype\": \"number\",\n        \"std\": 0.0,\n        \"min\": 0.0,\n        \"max\": 0.0,\n        \"num_unique_values\": 1,\n        \"samples\": [\n          0.0\n        ],\n        \"semantic_type\": \"\",\n        \"description\": \"\"\n      }\n    },\n    {\n      \"column\": \"Co-60\",\n      \"properties\": {\n        \"dtype\": \"number\",\n        \"std\": 0.0,\n        \"min\": 0.0,\n        \"max\": 0.0,\n        \"num_unique_values\": 1,\n        \"samples\": [\n          0.0\n        ],\n        \"semantic_type\": \"\",\n        \"description\": \"\"\n      }\n    },\n    {\n      \"column\": \"Cs-134\",\n      \"properties\": {\n        \"dtype\": \"number\",\n        \"std\": 2,\n        \"min\": 0,\n        \"max\": 42,\n        \"num_unique_values\": 10,\n        \"samples\": [\n          9\n        ],\n        \"semantic_type\": \"\",\n        \"description\": \"\"\n      }\n    },\n    {\n      \"column\": \"Cs-136\",\n      \"properties\": {\n        \"dtype\": \"number\",\n        \"std\": 0.0,\n        \"min\": 0.0,\n        \"max\": 0.0,\n        \"num_unique_values\": 1,\n        \"samples\": [\n          0.0\n        ],\n        \"semantic_type\": \"\",\n        \"description\": \"\"\n      }\n    },\n    {\n      \"column\": \"Cs-137\",\n      \"properties\": {\n        \"dtype\": \"number\",\n        \"std\": 1,\n        \"min\": 0,\n        \"max\": 36,\n        \"num_unique_values\": 10,\n        \"samples\": [\n          6\n        ],\n        \"semantic_type\": \"\",\n        \"description\": \"\"\n      }\n    },\n    {\n      \"column\": \"I-131\",\n      \"properties\": {\n        \"dtype\": \"number\",\n        \"std\": 25,\n        \"min\": 0,\n        \"max\": 390,\n        \"num_unique_values\": 44,\n        \"samples\": [\n          37\n        ],\n        \"semantic_type\": \"\",\n        \"description\": \"\"\n      }\n    },\n    {\n      \"column\": \"I-132\",\n      \"properties\": {\n        \"dtype\": \"number\",\n        \"std\": 0,\n        \"min\": 0,\n        \"max\": 0,\n        \"num_unique_values\": 1,\n        \"samples\": [\n          0\n        ],\n        \"semantic_type\": \"\",\n        \"description\": \"\"\n      }\n    },\n    {\n      \"column\": \"I-133\",\n      \"properties\": {\n        \"dtype\": \"number\",\n        \"std\": 0.0,\n        \"min\": 0.0,\n        \"max\": 0.0,\n        \"num_unique_values\": 1,\n        \"samples\": [\n          0.0\n        ],\n        \"semantic_type\": \"\",\n        \"description\": \"\"\n      }\n    },\n    {\n      \"column\": \"Te-129\",\n      \"properties\": {\n        \"dtype\": \"number\",\n        \"std\": 0.0,\n        \"min\": 0.0,\n        \"max\": 0.0,\n        \"num_unique_values\": 1,\n        \"samples\": [\n          0.0\n        ],\n        \"semantic_type\": \"\",\n        \"description\": \"\"\n      }\n    },\n    {\n      \"column\": \"Te-129m\",\n      \"properties\": {\n        \"dtype\": \"number\",\n        \"std\": 0.0,\n        \"min\": 0.0,\n        \"max\": 0.0,\n        \"num_unique_values\": 1,\n        \"samples\": [\n          0.0\n        ],\n        \"semantic_type\": \"\",\n        \"description\": \"\"\n      }\n    },\n    {\n      \"column\": \"Te-132\",\n      \"properties\": {\n        \"dtype\": \"number\",\n        \"std\": 0,\n        \"min\": 0,\n        \"max\": 6,\n        \"num_unique_values\": 2,\n        \"samples\": [\n          6\n        ],\n        \"semantic_type\": \"\",\n        \"description\": \"\"\n      }\n    },\n    {\n      \"column\": \"Ba-140.1\",\n      \"properties\": {\n        \"dtype\": \"number\",\n        \"std\": null,\n        \"min\": null,\n        \"max\": null,\n        \"num_unique_values\": 0,\n        \"samples\": [],\n        \"semantic_type\": \"\",\n        \"description\": \"\"\n      }\n    }\n  ]\n}"
            }
          },
          "metadata": {},
          "execution_count": 65
        }
      ]
    },
    {
      "cell_type": "code",
      "source": [
        "# @title\n",
        "# Display all records for the 'I-131' column\n",
        "df_assig1['I-131']"
      ],
      "metadata": {
        "colab": {
          "base_uri": "https://localhost:8080/",
          "height": 458
        },
        "id": "zvuLImSG9xZc",
        "outputId": "7c281e46-7ed1-4a9a-8511-bbab9f8ad002",
        "cellView": "form"
      },
      "id": "zvuLImSG9xZc",
      "execution_count": 66,
      "outputs": [
        {
          "output_type": "execute_result",
          "data": {
            "text/plain": [
              "0      0\n",
              "1      0\n",
              "2      0\n",
              "3      0\n",
              "4      0\n",
              "      ..\n",
              "601    6\n",
              "602    0\n",
              "603    0\n",
              "604    0\n",
              "605    0\n",
              "Name: I-131, Length: 606, dtype: int64"
            ],
            "text/html": [
              "<div>\n",
              "<style scoped>\n",
              "    .dataframe tbody tr th:only-of-type {\n",
              "        vertical-align: middle;\n",
              "    }\n",
              "\n",
              "    .dataframe tbody tr th {\n",
              "        vertical-align: top;\n",
              "    }\n",
              "\n",
              "    .dataframe thead th {\n",
              "        text-align: right;\n",
              "    }\n",
              "</style>\n",
              "<table border=\"1\" class=\"dataframe\">\n",
              "  <thead>\n",
              "    <tr style=\"text-align: right;\">\n",
              "      <th></th>\n",
              "      <th>I-131</th>\n",
              "    </tr>\n",
              "  </thead>\n",
              "  <tbody>\n",
              "    <tr>\n",
              "      <th>0</th>\n",
              "      <td>0</td>\n",
              "    </tr>\n",
              "    <tr>\n",
              "      <th>1</th>\n",
              "      <td>0</td>\n",
              "    </tr>\n",
              "    <tr>\n",
              "      <th>2</th>\n",
              "      <td>0</td>\n",
              "    </tr>\n",
              "    <tr>\n",
              "      <th>3</th>\n",
              "      <td>0</td>\n",
              "    </tr>\n",
              "    <tr>\n",
              "      <th>4</th>\n",
              "      <td>0</td>\n",
              "    </tr>\n",
              "    <tr>\n",
              "      <th>...</th>\n",
              "      <td>...</td>\n",
              "    </tr>\n",
              "    <tr>\n",
              "      <th>601</th>\n",
              "      <td>6</td>\n",
              "    </tr>\n",
              "    <tr>\n",
              "      <th>602</th>\n",
              "      <td>0</td>\n",
              "    </tr>\n",
              "    <tr>\n",
              "      <th>603</th>\n",
              "      <td>0</td>\n",
              "    </tr>\n",
              "    <tr>\n",
              "      <th>604</th>\n",
              "      <td>0</td>\n",
              "    </tr>\n",
              "    <tr>\n",
              "      <th>605</th>\n",
              "      <td>0</td>\n",
              "    </tr>\n",
              "  </tbody>\n",
              "</table>\n",
              "<p>606 rows × 1 columns</p>\n",
              "</div><br><label><b>dtype:</b> int64</label>"
            ]
          },
          "metadata": {},
          "execution_count": 66
        }
      ]
    },
    {
      "cell_type": "markdown",
      "id": "71b93188",
      "metadata": {
        "id": "71b93188"
      },
      "source": [
        "#Question 1\n",
        "Create a Numpy array called _i131_data_ with the data from the column _I-131_ in __df_assig1__.\n",
        "\n",
        "Note: I-131 (i.e., Iodine-131) is one of many radiactive substances.\n",
        "\n",
        "Hint: Use the same method we used in class to read the PRCP column from the rain dataset into a NumPy array.\n",
        "\n",
        "\n",
        "##Use Case Example:\n",
        "###Scenario:\n",
        "The researcher needs to perform numerical operations (e.g., statistical analysis or simulations) on radiation measurements (I-131) and requires the data in an efficient format for computation.\n",
        "\n",
        "###Why Use NumPy?\n",
        "Performance: NumPy arrays are faster for large datasets.\n",
        "Compatibility: Works seamlessly with numerical libraries like NumPy, SciPy, and TensorFlow.\n",
        "Efficiency: Enables element-wise operations and advanced slicing.\n",
        "\n",
        "**This step is commonly used when preparing data for numerical analysis or modeling.**"
      ]
    },
    {
      "cell_type": "code",
      "execution_count": 67,
      "id": "8200ebd7",
      "metadata": {
        "id": "8200ebd7",
        "colab": {
          "base_uri": "https://localhost:8080/"
        },
        "outputId": "2beed61d-e743-4ecd-a78c-bd92a0085245",
        "collapsed": true,
        "cellView": "form"
      },
      "outputs": [
        {
          "output_type": "execute_result",
          "data": {
            "text/plain": [
              "array([  0,   0,   0,   0,   0,   0,   0,   0,   0,   0,   1,   1,   0,\n",
              "         1,   2,   0,   0,   1,   0,   1,   1,   1,   0,   0,   0,   0,\n",
              "         0,   0,   0,   0,   0,   0,   0,   0,   0,   0,   0,   0,   1,\n",
              "         1,   0,   0,   1,   1,   0,   0,   0,   0,   0,   0,   0,   0,\n",
              "         0,   2,   3,   1,   1,   0,   0,   0,   0,   0,   0,   0,   0,\n",
              "         0,   0,   0,   0,   0,   1,   0,   1,   0,   0,   0,   0,   0,\n",
              "         0,   0,   0,   0,   0,   0,   0,   0,   0,   0,   0,   0,   0,\n",
              "         0,   0,   0,   0,   0,   0,   0,   0,   0,   0,   0,   0,   1,\n",
              "         0,   0,   0,   1,   0,   0,   0,   0,   0,   0,   0,   0,   0,\n",
              "         0,   1,   1,   0,   1,   1,   0,   0,   0,   0,   0,   0,   0,\n",
              "         0,   0,   0,   0,   0,   1,   0,   0,   0,   0,   0,   0,   0,\n",
              "         0,   0,   0,   0,   0,   1,   0,   1,   0,   0,   1,   0,   0,\n",
              "         0,   0,   0,   0,   0,   0,   0,   1,   1,   0,   0,   0,   0,\n",
              "         0,   0,   0,   0,   0,   0,   0,   1,   1,   0,   1,   0,   0,\n",
              "         0,   0,   0,   0,   0,   0,   0,   0,   0,   0,   0,   0,   1,\n",
              "         0,   0,   0,   0,   0,   0,   0,   0,   0,   0,   0,   0,   0,\n",
              "         0,   0,   0,   0,   0,   0,   0,   0,   0,   0,   0,   0,   0,\n",
              "         0,   0,   0,   0,   0,   0,   0,   0,   0,   0,   0,   0,   0,\n",
              "         0,   0,   0,   0,   0,   0,   0,   0,   0,   0,   0,   0,   0,\n",
              "         0,   0,   0,   2,   0,   0,   0,   0,   0,   0,   0,   0,   0,\n",
              "         0,   0,   0,   0,   0,   0,   0,   0,   0,   0,   0,   0,   0,\n",
              "         0,   0,   0,   0,   0,   0,   0,   0,   0,   0,   0,   0,   0,\n",
              "         0,   0,   0,   0,   0,   0,   0,   0,   0,   0,   0,   0,   0,\n",
              "         0,   0,   0,   0,   0,   0,   0,   0,   0,   0,   0,   0,   0,\n",
              "         0,   0,   0,   0,   0,   0,   0,   0,   0,   0,   0,   0,   0,\n",
              "         0,   0,   1,   0,   0,   0,   0,   0,   0,   0,   0,   0,   0,\n",
              "         0,   0,   0,   1,   2,   2,   1,   0,   0,   0,   0,   0,   0,\n",
              "         0,   0,   0,   0,   0,   0,   0,   0,   0,   0,   0,   0,   0,\n",
              "         0,   0,   0,   0,   0,   0,   0,   0,   0,   0,   0,   0,   0,\n",
              "         0,   0,   0,   0,   0,   0,   0,   0,   0,   0,   0,   0,   0,\n",
              "         0,   0,   0,   0,   0,   0,   0,   0,   0,   0,   0,   0,   0,\n",
              "         0,   0,   0,   0,   0,  18,   0,   0,   3,   0,   0,   0,   9,\n",
              "         0,   3,   4,   0,   0,   4,   0,   4,   3,   0,   0,   0,   0,\n",
              "         0,   0,   0,   0,   0,   0,   0,   0,   0,   0,   1,   0,   0,\n",
              "         0,   0,   0,   0,   0,   0,   0,   0,   0,  30,   4,   0,  22,\n",
              "         0,  17,   0, 242, 390,   0,  92,  15,  20,  10,   0,   7,  45,\n",
              "        15,   4,   3,   0,  24,  47,   0,  43,   0,   0,   0,   0,   6,\n",
              "         0,   0,  26,  19,  12,   2,  32, 150,  22,   0,   0, 200,  18,\n",
              "         0,   3,  26,   0,  21,   0,  44,   6,   0,   0,   0,   9,   0,\n",
              "        17,   4,   0,   0,  72,  19,   0,   5,   0,  18,  19,  40,   0,\n",
              "         0,  18,  81,  21,   4,  13,   0,  54,   2,  20,   0, 125,  37,\n",
              "         7,  12,   7,   0,   2,   0,   0,  47,   6,  87,   0, 138, 138,\n",
              "         0,   0,   0,   0,   8, 190,   8,  14,   0,  32,  16,   0,   9,\n",
              "        19,   4,  15,   0,   0,   0,   0,   0,   0,   0,   0,   0,   0,\n",
              "         0,   0,   7,   0,   0,   0,   0,   3,   0,   2,   0,   0,   0,\n",
              "         4,   0,   0,   0,   0,   0,   0,   0,   0,   0,   0,   0,   0,\n",
              "         6,   0,   0,   6,   0,   0,   0,   0])"
            ]
          },
          "metadata": {},
          "execution_count": 67
        }
      ],
      "source": [
        "# @title\n",
        "# Convert the 'I-131' column from the df into a NumPy array\n",
        "i131_data = df_assig1['I-131'].to_numpy()\n",
        "i131_data"
      ]
    },
    {
      "cell_type": "markdown",
      "id": "ed97b568",
      "metadata": {
        "id": "ed97b568"
      },
      "source": [
        "#Question 2\n",
        "(8 points): Return the first, sixth, and twelfth elements of i131_data. __Write only one line of code__ to answer this question.\n",
        "\n",
        "##Sample Use Case: Retrieving Specific Measurements\n",
        "###Scenario:\n",
        "A researcher needs to analyze radiation levels at specific points in the dataset for targeted inspections or validations. Using the indices [0, 5, 11], they can retrieve the corresponding measurements from the i131_data array.\n",
        "###Use Case Example:\n",
        "The researcher may use this to:\n",
        "\n",
        "1. Inspect the first recorded measurement.\n",
        "2. Validate a mid-point entry for equipment calibration.\n",
        "3. Analyze a specific value flagged for potential issues.\n",
        "This approach ensures efficient access to key data points without iterating through the entire dataset.\n"
      ]
    },
    {
      "cell_type": "code",
      "source": [
        "# @title\n",
        "# Getting specific elements\n",
        "first_sixth_twelfth = i131_data[[0, 5, 11]]  # Returns elements at indices 0, 5, and 11\n",
        "first_sixth_twelfth"
      ],
      "metadata": {
        "colab": {
          "base_uri": "https://localhost:8080/"
        },
        "id": "FROqItOXInLx",
        "outputId": "0a006dba-23a0-48e5-ccae-42a330d6701b",
        "cellView": "form"
      },
      "id": "FROqItOXInLx",
      "execution_count": 68,
      "outputs": [
        {
          "output_type": "execute_result",
          "data": {
            "text/plain": [
              "array([0, 0, 1])"
            ]
          },
          "metadata": {},
          "execution_count": 68
        }
      ]
    },
    {
      "cell_type": "markdown",
      "id": "e61259e9",
      "metadata": {
        "id": "e61259e9"
      },
      "source": [
        "#Question 3\n",
        "(8 points): Return the last five elements of i131_data.\n",
        "__Write only one line of code__ to answer this question.\n",
        "\n",
        "\n",
        "##Use Case Example: Inspecting Recent Measurements\n",
        "###Scenario:\n",
        "A researcher wants to examine the most recent 5 radiation measurements recorded in the i131_data array to understand the latest trends or validate the data for anomalies.\n",
        "\n",
        "###Use Case Benefits:\n",
        "1. Targeted Focus: Quickly access the tail end of the dataset without processing the entire array.\n",
        "2. Operational Efficiency: Use the data for monitoring, debugging, or immediate reporting.\n",
        "3. Practicality: Ideal for datasets that grow over time, where only recent entries are critical for decision-making."
      ]
    },
    {
      "cell_type": "code",
      "execution_count": 69,
      "id": "01d79cf8",
      "metadata": {
        "scrolled": false,
        "id": "01d79cf8",
        "colab": {
          "base_uri": "https://localhost:8080/"
        },
        "outputId": "a50e558a-1d07-4b54-ac7e-e0c3931f85fd",
        "cellView": "form"
      },
      "outputs": [
        {
          "output_type": "execute_result",
          "data": {
            "text/plain": [
              "array([6, 0, 0, 0, 0])"
            ]
          },
          "metadata": {},
          "execution_count": 69
        }
      ],
      "source": [
        "# @title\n",
        "# Getting last five elements\n",
        "last_five = i131_data[-5:]\n",
        "last_five"
      ]
    },
    {
      "cell_type": "markdown",
      "id": "fff14664",
      "metadata": {
        "id": "fff14664"
      },
      "source": [
        "#Question 4\n",
        "(8 points): Return how many times the value of i131_data is between 2 and 4 (both numbers included).\n",
        "\n",
        "__Write only one line of code__ to answer this question.\n",
        "\n",
        "##Use Case Example: Monitoring Moderate Radiation Levels\n",
        "###Scenario:\n",
        "A researcher wants to analyze how many radiation measurements fall within the moderate range (between 2 and 4 inclusive) to identify potential patterns or areas requiring closer inspection.\n",
        "\n",
        "###Why This is Useful:\n",
        "1. **Health and Safety Thresholds:**\n",
        "  * Moderate radiation levels might represent an area of interest for monitoring but are not immediately hazardous.\n",
        "2. **Trend Analysis:**\n",
        "  * Identifying how often values fall in a specific range can help detect changes in radiation levels over time or across locations.\n",
        "3. **Anomaly Detection:**\n",
        "  * If moderate values appear unexpectedly in certain areas or timeframes, it might signal an anomaly.\n",
        "\n",
        "###Use Case Benefits:\n",
        "1. **Quick Insights:** Determines the count of values in a specific range efficiently.\n",
        "2. **Targeted Actions:** Focus resources on areas with moderate activity for further testing or monitoring.\n",
        "3. **Scalability:** Works seamlessly for large datasets, enabling real-time analysis."
      ]
    },
    {
      "cell_type": "code",
      "execution_count": 70,
      "id": "c3690811",
      "metadata": {
        "scrolled": true,
        "id": "c3690811",
        "colab": {
          "base_uri": "https://localhost:8080/"
        },
        "outputId": "d39ee604-c745-45cf-e738-405b1e474ee3",
        "cellView": "form"
      },
      "outputs": [
        {
          "output_type": "execute_result",
          "data": {
            "text/plain": [
              "25"
            ]
          },
          "metadata": {},
          "execution_count": 70
        }
      ],
      "source": [
        "# @title\n",
        "# Count values between 2 and 4\n",
        "between_2_and_4 = np.sum((i131_data >= 2) & (i131_data <= 4))\n",
        "between_2_and_4"
      ]
    },
    {
      "cell_type": "markdown",
      "source": [
        "**Explanation:**\n",
        "1. Condition (i131_data >= 2) & (i131_data <= 4):\n",
        "\n",
        " * This creates a Boolean array where each element is True if the corresponding value in i131_data is greater than or equal to 2 and less than or equal to 4, and False otherwise.\n",
        "2. np.sum():\n",
        "\n",
        " * Sums the True values in the Boolean array (since True is treated as 1 and False as 0), giving the count of values that satisfy the condition.\n",
        "3. Result:\n",
        "\n",
        " * The variable between_2_and_4 contains the total number of values in i131_data between 2 and 4, inclusive.\n",
        "\n",
        "***Example:***\n",
        "If i131_data = [1, 2, 3, 4, 5], then:\n",
        "\n",
        "  * (i131_data >= 2) & (i131_data <= 4) → [False, True, True, True, False]\n",
        "  * np.sum([False, True, True, True, False]) → 3\n",
        "The output (between_2_and_4) would be 3."
      ],
      "metadata": {
        "id": "cKIcoi6eL2W1"
      },
      "id": "cKIcoi6eL2W1"
    },
    {
      "cell_type": "markdown",
      "source": [
        "#Question 5\n",
        " (8 points): Return how many times the value of i131_data is either zero or 1. To answer this question, you CANNOT use the symbol < in your answer (the less than symbol). You must answer it without using this symbol.\n",
        "\n",
        "##Use Case Example: Identifying Negligible Radiation Levels\n",
        "###Scenario:\n",
        "A researcher is analyzing radiation data (i131_data) to determine how often the radiation level is either 0 (no activity) or 1 (minimal activity). This helps in identifying areas or times where radiation is negligible, allowing the researcher to exclude these cases from further analysis or focus only on higher levels.\n",
        "\n",
        "###Why This is Useful:\n",
        "1. Data Filtering:\n",
        "  * Helps filter out non-significant measurements for more focused analysis.\n",
        "\n",
        "2. Operational Validation:\n",
        "  * Confirms that equipment is properly recording negligible values when no radiation is present.\n",
        "\n",
        "3. Resource Allocation:\n",
        "  * Reduces unnecessary monitoring or investigation in areas with consistently low radiation levels.\n",
        "\n",
        "###Use Case Benefits:\n",
        "1. Quick Count: Accurately identifies the frequency of 0 and 1 values in a large dataset.\n",
        "2. Focus on Significant Data: Excludes negligible measurements from further analysis.\n",
        "3. Ensures Data Quality: Validates that the dataset includes expected low or zero values in areas with no radiation activity."
      ],
      "metadata": {
        "id": "_SsHE51TQOWy"
      },
      "id": "_SsHE51TQOWy"
    },
    {
      "cell_type": "code",
      "execution_count": 71,
      "id": "73cd4879",
      "metadata": {
        "scrolled": true,
        "id": "73cd4879",
        "colab": {
          "base_uri": "https://localhost:8080/"
        },
        "outputId": "8af6d1b6-9e04-41a7-dcc7-b1dd78a4044f",
        "cellView": "form"
      },
      "outputs": [
        {
          "output_type": "stream",
          "name": "stdout",
          "text": [
            "Total number of measurements: 606\n",
            "Number of measurements with zero or minimal radiation: 515\n",
            "Proportion of measurements with zero or minimal radiation: 84.98%\n",
            "Number of measurements with higher radiation levels: 91\n",
            "Proportion of measurements with higher radiation levels: 15.02%\n"
          ]
        }
      ],
      "source": [
        "# @title\n",
        "# Get the total size (number of elements) in i131_data\n",
        "total_size = i131_data.size\n",
        "print(f\"Total number of measurements: {total_size}\")\n",
        "\n",
        "# Count values that are 0 or 1\n",
        "zeros_and_ones = np.sum((i131_data == 0) | (i131_data == 1))\n",
        "print(f\"Number of measurements with zero or minimal radiation: {zeros_and_ones}\")\n",
        "\n",
        "#calculate the proportion of 0 and 1 values in relation to the total dataset\n",
        "proportion = (zeros_and_ones / total_size) * 100\n",
        "print(f\"Proportion of measurements with zero or minimal radiation: {proportion:.2f}%\")\n",
        "\n",
        "\n",
        "# Count measurements with radiation levels greater than 1\n",
        "higher_levels = np.sum(i131_data > 1)\n",
        "\n",
        "# Calculate the proportion of higher radiation levels\n",
        "proportion_higher = (higher_levels / total_size) * 100\n",
        "\n",
        "# Print the results\n",
        "print(f\"Number of measurements with higher radiation levels: {higher_levels}\")\n",
        "print(f\"Proportion of measurements with higher radiation levels: {proportion_higher:.2f}%\")"
      ]
    },
    {
      "cell_type": "markdown",
      "source": [
        "###Interpretation\n",
        "Out of 606 total radiation measurements, 84.98% (515 values) show negligible or minimal radiation (0 or 1), indicating mostly safe conditions. However, 15.02% (91 values) have higher radiation levels, which may require further investigation to identify potential risks or anomalies.\n",
        "\n",
        "###Recommendations:\n",
        "1. Focus Analysis on Higher Levels: Investigate the 15.02% of measurements with elevated radiation for potential risks or anomalies.\n",
        "2. Monitor High-Risk Areas: Prioritize regular monitoring in locations with higher readings.\n",
        "3. Validate Low Measurements: Confirm equipment accuracy for the 84.98% of low readings to ensure proper functioning.\n",
        "4. Optimize Resources: Allocate resources efficiently, focusing on areas with higher radiation levels.\n"
      ],
      "metadata": {
        "id": "cJYmj41OhFU7"
      },
      "id": "cJYmj41OhFU7"
    },
    {
      "cell_type": "markdown",
      "id": "75d0192a",
      "metadata": {
        "id": "75d0192a"
      },
      "source": [
        "#Question 6\n",
        "(8 points): Return the names of the States where i131_data has been above 2. Use ONLY ONE line of code.\n",
        "\n",
        "Hint: It is ok if your output shows the same State repeated many times.\n",
        "\n",
        "##Use Case Example: Identifying States with High Radiation\n",
        "###Scenario:\n",
        "You want to identify which states recorded high radiation levels (above 2) in your dataset. The output will help focus monitoring or investigations on specific states where elevated radiation was observed.\n",
        "\n",
        "###Why This is Useful:\n",
        "1. Targeted Action: Enables the prioritization of resources and attention on states with higher radiation.\n",
        "2. Trend Analysis: Helps detect patterns in radiation levels across geographic locations.\n",
        "3. Reporting: Provides specific states for communication and response planning.\n"
      ]
    },
    {
      "cell_type": "code",
      "execution_count": 72,
      "id": "a1902b64",
      "metadata": {
        "scrolled": true,
        "id": "a1902b64",
        "colab": {
          "base_uri": "https://localhost:8080/"
        },
        "outputId": "8d9672a1-6835-4985-80fb-02e071cb089f",
        "cellView": "form"
      },
      "outputs": [
        {
          "output_type": "stream",
          "name": "stdout",
          "text": [
            "54     AK\n",
            "408    HI\n",
            "411    MO\n",
            "415    AR\n",
            "417    CA\n",
            "       ..\n",
            "574    CO\n",
            "579    CT\n",
            "585    MI\n",
            "598    WA\n",
            "601    CA\n",
            "Name: State, Length: 82, dtype: object\n"
          ]
        }
      ],
      "source": [
        "# @title\n",
        "# Filter the DataFrame to find states where I-131 values are greater than 2\n",
        "# `loc` is used to retrieve rows where the condition is true and only the 'State' column is returned\n",
        "states_high_radiation = df_assig1.loc[i131_data > 2, 'State']\n",
        "\n",
        "# Output the states with I-131 values above 2\n",
        "print(states_high_radiation)\n"
      ]
    },
    {
      "cell_type": "markdown",
      "source": [
        "###Interpretation\n",
        "\n",
        "1. High Radiation Levels:\n",
        "\n",
        "  * There are 82 instances where I-131 radiation levels exceeded the threshold of 2, suggesting multiple cases of elevated radiation across different states.\n",
        "2. States of Concern:\n",
        "\n",
        "  * States like CA appear multiple times, indicating recurring high radiation levels in specific regions, which may require closer investigation.\n",
        "  * States with fewer occurrences may reflect isolated or one-time events.\n",
        "3. Geographic Spread:\n",
        "  * The affected states are geographically diverse, suggesting no single concentrated area of concern but a need for broader monitoring.\n",
        "\n",
        "###Recommendations:\n",
        "1. Focus on Recurring States:\n",
        "  * Prioritize monitoring and investigation in states like CA with repeated high-radiation measurements to identify trends or root causes.\n",
        "2. Analyze Environmental Factors:\n",
        "  * Investigate possible sources such as industrial activities, natural radiation, or equipment issues in states with multiple occurrences.\n",
        "3. Monitor Isolated Cases:\n",
        "  * Conduct follow-up checks in states with fewer instances to ensure these are not early indicators of emerging issues.\n",
        "4. Enhance Monitoring:\n",
        "  * Increase monitoring frequency or resolution in high-risk states to catch trends earlier and address potential risks proactively."
      ],
      "metadata": {
        "id": "AZtyZ0ZSsNpL"
      },
      "id": "AZtyZ0ZSsNpL"
    },
    {
      "cell_type": "markdown",
      "id": "14d54d37",
      "metadata": {
        "id": "14d54d37"
      },
      "source": [
        "#Question 7\n",
        "(8 points): Return how many times i131_data has a value of zero in California.\n",
        "\n",
        "Hint: California is recorded as CA in the State colum.\n",
        "\n",
        "\n",
        "##Use Case Example: Identifying Zero Radiation Instances in California\n",
        "###Scenario:\n",
        "A researcher is analyzing radiation levels in California to determine how many times the radiation (I-131) was recorded as zero (0). This helps in assessing the frequency of no radiation activity in the state.\n",
        "\n",
        "###Why This is Useful:\n",
        "1. Data Validation:\n",
        "  * Ensures that monitoring equipment is functioning correctly by recording zero radiation where expected.\n",
        "2. Assessing Safe Conditions:\n",
        "  * Identifies how often radiation in California is negligible or non-existent, reflecting safe environmental conditions.\n",
        "3. Comparing Trends:\n",
        "  * Provides insights into whether California has more or fewer zero radiation levels compared to other states."
      ]
    },
    {
      "cell_type": "code",
      "execution_count": 73,
      "id": "d78de261",
      "metadata": {
        "scrolled": false,
        "id": "d78de261",
        "colab": {
          "base_uri": "https://localhost:8080/"
        },
        "cellView": "form",
        "outputId": "68919a48-079d-478e-a0ff-2e878aeb3fe3"
      },
      "outputs": [
        {
          "output_type": "stream",
          "name": "stdout",
          "text": [
            "Total number of measurements in California: 42\n",
            "Number of measurements with zero radiation in California: 31\n",
            "Proportion of zero radiation measurements in California: 73.81%\n",
            "Number of measurements with higher radiation levels in California: 7\n",
            "Proportion of higher radiation measurements in California: 16.67%\n"
          ]
        }
      ],
      "source": [
        "# @title\n",
        "# Get the total size (number of measurements) in the dataset for California\n",
        "total_ca_measurements = np.sum(df_assig1['State'] == 'CA')\n",
        "print(f\"Total number of measurements in California: {total_ca_measurements}\")\n",
        "\n",
        "# Count how many measurements have a radiation level of 0 in California\n",
        "ca_zeros = np.sum((df_assig1['State'] == 'CA') & (i131_data == 0))\n",
        "print(f\"Number of measurements with zero radiation in California: {ca_zeros}\")\n",
        "\n",
        "# Calculate the proportion of measurements with zero radiation in California\n",
        "proportion_ca_zeros = (ca_zeros / total_ca_measurements) * 100\n",
        "print(f\"Proportion of zero radiation measurements in California: {proportion_ca_zeros:.2f}%\")\n",
        "\n",
        "# Count how many measurements have radiation levels greater than 1 in California\n",
        "ca_higher_levels = np.sum((df_assig1['State'] == 'CA') & (i131_data > 1))\n",
        "print(f\"Number of measurements with higher radiation levels in California: {ca_higher_levels}\")\n",
        "\n",
        "# Calculate the proportion of higher radiation levels in California\n",
        "proportion_ca_higher = (ca_higher_levels / total_ca_measurements) * 100\n",
        "print(f\"Proportion of higher radiation measurements in California: {proportion_ca_higher:.2f}%\")\n"
      ]
    },
    {
      "cell_type": "markdown",
      "source": [
        "##Radiation Analysis Report for California\n",
        "###Overview of Results:\n",
        "1. Safe Radiation Levels (73.81%):\n",
        " * Out of 42 total radiation measurements in California, 31 recorded zero radiation levels. This indicates that the majority of the monitored areas are safe and free from radiation activity.\n",
        "2. Elevated Radiation Levels (16.67%):\n",
        " * 7 measurements showed radiation levels above 1. These instances require further analysis to identify potential causes or anomalies.\n",
        "3. Minimal Radiation Levels (11.52%):\n",
        " * The remaining measurements fall between 0 and 1, indicating low radiation levels that are not a cause for concern.\n",
        "\n",
        "###Key Insights:\n",
        " * Most measurements confirm safe environmental conditions across the state.\n",
        " * A small portion of elevated readings may suggest localized issues or environmental changes that need further investigation.\n",
        "M * inimal radiation levels (between 0 and 1) are consistent with expected background radiation.\n",
        "\n",
        "###Recommendations:\n",
        "1. Investigate Elevated Radiation Levels:\n",
        " * Analyze the 7 measurements above 1 to understand:\n",
        "   * The locations of these readings.\n",
        "   * The timing or events associated with these elevated levels.\n",
        "   * Possible causes, such as environmental factors, industrial activity, or equipment issues.\n",
        "2. Validate Zero Radiation Readings:\n",
        " * Verify that the 31 zero readings accurately reflect conditions. Ensure equipment calibration and data collection processes are functioning correctly.\n",
        "3. Maintain Regular Monitoring:\n",
        " * Continue consistent radiation monitoring to track changes over time and detect future anomalies early.\n",
        "4. Prioritize Resources:\n",
        " * Focus investigation efforts on areas with elevated radiation while maintaining general monitoring to ensure widespread safety.\n",
        "\n",
        "###Conclusion:\n",
        "The data indicates that California is predominantly safe, with the majority of measurements showing no radiation activity. However, the small number of elevated readings highlights the need for focused investigation to ensure there are no underlying risks or recurring issues. Regular monitoring and data validation remain critical to maintaining environmental safety."
      ],
      "metadata": {
        "id": "U51rZRQjywCm"
      },
      "id": "U51rZRQjywCm"
    },
    {
      "cell_type": "markdown",
      "id": "95284077",
      "metadata": {
        "id": "95284077"
      },
      "source": [
        "#Question 8\n",
        "(8 points): Write a print statement that returns this message: _The highest registered value of I-131 is:_ FILL IN THE BLANK\n",
        "\n",
        "where, FILL IN THE BLANK is the actual highest registered value of i131_data.\n",
        "\n",
        "##Use Case Example: Reporting the Highest Radiation Value\n",
        "###Scenario:\n",
        "A researcher wants to identify and report the highest radiation level recorded in the dataset (i131_data). This helps highlight the peak measurement, which could indicate a significant event or area of concern.\n",
        "\n",
        "###Why This is Useful:\n",
        "1. Identify Critical Events:\n",
        "  * The highest radiation value often represents the most significant instance in the dataset, requiring attention.\n",
        "2. Assess Data Extremes:\n",
        "  * Helps verify whether the peak value aligns with expected patterns or is an anomaly.\n",
        "3. Support Decision-Making:\n",
        "  * Knowing the highest value can help prioritize areas for investigation or allocate resources effectively.\n"
      ]
    },
    {
      "cell_type": "code",
      "source": [
        "# @title\n",
        "# Find the highest value in i131_data\n",
        "highest_value = i131_data.max()\n",
        "\n",
        "# Print the message with the highest value\n",
        "print(f\"The highest registered value of I-131 is: {highest_value}\")\n"
      ],
      "metadata": {
        "colab": {
          "base_uri": "https://localhost:8080/"
        },
        "cellView": "form",
        "id": "qrlsbFih0pze",
        "outputId": "8796280a-5c52-41e0-87fb-9a297d531bbf"
      },
      "id": "qrlsbFih0pze",
      "execution_count": 74,
      "outputs": [
        {
          "output_type": "stream",
          "name": "stdout",
          "text": [
            "The highest registered value of I-131 is: 390\n"
          ]
        }
      ]
    },
    {
      "cell_type": "markdown",
      "source": [
        "#Question 9\n",
        "(8 points): Run the following code cell to create an array called q9_array."
      ],
      "metadata": {
        "id": "m21OlDseUJ8H"
      },
      "id": "m21OlDseUJ8H"
    },
    {
      "cell_type": "code",
      "source": [
        "# @title\n",
        "q9_array = np.array ([13, 8, 3, 6, 8, 17, 2, 5, 10])"
      ],
      "metadata": {
        "id": "dSRz1aM6XcVL",
        "cellView": "form"
      },
      "id": "dSRz1aM6XcVL",
      "execution_count": 75,
      "outputs": []
    },
    {
      "cell_type": "markdown",
      "source": [
        "**9a)Create a new array called q9_array_sorted that contains the sorted values of q9_array.**\n",
        "\n",
        "##Use Case Example: Sorting an Array\n",
        "###Scenario:\n",
        "A researcher has an array of radiation measurements (q9_array) and wants to sort the values in ascending order. The goal is to organize the data for better readability or further analysis, such as identifying trends or outliers.\n",
        "\n",
        "###Why Sorting is Useful:\n",
        "1. Identify Extremes:\n",
        "  * Sorting makes it easy to find the smallest and largest values in the dataset.\n",
        "2. Data Analysis:\n",
        "  * Sorted data is often required for tasks like calculating percentiles, identifying clusters, or creating visualizations.\n",
        "3. Improved Readability:\n",
        "  * Organized data is easier to interpret and analyze.\n"
      ],
      "metadata": {
        "id": "1SZ9_sCOXuID"
      },
      "id": "1SZ9_sCOXuID"
    },
    {
      "cell_type": "code",
      "source": [
        "# @title\n",
        "# Sort the array and store it in a new array\n",
        "q9_array_sorted = np.array(sorted(q9_array))\n",
        "\n",
        "# Output the sorted array\n",
        "q9_array_sorted\n"
      ],
      "metadata": {
        "id": "ESPlLYYVUM7b",
        "colab": {
          "base_uri": "https://localhost:8080/"
        },
        "cellView": "form",
        "outputId": "68092ed9-e174-4c96-93aa-8aacaced16e2"
      },
      "id": "ESPlLYYVUM7b",
      "execution_count": 76,
      "outputs": [
        {
          "output_type": "execute_result",
          "data": {
            "text/plain": [
              "array([ 2,  3,  5,  6,  8,  8, 10, 13, 17])"
            ]
          },
          "metadata": {},
          "execution_count": 76
        }
      ]
    },
    {
      "cell_type": "markdown",
      "source": [
        "**9b) Create a new array called q9_array_2dim that re-arranges the values of q9_array in a two-dimensional squared array (squared= with the same number of rows and columns).**\n",
        "\n",
        "##Use Case Example: Reshaping an Array into a Square Matrix\n",
        "###Scenario:\n",
        "A researcher has a one-dimensional array (q9_array) and needs to reshape it into a two-dimensional square array (same number of rows and columns). This format is often required for advanced analysis, such as heatmaps or matrix computations.\n",
        "\n",
        "###Why Reshaping is Useful:\n",
        "1. Matrix Analysis:\n",
        "  * Square matrices are commonly used in mathematical operations, like matrix multiplication or linear algebra applications.\n",
        "2. Data Visualization:\n",
        "  * Converting the data into a 2D format makes it easier to visualize patterns (e.g., heatmaps).\n",
        "3. Logical Grouping:\n",
        "  * Reshaping groups the data logically for comparisons between rows and columns."
      ],
      "metadata": {
        "id": "OuNHC7XgYBav"
      },
      "id": "OuNHC7XgYBav"
    },
    {
      "cell_type": "markdown",
      "source": [
        "**For Flexible Applications:** Use the dynamic dimensions code when dealing with arrays of varying sizes, as it’s more robust and adaptable"
      ],
      "metadata": {
        "id": "f6DhPnQWNJ2E"
      },
      "id": "f6DhPnQWNJ2E"
    },
    {
      "cell_type": "code",
      "source": [
        "# @title\n",
        "# Step 1: Calculate the total number of elements in the array\n",
        "total_elements = len(q9_array)  # Total number of elements in q9_array\n",
        "\n",
        "# Step 2: Calculate the size of each dimension for a square array\n",
        "dimension_size = int(total_elements**0.5)  # Square root of the total elements gives the size of rows and columns\n",
        "\n",
        "# Step 3: Reshape the array into a square 2D array\n",
        "q9_array_2dim = q9_array.reshape(dimension_size, dimension_size)\n",
        "# Reshape the 1D array into a matrix with 'dimension_size' rows and columns\n",
        "\n",
        "# Step 4: Output the reshaped 2D array\n",
        "print(q9_array_2dim)  # Display the 2D array to verify the result\n",
        "\n"
      ],
      "metadata": {
        "colab": {
          "base_uri": "https://localhost:8080/"
        },
        "cellView": "form",
        "id": "gcqle8XDKoSd",
        "outputId": "3eea2556-75a0-4763-8b8f-780cf52f0592"
      },
      "id": "gcqle8XDKoSd",
      "execution_count": 77,
      "outputs": [
        {
          "output_type": "stream",
          "name": "stdout",
          "text": [
            "[[13  8  3]\n",
            " [ 6  8 17]\n",
            " [ 2  5 10]]\n"
          ]
        }
      ]
    },
    {
      "cell_type": "markdown",
      "source": [
        "**For Beginners or Fixed Data:** Use the static dimensions code (this one) when working with small, fixed-size arrays. It's simpler and easier to follow."
      ],
      "metadata": {
        "id": "ML3LZtUyNYGh"
      },
      "id": "ML3LZtUyNYGh"
    },
    {
      "cell_type": "code",
      "source": [
        "# @title\n",
        "# Step 1: Define the dimensions for reshaping (manually specified)\n",
        "rows = 3  # Number of rows in the 2D array\n",
        "columns = 3  # Number of columns in the 2D array\n",
        "\n",
        "# Step 2: Reshape the 1D array into a 2D array with the specified rows and columns\n",
        "q9_array_2dim = q9_array.reshape(rows, columns)\n",
        "\n",
        "# Step 3: Output the reshaped 2D array\n",
        "print(q9_array_2dim)  # Display the 2D array to verify the result\n"
      ],
      "metadata": {
        "id": "HeLoBpq0aKm4",
        "colab": {
          "base_uri": "https://localhost:8080/"
        },
        "cellView": "form",
        "outputId": "ace2acdf-6c47-4c6b-a360-df3c97446826"
      },
      "id": "HeLoBpq0aKm4",
      "execution_count": 78,
      "outputs": [
        {
          "output_type": "stream",
          "name": "stdout",
          "text": [
            "[[13  8  3]\n",
            " [ 6  8 17]\n",
            " [ 2  5 10]]\n"
          ]
        }
      ]
    },
    {
      "cell_type": "markdown",
      "id": "e98b7419",
      "metadata": {
        "id": "e98b7419"
      },
      "source": [
        "#Question 10\n",
        "(8 points): Use NumPy methods to generate the following arrays:\n",
        "\n",
        "10 a) Generate an array with the numbers from 96 to 0, decreasing in steps of 8 (i.e., 96, 88, 80, ...., 0). Call this array a1.\n",
        "\n",
        "10 b) Generate an array with the number 2 repeated as many times as the size of array a1. Call this array a2.\n",
        "\n",
        "10 c) Add the arrays created in a) and b) and save the results in a3. Return the values of a3 (i.e., print the values of a3).\n",
        "\n",
        "Note: To answer question 10 and create the arrays requested in a, b, and c, you __CANNOT__ enter the values of the arrays manually. You __must__ use the NumPy methods we learned in class to create them."
      ]
    },
    {
      "cell_type": "markdown",
      "source": [
        "10 a) Generate an array with the numbers from 96 to 0, decreasing in steps of 8 (i.e., 96, 88, 80, ...., 0). Call this array a1."
      ],
      "metadata": {
        "id": "hHOoU9XcEo7W"
      },
      "id": "hHOoU9XcEo7W"
    },
    {
      "cell_type": "code",
      "execution_count": 79,
      "id": "9b897ca9",
      "metadata": {
        "scrolled": true,
        "id": "9b897ca9",
        "colab": {
          "base_uri": "https://localhost:8080/"
        },
        "cellView": "form",
        "outputId": "5fe34fc4-8212-481e-fc91-81d502216fa5"
      },
      "outputs": [
        {
          "output_type": "stream",
          "name": "stdout",
          "text": [
            "[96 88 80 72 64 56 48 40 32 24 16  8  0]\n"
          ]
        }
      ],
      "source": [
        "# @title\n",
        "# Step 1: Generate an array with numbers from 96 to 0, decreasing in steps of 8\n",
        "a1 = np.arange(96, -1, -8)  # np.arange generates numbers starting at 96 (inclusive) and stops before -1 (exclusive).\n",
        "                            # Since the question asks for 96 to 0 (inclusive), we use -1 as the stop value.\n",
        "                            # The step value of -8 ensures the numbers decrease by 8 at each step.\n",
        "\n",
        "# Step 2: Output the generated array to verify the result\n",
        "print(a1)  # Display the array to ensure it contains [96, 88, 80, ..., 0]\n"
      ]
    },
    {
      "cell_type": "markdown",
      "source": [
        "###Use cases:\n",
        "\n",
        "1. Financial Planning\n",
        "* **Example:** A financial advisor models a scenario where a client’s savings decrease by 8 each month due to expenses, starting from $96.\n",
        "* **Use Case:**\n",
        "The sequence [96, 88, 80, ..., 0] simulates monthly balances, helping plan budgets or identify when funds will run out.\n",
        "---\n",
        "\n",
        "2. Fitness or Training Programs\n",
        "* **Example:** A coach sets up a program where an athlete decreases their training time by 8 minutes each session, starting at 96 minutes.\n",
        "* **Use Case:** The sequence [96, 88, 80, ..., 0] represents session durations, ensuring a gradual reduction over time.\n",
        "---\n",
        "3. Environmental Monitoring\n",
        "* **Example:** An environmental scientist measures pollutant levels in a lake, which decrease at a constant rate of 8 units per week, starting from an initial reading of 96.\n",
        "* **Use Case:** The sequence [96, 88, 80, ..., 0] models the reduction in pollutant levels over time, helping evaluate the effectiveness of cleanup efforts.\n",
        "---\n",
        "5. Inventory Management\n",
        "* **Example:** A retailer tracks the reduction in stock levels for a product that decreases by 8 units each week, starting from 96.\n",
        "* **Use Case:** The sequence [96, 88, 80, ..., 0] predicts when the stock will run out, helping schedule restocking.\n",
        "---\n",
        "###Summary\n",
        "This type of sequence generation is valuable for:\n",
        "\n",
        "* Modeling predictable patterns.\n",
        "* Simulating stepwise changes.\n",
        "* Planning and scheduling tasks or resources. By creating structured sequences, you can simplify calculations, analyze trends, and make better predictions in various fields\n"
      ],
      "metadata": {
        "id": "LXwNxorxAjQN"
      },
      "id": "LXwNxorxAjQN"
    },
    {
      "cell_type": "markdown",
      "source": [
        "10 b) Generate an array with the number 2 repeated as many times as the size of array a1. Call this array a2."
      ],
      "metadata": {
        "id": "vhYGR6heEtU0"
      },
      "id": "vhYGR6heEtU0"
    },
    {
      "cell_type": "code",
      "execution_count": 80,
      "id": "4bbaf072",
      "metadata": {
        "scrolled": true,
        "id": "4bbaf072",
        "colab": {
          "base_uri": "https://localhost:8080/"
        },
        "cellView": "form",
        "outputId": "80215ba9-dfc1-4f85-87a3-1a1917c0bf4f"
      },
      "outputs": [
        {
          "output_type": "stream",
          "name": "stdout",
          "text": [
            "[2 2 2 2 2 2 2 2 2 2 2 2 2]\n"
          ]
        }
      ],
      "source": [
        "# @title\n",
        "# Step 1: Get the size of array a1\n",
        "size_of_a1 = len(a1)  # len(a1) returns the total number of elements in array a1\n",
        "\n",
        "# Step 2: Generate an array with the number 2 repeated as many times as the size of a1\n",
        "a2 = np.full(size_of_a1, 2)  # np.full creates an array of specified size filled with the specified value (2 in this case)\n",
        "\n",
        "print(a2)\n"
      ]
    },
    {
      "cell_type": "markdown",
      "source": [
        "###Use Cases\n",
        "\n",
        "1. Initializing Inventory (Retail/Logistics)\n",
        "* **Example:** A store restocks an item with a default minimum quantity of 2 across multiple locations.\n",
        "* **Use Case:** An array [2, 2, 2, ...] can represent the initial inventory levels for each store in a chain.\n",
        "---\n",
        "2. Placeholder Values for Simulations (Data Analysis)\n",
        "* **Example:** A data analyst runs a simulation where a variable starts at the same value (2) for all data points.\n",
        "* **Use Case:** The array [2, 2, 2, 2, 2] is used as a baseline input for each iteration of the simulation.\n",
        "---\n",
        "3. Repeated Alerts or Thresholds (Monitoring Systems)\n",
        "* **Example:** A monitoring system uses a threshold of 2 units for triggering alerts across all sensors.\n",
        "* **Use Case:** The array [2, 2, 2, ...] stores the default threshold for all sensors, ensuring consistency in monitoring.\n",
        "---\n",
        "7. Budget Initialization (Finance)\n",
        "Example: A financial planner allocates an initial placeholder budget of $2,000 for each department in a company.\n",
        "Use Case: The array [2000, 2000, 2000, ...] represents initial allocations before adjustments.\n",
        "---\n",
        "###Summary\n",
        "This concept of generating repeated values is widely applicable in:\n",
        "\n",
        "* Data preparation\n",
        "* Simulation and modeling\n",
        "* System initialization\n",
        "* Default values setup"
      ],
      "metadata": {
        "id": "RUCzTPqlDaDc"
      },
      "id": "RUCzTPqlDaDc"
    },
    {
      "cell_type": "markdown",
      "source": [
        "10 c) Add the arrays created in a) and b) and save the results in a3. Return the values of a3 (i.e., print the values of a3)."
      ],
      "metadata": {
        "id": "w4o63FDRE0ta"
      },
      "id": "w4o63FDRE0ta"
    },
    {
      "cell_type": "code",
      "execution_count": 81,
      "id": "f4a95fd0",
      "metadata": {
        "scrolled": true,
        "id": "f4a95fd0",
        "colab": {
          "base_uri": "https://localhost:8080/"
        },
        "outputId": "09330490-92e8-46c4-a5ee-563943989610"
      },
      "outputs": [
        {
          "output_type": "stream",
          "name": "stdout",
          "text": [
            "[98 90 82 74 66 58 50 42 34 26 18 10  2]\n"
          ]
        }
      ],
      "source": [
        "a3=a1+a2\n",
        "print(a3)"
      ]
    },
    {
      "cell_type": "markdown",
      "source": [
        "###Use Cases\n",
        "\n",
        "1. Adjusting Inventory Levels (Retail/Logistics)\n",
        "* **Example:** A store tracks current stock levels (a1) and needs to account for a fixed restock amount (a2), such as 2 units per product.\n",
        "* **Use Case:**\n",
        "a1 = [96, 88, 80] (current inventory levels)\n",
        "a2 = [2, 2, 2] (restock per item)\n",
        "* **Result (a3):** [98, 90, 82] (updated inventory levels after restocking).\n",
        "---\n",
        "2. Incremental Growth Modeling (Finance)\n",
        "* **Example:** A financial planner models monthly savings where a base amount is added to current balances.\n",
        "* **Use Case:**\n",
        "a1 = [96, 88, 80] (current balances)\n",
        "a2 = [2, 2, 2] (monthly deposit)\n",
        "* **Result (a3):** [98, 90, 82] (balances after deposits).\n",
        "---\n",
        "3. Scaling Energy Consumption (Environmental Monitoring)\n",
        "* **Example:** Energy usage (a1) across locations is adjusted with additional demand (a2) for each site.\n",
        "* **Use Case:**\n",
        "a1 = [96, 88, 80] (current energy usage in kWh)\n",
        "a2 = [2, 2, 2] (additional demand per location)\n",
        "* **Result (a3):** [98, 90, 82] (total adjusted energy usage).\n",
        "---\n",
        "4. Updating Base Pay Rates (Human Resources)\n",
        "* **Example:** A company increases employee salaries by a fixed amount (a2) across departments.\n",
        "* **Use Case:**\n",
        "a1 = [96, 88, 80] (current salaries)\n",
        "a2 = [2, 2, 2] (pay raise for all employees)\n",
        "* **Result (a3):** [98, 90, 82] (updated salaries).\n",
        "---\n",
        "5. Sensor Calibration (IoT/Technology)\n",
        "* **Example:** Sensor readings are adjusted with a fixed calibration offset (a2) to improve accuracy.\n",
        "* **Use Case:**\n",
        "a1 = [96, 88, 80] (raw sensor readings)\n",
        "a2 = [2, 2, 2] (calibration offsets)\n",
        "* **Result (a3):** [98, 90, 82] (calibrated readings).\n",
        "---\n",
        "###Summary\n",
        "The addition of two arrays is a powerful tool that applies to scenarios requiring adjustments, updates, or incremental changes to existing data. It simplifies calculations by automating element-wise operations.\n"
      ],
      "metadata": {
        "id": "1zK6G795FX8X"
      },
      "id": "1zK6G795FX8X"
    },
    {
      "cell_type": "markdown",
      "id": "4e39bb78",
      "metadata": {
        "id": "4e39bb78"
      },
      "source": [
        "#Question 11\n",
        " (5 points): Return how many observations were taken at each State. __Write only one line of code__ to answer this question."
      ]
    },
    {
      "cell_type": "code",
      "source": [
        "# @title\n",
        "# Step 1: Standardize the 'State' column to remove duplicates caused by inconsistencies\n",
        "df_assig1['State'] = df_assig1['State'].str.strip().str.title() # Cleans the column by removing spaces and standardizing capitalization\n",
        "# .str.strip() removes any leading or trailing spaces.\n",
        "# .str.title() ensures consistent capitalization.\n",
        "\n",
        "# Step 2: Count occurrences of each state and sort by state name\n",
        "state_counts = df_assig1['State'].value_counts().sort_index()  # Counts occurrences and sorts alphabetically by state name\n",
        "\n",
        "# Step 3: Display the counts\n",
        "print(\"Occurrences of each state, ordered by name:\")\n",
        "print(state_counts)\n"
      ],
      "metadata": {
        "colab": {
          "base_uri": "https://localhost:8080/"
        },
        "cellView": "form",
        "id": "tV8kDmAkMd8W",
        "outputId": "67f67f93-5a80-4567-c023-b07583ffd2ff"
      },
      "id": "tV8kDmAkMd8W",
      "execution_count": 82,
      "outputs": [
        {
          "output_type": "stream",
          "name": "stdout",
          "text": [
            "Occurrences of each state, ordered by name:\n",
            "State\n",
            "Ak      71\n",
            "Al      20\n",
            "Ar      10\n",
            "Az       3\n",
            "Ca      42\n",
            "Cnmi    19\n",
            "Co       6\n",
            "Ct      11\n",
            "De       4\n",
            "Fl      11\n",
            "Ga       8\n",
            "Guam    24\n",
            "Hi      49\n",
            "Ia       4\n",
            "Id      29\n",
            "Il       4\n",
            "Ks       9\n",
            "Ky       2\n",
            "La       2\n",
            "Ma      10\n",
            "Md       6\n",
            "Mi       9\n",
            "Mn       8\n",
            "Mo       4\n",
            "Ms       4\n",
            "Mt       2\n",
            "Nc      12\n",
            "Nd       2\n",
            "Ne       2\n",
            "Nh      10\n",
            "Nj       5\n",
            "Nm       4\n",
            "Nv      23\n",
            "Ny      22\n",
            "Oh      19\n",
            "Ok       2\n",
            "Or       6\n",
            "Pa      16\n",
            "Ri       2\n",
            "Sc       8\n",
            "Tn      56\n",
            "Tx       7\n",
            "Ut       9\n",
            "Va       6\n",
            "Vt       1\n",
            "Wa      19\n",
            "Wi       2\n",
            "Wv       2\n",
            "Name: count, dtype: int64\n"
          ]
        }
      ]
    },
    {
      "cell_type": "code",
      "source": [
        "# @title\n",
        "# Step 2: Count occurrences of each state and sort by state name\n",
        "state_counts = df_assig1['State'].value_counts()\n",
        "\n",
        "# Step 3: Display the counts\n",
        "print(\"Occurrences of each state, ordered by name:\")\n",
        "print(state_counts)\n"
      ],
      "metadata": {
        "colab": {
          "base_uri": "https://localhost:8080/"
        },
        "cellView": "form",
        "id": "cxcj2SkrRpXN",
        "outputId": "54cedf47-91e3-4191-df8c-01ce60703ef8"
      },
      "id": "cxcj2SkrRpXN",
      "execution_count": 83,
      "outputs": [
        {
          "output_type": "stream",
          "name": "stdout",
          "text": [
            "Occurrences of each state, ordered by name:\n",
            "State\n",
            "Ak      71\n",
            "Tn      56\n",
            "Hi      49\n",
            "Ca      42\n",
            "Id      29\n",
            "Guam    24\n",
            "Nv      23\n",
            "Ny      22\n",
            "Al      20\n",
            "Wa      19\n",
            "Oh      19\n",
            "Cnmi    19\n",
            "Pa      16\n",
            "Nc      12\n",
            "Ct      11\n",
            "Fl      11\n",
            "Ar      10\n",
            "Nh      10\n",
            "Ma      10\n",
            "Mi       9\n",
            "Ks       9\n",
            "Ut       9\n",
            "Mn       8\n",
            "Ga       8\n",
            "Sc       8\n",
            "Tx       7\n",
            "Va       6\n",
            "Or       6\n",
            "Md       6\n",
            "Co       6\n",
            "Nj       5\n",
            "De       4\n",
            "Ms       4\n",
            "Mo       4\n",
            "Ia       4\n",
            "Nm       4\n",
            "Il       4\n",
            "Az       3\n",
            "Ok       2\n",
            "Ri       2\n",
            "Wi       2\n",
            "Nd       2\n",
            "Ne       2\n",
            "Mt       2\n",
            "Wv       2\n",
            "Ky       2\n",
            "La       2\n",
            "Vt       1\n",
            "Name: count, dtype: int64\n"
          ]
        }
      ]
    },
    {
      "cell_type": "markdown",
      "id": "a81f3441",
      "metadata": {
        "id": "a81f3441"
      },
      "source": [
        "#Question 12\n",
        "(5 points): Return the __df_assig1__ data frame sorted by the 'Date Collected'. Show the latest collected observations first. __Write only one line of code__ to answer this question."
      ]
    },
    {
      "cell_type": "code",
      "source": [],
      "metadata": {
        "id": "Eh3s4dYldvuE"
      },
      "id": "Eh3s4dYldvuE",
      "execution_count": null,
      "outputs": []
    },
    {
      "cell_type": "code",
      "execution_count": 84,
      "id": "09cffa45",
      "metadata": {
        "id": "09cffa45",
        "colab": {
          "base_uri": "https://localhost:8080/"
        },
        "cellView": "form",
        "outputId": "759e4510-6cb2-4120-f4dc-79975e825937"
      },
      "outputs": [
        {
          "output_type": "stream",
          "name": "stdout",
          "text": [
            "    State     Location Date Posted Date Collected     Sample Type    Unit  \\\n",
            "577    Pa   Harrisburg  2011-05-24     2011-04-30  Precipitation    pCi/l   \n",
            "570    Nc    Charlotte  2011-05-24     2011-04-29  Precipitation    pCi/l   \n",
            "584    Tn    Knoxville  2011-05-24     2011-04-29  Precipitation    pCi/l   \n",
            "568    Ma       Boston  2011-05-24     2011-04-29  Precipitation    pCi/l   \n",
            "599    Oh  Painesville  2011-05-24     2011-04-29  Precipitation    pCi/l   \n",
            "..    ...          ...         ...            ...             ...     ...   \n",
            "539    Oh  Painesville  2011-04-04     2011-03-15   Precipitation   pCi/l   \n",
            "510    Tn    Nashville  2011-04-13     2011-03-15   Precipitation   pCi/l   \n",
            "213    Ca    Riverside  2011-03-30     2011-03-15      Air Filter  pCi/m3   \n",
            "543    Ca     Richmond  2011-04-04     2011-03-15   Precipitation   pCi/l   \n",
            "24     Ca      Anaheim  2011-03-30     2011-03-11      Air Filter  pCi/m3   \n",
            "\n",
            "     Ba-140  Co-60  Cs-134  Cs-136  Cs-137  I-131  I-132  I-133  Te-129  \\\n",
            "577     0.0    0.0       0     0.0       0      0      0    0.0     0.0   \n",
            "570     0.0    0.0       0     0.0       0      0      0    0.0     0.0   \n",
            "584     0.0    0.0       0     0.0       0      0      0    0.0     0.0   \n",
            "568     0.0    0.0       0     0.0       0      0      0    0.0     0.0   \n",
            "599     0.0    0.0       0     0.0       0      0      0    0.0     0.0   \n",
            "..      ...    ...     ...     ...     ...    ...    ...    ...     ...   \n",
            "539     0.0    0.0       0     NaN       0      0      0    0.0     NaN   \n",
            "510     0.0    0.0       0     0.0       0      0      0    0.0     0.0   \n",
            "213     0.0    0.0       0     NaN       0      0      0    0.0     NaN   \n",
            "543     0.0    0.0       0     NaN       0      0      0    0.0     NaN   \n",
            "24      0.0    0.0       0     NaN       0      0      0    0.0     NaN   \n",
            "\n",
            "     Te-129m  Te-132  Ba-140.1  \n",
            "577      0.0       0       NaN  \n",
            "570      0.0       0       NaN  \n",
            "584      0.0       0       NaN  \n",
            "568      0.0       0       NaN  \n",
            "599      0.0       0       NaN  \n",
            "..       ...     ...       ...  \n",
            "539      NaN       0       NaN  \n",
            "510      0.0       0       NaN  \n",
            "213      NaN       0       NaN  \n",
            "543      NaN       0       NaN  \n",
            "24       NaN       0       NaN  \n",
            "\n",
            "[606 rows x 18 columns]\n"
          ]
        }
      ],
      "source": [
        "# @title\n",
        "# Step 1: Sort the DataFrame by the 'Date Collected' column in descending order\n",
        "sorted_df = df_assig1.sort_values(by='Date Collected', ascending=False)\n",
        "# .sort_values() is used to sort a DataFrame by the values in a specific column.\n",
        "# by='Date Collected' specifies the column to sort.\n",
        "# ascending=False sorts the values in descending order, showing the latest dates first.\n",
        "\n",
        "# Step 2: Display the sorted DataFrame\n",
        "print(sorted_df)  # Prints the sorted DataFrame to verify that the latest dates appear first.\n"
      ]
    },
    {
      "cell_type": "markdown",
      "id": "742f7700",
      "metadata": {
        "id": "742f7700"
      },
      "source": [
        "#Question 13\n",
        "(5 points): Return the __df_assig1__ data frame only showing the samples taken in Miami. Miami is one of the values from the column 'Location'. __Write only one line of code__ to answer this question."
      ]
    },
    {
      "cell_type": "code",
      "execution_count": 85,
      "id": "1c0aad00",
      "metadata": {
        "id": "1c0aad00",
        "colab": {
          "base_uri": "https://localhost:8080/"
        },
        "cellView": "form",
        "outputId": "081bf689-02a0-4743-fe62-16f4b1b89011"
      },
      "outputs": [
        {
          "output_type": "stream",
          "name": "stdout",
          "text": [
            "    State Location Date Posted Date Collected     Sample Type   Unit  Ba-140  \\\n",
            "312    Fl    Miami  2011-04-08     2011-03-29  Drinking Water  pCi/l     0.0   \n",
            "\n",
            "     Co-60  Cs-134  Cs-136  Cs-137  I-131  I-132  I-133  Te-129  Te-129m  \\\n",
            "312    0.0       0     0.0       0      0      0    0.0     0.0      0.0   \n",
            "\n",
            "     Te-132  Ba-140.1  \n",
            "312       0       NaN  \n"
          ]
        }
      ],
      "source": [
        "# @title\n",
        "# Step 1: Filter the DataFrame to only include rows where 'Location' is 'Miami'\n",
        "miami_samples = df_assig1[df_assig1['Location'] == 'Miami']\n",
        "# df_assig1['Location'] == 'Miami' creates a boolean mask that is True for rows where the 'Location' column equals 'Miami'.\n",
        "# df_assig1[...] applies this mask to filter the rows where the condition is True.\n",
        "\n",
        "# Step 2: Display the filtered DataFrame\n",
        "print(miami_samples)  # Prints the filtered DataFrame to show only the samples taken in Miami.\n",
        "\n"
      ]
    },
    {
      "cell_type": "markdown",
      "id": "a9621810",
      "metadata": {
        "id": "a9621810"
      },
      "source": [
        "#Question 14\n",
        "(5 points): Return the average concentration of 'I-131' found on each state. __Write only one line of code__ to answer this question."
      ]
    },
    {
      "cell_type": "code",
      "execution_count": 86,
      "id": "f38ad10f",
      "metadata": {
        "id": "f38ad10f",
        "colab": {
          "base_uri": "https://localhost:8080/"
        },
        "cellView": "form",
        "outputId": "8db12b9d-4936-459d-b98b-e670b3f3ef2a"
      },
      "outputs": [
        {
          "output_type": "stream",
          "name": "stdout",
          "text": [
            "State\n",
            "Ak       0.154930\n",
            "Al       1.050000\n",
            "Ar       5.900000\n",
            "Az       1.000000\n",
            "Ca       7.119048\n",
            "Cnmi     0.105263\n",
            "Co       8.333333\n",
            "Ct       5.454545\n",
            "De       0.000000\n",
            "Fl      15.636364\n",
            "Ga       2.125000\n",
            "Guam     0.041667\n",
            "Hi       0.591837\n",
            "Ia       0.000000\n",
            "Id      23.068966\n",
            "Il       0.000000\n",
            "Ks      24.444444\n",
            "Ky       0.000000\n",
            "La       0.000000\n",
            "Ma      14.400000\n",
            "Md       0.000000\n",
            "Mi       2.777778\n",
            "Mn       7.125000\n",
            "Mo       0.750000\n",
            "Ms       0.000000\n",
            "Mt       0.000000\n",
            "Nc       7.500000\n",
            "Nd       0.000000\n",
            "Ne       0.000000\n",
            "Nh       7.100000\n",
            "Nj       0.000000\n",
            "Nm       0.000000\n",
            "Nv       0.173913\n",
            "Ny       3.227273\n",
            "Oh       2.789474\n",
            "Ok       0.000000\n",
            "Or      14.500000\n",
            "Pa       0.750000\n",
            "Ri       0.000000\n",
            "Sc       0.000000\n",
            "Tn       7.535714\n",
            "Tx       0.000000\n",
            "Ut      24.444444\n",
            "Va       1.500000\n",
            "Vt       0.000000\n",
            "Wa      10.368421\n",
            "Wi       0.000000\n",
            "Wv       0.000000\n",
            "Name: I-131, dtype: float64\n"
          ]
        }
      ],
      "source": [
        "# @title\n",
        "# Step 1: Group the data by 'State' and calculate the mean of 'I-131'\n",
        "average_concentration = df_assig1.groupby('State')['I-131'].mean()\n",
        "# .groupby('State') groups the data by the 'State' column.\n",
        "# ['I-131'] selects the 'I-131' column for calculations.\n",
        "# .mean() calculates the average (mean) concentration of 'I-131' for each state.\n",
        "\n",
        "# Step 2: Display the results\n",
        "print(average_concentration)  # Prints the average 'I-131' concentration for each state.\n"
      ]
    }
  ],
  "metadata": {
    "kernelspec": {
      "display_name": "Python 3 (ipykernel)",
      "language": "python",
      "name": "python3"
    },
    "language_info": {
      "codemirror_mode": {
        "name": "ipython",
        "version": 3
      },
      "file_extension": ".py",
      "mimetype": "text/x-python",
      "name": "python",
      "nbconvert_exporter": "python",
      "pygments_lexer": "ipython3",
      "version": "3.9.13"
    },
    "colab": {
      "provenance": [],
      "toc_visible": true,
      "include_colab_link": true
    }
  },
  "nbformat": 4,
  "nbformat_minor": 5
}