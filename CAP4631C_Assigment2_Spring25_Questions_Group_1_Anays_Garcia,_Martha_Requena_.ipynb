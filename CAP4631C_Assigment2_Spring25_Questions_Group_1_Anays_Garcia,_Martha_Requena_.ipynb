{
  "cells": [
    {
      "cell_type": "markdown",
      "metadata": {
        "id": "view-in-github",
        "colab_type": "text"
      },
      "source": [
        "<a href=\"https://colab.research.google.com/github/Requenamar3/Machine-Learning/blob/main/CAP4631C_Assigment2_Spring25_Questions_Group_1_Anays_Garcia%2C_Martha_Requena_.ipynb\" target=\"_parent\"><img src=\"https://colab.research.google.com/assets/colab-badge.svg\" alt=\"Open In Colab\"/></a>"
      ]
    },
    {
      "cell_type": "markdown",
      "id": "c4590795",
      "metadata": {
        "id": "c4590795"
      },
      "source": [
        "## Introduction\n",
        "\n",
        "This assignment is about simple and multiple linear regression.\n",
        "\n",
        "You are going to use the Diamonds data set (a csv file), which you can dowload from Canvas (_located inside the Assignment 2 section_).\n",
        "\n",
        "Visit the following website to learn more about this data set:\n",
        "\n",
        "https://bookdown.org/yih_huynh/Guide-to-R-Book/diamonds.html\n"
      ]
    },
    {
      "cell_type": "markdown",
      "source": [
        "Read the Diamonds data set as a Pandas data frame following the same steps we have followed multiple times in class.\n",
        "\n",
        "Call this data frame __diamonds_df__"
      ],
      "metadata": {
        "id": "OWVqY943Iozx"
      },
      "id": "OWVqY943Iozx"
    },
    {
      "cell_type": "code",
      "source": [
        "# Import the required libraries\n",
        "import pandas as pd  # For data manipulation\n",
        "import numpy as np  # For numerical operations\n",
        "import matplotlib.pyplot as plt  # For data visualization\n",
        "from sklearn.linear_model import LinearRegression  # For regression modeling\n",
        "from sklearn.metrics import r2_score  # For model evaluation\n",
        "\n",
        "# Define the URL of the dataset hosted on GitHub\n",
        "url = \"https://raw.githubusercontent.com/Requenamar3/Machine-Learning/refs/heads/main/diamonds_data.csv\"\n",
        "\n",
        "# Load the dataset into a Pandas DataFrame\n",
        "diamonds_df = pd.read_csv(url)\n",
        "\n",
        "# Display information about the dataset\n",
        "print(\"Dataset Information:\")\n",
        "diamonds_df.info()  # Shows column names, data types, and missing values\n",
        "\n",
        "print(\"\\nFirst 5 Rows of the Dataset:\")\n",
        "diamonds_df.head()  # Displays the first 5 rows of the dataset\n"
      ],
      "metadata": {
        "colab": {
          "base_uri": "https://localhost:8080/",
          "height": 553
        },
        "id": "yLyGPNlRIJlg",
        "outputId": "a17633be-5c7c-4d92-cbbb-af84807368f8"
      },
      "execution_count": 2,
      "outputs": [
        {
          "output_type": "stream",
          "name": "stdout",
          "text": [
            "Dataset Information:\n",
            "<class 'pandas.core.frame.DataFrame'>\n",
            "RangeIndex: 53940 entries, 0 to 53939\n",
            "Data columns (total 10 columns):\n",
            " #   Column   Non-Null Count  Dtype  \n",
            "---  ------   --------------  -----  \n",
            " 0   carat    53940 non-null  float64\n",
            " 1   cut      53940 non-null  object \n",
            " 2   color    53940 non-null  object \n",
            " 3   clarity  53940 non-null  object \n",
            " 4   depth    53940 non-null  float64\n",
            " 5   table    53940 non-null  float64\n",
            " 6   price    53940 non-null  int64  \n",
            " 7   x        53940 non-null  float64\n",
            " 8   y        53940 non-null  float64\n",
            " 9   z        53940 non-null  float64\n",
            "dtypes: float64(6), int64(1), object(3)\n",
            "memory usage: 4.1+ MB\n",
            "\n",
            "First 5 Rows of the Dataset:\n"
          ]
        },
        {
          "output_type": "execute_result",
          "data": {
            "text/plain": [
              "   carat      cut color clarity  depth  table  price     x     y     z\n",
              "0   0.23    Ideal     E     SI2   61.5   55.0    326  3.95  3.98  2.43\n",
              "1   0.21  Premium     E     SI1   59.8   61.0    326  3.89  3.84  2.31\n",
              "2   0.23     Good     E     VS1   56.9   65.0    327  4.05  4.07  2.31\n",
              "3   0.29  Premium     I     VS2   62.4   58.0    334  4.20  4.23  2.63\n",
              "4   0.31     Good     J     SI2   63.3   58.0    335  4.34  4.35  2.75"
            ],
            "text/html": [
              "\n",
              "  <div id=\"df-b7d46d0e-0424-4425-85f5-5b846e5cefc7\" class=\"colab-df-container\">\n",
              "    <div>\n",
              "<style scoped>\n",
              "    .dataframe tbody tr th:only-of-type {\n",
              "        vertical-align: middle;\n",
              "    }\n",
              "\n",
              "    .dataframe tbody tr th {\n",
              "        vertical-align: top;\n",
              "    }\n",
              "\n",
              "    .dataframe thead th {\n",
              "        text-align: right;\n",
              "    }\n",
              "</style>\n",
              "<table border=\"1\" class=\"dataframe\">\n",
              "  <thead>\n",
              "    <tr style=\"text-align: right;\">\n",
              "      <th></th>\n",
              "      <th>carat</th>\n",
              "      <th>cut</th>\n",
              "      <th>color</th>\n",
              "      <th>clarity</th>\n",
              "      <th>depth</th>\n",
              "      <th>table</th>\n",
              "      <th>price</th>\n",
              "      <th>x</th>\n",
              "      <th>y</th>\n",
              "      <th>z</th>\n",
              "    </tr>\n",
              "  </thead>\n",
              "  <tbody>\n",
              "    <tr>\n",
              "      <th>0</th>\n",
              "      <td>0.23</td>\n",
              "      <td>Ideal</td>\n",
              "      <td>E</td>\n",
              "      <td>SI2</td>\n",
              "      <td>61.5</td>\n",
              "      <td>55.0</td>\n",
              "      <td>326</td>\n",
              "      <td>3.95</td>\n",
              "      <td>3.98</td>\n",
              "      <td>2.43</td>\n",
              "    </tr>\n",
              "    <tr>\n",
              "      <th>1</th>\n",
              "      <td>0.21</td>\n",
              "      <td>Premium</td>\n",
              "      <td>E</td>\n",
              "      <td>SI1</td>\n",
              "      <td>59.8</td>\n",
              "      <td>61.0</td>\n",
              "      <td>326</td>\n",
              "      <td>3.89</td>\n",
              "      <td>3.84</td>\n",
              "      <td>2.31</td>\n",
              "    </tr>\n",
              "    <tr>\n",
              "      <th>2</th>\n",
              "      <td>0.23</td>\n",
              "      <td>Good</td>\n",
              "      <td>E</td>\n",
              "      <td>VS1</td>\n",
              "      <td>56.9</td>\n",
              "      <td>65.0</td>\n",
              "      <td>327</td>\n",
              "      <td>4.05</td>\n",
              "      <td>4.07</td>\n",
              "      <td>2.31</td>\n",
              "    </tr>\n",
              "    <tr>\n",
              "      <th>3</th>\n",
              "      <td>0.29</td>\n",
              "      <td>Premium</td>\n",
              "      <td>I</td>\n",
              "      <td>VS2</td>\n",
              "      <td>62.4</td>\n",
              "      <td>58.0</td>\n",
              "      <td>334</td>\n",
              "      <td>4.20</td>\n",
              "      <td>4.23</td>\n",
              "      <td>2.63</td>\n",
              "    </tr>\n",
              "    <tr>\n",
              "      <th>4</th>\n",
              "      <td>0.31</td>\n",
              "      <td>Good</td>\n",
              "      <td>J</td>\n",
              "      <td>SI2</td>\n",
              "      <td>63.3</td>\n",
              "      <td>58.0</td>\n",
              "      <td>335</td>\n",
              "      <td>4.34</td>\n",
              "      <td>4.35</td>\n",
              "      <td>2.75</td>\n",
              "    </tr>\n",
              "  </tbody>\n",
              "</table>\n",
              "</div>\n",
              "    <div class=\"colab-df-buttons\">\n",
              "\n",
              "  <div class=\"colab-df-container\">\n",
              "    <button class=\"colab-df-convert\" onclick=\"convertToInteractive('df-b7d46d0e-0424-4425-85f5-5b846e5cefc7')\"\n",
              "            title=\"Convert this dataframe to an interactive table.\"\n",
              "            style=\"display:none;\">\n",
              "\n",
              "  <svg xmlns=\"http://www.w3.org/2000/svg\" height=\"24px\" viewBox=\"0 -960 960 960\">\n",
              "    <path d=\"M120-120v-720h720v720H120Zm60-500h600v-160H180v160Zm220 220h160v-160H400v160Zm0 220h160v-160H400v160ZM180-400h160v-160H180v160Zm440 0h160v-160H620v160ZM180-180h160v-160H180v160Zm440 0h160v-160H620v160Z\"/>\n",
              "  </svg>\n",
              "    </button>\n",
              "\n",
              "  <style>\n",
              "    .colab-df-container {\n",
              "      display:flex;\n",
              "      gap: 12px;\n",
              "    }\n",
              "\n",
              "    .colab-df-convert {\n",
              "      background-color: #E8F0FE;\n",
              "      border: none;\n",
              "      border-radius: 50%;\n",
              "      cursor: pointer;\n",
              "      display: none;\n",
              "      fill: #1967D2;\n",
              "      height: 32px;\n",
              "      padding: 0 0 0 0;\n",
              "      width: 32px;\n",
              "    }\n",
              "\n",
              "    .colab-df-convert:hover {\n",
              "      background-color: #E2EBFA;\n",
              "      box-shadow: 0px 1px 2px rgba(60, 64, 67, 0.3), 0px 1px 3px 1px rgba(60, 64, 67, 0.15);\n",
              "      fill: #174EA6;\n",
              "    }\n",
              "\n",
              "    .colab-df-buttons div {\n",
              "      margin-bottom: 4px;\n",
              "    }\n",
              "\n",
              "    [theme=dark] .colab-df-convert {\n",
              "      background-color: #3B4455;\n",
              "      fill: #D2E3FC;\n",
              "    }\n",
              "\n",
              "    [theme=dark] .colab-df-convert:hover {\n",
              "      background-color: #434B5C;\n",
              "      box-shadow: 0px 1px 3px 1px rgba(0, 0, 0, 0.15);\n",
              "      filter: drop-shadow(0px 1px 2px rgba(0, 0, 0, 0.3));\n",
              "      fill: #FFFFFF;\n",
              "    }\n",
              "  </style>\n",
              "\n",
              "    <script>\n",
              "      const buttonEl =\n",
              "        document.querySelector('#df-b7d46d0e-0424-4425-85f5-5b846e5cefc7 button.colab-df-convert');\n",
              "      buttonEl.style.display =\n",
              "        google.colab.kernel.accessAllowed ? 'block' : 'none';\n",
              "\n",
              "      async function convertToInteractive(key) {\n",
              "        const element = document.querySelector('#df-b7d46d0e-0424-4425-85f5-5b846e5cefc7');\n",
              "        const dataTable =\n",
              "          await google.colab.kernel.invokeFunction('convertToInteractive',\n",
              "                                                    [key], {});\n",
              "        if (!dataTable) return;\n",
              "\n",
              "        const docLinkHtml = 'Like what you see? Visit the ' +\n",
              "          '<a target=\"_blank\" href=https://colab.research.google.com/notebooks/data_table.ipynb>data table notebook</a>'\n",
              "          + ' to learn more about interactive tables.';\n",
              "        element.innerHTML = '';\n",
              "        dataTable['output_type'] = 'display_data';\n",
              "        await google.colab.output.renderOutput(dataTable, element);\n",
              "        const docLink = document.createElement('div');\n",
              "        docLink.innerHTML = docLinkHtml;\n",
              "        element.appendChild(docLink);\n",
              "      }\n",
              "    </script>\n",
              "  </div>\n",
              "\n",
              "\n",
              "<div id=\"df-d945ab4c-4e4a-4fe2-b100-5342d01e25d9\">\n",
              "  <button class=\"colab-df-quickchart\" onclick=\"quickchart('df-d945ab4c-4e4a-4fe2-b100-5342d01e25d9')\"\n",
              "            title=\"Suggest charts\"\n",
              "            style=\"display:none;\">\n",
              "\n",
              "<svg xmlns=\"http://www.w3.org/2000/svg\" height=\"24px\"viewBox=\"0 0 24 24\"\n",
              "     width=\"24px\">\n",
              "    <g>\n",
              "        <path d=\"M19 3H5c-1.1 0-2 .9-2 2v14c0 1.1.9 2 2 2h14c1.1 0 2-.9 2-2V5c0-1.1-.9-2-2-2zM9 17H7v-7h2v7zm4 0h-2V7h2v10zm4 0h-2v-4h2v4z\"/>\n",
              "    </g>\n",
              "</svg>\n",
              "  </button>\n",
              "\n",
              "<style>\n",
              "  .colab-df-quickchart {\n",
              "      --bg-color: #E8F0FE;\n",
              "      --fill-color: #1967D2;\n",
              "      --hover-bg-color: #E2EBFA;\n",
              "      --hover-fill-color: #174EA6;\n",
              "      --disabled-fill-color: #AAA;\n",
              "      --disabled-bg-color: #DDD;\n",
              "  }\n",
              "\n",
              "  [theme=dark] .colab-df-quickchart {\n",
              "      --bg-color: #3B4455;\n",
              "      --fill-color: #D2E3FC;\n",
              "      --hover-bg-color: #434B5C;\n",
              "      --hover-fill-color: #FFFFFF;\n",
              "      --disabled-bg-color: #3B4455;\n",
              "      --disabled-fill-color: #666;\n",
              "  }\n",
              "\n",
              "  .colab-df-quickchart {\n",
              "    background-color: var(--bg-color);\n",
              "    border: none;\n",
              "    border-radius: 50%;\n",
              "    cursor: pointer;\n",
              "    display: none;\n",
              "    fill: var(--fill-color);\n",
              "    height: 32px;\n",
              "    padding: 0;\n",
              "    width: 32px;\n",
              "  }\n",
              "\n",
              "  .colab-df-quickchart:hover {\n",
              "    background-color: var(--hover-bg-color);\n",
              "    box-shadow: 0 1px 2px rgba(60, 64, 67, 0.3), 0 1px 3px 1px rgba(60, 64, 67, 0.15);\n",
              "    fill: var(--button-hover-fill-color);\n",
              "  }\n",
              "\n",
              "  .colab-df-quickchart-complete:disabled,\n",
              "  .colab-df-quickchart-complete:disabled:hover {\n",
              "    background-color: var(--disabled-bg-color);\n",
              "    fill: var(--disabled-fill-color);\n",
              "    box-shadow: none;\n",
              "  }\n",
              "\n",
              "  .colab-df-spinner {\n",
              "    border: 2px solid var(--fill-color);\n",
              "    border-color: transparent;\n",
              "    border-bottom-color: var(--fill-color);\n",
              "    animation:\n",
              "      spin 1s steps(1) infinite;\n",
              "  }\n",
              "\n",
              "  @keyframes spin {\n",
              "    0% {\n",
              "      border-color: transparent;\n",
              "      border-bottom-color: var(--fill-color);\n",
              "      border-left-color: var(--fill-color);\n",
              "    }\n",
              "    20% {\n",
              "      border-color: transparent;\n",
              "      border-left-color: var(--fill-color);\n",
              "      border-top-color: var(--fill-color);\n",
              "    }\n",
              "    30% {\n",
              "      border-color: transparent;\n",
              "      border-left-color: var(--fill-color);\n",
              "      border-top-color: var(--fill-color);\n",
              "      border-right-color: var(--fill-color);\n",
              "    }\n",
              "    40% {\n",
              "      border-color: transparent;\n",
              "      border-right-color: var(--fill-color);\n",
              "      border-top-color: var(--fill-color);\n",
              "    }\n",
              "    60% {\n",
              "      border-color: transparent;\n",
              "      border-right-color: var(--fill-color);\n",
              "    }\n",
              "    80% {\n",
              "      border-color: transparent;\n",
              "      border-right-color: var(--fill-color);\n",
              "      border-bottom-color: var(--fill-color);\n",
              "    }\n",
              "    90% {\n",
              "      border-color: transparent;\n",
              "      border-bottom-color: var(--fill-color);\n",
              "    }\n",
              "  }\n",
              "</style>\n",
              "\n",
              "  <script>\n",
              "    async function quickchart(key) {\n",
              "      const quickchartButtonEl =\n",
              "        document.querySelector('#' + key + ' button');\n",
              "      quickchartButtonEl.disabled = true;  // To prevent multiple clicks.\n",
              "      quickchartButtonEl.classList.add('colab-df-spinner');\n",
              "      try {\n",
              "        const charts = await google.colab.kernel.invokeFunction(\n",
              "            'suggestCharts', [key], {});\n",
              "      } catch (error) {\n",
              "        console.error('Error during call to suggestCharts:', error);\n",
              "      }\n",
              "      quickchartButtonEl.classList.remove('colab-df-spinner');\n",
              "      quickchartButtonEl.classList.add('colab-df-quickchart-complete');\n",
              "    }\n",
              "    (() => {\n",
              "      let quickchartButtonEl =\n",
              "        document.querySelector('#df-d945ab4c-4e4a-4fe2-b100-5342d01e25d9 button');\n",
              "      quickchartButtonEl.style.display =\n",
              "        google.colab.kernel.accessAllowed ? 'block' : 'none';\n",
              "    })();\n",
              "  </script>\n",
              "</div>\n",
              "\n",
              "    </div>\n",
              "  </div>\n"
            ],
            "application/vnd.google.colaboratory.intrinsic+json": {
              "type": "dataframe",
              "variable_name": "diamonds_df",
              "summary": "{\n  \"name\": \"diamonds_df\",\n  \"rows\": 53940,\n  \"fields\": [\n    {\n      \"column\": \"carat\",\n      \"properties\": {\n        \"dtype\": \"number\",\n        \"std\": 0.47401124440538067,\n        \"min\": 0.2,\n        \"max\": 5.01,\n        \"num_unique_values\": 273,\n        \"samples\": [\n          0.77,\n          1.58,\n          0.65\n        ],\n        \"semantic_type\": \"\",\n        \"description\": \"\"\n      }\n    },\n    {\n      \"column\": \"cut\",\n      \"properties\": {\n        \"dtype\": \"category\",\n        \"num_unique_values\": 5,\n        \"samples\": [\n          \"Premium\",\n          \"Fair\",\n          \"Good\"\n        ],\n        \"semantic_type\": \"\",\n        \"description\": \"\"\n      }\n    },\n    {\n      \"column\": \"color\",\n      \"properties\": {\n        \"dtype\": \"category\",\n        \"num_unique_values\": 7,\n        \"samples\": [\n          \"E\",\n          \"I\",\n          \"G\"\n        ],\n        \"semantic_type\": \"\",\n        \"description\": \"\"\n      }\n    },\n    {\n      \"column\": \"clarity\",\n      \"properties\": {\n        \"dtype\": \"category\",\n        \"num_unique_values\": 8,\n        \"samples\": [\n          \"SI1\",\n          \"VVS1\",\n          \"SI2\"\n        ],\n        \"semantic_type\": \"\",\n        \"description\": \"\"\n      }\n    },\n    {\n      \"column\": \"depth\",\n      \"properties\": {\n        \"dtype\": \"number\",\n        \"std\": 1.4326213188337733,\n        \"min\": 43.0,\n        \"max\": 79.0,\n        \"num_unique_values\": 184,\n        \"samples\": [\n          61.0,\n          62.9,\n          70.2\n        ],\n        \"semantic_type\": \"\",\n        \"description\": \"\"\n      }\n    },\n    {\n      \"column\": \"table\",\n      \"properties\": {\n        \"dtype\": \"number\",\n        \"std\": 2.234490562820938,\n        \"min\": 43.0,\n        \"max\": 95.0,\n        \"num_unique_values\": 127,\n        \"samples\": [\n          54.8,\n          61.5,\n          57.6\n        ],\n        \"semantic_type\": \"\",\n        \"description\": \"\"\n      }\n    },\n    {\n      \"column\": \"price\",\n      \"properties\": {\n        \"dtype\": \"number\",\n        \"std\": 3989,\n        \"min\": 326,\n        \"max\": 18823,\n        \"num_unique_values\": 11602,\n        \"samples\": [\n          16368,\n          895,\n          748\n        ],\n        \"semantic_type\": \"\",\n        \"description\": \"\"\n      }\n    },\n    {\n      \"column\": \"x\",\n      \"properties\": {\n        \"dtype\": \"number\",\n        \"std\": 1.1217607467924422,\n        \"min\": 0.0,\n        \"max\": 10.74,\n        \"num_unique_values\": 554,\n        \"samples\": [\n          5.88,\n          5.69,\n          4.61\n        ],\n        \"semantic_type\": \"\",\n        \"description\": \"\"\n      }\n    },\n    {\n      \"column\": \"y\",\n      \"properties\": {\n        \"dtype\": \"number\",\n        \"std\": 1.1421346741235396,\n        \"min\": 0.0,\n        \"max\": 58.9,\n        \"num_unique_values\": 552,\n        \"samples\": [\n          5.33,\n          5.61,\n          5.25\n        ],\n        \"semantic_type\": \"\",\n        \"description\": \"\"\n      }\n    },\n    {\n      \"column\": \"z\",\n      \"properties\": {\n        \"dtype\": \"number\",\n        \"std\": 0.7056988469499964,\n        \"min\": 0.0,\n        \"max\": 31.8,\n        \"num_unique_values\": 375,\n        \"samples\": [\n          3.36,\n          2.45,\n          2.7\n        ],\n        \"semantic_type\": \"\",\n        \"description\": \"\"\n      }\n    }\n  ]\n}"
            }
          },
          "metadata": {},
          "execution_count": 2
        }
      ],
      "id": "yLyGPNlRIJlg"
    },
    {
      "cell_type": "markdown",
      "source": [
        "We are going to remove all the qualitative variables (I want you to use only quantitative predictors for this assignment).\n",
        "\n",
        "__AFTER you have created the diamonds_df data frame__, run the following code cell to remove all the qualitative variables from it:"
      ],
      "metadata": {
        "id": "1D2ISpJhJtSr"
      },
      "id": "1D2ISpJhJtSr"
    },
    {
      "cell_type": "code",
      "source": [
        "diamonds_df.drop (['cut', 'color', 'clarity'], axis= 1, inplace= True)"
      ],
      "metadata": {
        "id": "WDmJ1J_eKCmH"
      },
      "id": "WDmJ1J_eKCmH",
      "execution_count": 3,
      "outputs": []
    },
    {
      "cell_type": "markdown",
      "source": [
        "You __MUST run the previous code cell__ because you CANNOT use any of the qualitative columns as predictors."
      ],
      "metadata": {
        "id": "HABYvEPLNYuC"
      },
      "id": "HABYvEPLNYuC"
    },
    {
      "cell_type": "markdown",
      "source": [
        "The __target (outcome) variable__ in this problem will be __price__.\n",
        "\n",
        "__The predictors__ will be all remaning columns.\n",
        "\n",
        "---"
      ],
      "metadata": {
        "id": "1Hal-vw4ycZH"
      },
      "id": "1Hal-vw4ycZH"
    },
    {
      "cell_type": "markdown",
      "source": [
        "# Question 1: Simple LR"
      ],
      "metadata": {
        "id": "7pY1tPDrb2MI"
      },
      "id": "7pY1tPDrb2MI"
    },
    {
      "cell_type": "markdown",
      "id": "61a58944",
      "metadata": {
        "id": "61a58944"
      },
      "source": [
        "\n",
        "## 1a) Select the best predictor that you consider should be used to run a simple regression with price as the outcome. __JUSTIFY__ your selection.\n",
        "\n",
        "__Note:__ The justification for selecting the best predictor MUST be statistical. You should select what the best predictor is from a statistical point of view."
      ]
    },
    {
      "cell_type": "code",
      "source": [
        "price_corr = diamonds_df.corr()['price'].drop('price')\n",
        "price_corr"
      ],
      "metadata": {
        "colab": {
          "base_uri": "https://localhost:8080/",
          "height": 272
        },
        "id": "Huyh9VXaYgBC",
        "outputId": "8ecb03e0-a399-4b8b-ef25-dfd33a68d8a6"
      },
      "id": "Huyh9VXaYgBC",
      "execution_count": 4,
      "outputs": [
        {
          "output_type": "execute_result",
          "data": {
            "text/plain": [
              "carat    0.921591\n",
              "depth   -0.010647\n",
              "table    0.127134\n",
              "x        0.884435\n",
              "y        0.865421\n",
              "z        0.861249\n",
              "Name: price, dtype: float64"
            ],
            "text/html": [
              "<div>\n",
              "<style scoped>\n",
              "    .dataframe tbody tr th:only-of-type {\n",
              "        vertical-align: middle;\n",
              "    }\n",
              "\n",
              "    .dataframe tbody tr th {\n",
              "        vertical-align: top;\n",
              "    }\n",
              "\n",
              "    .dataframe thead th {\n",
              "        text-align: right;\n",
              "    }\n",
              "</style>\n",
              "<table border=\"1\" class=\"dataframe\">\n",
              "  <thead>\n",
              "    <tr style=\"text-align: right;\">\n",
              "      <th></th>\n",
              "      <th>price</th>\n",
              "    </tr>\n",
              "  </thead>\n",
              "  <tbody>\n",
              "    <tr>\n",
              "      <th>carat</th>\n",
              "      <td>0.921591</td>\n",
              "    </tr>\n",
              "    <tr>\n",
              "      <th>depth</th>\n",
              "      <td>-0.010647</td>\n",
              "    </tr>\n",
              "    <tr>\n",
              "      <th>table</th>\n",
              "      <td>0.127134</td>\n",
              "    </tr>\n",
              "    <tr>\n",
              "      <th>x</th>\n",
              "      <td>0.884435</td>\n",
              "    </tr>\n",
              "    <tr>\n",
              "      <th>y</th>\n",
              "      <td>0.865421</td>\n",
              "    </tr>\n",
              "    <tr>\n",
              "      <th>z</th>\n",
              "      <td>0.861249</td>\n",
              "    </tr>\n",
              "  </tbody>\n",
              "</table>\n",
              "</div><br><label><b>dtype:</b> float64</label>"
            ]
          },
          "metadata": {},
          "execution_count": 4
        }
      ]
    },
    {
      "cell_type": "code",
      "source": [
        "best_predictor = price_corr.idxmax()  # Variable with the highest correlation\n",
        "best_corr_value = price_corr.max()\n",
        "\n",
        "print(f\"The best predictor is {best_predictor} with a correlation of {best_corr_value:.2f}.\")"
      ],
      "metadata": {
        "colab": {
          "base_uri": "https://localhost:8080/"
        },
        "id": "Tm1T80JBdLSy",
        "outputId": "c8ef88e7-fad1-48c9-d6ce-fb0dc1e7afc1"
      },
      "id": "Tm1T80JBdLSy",
      "execution_count": 5,
      "outputs": [
        {
          "output_type": "stream",
          "name": "stdout",
          "text": [
            "The best predictor is carat with a correlation of 0.92.\n"
          ]
        }
      ]
    },
    {
      "cell_type": "markdown",
      "source": [
        "From the correlation analysis, the predictor with the highest absolute correlation with price is carat ( 𝑟 = 0.9216 r=0.9216). This makes sense because carat (weight of the diamond) directly influences its value, and the high correlation indicates a strong linear relationship between carat and price. Using carat as the predictor maximizes the ability of the simple linear regression model to explain the variability in price."
      ],
      "metadata": {
        "id": "kvprzik0TKZT"
      },
      "id": "kvprzik0TKZT"
    },
    {
      "cell_type": "markdown",
      "source": [
        "## 1b) Run a simple linear regression between price and the variable you chose in 1a). __Write the resulting equation__.\n"
      ],
      "metadata": {
        "id": "SsNPnnSBzas8"
      },
      "id": "SsNPnnSBzas8"
    },
    {
      "cell_type": "code",
      "source": [
        "\n",
        "# Define predictor (e.g., 'carat') and target ('price')\n",
        "carat = diamonds_df['carat'].values.reshape(-1, 1)  # Reshape to 2D array\n",
        "y = diamonds_df['price'].values  # Target variable\n",
        "\n",
        "# Train the model\n",
        "model_carat = LinearRegression().fit(carat, y)\n",
        "\n",
        "# Extract coefficients\n",
        "intercept = model_carat.intercept_\n",
        "slope = model_carat.coef_[0]\n",
        "\n",
        "# Print the regression equation\n",
        "print(f\"Regression equation: price = {intercept:.2f} + {slope:.2f} * carat\")\n"
      ],
      "metadata": {
        "colab": {
          "base_uri": "https://localhost:8080/"
        },
        "id": "FZbH06QSLd0U",
        "outputId": "b1d70b31-8811-4e3e-e8cb-fc2533974af5"
      },
      "id": "FZbH06QSLd0U",
      "execution_count": 6,
      "outputs": [
        {
          "output_type": "stream",
          "name": "stdout",
          "text": [
            "Regression equation: price = -2256.36 + 7756.43 * carat\n"
          ]
        }
      ]
    },
    {
      "cell_type": "markdown",
      "source": [
        "## 1c) Let's say you want to use the Residual Standard Error (RSE) as the metric to assess the quality of the equation obtained in 1b. __Compute__ the value of RSE and, based on this value, __comment__ on the quality of the equation.\n",
        "\n",
        "__Note__: Your commentary MUST meet the standard of a student who already took an intermediate-level Stat class and is currently taking a ML class. Making comments like this: \"The value of RSE is low, so the equation is good\" (__or similar superficial comments__) will NOT be considered valid and will be marked as incorrect."
      ],
      "metadata": {
        "id": "AJFABKRtzjUg"
      },
      "id": "AJFABKRtzjUg"
    },
    {
      "cell_type": "code",
      "source": [
        "from sklearn.metrics import r2_score"
      ],
      "metadata": {
        "id": "xBFBgQcvFEFH"
      },
      "id": "xBFBgQcvFEFH",
      "execution_count": 7,
      "outputs": []
    },
    {
      "cell_type": "code",
      "source": [
        "y_pred_carat = model_carat.predict(carat)"
      ],
      "metadata": {
        "id": "PKD3QpU3FF-F"
      },
      "id": "PKD3QpU3FF-F",
      "execution_count": 8,
      "outputs": []
    },
    {
      "cell_type": "code",
      "source": [
        "def rse_calculator (y_actual, y_predicted, p):\n",
        "\n",
        "  rse_value = np.sqrt ( np.sum((y_actual - y_predicted)**2) / (y_actual.size - p -1) )\n",
        "\n",
        "  return np.round (rse_value, 4)"
      ],
      "metadata": {
        "id": "T4QiXBLvs05a"
      },
      "execution_count": 9,
      "outputs": [],
      "id": "T4QiXBLvs05a"
    },
    {
      "cell_type": "code",
      "source": [
        "rse_carat= rse_calculator(y, y_pred_carat, 1)\n",
        "rse_carat"
      ],
      "metadata": {
        "id": "leeEWHsWs4TD",
        "colab": {
          "base_uri": "https://localhost:8080/"
        },
        "outputId": "a35656aa-64cd-4da7-bac7-1cfec3af7f22"
      },
      "execution_count": 22,
      "outputs": [
        {
          "output_type": "execute_result",
          "data": {
            "text/plain": [
              "1548.5619"
            ]
          },
          "metadata": {},
          "execution_count": 22
        }
      ],
      "id": "leeEWHsWs4TD"
    },
    {
      "cell_type": "markdown",
      "source": [
        "The RSE is 1548.56 meaning the model's predictions are, on average about 1548 off from the actual prices. Considering diamond prices range from a few thousand to much higher, this isn’t bad, but it does show the model isn’t perfect.\n",
        "This suggests that while carat is an important factor in predicting price, it doesn’t explain everything. Other features like clarity, cut, or color probably also play a big role and could improve the accuracy of the model if included. Overall, the model does a decent job but could be better with more predictors."
      ],
      "metadata": {
        "id": "PW6f6FO6NGdC"
      },
      "id": "PW6f6FO6NGdC"
    },
    {
      "cell_type": "markdown",
      "source": [
        "## 1d) (8 points) **Challenge question**\n",
        "\n",
        "This is a challenge question; thus, you **cannot ask me for guidance on how to answer it**."
      ],
      "metadata": {
        "id": "6fLXlYoxmCqU"
      },
      "id": "6fLXlYoxmCqU"
    },
    {
      "cell_type": "markdown",
      "source": [
        "Do the plot of the residuals versus the predicted values based on the model you obtained in 1 b.\n",
        "\n",
        "What do you think about the following statement?\n",
        "\n",
        "_The plot shows the residuals randomly varying around zero. The residuals do not show any observable pattern._\n",
        "\n",
        "\n",
        "__Question__: Is the statement correct? Why or why not? __JUSTIFY__."
      ],
      "metadata": {
        "id": "zFeIFxQ1fXQ8"
      },
      "id": "zFeIFxQ1fXQ8"
    },
    {
      "cell_type": "code",
      "source": [
        "# Define the features used in the model\n",
        "X = diamonds_df[['carat']]  # Replace with actual features used for training\n",
        "\n",
        "# Predicted values from the model\n",
        "predicted_values = model_carat.predict(X)\n",
        "\n",
        "# Residuals (actual - predicted)\n",
        "residuals = diamonds_df['price'] - predicted_values\n",
        "\n",
        "# Create the plot\n",
        "import matplotlib.pyplot as plt\n",
        "plt.figure(figsize=(8, 5))\n",
        "plt.scatter(predicted_values, residuals, alpha=0.5, color='blue', edgecolor='k')\n",
        "plt.axhline(0, color='red', linestyle='--', linewidth=1)  # Horizontal line at residual = 0\n",
        "plt.xlabel('Predicted Values')\n",
        "plt.ylabel('Residuals')\n",
        "plt.title('Residuals vs. Predicted Values')\n",
        "plt.show()\n",
        "\n"
      ],
      "metadata": {
        "colab": {
          "base_uri": "https://localhost:8080/",
          "height": 522
        },
        "id": "q-H_9CmhLnjl",
        "outputId": "f9a1eaeb-9329-490f-84fe-fa9e93cf1d8d"
      },
      "execution_count": 11,
      "outputs": [
        {
          "output_type": "stream",
          "name": "stderr",
          "text": [
            "/usr/local/lib/python3.11/dist-packages/sklearn/utils/validation.py:2732: UserWarning: X has feature names, but LinearRegression was fitted without feature names\n",
            "  warnings.warn(\n"
          ]
        },
        {
          "output_type": "display_data",
          "data": {
            "text/plain": [
              "<Figure size 800x500 with 1 Axes>"
            ],
            "image/png": "[encoded data removed]"
          },
          "metadata": {}
        }
      ],
      "id": "q-H_9CmhLnjl"
    },
    {
      "cell_type": "markdown",
      "source": [
        "No the statement is incorrect. The plot reveals  the residuals fan out as the predicted values increase, forming a funnel-like shape. This indicates that the variability of the residuals isn't consistent across all levels of the predicted values—. This is what is known as heteroscedasticity.\n",
        "\n",
        "In simpler terms, our model's errors grow as the predicted prices increase, suggesting that the model doesn't capture all the factors influencing diamond prices. This pattern implies that the relationship between carat and price might not be purely linear, or that other variables (like cut, color, or clarity) are affecting the price but aren't included in the model.\n",
        "\n",
        "---"
      ],
      "metadata": {
        "id": "6x6F0MTQR3ik"
      },
      "id": "6x6F0MTQR3ik"
    },
    {
      "cell_type": "markdown",
      "source": [
        "# Question 2: Multiple LR"
      ],
      "metadata": {
        "id": "UEDONEvHagWb"
      },
      "id": "UEDONEvHagWb"
    },
    {
      "cell_type": "markdown",
      "id": "7ce80a84",
      "metadata": {
        "id": "7ce80a84"
      },
      "source": [
        "## 2a) Use the ML approach to decide whether adding the predictor 'x' in the model that only includes 'carat' is beneficial. Notice that 'x' is one of the columns from the diamonds_df dataframe.\n",
        "\n",
        "\n",
        "__Note__: You will get all the points **if you apply the ML approach EXACTLY as we did it in class**. You will be **deducted points** if you follow a different procedure.\n"
      ]
    },
    {
      "cell_type": "markdown",
      "source": [
        "Define predictors"
      ],
      "metadata": {
        "id": "7JMCIkCiJItt"
      },
      "id": "7JMCIkCiJItt"
    },
    {
      "cell_type": "code",
      "source": [
        "carat_x = diamonds_df[['carat', 'x']]  # variable  with 'carat' and 'x'"
      ],
      "metadata": {
        "id": "_r9A46ZZsdtA"
      },
      "id": "_r9A46ZZsdtA",
      "execution_count": 12,
      "outputs": []
    },
    {
      "cell_type": "markdown",
      "source": [
        "Train the model"
      ],
      "metadata": {
        "id": "5OcaCEp8JRYP"
      },
      "id": "5OcaCEp8JRYP"
    },
    {
      "cell_type": "code",
      "source": [
        "# Train the Linear Regression model with 'carat' and 'x'\n",
        "model_carat_x = LinearRegression().fit(carat_x, y) #creating the model\n",
        "y_pred_carat_x = model_carat_x.predict(carat_x) # creating the prediction\n",
        "\n",
        "rse_carat_x = rse_calculator(y, y_pred_carat_x, carat_x.shape[1])\n",
        "print(f\"Residual Standard Error (RSE) for the diamonds data: {rse_carat_x}\")\n"
      ],
      "metadata": {
        "id": "yqIXMOdXu4gh",
        "colab": {
          "base_uri": "https://localhost:8080/"
        },
        "outputId": "ac77bf79-dd9b-4c69-aebf-23ca71d13640"
      },
      "execution_count": 19,
      "outputs": [
        {
          "output_type": "stream",
          "name": "stdout",
          "text": [
            "Residual Standard Error (RSE) for the diamonds data: 1527.3562\n"
          ]
        }
      ],
      "id": "yqIXMOdXu4gh"
    },
    {
      "cell_type": "code",
      "source": [
        "# The formula calculates the relative change in RSE as a percentage\n",
        "percentage_reduction_rse = ((rse_carat_x - rse_carat) / rse_carat) * 100\n",
        "percentage_reduction_rse"
      ],
      "metadata": {
        "colab": {
          "base_uri": "https://localhost:8080/"
        },
        "id": "GEb6r9hqRQ_9",
        "outputId": "bc416be0-ae75-448e-8efc-71f62eb1cdb3"
      },
      "id": "GEb6r9hqRQ_9",
      "execution_count": 23,
      "outputs": [
        {
          "output_type": "execute_result",
          "data": {
            "text/plain": [
              "-1.3693801972010275"
            ]
          },
          "metadata": {},
          "execution_count": 23
        }
      ]
    },
    {
      "cell_type": "markdown",
      "source": [
        " **The RSE result suggests that adding predictor 'x' to the model increases the RSE by about 136.94%, meaning the model performs worse with 'x' included. This indicates that 'x' is not a beneficial addition to the model.**"
      ],
      "metadata": {
        "id": "81uOxUY-jyj6"
      },
      "id": "81uOxUY-jyj6"
    },
    {
      "cell_type": "markdown",
      "source": [
        "## 2b) (10 points) **Challenge question**\n",
        "\n",
        "This is a challenge question; thus, you **cannot ask me for guidance on how to answer it**.\n",
        "\n"
      ],
      "metadata": {
        "id": "RAr0vgPJyCCb"
      },
      "id": "RAr0vgPJyCCb"
    },
    {
      "cell_type": "markdown",
      "source": [
        "Regardless of your decision in 2a (that is, regardless of whether you concluded that adding 'x' to the equation was beneficial) __I want you to use both 'x' and 'carat' as predictors in part b__.\n",
        "\n",
        "__Use the equation with both 'x' and 'carat' to predict the price for 5 new diamonds.__ To do so, you need to do the following:"
      ],
      "metadata": {
        "id": "djmTCRLMf_qc"
      },
      "id": "djmTCRLMf_qc"
    },
    {
      "cell_type": "markdown",
      "source": [
        "* Obtain the equation with these two predictors _using the training data_."
      ],
      "metadata": {
        "id": "nzeoTfr2Cup3"
      },
      "id": "nzeoTfr2Cup3"
    },
    {
      "cell_type": "code",
      "source": [
        "# Train the Linear Regression model with 'carat' and 'x'\n",
        "\n",
        "\n",
        "# Extract coefficients and intercept\n",
        "coefficients = model_carat_x.coef_\n",
        "intercept = model_carat_x.intercept_\n",
        "\n",
        "# Print the equation of the model\n",
        "print(f\"Equation: y = {intercept:.4f} + {coefficients[0]:.4f}*carat + {coefficients[1]:.4f}*x\")\n"
      ],
      "metadata": {
        "colab": {
          "base_uri": "https://localhost:8080/"
        },
        "id": "NQGiGWhuXeZo",
        "outputId": "6cc212fe-b68d-4ae0-ff0a-f953cde4ebd3"
      },
      "id": "NQGiGWhuXeZo",
      "execution_count": 24,
      "outputs": [
        {
          "output_type": "stream",
          "name": "stdout",
          "text": [
            "Equation: y = 1737.9497 + 10125.9877*carat + -1026.8569*x\n"
          ]
        }
      ]
    },
    {
      "cell_type": "markdown",
      "source": [
        "- Create 5 values for each of the two predictors. You must create values for these predictors that make sense (i.e., within the range of the values taken by each variable) and explain why you selected these values."
      ],
      "metadata": {
        "id": "la-5Ub_MXuXw"
      },
      "id": "la-5Ub_MXuXw"
    },
    {
      "cell_type": "code",
      "source": [
        "print(diamonds_df[['carat', 'x']].describe())\n"
      ],
      "metadata": {
        "colab": {
          "base_uri": "https://localhost:8080/"
        },
        "id": "dXqyHdRaimyc",
        "outputId": "dd677248-e666-4977-d8b5-598c18a3b524"
      },
      "id": "dXqyHdRaimyc",
      "execution_count": 27,
      "outputs": [
        {
          "output_type": "stream",
          "name": "stdout",
          "text": [
            "              carat             x\n",
            "count  53940.000000  53940.000000\n",
            "mean       0.797940      5.731157\n",
            "std        0.474011      1.121761\n",
            "min        0.200000      0.000000\n",
            "25%        0.400000      4.710000\n",
            "50%        0.700000      5.700000\n",
            "75%        1.040000      6.540000\n",
            "max        5.010000     10.740000\n"
          ]
        }
      ]
    },
    {
      "cell_type": "code",
      "source": [
        "# New values for 'carat', 'x', and placeholder for 'y'\n",
        "new_values = pd.DataFrame({\n",
        "    'carat': [0.5, 0.8, 1.0, 1.5, 2.0],  # New carat values\n",
        "    'x': [4.5, 5.0, 5.5, 6.0, 6.5],      # New x values\n",
        "    'y': [None, None, None, None, None]  # Placeholder for target variable if not available\n",
        "})\n",
        "\n",
        "\n",
        "# Concatenate the existing DataFrame with the new values\n",
        "New_diamonds_df = pd.concat([diamonds_df, new_values], ignore_index=True)\n",
        "\n",
        "# Print the updated DataFrame\n",
        "print(New_diamonds_df)\n"
      ],
      "metadata": {
        "colab": {
          "base_uri": "https://localhost:8080/"
        },
        "id": "QRDMeyPVhAMD",
        "outputId": "75be64aa-96f1-4f25-ab7a-f5287016d79d"
      },
      "id": "QRDMeyPVhAMD",
      "execution_count": 26,
      "outputs": [
        {
          "output_type": "stream",
          "name": "stdout",
          "text": [
            "       carat  depth  table  price     x     y     z\n",
            "0       0.23   61.5   55.0  326.0  3.95  3.98  2.43\n",
            "1       0.21   59.8   61.0  326.0  3.89  3.84  2.31\n",
            "2       0.23   56.9   65.0  327.0  4.05  4.07  2.31\n",
            "3       0.29   62.4   58.0  334.0  4.20  4.23  2.63\n",
            "4       0.31   63.3   58.0  335.0  4.34  4.35  2.75\n",
            "...      ...    ...    ...    ...   ...   ...   ...\n",
            "53940   0.50    NaN    NaN    NaN  4.50   NaN   NaN\n",
            "53941   0.80    NaN    NaN    NaN  5.00   NaN   NaN\n",
            "53942   1.00    NaN    NaN    NaN  5.50   NaN   NaN\n",
            "53943   1.50    NaN    NaN    NaN  6.00   NaN   NaN\n",
            "53944   2.00    NaN    NaN    NaN  6.50   NaN   NaN\n",
            "\n",
            "[53945 rows x 7 columns]\n"
          ]
        },
        {
          "output_type": "stream",
          "name": "stderr",
          "text": [
            "<ipython-input-26-aeebd93e82f3>:10: FutureWarning: The behavior of DataFrame concatenation with empty or all-NA entries is deprecated. In a future version, this will no longer exclude empty or all-NA columns when determining the result dtypes. To retain the old behavior, exclude the relevant entries before the concat operation.\n",
            "  New_diamonds_df = pd.concat([diamonds_df, new_values], ignore_index=True)\n"
          ]
        }
      ]
    },
    {
      "cell_type": "markdown",
      "source": [
        "We used the `describe()` function to select values that represent diamonds across a range of common sizes in the data. This helps ensure the model can make predictions for smaller, average, and slightly larger diamonds while keeping the values realistic. By focusing on key percentiles like the 25th, 50th, and 75th, we aimed to cover a balanced spread of the data and reflect what’s typical for the dataset."
      ],
      "metadata": {
        "id": "oOOQIvYsjLRC"
      },
      "id": "oOOQIvYsjLRC"
    },
    {
      "cell_type": "markdown",
      "source": [
        "* Use the values you created and the equation to predict the price for these 5 new diamonds."
      ],
      "metadata": {
        "id": "CjqAWsA9C5L2"
      },
      "id": "CjqAWsA9C5L2"
    },
    {
      "cell_type": "code",
      "source": [
        "# Coefficients and intercept from the model\n",
        "intercept = 1737.9497\n",
        "coefficients = [10125.9877, -1026.8569]  # [carat coefficient, x coefficient]\n",
        "\n",
        "# New values for 'carat' and 'x'\n",
        "new_carat_values = [0.5, 0.8, 1.0, 1.5, 2.0]\n",
        "new_x_values = [4.5, 5.0, 5.5, 6.0, 6.5]\n",
        "\n",
        "# Calculate predictions using the equation\n",
        "predicted_prices = [\n",
        "    intercept + coefficients[0] * carat + coefficients[1] * x\n",
        "    for carat, x in zip(new_carat_values, new_x_values)\n",
        "]\n",
        "\n",
        "# Display the predictions\n",
        "for i, price in enumerate(predicted_prices):\n",
        "    print(f\"Diamond {i + 1}: Predicted Price = ${price:.2f}\")\n"
      ],
      "metadata": {
        "colab": {
          "base_uri": "https://localhost:8080/"
        },
        "id": "rQ4afLOvlm0y",
        "outputId": "c2766557-3a05-4279-de11-e27b3560aba5"
      },
      "id": "rQ4afLOvlm0y",
      "execution_count": 29,
      "outputs": [
        {
          "output_type": "stream",
          "name": "stdout",
          "text": [
            "Diamond 1: Predicted Price = $2180.09\n",
            "Diamond 2: Predicted Price = $4704.46\n",
            "Diamond 3: Predicted Price = $6216.22\n",
            "Diamond 4: Predicted Price = $10765.79\n",
            "Diamond 5: Predicted Price = $15315.36\n"
          ]
        }
      ]
    },
    {
      "cell_type": "markdown",
      "source": [
        "---"
      ],
      "metadata": {
        "id": "wvy_c6YtHMtw"
      },
      "id": "wvy_c6YtHMtw"
    },
    {
      "cell_type": "markdown",
      "source": [
        "# Question 3: Reading question (10 points)"
      ],
      "metadata": {
        "id": "WDvRby3r0IZF"
      },
      "id": "WDvRby3r0IZF"
    },
    {
      "cell_type": "markdown",
      "source": [
        "From section 3.3.3 of the book, read the ideas discussed on the fourth bullet point (Outliers).\n",
        "\n",
        "The last paragraph ends with this fragment:\n",
        "\n",
        "\"_However, care should be taken, since an outlier may instead indicate a\n",
        "deficiency with the model, such as a missing predictor._\"\n",
        "\n",
        "__Answer two questions about this fragment (the questions are about this SPECIFIC FRAGMENT!)__:\n",
        "\n",
        "What do they mean when they say that an outlier may indicate a missing predictor?\n",
        "\n",
        "***Outliers are data points where the actual value is way off from what the model predicts. When this happens, it might not just be a random fluke or an error in the data—it could be the model itself that’s incomplete. The model might be missing an important factor (or predictor) that explains why the outlier doesn’t fit.***\n",
        "\n",
        "How  can you detect this \" possible\" missing predictors?\n",
        "\n",
        "1. **Residual Patterns:** Analyze the residuals (the differences between actual and predicted values). If there’s a pattern in the residuals—like they increase or decrease systematically—it suggests the model is missing an important predictor.\n",
        "\n",
        "2. **Correlation with Residuals:** Check if the residuals are correlated with variables not included in the model. A strong correlation indicates that variable might explain the variation in the outliers.\n",
        "\n",
        "3. **Domain Knowledge:** Think about the problem context. Ask yourself if there are logical factors affecting the outcome that the model doesn’t yet include. For example, clarity and cut are critical for diamond prices.\n",
        "\n",
        "4. **Investigate Outliers:** Look at the characteristics of the outliers. If they share something in common (e.g., high clarity or unique dimensions), that feature might be the missing predictor.\n",
        "\n",
        "5. **Iterative Testing:** Add suspected predictors to the model and check if they reduce residual errors, improve \\(R^2\\), or lower metrics like RSE\n"
      ],
      "metadata": {
        "id": "g8F16onyz6Mm"
      },
      "id": "g8F16onyz6Mm"
    }
  ],
  "metadata": {
    "kernelspec": {
      "display_name": "Python 3 (ipykernel)",
      "language": "python",
      "name": "python3"
    },
    "language_info": {
      "codemirror_mode": {
        "name": "ipython",
        "version": 3
      },
      "file_extension": ".py",
      "mimetype": "text/x-python",
      "name": "python",
      "nbconvert_exporter": "python",
      "pygments_lexer": "ipython3",
      "version": "3.9.13"
    },
    "colab": {
      "provenance": [],
      "toc_visible": true,
      "include_colab_link": true
    }
  },
  "nbformat": 4,
  "nbformat_minor": 5
}