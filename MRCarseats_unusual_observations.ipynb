{
  "cells": [
    {
      "cell_type": "markdown",
      "metadata": {
        "id": "view-in-github",
        "colab_type": "text"
      },
      "source": [
        "<a href=\"https://colab.research.google.com/github/Requenamar3/Machine-Learning/blob/main/MRCarseats_unusual_observations.ipynb\" target=\"_parent\"><img src=\"https://colab.research.google.com/assets/colab-badge.svg\" alt=\"Open In Colab\"/></a>"
      ]
    },
    {
      "cell_type": "code",
      "execution_count": 23,
      "id": "be3cc503",
      "metadata": {
        "id": "be3cc503"
      },
      "outputs": [],
      "source": [
        "import numpy as np\n",
        "import pandas as pd\n",
        "import matplotlib.pyplot as plt\n",
        "\n",
        "from sklearn.linear_model import LinearRegression\n",
        "\n",
        "from sklearn.preprocessing import PolynomialFeatures, StandardScaler\n",
        "from sklearn.pipeline import Pipeline\n",
        "\n",
        "from sklearn.model_selection import train_test_split, cross_val_score, KFold\n",
        "from sklearn.metrics import mean_squared_error, root_mean_squared_error, r2_score"
      ]
    },
    {
      "cell_type": "code",
      "source": [
        "def rse_calculator (y_actual, y_predicted, p):\n",
        "\n",
        "  rse_value = np.sqrt ( np.sum((y_actual - y_predicted)**2) / (y_actual.size - p -1) )\n",
        "\n",
        "  return np.round (rse_value, 4)"
      ],
      "metadata": {
        "id": "YlVht2RRjBtu"
      },
      "id": "YlVht2RRjBtu",
      "execution_count": 24,
      "outputs": []
    },
    {
      "cell_type": "code",
      "source": [
        "def adj_r2_calculator (r2_value, n, p):\n",
        "\n",
        "  adj_r2_value = 1 - (1- r2_value) * ( (n - 1) / (n - p - 1) )\n",
        "\n",
        "  return np.round (adj_r2_value, 4)"
      ],
      "metadata": {
        "id": "aE9OWGHMjKB5"
      },
      "id": "aE9OWGHMjKB5",
      "execution_count": 25,
      "outputs": []
    },
    {
      "cell_type": "code",
      "source": [
        "url= \"https://raw.githubusercontent.com/Requenamar3/Machine-Learning/refs/heads/main/Carseats.csv\"\n",
        "carseats_df = pd.read_csv(url)"
      ],
      "metadata": {
        "id": "evWE_MGY4a87"
      },
      "id": "evWE_MGY4a87",
      "execution_count": 26,
      "outputs": []
    },
    {
      "cell_type": "markdown",
      "source": [
        "There are three types of unusual observations/cases: outliers, extreme cases, and influential cases.\n",
        "\n",
        "* Outliers are observations with either an unusually small or large value for the outcome variable.\n",
        "\n",
        "* Extreme cases are observations whose values for one predictor are either very small or very large compared to the other observations. In a multiple linear regression analysis, it is more accurate to describe an extreme point as an observation whose value in the m-dimensional predictor space (assuming we have m predictors) is either very small or very large relative to the other observations.\n",
        "\n",
        "* An influential case is either an outlier or an extreme point whose inclusion will substantially alter the coefficient estimations or the predicted values (or both)."
      ],
      "metadata": {
        "id": "V-BmXDxCClY-"
      },
      "id": "V-BmXDxCClY-"
    },
    {
      "cell_type": "markdown",
      "source": [
        "The end goal should be to detect the influential observations (which again, could be either outliers, extreme cases, or both)."
      ],
      "metadata": {
        "id": "NKswBcpGn6PQ"
      },
      "id": "NKswBcpGn6PQ"
    },
    {
      "cell_type": "markdown",
      "source": [
        "According to Ronald Hocking in \"Methods and Applications of Linear Models\":\n",
        "\n",
        "\"Experience indicates that using the __Studentized residuals__ to detect outliers, the __diagonal elements of [the] H [matrix]__ to detect extreme points, and __Cook’s distance__ as a general measure of influence should be adequate.\" (Hockings, chapter 6, page 196)."
      ],
      "metadata": {
        "id": "Wn6kBoAnpSPY"
      },
      "id": "Wn6kBoAnpSPY"
    },
    {
      "cell_type": "markdown",
      "source": [
        "In this notebook, we will only focus on outliers and influential cases. But we will NOT use the well-accepted methods mentioned above. We will use simpler methods to detect both outliers and influential cases."
      ],
      "metadata": {
        "id": "XwxhTKNtp2-a"
      },
      "id": "XwxhTKNtp2-a"
    },
    {
      "cell_type": "markdown",
      "source": [
        "<br>\n",
        "\n",
        "Run the following command to __import the three functions__ defined in the __'BSS_definitions.ipynb'__ notebook.\n",
        "\n",
        "Note: The __'BSS_definitions.ipynb'__ notebook does NOT have to be open for us to import their content. Keep it close."
      ],
      "metadata": {
        "id": "yKgulH9U4eJ5"
      },
      "id": "yKgulH9U4eJ5"
    },
    {
      "cell_type": "code",
      "source": [
        "%run \"/content/sample_data/bss_definitions.py\""
      ],
      "metadata": {
        "id": "_TQfpyqf4kTW"
      },
      "id": "_TQfpyqf4kTW",
      "execution_count": 27,
      "outputs": []
    },
    {
      "cell_type": "markdown",
      "source": [
        "### The Carseats dataset"
      ],
      "metadata": {
        "id": "nOunKagXC_t1"
      },
      "id": "nOunKagXC_t1"
    },
    {
      "cell_type": "markdown",
      "source": [
        "The outcome variable is Sales: unit sales (in thousands) at each location.\n",
        "\n"
      ],
      "metadata": {
        "id": "WFg3ph9yDPPv"
      },
      "id": "WFg3ph9yDPPv"
    },
    {
      "cell_type": "code",
      "source": [
        "carseats_data_path = \"/content/drive/MyDrive/CAP 4631C/Datasets_CAP4631C/Carseats.csv\""
      ],
      "metadata": {
        "id": "ZmXGY1-VDXNN"
      },
      "id": "ZmXGY1-VDXNN",
      "execution_count": 28,
      "outputs": []
    },
    {
      "cell_type": "code",
      "source": [
        "carseats_df.info()"
      ],
      "metadata": {
        "colab": {
          "base_uri": "https://localhost:8080/"
        },
        "id": "oa1Ck-e7Dc8_",
        "outputId": "125a3a33-986f-49e5-8d58-f124da957f20"
      },
      "id": "oa1Ck-e7Dc8_",
      "execution_count": 29,
      "outputs": [
        {
          "output_type": "stream",
          "name": "stdout",
          "text": [
            "<class 'pandas.core.frame.DataFrame'>\n",
            "RangeIndex: 400 entries, 0 to 399\n",
            "Data columns (total 11 columns):\n",
            " #   Column       Non-Null Count  Dtype  \n",
            "---  ------       --------------  -----  \n",
            " 0   Sales        400 non-null    float64\n",
            " 1   CompPrice    400 non-null    int64  \n",
            " 2   Income       400 non-null    int64  \n",
            " 3   Advertising  400 non-null    int64  \n",
            " 4   Population   400 non-null    int64  \n",
            " 5   Price        400 non-null    int64  \n",
            " 6   ShelveLoc    400 non-null    object \n",
            " 7   Age          400 non-null    int64  \n",
            " 8   Education    400 non-null    int64  \n",
            " 9   Urban        400 non-null    object \n",
            " 10  US           400 non-null    object \n",
            "dtypes: float64(1), int64(7), object(3)\n",
            "memory usage: 34.5+ KB\n"
          ]
        }
      ]
    },
    {
      "cell_type": "markdown",
      "source": [
        "There are three qualitative predictors. Let's convert them into dummies."
      ],
      "metadata": {
        "id": "-DytfHhvDcFB"
      },
      "id": "-DytfHhvDcFB"
    },
    {
      "cell_type": "code",
      "source": [
        "carseats_df_dummies = pd.get_dummies (carseats_df,columns= ['ShelveLoc','Urban','US'], drop_first = True)"
      ],
      "metadata": {
        "id": "cJOQwn4cEA7G"
      },
      "id": "cJOQwn4cEA7G",
      "execution_count": 30,
      "outputs": []
    },
    {
      "cell_type": "code",
      "source": [
        "carseats_df_dummies.info()"
      ],
      "metadata": {
        "colab": {
          "base_uri": "https://localhost:8080/"
        },
        "id": "nw-8Odx1EUmd",
        "outputId": "37e92288-fc0e-43d1-a585-de7a3952d72f"
      },
      "id": "nw-8Odx1EUmd",
      "execution_count": 31,
      "outputs": [
        {
          "output_type": "stream",
          "name": "stdout",
          "text": [
            "<class 'pandas.core.frame.DataFrame'>\n",
            "RangeIndex: 400 entries, 0 to 399\n",
            "Data columns (total 12 columns):\n",
            " #   Column            Non-Null Count  Dtype  \n",
            "---  ------            --------------  -----  \n",
            " 0   Sales             400 non-null    float64\n",
            " 1   CompPrice         400 non-null    int64  \n",
            " 2   Income            400 non-null    int64  \n",
            " 3   Advertising       400 non-null    int64  \n",
            " 4   Population        400 non-null    int64  \n",
            " 5   Price             400 non-null    int64  \n",
            " 6   Age               400 non-null    int64  \n",
            " 7   Education         400 non-null    int64  \n",
            " 8   ShelveLoc_Good    400 non-null    bool   \n",
            " 9   ShelveLoc_Medium  400 non-null    bool   \n",
            " 10  Urban_Yes         400 non-null    bool   \n",
            " 11  US_Yes            400 non-null    bool   \n",
            "dtypes: bool(4), float64(1), int64(7)\n",
            "memory usage: 26.7 KB\n"
          ]
        }
      ]
    },
    {
      "cell_type": "markdown",
      "source": [
        "### Univariate outliers?\n",
        "\n",
        "Reminder: Outliers are relative to the outcome variable."
      ],
      "metadata": {
        "id": "7Lwtd4CpG__a"
      },
      "id": "7Lwtd4CpG__a"
    },
    {
      "cell_type": "code",
      "source": [
        "carseats_df_dummies['Sales'].describe()"
      ],
      "metadata": {
        "colab": {
          "base_uri": "https://localhost:8080/",
          "height": 335
        },
        "id": "b13J_SX0GO91",
        "outputId": "ba51c615-b1d1-4bc7-cbfa-206b6caeb78b"
      },
      "id": "b13J_SX0GO91",
      "execution_count": 32,
      "outputs": [
        {
          "output_type": "execute_result",
          "data": {
            "text/plain": [
              "count    400.000000\n",
              "mean       7.496325\n",
              "std        2.824115\n",
              "min        0.000000\n",
              "25%        5.390000\n",
              "50%        7.490000\n",
              "75%        9.320000\n",
              "max       16.270000\n",
              "Name: Sales, dtype: float64"
            ],
            "text/html": [
              "<div>\n",
              "<style scoped>\n",
              "    .dataframe tbody tr th:only-of-type {\n",
              "        vertical-align: middle;\n",
              "    }\n",
              "\n",
              "    .dataframe tbody tr th {\n",
              "        vertical-align: top;\n",
              "    }\n",
              "\n",
              "    .dataframe thead th {\n",
              "        text-align: right;\n",
              "    }\n",
              "</style>\n",
              "<table border=\"1\" class=\"dataframe\">\n",
              "  <thead>\n",
              "    <tr style=\"text-align: right;\">\n",
              "      <th></th>\n",
              "      <th>Sales</th>\n",
              "    </tr>\n",
              "  </thead>\n",
              "  <tbody>\n",
              "    <tr>\n",
              "      <th>count</th>\n",
              "      <td>400.000000</td>\n",
              "    </tr>\n",
              "    <tr>\n",
              "      <th>mean</th>\n",
              "      <td>7.496325</td>\n",
              "    </tr>\n",
              "    <tr>\n",
              "      <th>std</th>\n",
              "      <td>2.824115</td>\n",
              "    </tr>\n",
              "    <tr>\n",
              "      <th>min</th>\n",
              "      <td>0.000000</td>\n",
              "    </tr>\n",
              "    <tr>\n",
              "      <th>25%</th>\n",
              "      <td>5.390000</td>\n",
              "    </tr>\n",
              "    <tr>\n",
              "      <th>50%</th>\n",
              "      <td>7.490000</td>\n",
              "    </tr>\n",
              "    <tr>\n",
              "      <th>75%</th>\n",
              "      <td>9.320000</td>\n",
              "    </tr>\n",
              "    <tr>\n",
              "      <th>max</th>\n",
              "      <td>16.270000</td>\n",
              "    </tr>\n",
              "  </tbody>\n",
              "</table>\n",
              "</div><br><label><b>dtype:</b> float64</label>"
            ]
          },
          "metadata": {},
          "execution_count": 32
        }
      ]
    },
    {
      "cell_type": "code",
      "source": [
        "# What's the location with no sales?\n",
        "\n",
        "carseats_df_dummies[carseats_df_dummies['Sales']==0]"
      ],
      "metadata": {
        "colab": {
          "base_uri": "https://localhost:8080/",
          "height": 81
        },
        "id": "7Jc8UkVyOMfd",
        "outputId": "44dcdba4-15e8-4aee-8bfb-47160d625ef6"
      },
      "id": "7Jc8UkVyOMfd",
      "execution_count": 33,
      "outputs": [
        {
          "output_type": "execute_result",
          "data": {
            "text/plain": [
              "     Sales  CompPrice  Income  Advertising  Population  Price  Age  Education  \\\n",
              "174    0.0        139      24            0         358    185   79         15   \n",
              "\n",
              "     ShelveLoc_Good  ShelveLoc_Medium  Urban_Yes  US_Yes  \n",
              "174           False              True      False   False  "
            ],
            "text/html": [
              "\n",
              "  <div id=\"df-3d4c9f3b-ce7a-45af-8db7-1cf374cc9c29\" class=\"colab-df-container\">\n",
              "    <div>\n",
              "<style scoped>\n",
              "    .dataframe tbody tr th:only-of-type {\n",
              "        vertical-align: middle;\n",
              "    }\n",
              "\n",
              "    .dataframe tbody tr th {\n",
              "        vertical-align: top;\n",
              "    }\n",
              "\n",
              "    .dataframe thead th {\n",
              "        text-align: right;\n",
              "    }\n",
              "</style>\n",
              "<table border=\"1\" class=\"dataframe\">\n",
              "  <thead>\n",
              "    <tr style=\"text-align: right;\">\n",
              "      <th></th>\n",
              "      <th>Sales</th>\n",
              "      <th>CompPrice</th>\n",
              "      <th>Income</th>\n",
              "      <th>Advertising</th>\n",
              "      <th>Population</th>\n",
              "      <th>Price</th>\n",
              "      <th>Age</th>\n",
              "      <th>Education</th>\n",
              "      <th>ShelveLoc_Good</th>\n",
              "      <th>ShelveLoc_Medium</th>\n",
              "      <th>Urban_Yes</th>\n",
              "      <th>US_Yes</th>\n",
              "    </tr>\n",
              "  </thead>\n",
              "  <tbody>\n",
              "    <tr>\n",
              "      <th>174</th>\n",
              "      <td>0.0</td>\n",
              "      <td>139</td>\n",
              "      <td>24</td>\n",
              "      <td>0</td>\n",
              "      <td>358</td>\n",
              "      <td>185</td>\n",
              "      <td>79</td>\n",
              "      <td>15</td>\n",
              "      <td>False</td>\n",
              "      <td>True</td>\n",
              "      <td>False</td>\n",
              "      <td>False</td>\n",
              "    </tr>\n",
              "  </tbody>\n",
              "</table>\n",
              "</div>\n",
              "    <div class=\"colab-df-buttons\">\n",
              "\n",
              "  <div class=\"colab-df-container\">\n",
              "    <button class=\"colab-df-convert\" onclick=\"convertToInteractive('df-3d4c9f3b-ce7a-45af-8db7-1cf374cc9c29')\"\n",
              "            title=\"Convert this dataframe to an interactive table.\"\n",
              "            style=\"display:none;\">\n",
              "\n",
              "  <svg xmlns=\"http://www.w3.org/2000/svg\" height=\"24px\" viewBox=\"0 -960 960 960\">\n",
              "    <path d=\"M120-120v-720h720v720H120Zm60-500h600v-160H180v160Zm220 220h160v-160H400v160Zm0 220h160v-160H400v160ZM180-400h160v-160H180v160Zm440 0h160v-160H620v160ZM180-180h160v-160H180v160Zm440 0h160v-160H620v160Z\"/>\n",
              "  </svg>\n",
              "    </button>\n",
              "\n",
              "  <style>\n",
              "    .colab-df-container {\n",
              "      display:flex;\n",
              "      gap: 12px;\n",
              "    }\n",
              "\n",
              "    .colab-df-convert {\n",
              "      background-color: #E8F0FE;\n",
              "      border: none;\n",
              "      border-radius: 50%;\n",
              "      cursor: pointer;\n",
              "      display: none;\n",
              "      fill: #1967D2;\n",
              "      height: 32px;\n",
              "      padding: 0 0 0 0;\n",
              "      width: 32px;\n",
              "    }\n",
              "\n",
              "    .colab-df-convert:hover {\n",
              "      background-color: #E2EBFA;\n",
              "      box-shadow: 0px 1px 2px rgba(60, 64, 67, 0.3), 0px 1px 3px 1px rgba(60, 64, 67, 0.15);\n",
              "      fill: #174EA6;\n",
              "    }\n",
              "\n",
              "    .colab-df-buttons div {\n",
              "      margin-bottom: 4px;\n",
              "    }\n",
              "\n",
              "    [theme=dark] .colab-df-convert {\n",
              "      background-color: #3B4455;\n",
              "      fill: #D2E3FC;\n",
              "    }\n",
              "\n",
              "    [theme=dark] .colab-df-convert:hover {\n",
              "      background-color: #434B5C;\n",
              "      box-shadow: 0px 1px 3px 1px rgba(0, 0, 0, 0.15);\n",
              "      filter: drop-shadow(0px 1px 2px rgba(0, 0, 0, 0.3));\n",
              "      fill: #FFFFFF;\n",
              "    }\n",
              "  </style>\n",
              "\n",
              "    <script>\n",
              "      const buttonEl =\n",
              "        document.querySelector('#df-3d4c9f3b-ce7a-45af-8db7-1cf374cc9c29 button.colab-df-convert');\n",
              "      buttonEl.style.display =\n",
              "        google.colab.kernel.accessAllowed ? 'block' : 'none';\n",
              "\n",
              "      async function convertToInteractive(key) {\n",
              "        const element = document.querySelector('#df-3d4c9f3b-ce7a-45af-8db7-1cf374cc9c29');\n",
              "        const dataTable =\n",
              "          await google.colab.kernel.invokeFunction('convertToInteractive',\n",
              "                                                    [key], {});\n",
              "        if (!dataTable) return;\n",
              "\n",
              "        const docLinkHtml = 'Like what you see? Visit the ' +\n",
              "          '<a target=\"_blank\" href=https://colab.research.google.com/notebooks/data_table.ipynb>data table notebook</a>'\n",
              "          + ' to learn more about interactive tables.';\n",
              "        element.innerHTML = '';\n",
              "        dataTable['output_type'] = 'display_data';\n",
              "        await google.colab.output.renderOutput(dataTable, element);\n",
              "        const docLink = document.createElement('div');\n",
              "        docLink.innerHTML = docLinkHtml;\n",
              "        element.appendChild(docLink);\n",
              "      }\n",
              "    </script>\n",
              "  </div>\n",
              "\n",
              "\n",
              "    </div>\n",
              "  </div>\n"
            ],
            "application/vnd.google.colaboratory.intrinsic+json": {
              "type": "dataframe",
              "summary": "{\n  \"name\": \"carseats_df_dummies[carseats_df_dummies['Sales']==0]\",\n  \"rows\": 1,\n  \"fields\": [\n    {\n      \"column\": \"Sales\",\n      \"properties\": {\n        \"dtype\": \"number\",\n        \"std\": null,\n        \"min\": 0.0,\n        \"max\": 0.0,\n        \"num_unique_values\": 1,\n        \"samples\": [\n          0.0\n        ],\n        \"semantic_type\": \"\",\n        \"description\": \"\"\n      }\n    },\n    {\n      \"column\": \"CompPrice\",\n      \"properties\": {\n        \"dtype\": \"number\",\n        \"std\": null,\n        \"min\": 139,\n        \"max\": 139,\n        \"num_unique_values\": 1,\n        \"samples\": [\n          139\n        ],\n        \"semantic_type\": \"\",\n        \"description\": \"\"\n      }\n    },\n    {\n      \"column\": \"Income\",\n      \"properties\": {\n        \"dtype\": \"number\",\n        \"std\": null,\n        \"min\": 24,\n        \"max\": 24,\n        \"num_unique_values\": 1,\n        \"samples\": [\n          24\n        ],\n        \"semantic_type\": \"\",\n        \"description\": \"\"\n      }\n    },\n    {\n      \"column\": \"Advertising\",\n      \"properties\": {\n        \"dtype\": \"number\",\n        \"std\": null,\n        \"min\": 0,\n        \"max\": 0,\n        \"num_unique_values\": 1,\n        \"samples\": [\n          0\n        ],\n        \"semantic_type\": \"\",\n        \"description\": \"\"\n      }\n    },\n    {\n      \"column\": \"Population\",\n      \"properties\": {\n        \"dtype\": \"number\",\n        \"std\": null,\n        \"min\": 358,\n        \"max\": 358,\n        \"num_unique_values\": 1,\n        \"samples\": [\n          358\n        ],\n        \"semantic_type\": \"\",\n        \"description\": \"\"\n      }\n    },\n    {\n      \"column\": \"Price\",\n      \"properties\": {\n        \"dtype\": \"number\",\n        \"std\": null,\n        \"min\": 185,\n        \"max\": 185,\n        \"num_unique_values\": 1,\n        \"samples\": [\n          185\n        ],\n        \"semantic_type\": \"\",\n        \"description\": \"\"\n      }\n    },\n    {\n      \"column\": \"Age\",\n      \"properties\": {\n        \"dtype\": \"number\",\n        \"std\": null,\n        \"min\": 79,\n        \"max\": 79,\n        \"num_unique_values\": 1,\n        \"samples\": [\n          79\n        ],\n        \"semantic_type\": \"\",\n        \"description\": \"\"\n      }\n    },\n    {\n      \"column\": \"Education\",\n      \"properties\": {\n        \"dtype\": \"number\",\n        \"std\": null,\n        \"min\": 15,\n        \"max\": 15,\n        \"num_unique_values\": 1,\n        \"samples\": [\n          15\n        ],\n        \"semantic_type\": \"\",\n        \"description\": \"\"\n      }\n    },\n    {\n      \"column\": \"ShelveLoc_Good\",\n      \"properties\": {\n        \"dtype\": \"boolean\",\n        \"num_unique_values\": 1,\n        \"samples\": [\n          false\n        ],\n        \"semantic_type\": \"\",\n        \"description\": \"\"\n      }\n    },\n    {\n      \"column\": \"ShelveLoc_Medium\",\n      \"properties\": {\n        \"dtype\": \"boolean\",\n        \"num_unique_values\": 1,\n        \"samples\": [\n          true\n        ],\n        \"semantic_type\": \"\",\n        \"description\": \"\"\n      }\n    },\n    {\n      \"column\": \"Urban_Yes\",\n      \"properties\": {\n        \"dtype\": \"boolean\",\n        \"num_unique_values\": 1,\n        \"samples\": [\n          false\n        ],\n        \"semantic_type\": \"\",\n        \"description\": \"\"\n      }\n    },\n    {\n      \"column\": \"US_Yes\",\n      \"properties\": {\n        \"dtype\": \"boolean\",\n        \"num_unique_values\": 1,\n        \"samples\": [\n          false\n        ],\n        \"semantic_type\": \"\",\n        \"description\": \"\"\n      }\n    }\n  ]\n}"
            }
          },
          "metadata": {},
          "execution_count": 33
        }
      ]
    },
    {
      "cell_type": "code",
      "source": [
        "# Ten lowest sales\n",
        "\n",
        "carseats_df_dummies.sort_values (by='Sales').head(10)"
      ],
      "metadata": {
        "id": "lc1CQNZJOMcz",
        "colab": {
          "base_uri": "https://localhost:8080/",
          "height": 363
        },
        "outputId": "48660ac9-58ce-4d14-a534-2a61dcaca888"
      },
      "id": "lc1CQNZJOMcz",
      "execution_count": 34,
      "outputs": [
        {
          "output_type": "execute_result",
          "data": {
            "text/plain": [
              "     Sales  CompPrice  Income  Advertising  Population  Price  Age  Education  \\\n",
              "174   0.00        139      24            0         358    185   79         15   \n",
              "106   0.16        102      33            0         217    139   70         18   \n",
              "165   0.37        147      58            7         100    191   27         15   \n",
              "143   0.53        122      88            7          36    159   28         17   \n",
              "57    0.91         93      91            0          22    117   75         11   \n",
              "50    1.42         99      32           18         341    108   80         16   \n",
              "62    1.82        139      45            0         146    133   77         17   \n",
              "203   2.05        131      82            0         132    157   25         14   \n",
              "40    2.07        119      98            0          18    126   73         17   \n",
              "84    2.23        111      25            0          52    121   43         18   \n",
              "\n",
              "     ShelveLoc_Good  ShelveLoc_Medium  Urban_Yes  US_Yes  \n",
              "174           False              True      False   False  \n",
              "106           False              True      False   False  \n",
              "165           False             False       True    True  \n",
              "143           False             False       True    True  \n",
              "57            False             False       True   False  \n",
              "50            False             False       True    True  \n",
              "62            False             False       True    True  \n",
              "203           False             False       True   False  \n",
              "40            False             False      False   False  \n",
              "84            False             False      False   False  "
            ],
            "text/html": [
              "\n",
              "  <div id=\"df-7398e3f6-fb04-4dbd-a3a2-df2a76412552\" class=\"colab-df-container\">\n",
              "    <div>\n",
              "<style scoped>\n",
              "    .dataframe tbody tr th:only-of-type {\n",
              "        vertical-align: middle;\n",
              "    }\n",
              "\n",
              "    .dataframe tbody tr th {\n",
              "        vertical-align: top;\n",
              "    }\n",
              "\n",
              "    .dataframe thead th {\n",
              "        text-align: right;\n",
              "    }\n",
              "</style>\n",
              "<table border=\"1\" class=\"dataframe\">\n",
              "  <thead>\n",
              "    <tr style=\"text-align: right;\">\n",
              "      <th></th>\n",
              "      <th>Sales</th>\n",
              "      <th>CompPrice</th>\n",
              "      <th>Income</th>\n",
              "      <th>Advertising</th>\n",
              "      <th>Population</th>\n",
              "      <th>Price</th>\n",
              "      <th>Age</th>\n",
              "      <th>Education</th>\n",
              "      <th>ShelveLoc_Good</th>\n",
              "      <th>ShelveLoc_Medium</th>\n",
              "      <th>Urban_Yes</th>\n",
              "      <th>US_Yes</th>\n",
              "    </tr>\n",
              "  </thead>\n",
              "  <tbody>\n",
              "    <tr>\n",
              "      <th>174</th>\n",
              "      <td>0.00</td>\n",
              "      <td>139</td>\n",
              "      <td>24</td>\n",
              "      <td>0</td>\n",
              "      <td>358</td>\n",
              "      <td>185</td>\n",
              "      <td>79</td>\n",
              "      <td>15</td>\n",
              "      <td>False</td>\n",
              "      <td>True</td>\n",
              "      <td>False</td>\n",
              "      <td>False</td>\n",
              "    </tr>\n",
              "    <tr>\n",
              "      <th>106</th>\n",
              "      <td>0.16</td>\n",
              "      <td>102</td>\n",
              "      <td>33</td>\n",
              "      <td>0</td>\n",
              "      <td>217</td>\n",
              "      <td>139</td>\n",
              "      <td>70</td>\n",
              "      <td>18</td>\n",
              "      <td>False</td>\n",
              "      <td>True</td>\n",
              "      <td>False</td>\n",
              "      <td>False</td>\n",
              "    </tr>\n",
              "    <tr>\n",
              "      <th>165</th>\n",
              "      <td>0.37</td>\n",
              "      <td>147</td>\n",
              "      <td>58</td>\n",
              "      <td>7</td>\n",
              "      <td>100</td>\n",
              "      <td>191</td>\n",
              "      <td>27</td>\n",
              "      <td>15</td>\n",
              "      <td>False</td>\n",
              "      <td>False</td>\n",
              "      <td>True</td>\n",
              "      <td>True</td>\n",
              "    </tr>\n",
              "    <tr>\n",
              "      <th>143</th>\n",
              "      <td>0.53</td>\n",
              "      <td>122</td>\n",
              "      <td>88</td>\n",
              "      <td>7</td>\n",
              "      <td>36</td>\n",
              "      <td>159</td>\n",
              "      <td>28</td>\n",
              "      <td>17</td>\n",
              "      <td>False</td>\n",
              "      <td>False</td>\n",
              "      <td>True</td>\n",
              "      <td>True</td>\n",
              "    </tr>\n",
              "    <tr>\n",
              "      <th>57</th>\n",
              "      <td>0.91</td>\n",
              "      <td>93</td>\n",
              "      <td>91</td>\n",
              "      <td>0</td>\n",
              "      <td>22</td>\n",
              "      <td>117</td>\n",
              "      <td>75</td>\n",
              "      <td>11</td>\n",
              "      <td>False</td>\n",
              "      <td>False</td>\n",
              "      <td>True</td>\n",
              "      <td>False</td>\n",
              "    </tr>\n",
              "    <tr>\n",
              "      <th>50</th>\n",
              "      <td>1.42</td>\n",
              "      <td>99</td>\n",
              "      <td>32</td>\n",
              "      <td>18</td>\n",
              "      <td>341</td>\n",
              "      <td>108</td>\n",
              "      <td>80</td>\n",
              "      <td>16</td>\n",
              "      <td>False</td>\n",
              "      <td>False</td>\n",
              "      <td>True</td>\n",
              "      <td>True</td>\n",
              "    </tr>\n",
              "    <tr>\n",
              "      <th>62</th>\n",
              "      <td>1.82</td>\n",
              "      <td>139</td>\n",
              "      <td>45</td>\n",
              "      <td>0</td>\n",
              "      <td>146</td>\n",
              "      <td>133</td>\n",
              "      <td>77</td>\n",
              "      <td>17</td>\n",
              "      <td>False</td>\n",
              "      <td>False</td>\n",
              "      <td>True</td>\n",
              "      <td>True</td>\n",
              "    </tr>\n",
              "    <tr>\n",
              "      <th>203</th>\n",
              "      <td>2.05</td>\n",
              "      <td>131</td>\n",
              "      <td>82</td>\n",
              "      <td>0</td>\n",
              "      <td>132</td>\n",
              "      <td>157</td>\n",
              "      <td>25</td>\n",
              "      <td>14</td>\n",
              "      <td>False</td>\n",
              "      <td>False</td>\n",
              "      <td>True</td>\n",
              "      <td>False</td>\n",
              "    </tr>\n",
              "    <tr>\n",
              "      <th>40</th>\n",
              "      <td>2.07</td>\n",
              "      <td>119</td>\n",
              "      <td>98</td>\n",
              "      <td>0</td>\n",
              "      <td>18</td>\n",
              "      <td>126</td>\n",
              "      <td>73</td>\n",
              "      <td>17</td>\n",
              "      <td>False</td>\n",
              "      <td>False</td>\n",
              "      <td>False</td>\n",
              "      <td>False</td>\n",
              "    </tr>\n",
              "    <tr>\n",
              "      <th>84</th>\n",
              "      <td>2.23</td>\n",
              "      <td>111</td>\n",
              "      <td>25</td>\n",
              "      <td>0</td>\n",
              "      <td>52</td>\n",
              "      <td>121</td>\n",
              "      <td>43</td>\n",
              "      <td>18</td>\n",
              "      <td>False</td>\n",
              "      <td>False</td>\n",
              "      <td>False</td>\n",
              "      <td>False</td>\n",
              "    </tr>\n",
              "  </tbody>\n",
              "</table>\n",
              "</div>\n",
              "    <div class=\"colab-df-buttons\">\n",
              "\n",
              "  <div class=\"colab-df-container\">\n",
              "    <button class=\"colab-df-convert\" onclick=\"convertToInteractive('df-7398e3f6-fb04-4dbd-a3a2-df2a76412552')\"\n",
              "            title=\"Convert this dataframe to an interactive table.\"\n",
              "            style=\"display:none;\">\n",
              "\n",
              "  <svg xmlns=\"http://www.w3.org/2000/svg\" height=\"24px\" viewBox=\"0 -960 960 960\">\n",
              "    <path d=\"M120-120v-720h720v720H120Zm60-500h600v-160H180v160Zm220 220h160v-160H400v160Zm0 220h160v-160H400v160ZM180-400h160v-160H180v160Zm440 0h160v-160H620v160ZM180-180h160v-160H180v160Zm440 0h160v-160H620v160Z\"/>\n",
              "  </svg>\n",
              "    </button>\n",
              "\n",
              "  <style>\n",
              "    .colab-df-container {\n",
              "      display:flex;\n",
              "      gap: 12px;\n",
              "    }\n",
              "\n",
              "    .colab-df-convert {\n",
              "      background-color: #E8F0FE;\n",
              "      border: none;\n",
              "      border-radius: 50%;\n",
              "      cursor: pointer;\n",
              "      display: none;\n",
              "      fill: #1967D2;\n",
              "      height: 32px;\n",
              "      padding: 0 0 0 0;\n",
              "      width: 32px;\n",
              "    }\n",
              "\n",
              "    .colab-df-convert:hover {\n",
              "      background-color: #E2EBFA;\n",
              "      box-shadow: 0px 1px 2px rgba(60, 64, 67, 0.3), 0px 1px 3px 1px rgba(60, 64, 67, 0.15);\n",
              "      fill: #174EA6;\n",
              "    }\n",
              "\n",
              "    .colab-df-buttons div {\n",
              "      margin-bottom: 4px;\n",
              "    }\n",
              "\n",
              "    [theme=dark] .colab-df-convert {\n",
              "      background-color: #3B4455;\n",
              "      fill: #D2E3FC;\n",
              "    }\n",
              "\n",
              "    [theme=dark] .colab-df-convert:hover {\n",
              "      background-color: #434B5C;\n",
              "      box-shadow: 0px 1px 3px 1px rgba(0, 0, 0, 0.15);\n",
              "      filter: drop-shadow(0px 1px 2px rgba(0, 0, 0, 0.3));\n",
              "      fill: #FFFFFF;\n",
              "    }\n",
              "  </style>\n",
              "\n",
              "    <script>\n",
              "      const buttonEl =\n",
              "        document.querySelector('#df-7398e3f6-fb04-4dbd-a3a2-df2a76412552 button.colab-df-convert');\n",
              "      buttonEl.style.display =\n",
              "        google.colab.kernel.accessAllowed ? 'block' : 'none';\n",
              "\n",
              "      async function convertToInteractive(key) {\n",
              "        const element = document.querySelector('#df-7398e3f6-fb04-4dbd-a3a2-df2a76412552');\n",
              "        const dataTable =\n",
              "          await google.colab.kernel.invokeFunction('convertToInteractive',\n",
              "                                                    [key], {});\n",
              "        if (!dataTable) return;\n",
              "\n",
              "        const docLinkHtml = 'Like what you see? Visit the ' +\n",
              "          '<a target=\"_blank\" href=https://colab.research.google.com/notebooks/data_table.ipynb>data table notebook</a>'\n",
              "          + ' to learn more about interactive tables.';\n",
              "        element.innerHTML = '';\n",
              "        dataTable['output_type'] = 'display_data';\n",
              "        await google.colab.output.renderOutput(dataTable, element);\n",
              "        const docLink = document.createElement('div');\n",
              "        docLink.innerHTML = docLinkHtml;\n",
              "        element.appendChild(docLink);\n",
              "      }\n",
              "    </script>\n",
              "  </div>\n",
              "\n",
              "\n",
              "<div id=\"df-14def320-c0a0-4494-a1ae-0ca6aeb71e3f\">\n",
              "  <button class=\"colab-df-quickchart\" onclick=\"quickchart('df-14def320-c0a0-4494-a1ae-0ca6aeb71e3f')\"\n",
              "            title=\"Suggest charts\"\n",
              "            style=\"display:none;\">\n",
              "\n",
              "<svg xmlns=\"http://www.w3.org/2000/svg\" height=\"24px\"viewBox=\"0 0 24 24\"\n",
              "     width=\"24px\">\n",
              "    <g>\n",
              "        <path d=\"M19 3H5c-1.1 0-2 .9-2 2v14c0 1.1.9 2 2 2h14c1.1 0 2-.9 2-2V5c0-1.1-.9-2-2-2zM9 17H7v-7h2v7zm4 0h-2V7h2v10zm4 0h-2v-4h2v4z\"/>\n",
              "    </g>\n",
              "</svg>\n",
              "  </button>\n",
              "\n",
              "<style>\n",
              "  .colab-df-quickchart {\n",
              "      --bg-color: #E8F0FE;\n",
              "      --fill-color: #1967D2;\n",
              "      --hover-bg-color: #E2EBFA;\n",
              "      --hover-fill-color: #174EA6;\n",
              "      --disabled-fill-color: #AAA;\n",
              "      --disabled-bg-color: #DDD;\n",
              "  }\n",
              "\n",
              "  [theme=dark] .colab-df-quickchart {\n",
              "      --bg-color: #3B4455;\n",
              "      --fill-color: #D2E3FC;\n",
              "      --hover-bg-color: #434B5C;\n",
              "      --hover-fill-color: #FFFFFF;\n",
              "      --disabled-bg-color: #3B4455;\n",
              "      --disabled-fill-color: #666;\n",
              "  }\n",
              "\n",
              "  .colab-df-quickchart {\n",
              "    background-color: var(--bg-color);\n",
              "    border: none;\n",
              "    border-radius: 50%;\n",
              "    cursor: pointer;\n",
              "    display: none;\n",
              "    fill: var(--fill-color);\n",
              "    height: 32px;\n",
              "    padding: 0;\n",
              "    width: 32px;\n",
              "  }\n",
              "\n",
              "  .colab-df-quickchart:hover {\n",
              "    background-color: var(--hover-bg-color);\n",
              "    box-shadow: 0 1px 2px rgba(60, 64, 67, 0.3), 0 1px 3px 1px rgba(60, 64, 67, 0.15);\n",
              "    fill: var(--button-hover-fill-color);\n",
              "  }\n",
              "\n",
              "  .colab-df-quickchart-complete:disabled,\n",
              "  .colab-df-quickchart-complete:disabled:hover {\n",
              "    background-color: var(--disabled-bg-color);\n",
              "    fill: var(--disabled-fill-color);\n",
              "    box-shadow: none;\n",
              "  }\n",
              "\n",
              "  .colab-df-spinner {\n",
              "    border: 2px solid var(--fill-color);\n",
              "    border-color: transparent;\n",
              "    border-bottom-color: var(--fill-color);\n",
              "    animation:\n",
              "      spin 1s steps(1) infinite;\n",
              "  }\n",
              "\n",
              "  @keyframes spin {\n",
              "    0% {\n",
              "      border-color: transparent;\n",
              "      border-bottom-color: var(--fill-color);\n",
              "      border-left-color: var(--fill-color);\n",
              "    }\n",
              "    20% {\n",
              "      border-color: transparent;\n",
              "      border-left-color: var(--fill-color);\n",
              "      border-top-color: var(--fill-color);\n",
              "    }\n",
              "    30% {\n",
              "      border-color: transparent;\n",
              "      border-left-color: var(--fill-color);\n",
              "      border-top-color: var(--fill-color);\n",
              "      border-right-color: var(--fill-color);\n",
              "    }\n",
              "    40% {\n",
              "      border-color: transparent;\n",
              "      border-right-color: var(--fill-color);\n",
              "      border-top-color: var(--fill-color);\n",
              "    }\n",
              "    60% {\n",
              "      border-color: transparent;\n",
              "      border-right-color: var(--fill-color);\n",
              "    }\n",
              "    80% {\n",
              "      border-color: transparent;\n",
              "      border-right-color: var(--fill-color);\n",
              "      border-bottom-color: var(--fill-color);\n",
              "    }\n",
              "    90% {\n",
              "      border-color: transparent;\n",
              "      border-bottom-color: var(--fill-color);\n",
              "    }\n",
              "  }\n",
              "</style>\n",
              "\n",
              "  <script>\n",
              "    async function quickchart(key) {\n",
              "      const quickchartButtonEl =\n",
              "        document.querySelector('#' + key + ' button');\n",
              "      quickchartButtonEl.disabled = true;  // To prevent multiple clicks.\n",
              "      quickchartButtonEl.classList.add('colab-df-spinner');\n",
              "      try {\n",
              "        const charts = await google.colab.kernel.invokeFunction(\n",
              "            'suggestCharts', [key], {});\n",
              "      } catch (error) {\n",
              "        console.error('Error during call to suggestCharts:', error);\n",
              "      }\n",
              "      quickchartButtonEl.classList.remove('colab-df-spinner');\n",
              "      quickchartButtonEl.classList.add('colab-df-quickchart-complete');\n",
              "    }\n",
              "    (() => {\n",
              "      let quickchartButtonEl =\n",
              "        document.querySelector('#df-14def320-c0a0-4494-a1ae-0ca6aeb71e3f button');\n",
              "      quickchartButtonEl.style.display =\n",
              "        google.colab.kernel.accessAllowed ? 'block' : 'none';\n",
              "    })();\n",
              "  </script>\n",
              "</div>\n",
              "\n",
              "    </div>\n",
              "  </div>\n"
            ],
            "application/vnd.google.colaboratory.intrinsic+json": {
              "type": "dataframe",
              "summary": "{\n  \"name\": \"carseats_df_dummies\",\n  \"rows\": 10,\n  \"fields\": [\n    {\n      \"column\": \"Sales\",\n      \"properties\": {\n        \"dtype\": \"number\",\n        \"std\": 0.8626342085599074,\n        \"min\": 0.0,\n        \"max\": 2.23,\n        \"num_unique_values\": 10,\n        \"samples\": [\n          2.07,\n          0.16,\n          1.42\n        ],\n        \"semantic_type\": \"\",\n        \"description\": \"\"\n      }\n    },\n    {\n      \"column\": \"CompPrice\",\n      \"properties\": {\n        \"dtype\": \"number\",\n        \"std\": 18,\n        \"min\": 93,\n        \"max\": 147,\n        \"num_unique_values\": 9,\n        \"samples\": [\n          119,\n          102,\n          99\n        ],\n        \"semantic_type\": \"\",\n        \"description\": \"\"\n      }\n    },\n    {\n      \"column\": \"Income\",\n      \"properties\": {\n        \"dtype\": \"number\",\n        \"std\": 29,\n        \"min\": 24,\n        \"max\": 98,\n        \"num_unique_values\": 10,\n        \"samples\": [\n          98,\n          33,\n          32\n        ],\n        \"semantic_type\": \"\",\n        \"description\": \"\"\n      }\n    },\n    {\n      \"column\": \"Advertising\",\n      \"properties\": {\n        \"dtype\": \"number\",\n        \"std\": 5,\n        \"min\": 0,\n        \"max\": 18,\n        \"num_unique_values\": 3,\n        \"samples\": [\n          0,\n          7,\n          18\n        ],\n        \"semantic_type\": \"\",\n        \"description\": \"\"\n      }\n    },\n    {\n      \"column\": \"Population\",\n      \"properties\": {\n        \"dtype\": \"number\",\n        \"std\": 125,\n        \"min\": 18,\n        \"max\": 358,\n        \"num_unique_values\": 10,\n        \"samples\": [\n          18,\n          217,\n          341\n        ],\n        \"semantic_type\": \"\",\n        \"description\": \"\"\n      }\n    },\n    {\n      \"column\": \"Price\",\n      \"properties\": {\n        \"dtype\": \"number\",\n        \"std\": 28,\n        \"min\": 108,\n        \"max\": 191,\n        \"num_unique_values\": 10,\n        \"samples\": [\n          126,\n          139,\n          108\n        ],\n        \"semantic_type\": \"\",\n        \"description\": \"\"\n      }\n    },\n    {\n      \"column\": \"Age\",\n      \"properties\": {\n        \"dtype\": \"number\",\n        \"std\": 23,\n        \"min\": 25,\n        \"max\": 80,\n        \"num_unique_values\": 10,\n        \"samples\": [\n          73,\n          70,\n          80\n        ],\n        \"semantic_type\": \"\",\n        \"description\": \"\"\n      }\n    },\n    {\n      \"column\": \"Education\",\n      \"properties\": {\n        \"dtype\": \"number\",\n        \"std\": 2,\n        \"min\": 11,\n        \"max\": 18,\n        \"num_unique_values\": 6,\n        \"samples\": [\n          15,\n          18,\n          14\n        ],\n        \"semantic_type\": \"\",\n        \"description\": \"\"\n      }\n    },\n    {\n      \"column\": \"ShelveLoc_Good\",\n      \"properties\": {\n        \"dtype\": \"boolean\",\n        \"num_unique_values\": 1,\n        \"samples\": [\n          false\n        ],\n        \"semantic_type\": \"\",\n        \"description\": \"\"\n      }\n    },\n    {\n      \"column\": \"ShelveLoc_Medium\",\n      \"properties\": {\n        \"dtype\": \"boolean\",\n        \"num_unique_values\": 2,\n        \"samples\": [\n          false\n        ],\n        \"semantic_type\": \"\",\n        \"description\": \"\"\n      }\n    },\n    {\n      \"column\": \"Urban_Yes\",\n      \"properties\": {\n        \"dtype\": \"boolean\",\n        \"num_unique_values\": 2,\n        \"samples\": [\n          true\n        ],\n        \"semantic_type\": \"\",\n        \"description\": \"\"\n      }\n    },\n    {\n      \"column\": \"US_Yes\",\n      \"properties\": {\n        \"dtype\": \"boolean\",\n        \"num_unique_values\": 2,\n        \"samples\": [\n          true\n        ],\n        \"semantic_type\": \"\",\n        \"description\": \"\"\n      }\n    }\n  ]\n}"
            }
          },
          "metadata": {},
          "execution_count": 34
        }
      ]
    },
    {
      "cell_type": "code",
      "source": [
        "# Box plot of Sales\n",
        "\n",
        "plt.figure(figsize=(6, 6))\n",
        "carseats_df_dummies.boxplot(column = 'Sales', vert = True)\n",
        "plt.show()"
      ],
      "metadata": {
        "colab": {
          "base_uri": "https://localhost:8080/",
          "height": 522
        },
        "id": "lRIHQEsGGO7A",
        "outputId": "ad1c0691-169a-41b2-e7cc-f04ca4726424"
      },
      "id": "lRIHQEsGGO7A",
      "execution_count": 35,
      "outputs": [
        {
          "output_type": "display_data",
          "data": {
            "text/plain": [
              "<Figure size 600x600 with 1 Axes>"
            ],
            "image/png": "[encoded data removed]"
          },
          "metadata": {}
        }
      ]
    },
    {
      "cell_type": "code",
      "source": [
        "# Plot of Sales\n",
        "\n",
        "plt.figure(figsize=(6, 6))\n",
        "\n",
        "plt.scatter(np.arange (1, carseats_df_dummies.shape[0] + 1), carseats_df_dummies['Sales'], c='blue')\n",
        "\n",
        "for i, sales in enumerate(carseats_df_dummies['Sales']):\n",
        "    if sales < 1:\n",
        "        plt.text(i + 1, sales, str(i), fontsize=6, color='red', ha='left')\n",
        "\n",
        "plt.ylabel(\"Sales\")\n",
        "\n",
        "plt.yticks(np.arange (0,18))\n",
        "\n",
        "plt.show()"
      ],
      "metadata": {
        "colab": {
          "base_uri": "https://localhost:8080/",
          "height": 526
        },
        "id": "xP8QuhjeGO4b",
        "outputId": "8f271e8a-ea57-4d16-832c-8778ff18f03f"
      },
      "id": "xP8QuhjeGO4b",
      "execution_count": 36,
      "outputs": [
        {
          "output_type": "display_data",
          "data": {
            "text/plain": [
              "<Figure size 600x600 with 1 Axes>"
            ],
            "image/png": "[encoded data removed]"
          },
          "metadata": {}
        }
      ]
    },
    {
      "cell_type": "markdown",
      "source": [
        "Thus, the case where Sales = 0 is not an outlier. We can observe that this case is NOT far away from the other observations in a clear way."
      ],
      "metadata": {
        "id": "Ex12nW9vwspE"
      },
      "id": "Ex12nW9vwspE"
    },
    {
      "cell_type": "markdown",
      "source": [
        "### Multivariate outliers?\n",
        "\n",
        "Are there outlier observations relative to the linear equation that we will obtain to predict sales?\n",
        "\n",
        "To identify outliers relative to the equation, we will compute and explore the **standardized residuals**."
      ],
      "metadata": {
        "id": "w6pN6UGax0W5"
      },
      "id": "w6pN6UGax0W5"
    },
    {
      "cell_type": "markdown",
      "source": [
        "#### Apply BSS to get a good linear regression equation"
      ],
      "metadata": {
        "id": "5o_Dy96Pwlmh"
      },
      "id": "5o_Dy96Pwlmh"
    },
    {
      "cell_type": "markdown",
      "source": [
        "Let's change the dummies' data type from Boolean to integer."
      ],
      "metadata": {
        "id": "KCk-JTPBEbSO"
      },
      "id": "KCk-JTPBEbSO"
    },
    {
      "cell_type": "code",
      "source": [
        "carseats_df_dummies = carseats_df_dummies.apply(lambda x: x.astype(int) if x.dtype == 'bool' else x)"
      ],
      "metadata": {
        "id": "rwoQBuquFR2C"
      },
      "id": "rwoQBuquFR2C",
      "execution_count": 37,
      "outputs": []
    },
    {
      "cell_type": "code",
      "source": [
        "carseats_df_dummies.info()"
      ],
      "metadata": {
        "colab": {
          "base_uri": "https://localhost:8080/"
        },
        "id": "U4qfI5cyFhno",
        "outputId": "1373772e-f3ca-4635-fb20-42792df999c0"
      },
      "id": "U4qfI5cyFhno",
      "execution_count": 38,
      "outputs": [
        {
          "output_type": "stream",
          "name": "stdout",
          "text": [
            "<class 'pandas.core.frame.DataFrame'>\n",
            "RangeIndex: 400 entries, 0 to 399\n",
            "Data columns (total 12 columns):\n",
            " #   Column            Non-Null Count  Dtype  \n",
            "---  ------            --------------  -----  \n",
            " 0   Sales             400 non-null    float64\n",
            " 1   CompPrice         400 non-null    int64  \n",
            " 2   Income            400 non-null    int64  \n",
            " 3   Advertising       400 non-null    int64  \n",
            " 4   Population        400 non-null    int64  \n",
            " 5   Price             400 non-null    int64  \n",
            " 6   Age               400 non-null    int64  \n",
            " 7   Education         400 non-null    int64  \n",
            " 8   ShelveLoc_Good    400 non-null    int64  \n",
            " 9   ShelveLoc_Medium  400 non-null    int64  \n",
            " 10  Urban_Yes         400 non-null    int64  \n",
            " 11  US_Yes            400 non-null    int64  \n",
            "dtypes: float64(1), int64(11)\n",
            "memory usage: 37.6 KB\n"
          ]
        }
      ]
    },
    {
      "cell_type": "code",
      "source": [
        "X_all_carseats = carseats_df_dummies.drop(['Sales'], axis = 1)"
      ],
      "metadata": {
        "id": "1BBc_b28IcYC"
      },
      "id": "1BBc_b28IcYC",
      "execution_count": 39,
      "outputs": []
    },
    {
      "cell_type": "code",
      "source": [
        "y_carseats = carseats_df_dummies ['Sales']"
      ],
      "metadata": {
        "id": "WaVwgO8sItVF"
      },
      "id": "WaVwgO8sItVF",
      "execution_count": 40,
      "outputs": []
    },
    {
      "cell_type": "code",
      "source": [
        "X_train_car, X_test_car, y_train_car, y_test_car = train_test_split (X_all_carseats, y_carseats, test_size = 0.2, random_state = 1)"
      ],
      "metadata": {
        "id": "CWMIbtj0JaYy"
      },
      "execution_count": 41,
      "outputs": [],
      "id": "CWMIbtj0JaYy"
    },
    {
      "cell_type": "code",
      "source": [
        "bss_cv_results_carseats = my_best_subset_selection_cv (X_train_car, y_train_car, folds = 10)"
      ],
      "metadata": {
        "colab": {
          "base_uri": "https://localhost:8080/"
        },
        "outputId": "9aec48da-4f0b-4355-f496-19346502504d",
        "id": "--LZEvJwJaYy"
      },
      "execution_count": 42,
      "outputs": [
        {
          "output_type": "stream",
          "name": "stdout",
          "text": [
            "Cross-validation results for predictors: ['ShelveLoc_Good']\n",
            "Cross-validation MSE values: [6.30317302 5.28506292 5.5995691  5.96759504 6.5109208  8.26904743\n",
            " 5.56672374 4.6874147  4.59728435 5.67535691]\n",
            "Mean cross-validation MSE: 5.8462\n",
            "\n"
          ]
        },
        {
          "output_type": "stream",
          "name": "stderr",
          "text": [
            "/content/sample_data/bss_definitions.py:155: FutureWarning: The behavior of DataFrame concatenation with empty or all-NA entries is deprecated. In a future version, this will no longer exclude empty or all-NA columns when determining the result dtypes. To retain the old behavior, exclude the relevant entries before the concat operation.\n",
            "  out_df = pd.concat([out_df, df_iteration], ignore_index=True)\n"
          ]
        },
        {
          "output_type": "stream",
          "name": "stdout",
          "text": [
            "Cross-validation results for predictors: ['Price', 'ShelveLoc_Good']\n",
            "Cross-validation MSE values: [4.624391   3.06934813 4.45001888 4.54493702 4.39410399 5.4542461\n",
            " 3.459841   4.40769015 3.59773683 4.75918777]\n",
            "Mean cross-validation MSE: 4.2762\n",
            "\n",
            "Cross-validation results for predictors: ['CompPrice', 'Price', 'ShelveLoc_Good']\n",
            "Cross-validation MSE values: [3.6620587  2.15447126 3.78526721 3.20456846 3.09780139 3.54934392\n",
            " 2.84762393 3.23312549 2.83313813 2.82795212]\n",
            "Mean cross-validation MSE: 3.1195\n",
            "\n",
            "Cross-validation results for predictors: ['CompPrice', 'Advertising', 'Price', 'ShelveLoc_Good']\n",
            "Cross-validation MSE values: [2.39807919 1.4718127  3.20909096 2.59022342 2.39115352 2.34653744\n",
            " 2.32479377 2.68113607 2.32968494 2.02994624]\n",
            "Mean cross-validation MSE: 2.3772\n",
            "\n",
            "Cross-validation results for predictors: ['CompPrice', 'Price', 'Age', 'ShelveLoc_Good', 'ShelveLoc_Medium']\n",
            "Cross-validation MSE values: [1.89913549 2.26518682 1.5081728  2.03259331 2.04499351 1.63372741\n",
            " 1.75429288 1.72176682 1.30450089 2.06191667]\n",
            "Mean cross-validation MSE: 1.8226\n",
            "\n",
            "Cross-validation results for predictors: ['CompPrice', 'Advertising', 'Price', 'Age', 'ShelveLoc_Good', 'ShelveLoc_Medium']\n",
            "Cross-validation MSE values: [1.20124653 1.36363131 1.47685788 1.35405261 1.00865194 0.81899466\n",
            " 1.49144518 0.84125653 1.1122485  1.22592782]\n",
            "Mean cross-validation MSE: 1.1894\n",
            "\n",
            "Cross-validation results for predictors: ['CompPrice', 'Income', 'Advertising', 'Price', 'Age', 'ShelveLoc_Good', 'ShelveLoc_Medium']\n",
            "Cross-validation MSE values: [1.05254459 1.24965394 1.20259638 1.0969988  0.92824143 0.60192806\n",
            " 1.20213161 0.75784567 0.92114018 1.30650701]\n",
            "Mean cross-validation MSE: 1.032\n",
            "\n",
            "Cross-validation results for predictors: ['CompPrice', 'Income', 'Advertising', 'Price', 'Age', 'ShelveLoc_Good', 'ShelveLoc_Medium', 'Urban_Yes']\n",
            "Cross-validation MSE values: [1.02452654 1.32099151 1.25232646 1.06306606 0.93713625 0.57603642\n",
            " 1.19609928 0.73506393 0.89318689 1.29408531]\n",
            "Mean cross-validation MSE: 1.0293\n",
            "\n",
            "Cross-validation results for predictors: ['CompPrice', 'Income', 'Advertising', 'Price', 'Age', 'ShelveLoc_Good', 'ShelveLoc_Medium', 'Urban_Yes', 'US_Yes']\n",
            "Cross-validation MSE values: [1.04261123 1.31479053 1.24808865 1.03362611 0.91608917 0.56212828\n",
            " 1.16614525 0.78969345 0.89757447 1.35365584]\n",
            "Mean cross-validation MSE: 1.0324\n",
            "\n",
            "Cross-validation results for predictors: ['CompPrice', 'Income', 'Advertising', 'Price', 'Age', 'Education', 'ShelveLoc_Good', 'ShelveLoc_Medium', 'Urban_Yes', 'US_Yes']\n",
            "Cross-validation MSE values: [1.02990634 1.33412404 1.25237404 1.02318548 0.93645391 0.55274498\n",
            " 1.19772023 0.76976836 0.88079226 1.36032167]\n",
            "Mean cross-validation MSE: 1.0337\n",
            "\n",
            "Cross-validation results for predictors: ['CompPrice', 'Income', 'Advertising', 'Population', 'Price', 'Age', 'Education', 'ShelveLoc_Good', 'ShelveLoc_Medium', 'Urban_Yes', 'US_Yes']\n",
            "Cross-validation MSE values: [1.02546261 1.36798735 1.27704508 1.01745173 0.93120806 0.58140285\n",
            " 1.19814412 0.76558997 0.87591534 1.35608013]\n",
            "Mean cross-validation MSE: 1.0396\n",
            "\n"
          ]
        }
      ],
      "id": "--LZEvJwJaYy"
    },
    {
      "cell_type": "code",
      "source": [
        "percent_reduction_threshold = 5"
      ],
      "metadata": {
        "id": "5oIb5y1_JaYz"
      },
      "execution_count": 43,
      "outputs": [],
      "id": "5oIb5y1_JaYz"
    },
    {
      "cell_type": "code",
      "source": [
        "# Compute percent reduction in Mean_CV_MSE from one model to the next one\n",
        "percent_reduction = - ( bss_cv_results_carseats['Mean_CV_MSE'].pct_change().dropna() )*100\n",
        "percent_reduction.name = \"Pct reduc from previous model\"\n",
        "\n",
        "# Find the last set of predictors that meet the threshold\n",
        "last_row_above_threshold = bss_cv_results_carseats.iloc[percent_reduction[percent_reduction >= percent_reduction_threshold].index[-1]]['Predictors']\n",
        "\n",
        "print(\"BSS selects the following predictors for the model:\")\n",
        "print(last_row_above_threshold)\n",
        "print ()\n",
        "print(\"Adding additional predictors results in a % reduction in Mean CV MSE below\", percent_reduction_threshold, \"%:\")"
      ],
      "metadata": {
        "colab": {
          "base_uri": "https://localhost:8080/"
        },
        "outputId": "0716580f-7b12-4b5c-dcd8-5e7a8f838403",
        "id": "UNqb4Z_VJaYz"
      },
      "execution_count": 44,
      "outputs": [
        {
          "output_type": "stream",
          "name": "stdout",
          "text": [
            "BSS selects the following predictors for the model:\n",
            "['CompPrice', 'Income', 'Advertising', 'Price', 'Age', 'ShelveLoc_Good', 'ShelveLoc_Medium']\n",
            "\n",
            "Adding additional predictors results in a % reduction in Mean CV MSE below 5 %:\n"
          ]
        }
      ],
      "id": "UNqb4Z_VJaYz"
    },
    {
      "cell_type": "markdown",
      "source": [
        "Use these predictors to train the model on the training data and predict test data."
      ],
      "metadata": {
        "id": "d10W0Zh5JaY0"
      },
      "id": "d10W0Zh5JaY0"
    },
    {
      "cell_type": "code",
      "source": [
        "reg_out_cars_bss_training = LinearRegression().fit (X_train_car [['CompPrice', 'Income', 'Advertising', 'Price', 'Age', 'ShelveLoc_Good', 'ShelveLoc_Medium']], y_train_car)"
      ],
      "metadata": {
        "id": "fCR69s4RJaY1"
      },
      "execution_count": 45,
      "outputs": [],
      "id": "fCR69s4RJaY1"
    },
    {
      "cell_type": "code",
      "source": [
        "reg_out_cars_bss_training.intercept_"
      ],
      "metadata": {
        "colab": {
          "base_uri": "https://localhost:8080/"
        },
        "id": "qzWwXW3fCd3j",
        "outputId": "03ce4190-3913-4b9d-c89b-e9973e66d59e"
      },
      "id": "qzWwXW3fCd3j",
      "execution_count": 46,
      "outputs": [
        {
          "output_type": "execute_result",
          "data": {
            "text/plain": [
              "5.64295907720513"
            ]
          },
          "metadata": {},
          "execution_count": 46
        }
      ]
    },
    {
      "cell_type": "code",
      "source": [
        "reg_out_cars_bss_training.coef_"
      ],
      "metadata": {
        "colab": {
          "base_uri": "https://localhost:8080/"
        },
        "id": "sR2BoEQbCgAv",
        "outputId": "2d1f41e5-b77e-4afb-867a-91e046509240"
      },
      "id": "sR2BoEQbCgAv",
      "execution_count": 47,
      "outputs": [
        {
          "output_type": "execute_result",
          "data": {
            "text/plain": [
              "array([ 0.0925419 ,  0.01445423,  0.11626992, -0.09509037, -0.04916276,\n",
              "        4.90376988,  2.04127126])"
            ]
          },
          "metadata": {},
          "execution_count": 47
        }
      ]
    },
    {
      "cell_type": "code",
      "source": [
        "y_pred_cars_bss_test = reg_out_cars_bss_training.predict( X_test_car [['CompPrice', 'Income', 'Advertising', 'Price', 'Age', 'ShelveLoc_Good', 'ShelveLoc_Medium']] )"
      ],
      "metadata": {
        "id": "0tvVFXPSJaY2"
      },
      "execution_count": 48,
      "outputs": [],
      "id": "0tvVFXPSJaY2"
    },
    {
      "cell_type": "code",
      "source": [
        "# Test RMSE (Test root MSE)\n",
        "\n",
        "root_mean_squared_error(y_test_car, y_pred_cars_bss_test)"
      ],
      "metadata": {
        "colab": {
          "base_uri": "https://localhost:8080/"
        },
        "outputId": "98136d94-d18e-449b-f42c-fb5875fb3bbc",
        "id": "cEskJUkYJaY2"
      },
      "execution_count": 49,
      "outputs": [
        {
          "output_type": "execute_result",
          "data": {
            "text/plain": [
              "1.085291304831875"
            ]
          },
          "metadata": {},
          "execution_count": 49
        }
      ],
      "id": "cEskJUkYJaY2"
    },
    {
      "cell_type": "markdown",
      "source": [
        "Let's get the standardized residuals:\n",
        "\n",
        "Standardized residual for observation i = Regular residual for observation i / standard deviation of the regular residual for observation i\n",
        "\n",
        "When can a standardized residual considered an outlier?\n",
        "\n",
        "**SIMPLE WAY TO ADDRESS THIS QUESTION**: If its absolute value is above 3."
      ],
      "metadata": {
        "id": "fQbSjSKn1Knl"
      },
      "id": "fQbSjSKn1Knl"
    },
    {
      "cell_type": "code",
      "source": [
        "y_pred_car_train = reg_out_cars_bss_training.predict(X_train_car[['CompPrice', 'Income', 'Advertising', 'Price', 'Age', 'ShelveLoc_Good', 'ShelveLoc_Medium']])"
      ],
      "metadata": {
        "id": "ua_309WWzTAS"
      },
      "id": "ua_309WWzTAS",
      "execution_count": 50,
      "outputs": []
    },
    {
      "cell_type": "code",
      "source": [
        "# Regular residuals of the previous equation\n",
        "\n",
        "residuals_bss_model = y_train_car - y_pred_car_train"
      ],
      "metadata": {
        "id": "cU6DNNl4zoGS"
      },
      "id": "cU6DNNl4zoGS",
      "execution_count": 51,
      "outputs": []
    },
    {
      "cell_type": "code",
      "source": [
        "# Variable with only the features chosen by BSS\n",
        "\n",
        "X_train_bss = X_train_car[['CompPrice', 'Income', 'Advertising', 'Price', 'Age', 'ShelveLoc_Good', 'ShelveLoc_Medium']]"
      ],
      "metadata": {
        "id": "_0QpDSdh2sUk"
      },
      "id": "_0QpDSdh2sUk",
      "execution_count": 52,
      "outputs": []
    },
    {
      "cell_type": "code",
      "source": [
        "# RSE\n",
        "\n",
        "rse_residuals = rse_calculator (y_train_car, y_pred_car_train, X_train_bss.shape[1])"
      ],
      "metadata": {
        "id": "R0mmBKvRzdv2"
      },
      "id": "R0mmBKvRzdv2",
      "execution_count": 53,
      "outputs": []
    },
    {
      "cell_type": "code",
      "source": [
        "# Add intercept explicitely before computing the hat matrix\n",
        "\n",
        "X_train_bss_plus_inter = np.column_stack((np.ones(X_train_bss.shape[0]), X_train_bss))"
      ],
      "metadata": {
        "id": "osnio_993tZv"
      },
      "id": "osnio_993tZv",
      "execution_count": 54,
      "outputs": []
    },
    {
      "cell_type": "code",
      "source": [
        "# Obtain the hat matrix\n",
        "\n",
        "H = X_train_bss_plus_inter @ np.linalg.inv(X_train_bss_plus_inter.T @ X_train_bss_plus_inter) @ X_train_bss_plus_inter.T"
      ],
      "metadata": {
        "id": "ZkrKQsd72nO5"
      },
      "id": "ZkrKQsd72nO5",
      "execution_count": 55,
      "outputs": []
    },
    {
      "cell_type": "code",
      "source": [
        "# Compute leverage values (diagonal of the hat matrix)\n",
        "\n",
        "leverage_values = np.diag(H)"
      ],
      "metadata": {
        "id": "BOtfT6Vg256c"
      },
      "id": "BOtfT6Vg256c",
      "execution_count": 56,
      "outputs": []
    },
    {
      "cell_type": "code",
      "source": [
        "standardized_residuals = (residuals_bss_model / (rse_residuals * np.sqrt(1 - leverage_values))).rename(\"Standardized Residuals\")"
      ],
      "metadata": {
        "id": "npOWXdnY-NzJ"
      },
      "id": "npOWXdnY-NzJ",
      "execution_count": 57,
      "outputs": []
    },
    {
      "cell_type": "code",
      "source": [
        "standardized_residuals"
      ],
      "metadata": {
        "colab": {
          "base_uri": "https://localhost:8080/",
          "height": 458
        },
        "id": "kDX06heD-SIA",
        "outputId": "899e345f-4612-4d9f-ea34-fef2191af762"
      },
      "id": "kDX06heD-SIA",
      "execution_count": 58,
      "outputs": [
        {
          "output_type": "execute_result",
          "data": {
            "text/plain": [
              "93    -0.083726\n",
              "23     0.793089\n",
              "299   -1.561847\n",
              "13    -1.140193\n",
              "90    -0.375601\n",
              "         ...   \n",
              "255    0.221319\n",
              "72    -1.206420\n",
              "396   -0.977397\n",
              "235   -0.197450\n",
              "37    -1.989815\n",
              "Name: Standardized Residuals, Length: 320, dtype: float64"
            ],
            "text/html": [
              "<div>\n",
              "<style scoped>\n",
              "    .dataframe tbody tr th:only-of-type {\n",
              "        vertical-align: middle;\n",
              "    }\n",
              "\n",
              "    .dataframe tbody tr th {\n",
              "        vertical-align: top;\n",
              "    }\n",
              "\n",
              "    .dataframe thead th {\n",
              "        text-align: right;\n",
              "    }\n",
              "</style>\n",
              "<table border=\"1\" class=\"dataframe\">\n",
              "  <thead>\n",
              "    <tr style=\"text-align: right;\">\n",
              "      <th></th>\n",
              "      <th>Standardized Residuals</th>\n",
              "    </tr>\n",
              "  </thead>\n",
              "  <tbody>\n",
              "    <tr>\n",
              "      <th>93</th>\n",
              "      <td>-0.083726</td>\n",
              "    </tr>\n",
              "    <tr>\n",
              "      <th>23</th>\n",
              "      <td>0.793089</td>\n",
              "    </tr>\n",
              "    <tr>\n",
              "      <th>299</th>\n",
              "      <td>-1.561847</td>\n",
              "    </tr>\n",
              "    <tr>\n",
              "      <th>13</th>\n",
              "      <td>-1.140193</td>\n",
              "    </tr>\n",
              "    <tr>\n",
              "      <th>90</th>\n",
              "      <td>-0.375601</td>\n",
              "    </tr>\n",
              "    <tr>\n",
              "      <th>...</th>\n",
              "      <td>...</td>\n",
              "    </tr>\n",
              "    <tr>\n",
              "      <th>255</th>\n",
              "      <td>0.221319</td>\n",
              "    </tr>\n",
              "    <tr>\n",
              "      <th>72</th>\n",
              "      <td>-1.206420</td>\n",
              "    </tr>\n",
              "    <tr>\n",
              "      <th>396</th>\n",
              "      <td>-0.977397</td>\n",
              "    </tr>\n",
              "    <tr>\n",
              "      <th>235</th>\n",
              "      <td>-0.197450</td>\n",
              "    </tr>\n",
              "    <tr>\n",
              "      <th>37</th>\n",
              "      <td>-1.989815</td>\n",
              "    </tr>\n",
              "  </tbody>\n",
              "</table>\n",
              "<p>320 rows × 1 columns</p>\n",
              "</div><br><label><b>dtype:</b> float64</label>"
            ]
          },
          "metadata": {},
          "execution_count": 58
        }
      ]
    },
    {
      "cell_type": "markdown",
      "source": [
        "A easy way of detecting outliers based on the standardized residuals is to find those with an abs value greater than 3."
      ],
      "metadata": {
        "id": "etGIqfJX853J"
      },
      "id": "etGIqfJX853J"
    },
    {
      "cell_type": "code",
      "source": [
        "standardized_residuals [np.abs (standardized_residuals) > 3]"
      ],
      "metadata": {
        "colab": {
          "base_uri": "https://localhost:8080/",
          "height": 115
        },
        "id": "hjtgmy1d816b",
        "outputId": "68194c84-0f5d-46c2-9efe-4f95636f1aaa"
      },
      "id": "hjtgmy1d816b",
      "execution_count": 59,
      "outputs": [
        {
          "output_type": "execute_result",
          "data": {
            "text/plain": [
              "357    3.283755\n",
              "Name: Standardized Residuals, dtype: float64"
            ],
            "text/html": [
              "<div>\n",
              "<style scoped>\n",
              "    .dataframe tbody tr th:only-of-type {\n",
              "        vertical-align: middle;\n",
              "    }\n",
              "\n",
              "    .dataframe tbody tr th {\n",
              "        vertical-align: top;\n",
              "    }\n",
              "\n",
              "    .dataframe thead th {\n",
              "        text-align: right;\n",
              "    }\n",
              "</style>\n",
              "<table border=\"1\" class=\"dataframe\">\n",
              "  <thead>\n",
              "    <tr style=\"text-align: right;\">\n",
              "      <th></th>\n",
              "      <th>Standardized Residuals</th>\n",
              "    </tr>\n",
              "  </thead>\n",
              "  <tbody>\n",
              "    <tr>\n",
              "      <th>357</th>\n",
              "      <td>3.283755</td>\n",
              "    </tr>\n",
              "  </tbody>\n",
              "</table>\n",
              "</div><br><label><b>dtype:</b> float64</label>"
            ]
          },
          "metadata": {},
          "execution_count": 59
        }
      ]
    },
    {
      "cell_type": "markdown",
      "source": [
        "The observation with index 357 is an outlier relative to the bss equation."
      ],
      "metadata": {
        "id": "0-FgssBpCcvL"
      },
      "id": "0-FgssBpCcvL"
    },
    {
      "cell_type": "code",
      "source": [
        "plt.figure(figsize=(6, 6))\n",
        "\n",
        "predicted_bss = reg_out_cars_bss_training.predict(X_train_car[['CompPrice', 'Income', 'Advertising', 'Price', 'Age', 'ShelveLoc_Good', 'ShelveLoc_Medium']])\n",
        "\n",
        "plt.scatter(predicted_bss, residuals_bss_model, c='blue')\n",
        "\n",
        "plt.yticks(np.linspace (-3.5, 3.5, 21))\n",
        "\n",
        "plt.axhline(y=3, color='red', linestyle='--', linewidth=1)\n",
        "\n",
        "plt.axhline(y=-3, color='red', linestyle='--', linewidth=1)\n",
        "\n",
        "plt.ylabel(\"Residuals\")\n",
        "\n",
        "plt.xlabel(\"Predicted values\")\n",
        "\n",
        "plt.show()"
      ],
      "metadata": {
        "colab": {
          "base_uri": "https://localhost:8080/",
          "height": 544
        },
        "id": "LSazjQMNB03b",
        "outputId": "b4ccc185-99cc-46fb-aafb-c01787c0122e"
      },
      "id": "LSazjQMNB03b",
      "execution_count": 60,
      "outputs": [
        {
          "output_type": "display_data",
          "data": {
            "text/plain": [
              "<Figure size 600x600 with 1 Axes>"
            ],
            "image/png": "[encoded data removed]"
          },
          "metadata": {}
        }
      ]
    },
    {
      "cell_type": "markdown",
      "source": [
        "I am curious about the following ...\n",
        "\n",
        "The observation for the location where there was no sale (case with index = 174) was NOT an univariate outlier and is not showing up as multivariate outlier either. What's the standardized residual for the case with index = 174?"
      ],
      "metadata": {
        "id": "fhjEF0KaBZQr"
      },
      "id": "fhjEF0KaBZQr"
    },
    {
      "cell_type": "code",
      "source": [
        "174 in standardized_residuals.index"
      ],
      "metadata": {
        "colab": {
          "base_uri": "https://localhost:8080/"
        },
        "id": "dgdabAnC_unZ",
        "outputId": "463cf894-203a-4663-dab9-7785ed0666c7"
      },
      "id": "dgdabAnC_unZ",
      "execution_count": 61,
      "outputs": [
        {
          "output_type": "execute_result",
          "data": {
            "text/plain": [
              "False"
            ]
          },
          "metadata": {},
          "execution_count": 61
        }
      ]
    },
    {
      "cell_type": "code",
      "source": [
        "174 in X_test_car.index\n"
      ],
      "metadata": {
        "colab": {
          "base_uri": "https://localhost:8080/"
        },
        "id": "xjc1xcvnA14U",
        "outputId": "6f20ae29-fea5-45c1-d1ea-701620ccfc15"
      },
      "id": "xjc1xcvnA14U",
      "execution_count": 62,
      "outputs": [
        {
          "output_type": "execute_result",
          "data": {
            "text/plain": [
              "True"
            ]
          },
          "metadata": {},
          "execution_count": 62
        }
      ]
    },
    {
      "cell_type": "code",
      "source": [
        "y_test_car.head(12)"
      ],
      "metadata": {
        "colab": {
          "base_uri": "https://localhost:8080/",
          "height": 460
        },
        "id": "icyvev7xA7SC",
        "outputId": "48c9d7b8-6567-47ed-f388-221d00e887e5"
      },
      "id": "icyvev7xA7SC",
      "execution_count": 63,
      "outputs": [
        {
          "output_type": "execute_result",
          "data": {
            "text/plain": [
              "398     5.94\n",
              "125     9.34\n",
              "328     3.15\n",
              "339    11.54\n",
              "172     9.03\n",
              "342     7.81\n",
              "197     2.52\n",
              "291     6.64\n",
              "29      7.81\n",
              "284     6.97\n",
              "174     0.00\n",
              "372     7.80\n",
              "Name: Sales, dtype: float64"
            ],
            "text/html": [
              "<div>\n",
              "<style scoped>\n",
              "    .dataframe tbody tr th:only-of-type {\n",
              "        vertical-align: middle;\n",
              "    }\n",
              "\n",
              "    .dataframe tbody tr th {\n",
              "        vertical-align: top;\n",
              "    }\n",
              "\n",
              "    .dataframe thead th {\n",
              "        text-align: right;\n",
              "    }\n",
              "</style>\n",
              "<table border=\"1\" class=\"dataframe\">\n",
              "  <thead>\n",
              "    <tr style=\"text-align: right;\">\n",
              "      <th></th>\n",
              "      <th>Sales</th>\n",
              "    </tr>\n",
              "  </thead>\n",
              "  <tbody>\n",
              "    <tr>\n",
              "      <th>398</th>\n",
              "      <td>5.94</td>\n",
              "    </tr>\n",
              "    <tr>\n",
              "      <th>125</th>\n",
              "      <td>9.34</td>\n",
              "    </tr>\n",
              "    <tr>\n",
              "      <th>328</th>\n",
              "      <td>3.15</td>\n",
              "    </tr>\n",
              "    <tr>\n",
              "      <th>339</th>\n",
              "      <td>11.54</td>\n",
              "    </tr>\n",
              "    <tr>\n",
              "      <th>172</th>\n",
              "      <td>9.03</td>\n",
              "    </tr>\n",
              "    <tr>\n",
              "      <th>342</th>\n",
              "      <td>7.81</td>\n",
              "    </tr>\n",
              "    <tr>\n",
              "      <th>197</th>\n",
              "      <td>2.52</td>\n",
              "    </tr>\n",
              "    <tr>\n",
              "      <th>291</th>\n",
              "      <td>6.64</td>\n",
              "    </tr>\n",
              "    <tr>\n",
              "      <th>29</th>\n",
              "      <td>7.81</td>\n",
              "    </tr>\n",
              "    <tr>\n",
              "      <th>284</th>\n",
              "      <td>6.97</td>\n",
              "    </tr>\n",
              "    <tr>\n",
              "      <th>174</th>\n",
              "      <td>0.00</td>\n",
              "    </tr>\n",
              "    <tr>\n",
              "      <th>372</th>\n",
              "      <td>7.80</td>\n",
              "    </tr>\n",
              "  </tbody>\n",
              "</table>\n",
              "</div><br><label><b>dtype:</b> float64</label>"
            ]
          },
          "metadata": {},
          "execution_count": 63
        }
      ]
    },
    {
      "cell_type": "markdown",
      "source": [
        "The issue is that the observation with index 174 is not in the training data. It was randomly chosen by the split function to be part of the test data.  It was not used to fit the equation. We will come back to this observation when analyzing the test data !"
      ],
      "metadata": {
        "id": "KE5t3q3F1h9Q"
      },
      "id": "KE5t3q3F1h9Q"
    },
    {
      "cell_type": "markdown",
      "source": [
        "### Is the outlier and influential case?\n",
        "\n",
        "Is the observation with index = 357 an influential case?\n",
        "\n",
        "**SIMPLE WAY TO ADDRESS THIS QUESTION**: Repeat the analysis AFTER removing this observation and assess how much the coefficients and predictions change."
      ],
      "metadata": {
        "id": "SPbygU0VFahk"
      },
      "id": "SPbygU0VFahk"
    },
    {
      "cell_type": "code",
      "source": [
        "outlier_index= standardized_residuals[np.abs(standardized_residuals) > 3].index"
      ],
      "metadata": {
        "id": "SLkU9gsvA-Ko"
      },
      "id": "SLkU9gsvA-Ko",
      "execution_count": 64,
      "outputs": []
    },
    {
      "cell_type": "code",
      "source": [
        "outlier_index"
      ],
      "metadata": {
        "colab": {
          "base_uri": "https://localhost:8080/"
        },
        "id": "rpVcfhznHFl6",
        "outputId": "b1c85447-0ce0-4a54-86fa-8a3dddc2667a"
      },
      "id": "rpVcfhznHFl6",
      "execution_count": 65,
      "outputs": [
        {
          "output_type": "execute_result",
          "data": {
            "text/plain": [
              "Index([357], dtype='int64')"
            ]
          },
          "metadata": {},
          "execution_count": 65
        }
      ]
    },
    {
      "cell_type": "code",
      "source": [
        "# Remove outlier from training data\n",
        "X_train_no_outliers = X_train_bss.drop(index = outlier_index)\n",
        "y_train_no_outliers = y_train_car.drop(index = outlier_index)"
      ],
      "metadata": {
        "id": "lxA7YwqRHLSm"
      },
      "id": "lxA7YwqRHLSm",
      "execution_count": 66,
      "outputs": []
    },
    {
      "cell_type": "code",
      "source": [
        "model_no_outliers = LinearRegression().fit(X_train_no_outliers, y_train_no_outliers)"
      ],
      "metadata": {
        "id": "qJBItuVrHZJc"
      },
      "id": "qJBItuVrHZJc",
      "execution_count": 67,
      "outputs": []
    },
    {
      "cell_type": "markdown",
      "source": [
        "Compare the coefficients from both models:"
      ],
      "metadata": {
        "id": "MUPVEvhR2Tjt"
      },
      "id": "MUPVEvhR2Tjt"
    },
    {
      "cell_type": "code",
      "source": [
        "# Print coefficients\n",
        "\n",
        "print(\"Original Model Coefficients:\\n\", reg_out_cars_bss_training.coef_)\n",
        "\n",
        "print(\"Model Without Outliers Coefficients:\\n\", model_no_outliers.coef_)"
      ],
      "metadata": {
        "colab": {
          "base_uri": "https://localhost:8080/"
        },
        "id": "o5i2Z8eYHm3I",
        "outputId": "2e599d86-31aa-4d93-81b8-8415aad405e0"
      },
      "id": "o5i2Z8eYHm3I",
      "execution_count": 68,
      "outputs": [
        {
          "output_type": "stream",
          "name": "stdout",
          "text": [
            "Original Model Coefficients:\n",
            " [ 0.0925419   0.01445423  0.11626992 -0.09509037 -0.04916276  4.90376988\n",
            "  2.04127126]\n",
            "Model Without Outliers Coefficients:\n",
            " [ 0.09302707  0.01440153  0.11729276 -0.09433276 -0.04817412  4.89484175\n",
            "  2.01749593]\n"
          ]
        }
      ]
    },
    {
      "cell_type": "markdown",
      "source": [
        "Compare how much the predictions change after the removal.\n",
        "\n",
        "We can do this in different ways. One simple way is to compute RSE for both models."
      ],
      "metadata": {
        "id": "2JYB49kq2c9e"
      },
      "id": "2JYB49kq2c9e"
    },
    {
      "cell_type": "code",
      "source": [
        "# RSE with outlier\n",
        "\n",
        "rse_calculator (y_train_car, predicted_bss, X_train_bss.shape[1])"
      ],
      "metadata": {
        "colab": {
          "base_uri": "https://localhost:8080/"
        },
        "id": "vfzX89_1Hzb0",
        "outputId": "5a240527-5f46-484e-c654-b22b01de1fc0"
      },
      "id": "vfzX89_1Hzb0",
      "execution_count": 69,
      "outputs": [
        {
          "output_type": "execute_result",
          "data": {
            "text/plain": [
              "1.0052"
            ]
          },
          "metadata": {},
          "execution_count": 69
        }
      ]
    },
    {
      "cell_type": "code",
      "source": [
        "# RSE without oulier\n",
        "\n",
        "rse_calculator (y_train_no_outliers, model_no_outliers.predict(X_train_no_outliers[['CompPrice', 'Income', 'Advertising', 'Price', 'Age', 'ShelveLoc_Good', 'ShelveLoc_Medium']]) , X_train_no_outliers.shape[1])"
      ],
      "metadata": {
        "colab": {
          "base_uri": "https://localhost:8080/"
        },
        "id": "S5thXiW8IXJt",
        "outputId": "02c46a0f-2a12-4346-f947-ccf625843463"
      },
      "id": "S5thXiW8IXJt",
      "execution_count": 70,
      "outputs": [
        {
          "output_type": "execute_result",
          "data": {
            "text/plain": [
              "0.9893"
            ]
          },
          "metadata": {},
          "execution_count": 70
        }
      ]
    },
    {
      "cell_type": "code",
      "source": [
        "# % decrease after removing outlier\n",
        "\n",
        "((0.9893 - 1.0052)/1.0052)*100"
      ],
      "metadata": {
        "colab": {
          "base_uri": "https://localhost:8080/"
        },
        "id": "-h_VUDqvI0_z",
        "outputId": "09eb6861-fa64-4f50-bbfa-448bdb83831f"
      },
      "id": "-h_VUDqvI0_z",
      "execution_count": 71,
      "outputs": [
        {
          "output_type": "execute_result",
          "data": {
            "text/plain": [
              "-1.5817747711898262"
            ]
          },
          "metadata": {},
          "execution_count": 71
        }
      ]
    },
    {
      "cell_type": "markdown",
      "source": [
        "Since removing the outlier does not change the prediction performance of the model that much (it only reduces the RSE by 1.58%), we could claim that the case with index = 357 is not an influential case. When an outlier is not found to be an influential case, the suggestion is not to worry about it and just keep the observation as part of the data.\n",
        "\n",
        "If the outlier is found to an influential case, the analyst should investigate more about it.\n",
        "\n",
        "Why is the case an outlier?\n",
        "Why is the case an extreme case?\n",
        "\n",
        "After this sort of analysis, the analyst decides whether to remove from the case or not."
      ],
      "metadata": {
        "id": "rpgg1R8GKmch"
      },
      "id": "rpgg1R8GKmch"
    },
    {
      "cell_type": "markdown",
      "source": [
        "#### Extra analysis\n",
        "\n",
        "Does the observation representing no sales affect the test prediction performance of the chosen equation?"
      ],
      "metadata": {
        "id": "SNrsM4cVLtW4"
      },
      "id": "SNrsM4cVLtW4"
    },
    {
      "cell_type": "markdown",
      "source": [
        "The test RMSE of the model chosen by bss is:"
      ],
      "metadata": {
        "id": "6Swk95h5L_Jc"
      },
      "id": "6Swk95h5L_Jc"
    },
    {
      "cell_type": "code",
      "source": [
        "# Test RMSE (Test root MSE)\n",
        "\n",
        "root_mean_squared_error(y_test_car, y_pred_cars_bss_test)"
      ],
      "metadata": {
        "colab": {
          "base_uri": "https://localhost:8080/"
        },
        "id": "JgHX0fXrJAEg",
        "outputId": "13f8c16f-f71c-4e0c-93ce-022d42cf47ca"
      },
      "id": "JgHX0fXrJAEg",
      "execution_count": 72,
      "outputs": [
        {
          "output_type": "execute_result",
          "data": {
            "text/plain": [
              "1.085291304831875"
            ]
          },
          "metadata": {},
          "execution_count": 72
        }
      ]
    },
    {
      "cell_type": "markdown",
      "source": [
        "We get this test RMSE including observation with index= 174 (the one with Sales = 0)"
      ],
      "metadata": {
        "id": "iwX_yN-KMGgc"
      },
      "id": "iwX_yN-KMGgc"
    },
    {
      "cell_type": "markdown",
      "source": [
        "Does any observation from the test data seem to be an outlier?"
      ],
      "metadata": {
        "id": "qMWSrJkS4SPi"
      },
      "id": "qMWSrJkS4SPi"
    },
    {
      "cell_type": "code",
      "source": [
        "residuals_bss_test = y_test_car - y_pred_cars_bss_test"
      ],
      "metadata": {
        "id": "H9g7zjePNINL"
      },
      "id": "H9g7zjePNINL",
      "execution_count": 73,
      "outputs": []
    },
    {
      "cell_type": "code",
      "source": [
        "plt.figure(figsize=(6, 6))\n",
        "\n",
        "plt.scatter(y_pred_cars_bss_test, residuals_bss_test , c='blue')\n",
        "\n",
        "plt.ylabel(\"Residuals\")\n",
        "\n",
        "plt.xlabel(\"Predicted values\")\n",
        "\n",
        "plt.show()"
      ],
      "metadata": {
        "colab": {
          "base_uri": "https://localhost:8080/",
          "height": 542
        },
        "id": "HcMuH2f7MAPY",
        "outputId": "fdac6701-cdb3-4ff6-daa3-558ca064fbcb"
      },
      "id": "HcMuH2f7MAPY",
      "execution_count": 74,
      "outputs": [
        {
          "output_type": "display_data",
          "data": {
            "text/plain": [
              "<Figure size 600x600 with 1 Axes>"
            ],
            "image/png": "[encoded data removed]"
          },
          "metadata": {}
        }
      ]
    },
    {
      "cell_type": "code",
      "source": [
        "residuals_bss_test [residuals_bss_test > 3]"
      ],
      "metadata": {
        "id": "lMErt7QoPyAM",
        "colab": {
          "base_uri": "https://localhost:8080/",
          "height": 84
        },
        "outputId": "c707011f-c935-4e2d-e3bc-fdee4e98aa8f"
      },
      "id": "lMErt7QoPyAM",
      "execution_count": 75,
      "outputs": [
        {
          "output_type": "execute_result",
          "data": {
            "text/plain": [
              "Series([], Name: Sales, dtype: float64)"
            ],
            "text/html": [
              "<div>\n",
              "<style scoped>\n",
              "    .dataframe tbody tr th:only-of-type {\n",
              "        vertical-align: middle;\n",
              "    }\n",
              "\n",
              "    .dataframe tbody tr th {\n",
              "        vertical-align: top;\n",
              "    }\n",
              "\n",
              "    .dataframe thead th {\n",
              "        text-align: right;\n",
              "    }\n",
              "</style>\n",
              "<table border=\"1\" class=\"dataframe\">\n",
              "  <thead>\n",
              "    <tr style=\"text-align: right;\">\n",
              "      <th></th>\n",
              "      <th>Sales</th>\n",
              "    </tr>\n",
              "  </thead>\n",
              "  <tbody>\n",
              "  </tbody>\n",
              "</table>\n",
              "</div><br><label><b>dtype:</b> float64</label>"
            ]
          },
          "metadata": {},
          "execution_count": 75
        }
      ]
    },
    {
      "cell_type": "code",
      "source": [
        "# Top largest positive residuals\n",
        "\n",
        "residuals_bss_test.sort_values(ascending=False).head (5)"
      ],
      "metadata": {
        "colab": {
          "base_uri": "https://localhost:8080/",
          "height": 241
        },
        "id": "_GhzE-iGR1QW",
        "outputId": "e5fb789d-66de-47ce-9ecd-53e47e77a2d2"
      },
      "id": "_GhzE-iGR1QW",
      "execution_count": 76,
      "outputs": [
        {
          "output_type": "execute_result",
          "data": {
            "text/plain": [
              "207    2.979889\n",
              "284    2.586269\n",
              "171    2.189162\n",
              "29     1.918323\n",
              "41     1.664533\n",
              "Name: Sales, dtype: float64"
            ],
            "text/html": [
              "<div>\n",
              "<style scoped>\n",
              "    .dataframe tbody tr th:only-of-type {\n",
              "        vertical-align: middle;\n",
              "    }\n",
              "\n",
              "    .dataframe tbody tr th {\n",
              "        vertical-align: top;\n",
              "    }\n",
              "\n",
              "    .dataframe thead th {\n",
              "        text-align: right;\n",
              "    }\n",
              "</style>\n",
              "<table border=\"1\" class=\"dataframe\">\n",
              "  <thead>\n",
              "    <tr style=\"text-align: right;\">\n",
              "      <th></th>\n",
              "      <th>Sales</th>\n",
              "    </tr>\n",
              "  </thead>\n",
              "  <tbody>\n",
              "    <tr>\n",
              "      <th>207</th>\n",
              "      <td>2.979889</td>\n",
              "    </tr>\n",
              "    <tr>\n",
              "      <th>284</th>\n",
              "      <td>2.586269</td>\n",
              "    </tr>\n",
              "    <tr>\n",
              "      <th>171</th>\n",
              "      <td>2.189162</td>\n",
              "    </tr>\n",
              "    <tr>\n",
              "      <th>29</th>\n",
              "      <td>1.918323</td>\n",
              "    </tr>\n",
              "    <tr>\n",
              "      <th>41</th>\n",
              "      <td>1.664533</td>\n",
              "    </tr>\n",
              "  </tbody>\n",
              "</table>\n",
              "</div><br><label><b>dtype:</b> float64</label>"
            ]
          },
          "metadata": {},
          "execution_count": 76
        }
      ]
    },
    {
      "cell_type": "code",
      "source": [
        "# Top largest negative residuals\n",
        "\n",
        "residuals_bss_test.sort_values().head (5)"
      ],
      "metadata": {
        "colab": {
          "base_uri": "https://localhost:8080/",
          "height": 241
        },
        "id": "0YXDxoVr4zPV",
        "outputId": "cdf45fa9-9aa5-40ad-d3e3-8b6c5c313633"
      },
      "id": "0YXDxoVr4zPV",
      "execution_count": 77,
      "outputs": [
        {
          "output_type": "execute_result",
          "data": {
            "text/plain": [
              "92    -2.025319\n",
              "172   -1.946290\n",
              "382   -1.794971\n",
              "4     -1.775496\n",
              "214   -1.744045\n",
              "Name: Sales, dtype: float64"
            ],
            "text/html": [
              "<div>\n",
              "<style scoped>\n",
              "    .dataframe tbody tr th:only-of-type {\n",
              "        vertical-align: middle;\n",
              "    }\n",
              "\n",
              "    .dataframe tbody tr th {\n",
              "        vertical-align: top;\n",
              "    }\n",
              "\n",
              "    .dataframe thead th {\n",
              "        text-align: right;\n",
              "    }\n",
              "</style>\n",
              "<table border=\"1\" class=\"dataframe\">\n",
              "  <thead>\n",
              "    <tr style=\"text-align: right;\">\n",
              "      <th></th>\n",
              "      <th>Sales</th>\n",
              "    </tr>\n",
              "  </thead>\n",
              "  <tbody>\n",
              "    <tr>\n",
              "      <th>92</th>\n",
              "      <td>-2.025319</td>\n",
              "    </tr>\n",
              "    <tr>\n",
              "      <th>172</th>\n",
              "      <td>-1.946290</td>\n",
              "    </tr>\n",
              "    <tr>\n",
              "      <th>382</th>\n",
              "      <td>-1.794971</td>\n",
              "    </tr>\n",
              "    <tr>\n",
              "      <th>4</th>\n",
              "      <td>-1.775496</td>\n",
              "    </tr>\n",
              "    <tr>\n",
              "      <th>214</th>\n",
              "      <td>-1.744045</td>\n",
              "    </tr>\n",
              "  </tbody>\n",
              "</table>\n",
              "</div><br><label><b>dtype:</b> float64</label>"
            ]
          },
          "metadata": {},
          "execution_count": 77
        }
      ]
    },
    {
      "cell_type": "markdown",
      "source": [
        "What's the residual for observation with index= 174?"
      ],
      "metadata": {
        "id": "kITpqUwl4-q8"
      },
      "id": "kITpqUwl4-q8"
    },
    {
      "cell_type": "code",
      "source": [
        "residuals_bss_test.loc[174]"
      ],
      "metadata": {
        "colab": {
          "base_uri": "https://localhost:8080/"
        },
        "id": "EE04Gbf3R7Q3",
        "outputId": "ca844d34-fc4f-493c-cfe3-b93b438f1c82"
      },
      "id": "EE04Gbf3R7Q3",
      "execution_count": 78,
      "outputs": [
        {
          "output_type": "execute_result",
          "data": {
            "text/plain": [
              "0.5811193130588963"
            ]
          },
          "metadata": {},
          "execution_count": 78
        }
      ]
    },
    {
      "cell_type": "markdown",
      "source": [
        "So, the location where there was no sales is not affecting the prediction performance on the test data.\n",
        "\n",
        "Sales equals zero in this location because the values of the features in this location are conducive to low sales. In other words, given the values of the predictors for this location, sales =0 is NOT an expected result"
      ],
      "metadata": {
        "id": "0GjccGvj5adw"
      },
      "id": "0GjccGvj5adw"
    },
    {
      "cell_type": "code",
      "source": [
        "# Values of the features for the location with no sales\n",
        "\n",
        "carseats_df_dummies[carseats_df_dummies['Sales']==0][X_train_bss.columns]"
      ],
      "metadata": {
        "colab": {
          "base_uri": "https://localhost:8080/",
          "height": 81
        },
        "id": "i86miXAf570s",
        "outputId": "06cb0f78-2810-49f7-c4ad-bd1d2b6b6ebd"
      },
      "id": "i86miXAf570s",
      "execution_count": 79,
      "outputs": [
        {
          "output_type": "execute_result",
          "data": {
            "text/plain": [
              "     CompPrice  Income  Advertising  Price  Age  ShelveLoc_Good  \\\n",
              "174        139      24            0    185   79               0   \n",
              "\n",
              "     ShelveLoc_Medium  \n",
              "174                 1  "
            ],
            "text/html": [
              "\n",
              "  <div id=\"df-2b759f5b-e814-414e-a2cd-6a6912622e8e\" class=\"colab-df-container\">\n",
              "    <div>\n",
              "<style scoped>\n",
              "    .dataframe tbody tr th:only-of-type {\n",
              "        vertical-align: middle;\n",
              "    }\n",
              "\n",
              "    .dataframe tbody tr th {\n",
              "        vertical-align: top;\n",
              "    }\n",
              "\n",
              "    .dataframe thead th {\n",
              "        text-align: right;\n",
              "    }\n",
              "</style>\n",
              "<table border=\"1\" class=\"dataframe\">\n",
              "  <thead>\n",
              "    <tr style=\"text-align: right;\">\n",
              "      <th></th>\n",
              "      <th>CompPrice</th>\n",
              "      <th>Income</th>\n",
              "      <th>Advertising</th>\n",
              "      <th>Price</th>\n",
              "      <th>Age</th>\n",
              "      <th>ShelveLoc_Good</th>\n",
              "      <th>ShelveLoc_Medium</th>\n",
              "    </tr>\n",
              "  </thead>\n",
              "  <tbody>\n",
              "    <tr>\n",
              "      <th>174</th>\n",
              "      <td>139</td>\n",
              "      <td>24</td>\n",
              "      <td>0</td>\n",
              "      <td>185</td>\n",
              "      <td>79</td>\n",
              "      <td>0</td>\n",
              "      <td>1</td>\n",
              "    </tr>\n",
              "  </tbody>\n",
              "</table>\n",
              "</div>\n",
              "    <div class=\"colab-df-buttons\">\n",
              "\n",
              "  <div class=\"colab-df-container\">\n",
              "    <button class=\"colab-df-convert\" onclick=\"convertToInteractive('df-2b759f5b-e814-414e-a2cd-6a6912622e8e')\"\n",
              "            title=\"Convert this dataframe to an interactive table.\"\n",
              "            style=\"display:none;\">\n",
              "\n",
              "  <svg xmlns=\"http://www.w3.org/2000/svg\" height=\"24px\" viewBox=\"0 -960 960 960\">\n",
              "    <path d=\"M120-120v-720h720v720H120Zm60-500h600v-160H180v160Zm220 220h160v-160H400v160Zm0 220h160v-160H400v160ZM180-400h160v-160H180v160Zm440 0h160v-160H620v160ZM180-180h160v-160H180v160Zm440 0h160v-160H620v160Z\"/>\n",
              "  </svg>\n",
              "    </button>\n",
              "\n",
              "  <style>\n",
              "    .colab-df-container {\n",
              "      display:flex;\n",
              "      gap: 12px;\n",
              "    }\n",
              "\n",
              "    .colab-df-convert {\n",
              "      background-color: #E8F0FE;\n",
              "      border: none;\n",
              "      border-radius: 50%;\n",
              "      cursor: pointer;\n",
              "      display: none;\n",
              "      fill: #1967D2;\n",
              "      height: 32px;\n",
              "      padding: 0 0 0 0;\n",
              "      width: 32px;\n",
              "    }\n",
              "\n",
              "    .colab-df-convert:hover {\n",
              "      background-color: #E2EBFA;\n",
              "      box-shadow: 0px 1px 2px rgba(60, 64, 67, 0.3), 0px 1px 3px 1px rgba(60, 64, 67, 0.15);\n",
              "      fill: #174EA6;\n",
              "    }\n",
              "\n",
              "    .colab-df-buttons div {\n",
              "      margin-bottom: 4px;\n",
              "    }\n",
              "\n",
              "    [theme=dark] .colab-df-convert {\n",
              "      background-color: #3B4455;\n",
              "      fill: #D2E3FC;\n",
              "    }\n",
              "\n",
              "    [theme=dark] .colab-df-convert:hover {\n",
              "      background-color: #434B5C;\n",
              "      box-shadow: 0px 1px 3px 1px rgba(0, 0, 0, 0.15);\n",
              "      filter: drop-shadow(0px 1px 2px rgba(0, 0, 0, 0.3));\n",
              "      fill: #FFFFFF;\n",
              "    }\n",
              "  </style>\n",
              "\n",
              "    <script>\n",
              "      const buttonEl =\n",
              "        document.querySelector('#df-2b759f5b-e814-414e-a2cd-6a6912622e8e button.colab-df-convert');\n",
              "      buttonEl.style.display =\n",
              "        google.colab.kernel.accessAllowed ? 'block' : 'none';\n",
              "\n",
              "      async function convertToInteractive(key) {\n",
              "        const element = document.querySelector('#df-2b759f5b-e814-414e-a2cd-6a6912622e8e');\n",
              "        const dataTable =\n",
              "          await google.colab.kernel.invokeFunction('convertToInteractive',\n",
              "                                                    [key], {});\n",
              "        if (!dataTable) return;\n",
              "\n",
              "        const docLinkHtml = 'Like what you see? Visit the ' +\n",
              "          '<a target=\"_blank\" href=https://colab.research.google.com/notebooks/data_table.ipynb>data table notebook</a>'\n",
              "          + ' to learn more about interactive tables.';\n",
              "        element.innerHTML = '';\n",
              "        dataTable['output_type'] = 'display_data';\n",
              "        await google.colab.output.renderOutput(dataTable, element);\n",
              "        const docLink = document.createElement('div');\n",
              "        docLink.innerHTML = docLinkHtml;\n",
              "        element.appendChild(docLink);\n",
              "      }\n",
              "    </script>\n",
              "  </div>\n",
              "\n",
              "\n",
              "    </div>\n",
              "  </div>\n"
            ],
            "application/vnd.google.colaboratory.intrinsic+json": {
              "type": "dataframe",
              "summary": "{\n  \"name\": \"carseats_df_dummies[carseats_df_dummies['Sales']==0][X_train_bss\",\n  \"rows\": 1,\n  \"fields\": [\n    {\n      \"column\": \"CompPrice\",\n      \"properties\": {\n        \"dtype\": \"number\",\n        \"std\": null,\n        \"min\": 139,\n        \"max\": 139,\n        \"num_unique_values\": 1,\n        \"samples\": [\n          139\n        ],\n        \"semantic_type\": \"\",\n        \"description\": \"\"\n      }\n    },\n    {\n      \"column\": \"Income\",\n      \"properties\": {\n        \"dtype\": \"number\",\n        \"std\": null,\n        \"min\": 24,\n        \"max\": 24,\n        \"num_unique_values\": 1,\n        \"samples\": [\n          24\n        ],\n        \"semantic_type\": \"\",\n        \"description\": \"\"\n      }\n    },\n    {\n      \"column\": \"Advertising\",\n      \"properties\": {\n        \"dtype\": \"number\",\n        \"std\": null,\n        \"min\": 0,\n        \"max\": 0,\n        \"num_unique_values\": 1,\n        \"samples\": [\n          0\n        ],\n        \"semantic_type\": \"\",\n        \"description\": \"\"\n      }\n    },\n    {\n      \"column\": \"Price\",\n      \"properties\": {\n        \"dtype\": \"number\",\n        \"std\": null,\n        \"min\": 185,\n        \"max\": 185,\n        \"num_unique_values\": 1,\n        \"samples\": [\n          185\n        ],\n        \"semantic_type\": \"\",\n        \"description\": \"\"\n      }\n    },\n    {\n      \"column\": \"Age\",\n      \"properties\": {\n        \"dtype\": \"number\",\n        \"std\": null,\n        \"min\": 79,\n        \"max\": 79,\n        \"num_unique_values\": 1,\n        \"samples\": [\n          79\n        ],\n        \"semantic_type\": \"\",\n        \"description\": \"\"\n      }\n    },\n    {\n      \"column\": \"ShelveLoc_Good\",\n      \"properties\": {\n        \"dtype\": \"number\",\n        \"std\": null,\n        \"min\": 0,\n        \"max\": 0,\n        \"num_unique_values\": 1,\n        \"samples\": [\n          0\n        ],\n        \"semantic_type\": \"\",\n        \"description\": \"\"\n      }\n    },\n    {\n      \"column\": \"ShelveLoc_Medium\",\n      \"properties\": {\n        \"dtype\": \"number\",\n        \"std\": null,\n        \"min\": 1,\n        \"max\": 1,\n        \"num_unique_values\": 1,\n        \"samples\": [\n          1\n        ],\n        \"semantic_type\": \"\",\n        \"description\": \"\"\n      }\n    }\n  ]\n}"
            }
          },
          "metadata": {},
          "execution_count": 79
        }
      ]
    },
    {
      "cell_type": "code",
      "source": [
        "for col in X_train_bss.columns:\n",
        "  print (carseats_df_dummies[col].describe(),\"\\n\")"
      ],
      "metadata": {
        "colab": {
          "base_uri": "https://localhost:8080/"
        },
        "id": "SliGq1IH6GiP",
        "outputId": "6a5f9b98-53c0-4e05-a394-ad64aa361306"
      },
      "id": "SliGq1IH6GiP",
      "execution_count": 80,
      "outputs": [
        {
          "output_type": "stream",
          "name": "stdout",
          "text": [
            "count    400.000000\n",
            "mean     124.975000\n",
            "std       15.334512\n",
            "min       77.000000\n",
            "25%      115.000000\n",
            "50%      125.000000\n",
            "75%      135.000000\n",
            "max      175.000000\n",
            "Name: CompPrice, dtype: float64 \n",
            "\n",
            "count    400.000000\n",
            "mean      68.657500\n",
            "std       27.986037\n",
            "min       21.000000\n",
            "25%       42.750000\n",
            "50%       69.000000\n",
            "75%       91.000000\n",
            "max      120.000000\n",
            "Name: Income, dtype: float64 \n",
            "\n",
            "count    400.000000\n",
            "mean       6.635000\n",
            "std        6.650364\n",
            "min        0.000000\n",
            "25%        0.000000\n",
            "50%        5.000000\n",
            "75%       12.000000\n",
            "max       29.000000\n",
            "Name: Advertising, dtype: float64 \n",
            "\n",
            "count    400.000000\n",
            "mean     115.795000\n",
            "std       23.676664\n",
            "min       24.000000\n",
            "25%      100.000000\n",
            "50%      117.000000\n",
            "75%      131.000000\n",
            "max      191.000000\n",
            "Name: Price, dtype: float64 \n",
            "\n",
            "count    400.000000\n",
            "mean      53.322500\n",
            "std       16.200297\n",
            "min       25.000000\n",
            "25%       39.750000\n",
            "50%       54.500000\n",
            "75%       66.000000\n",
            "max       80.000000\n",
            "Name: Age, dtype: float64 \n",
            "\n",
            "count    400.000000\n",
            "mean       0.212500\n",
            "std        0.409589\n",
            "min        0.000000\n",
            "25%        0.000000\n",
            "50%        0.000000\n",
            "75%        0.000000\n",
            "max        1.000000\n",
            "Name: ShelveLoc_Good, dtype: float64 \n",
            "\n",
            "count    400.000000\n",
            "mean       0.547500\n",
            "std        0.498362\n",
            "min        0.000000\n",
            "25%        0.000000\n",
            "50%        1.000000\n",
            "75%        1.000000\n",
            "max        1.000000\n",
            "Name: ShelveLoc_Medium, dtype: float64 \n",
            "\n"
          ]
        }
      ]
    },
    {
      "cell_type": "markdown",
      "source": [
        "**IGNORE**\n",
        "\n",
        "I COMPUTED THIS RESIDUAL STEP BY STEP"
      ],
      "metadata": {
        "id": "1iTOGLm75HaE"
      },
      "id": "1iTOGLm75HaE"
    },
    {
      "cell_type": "code",
      "source": [
        "y_test_car.loc[174]"
      ],
      "metadata": {
        "colab": {
          "base_uri": "https://localhost:8080/"
        },
        "id": "BPzaEWeFSRJU",
        "outputId": "c0f760ce-0471-417f-abbb-ac181ca268e0"
      },
      "id": "BPzaEWeFSRJU",
      "execution_count": 81,
      "outputs": [
        {
          "output_type": "execute_result",
          "data": {
            "text/plain": [
              "0.0"
            ]
          },
          "metadata": {},
          "execution_count": 81
        }
      ]
    },
    {
      "cell_type": "code",
      "source": [
        "position = y_test_car.index.get_loc(174)"
      ],
      "metadata": {
        "id": "zsj5HfJxSYZc"
      },
      "id": "zsj5HfJxSYZc",
      "execution_count": 82,
      "outputs": []
    },
    {
      "cell_type": "code",
      "source": [
        "predicted_value_174 = y_pred_cars_bss_test[position]"
      ],
      "metadata": {
        "id": "5gBg78o_ScbR"
      },
      "id": "5gBg78o_ScbR",
      "execution_count": 83,
      "outputs": []
    },
    {
      "cell_type": "code",
      "source": [
        "predicted_value_174"
      ],
      "metadata": {
        "colab": {
          "base_uri": "https://localhost:8080/"
        },
        "id": "aYZUmLjJTiiC",
        "outputId": "98dc34cd-3408-4eae-d24a-330eae8791ab"
      },
      "id": "aYZUmLjJTiiC",
      "execution_count": 84,
      "outputs": [
        {
          "output_type": "execute_result",
          "data": {
            "text/plain": [
              "-0.5811193130588963"
            ]
          },
          "metadata": {},
          "execution_count": 84
        }
      ]
    },
    {
      "cell_type": "code",
      "source": [
        "# Residual\n",
        "\n",
        "0 - (-0.5811193130588963)"
      ],
      "metadata": {
        "colab": {
          "base_uri": "https://localhost:8080/"
        },
        "id": "affPr7WpTlst",
        "outputId": "a97c0ce1-39d5-4494-ae72-38c04c542b1d"
      },
      "id": "affPr7WpTlst",
      "execution_count": 85,
      "outputs": [
        {
          "output_type": "execute_result",
          "data": {
            "text/plain": [
              "0.5811193130588963"
            ]
          },
          "metadata": {},
          "execution_count": 85
        }
      ]
    }
  ],
  "metadata": {
    "kernelspec": {
      "display_name": "Python 3",
      "name": "python3"
    },
    "language_info": {
      "codemirror_mode": {
        "name": "ipython",
        "version": 3
      },
      "file_extension": ".py",
      "mimetype": "text/x-python",
      "name": "python",
      "nbconvert_exporter": "python",
      "pygments_lexer": "ipython3",
      "version": "3.9.13"
    },
    "colab": {
      "provenance": [],
      "toc_visible": true,
      "include_colab_link": true
    }
  },
  "nbformat": 4,
  "nbformat_minor": 5
}