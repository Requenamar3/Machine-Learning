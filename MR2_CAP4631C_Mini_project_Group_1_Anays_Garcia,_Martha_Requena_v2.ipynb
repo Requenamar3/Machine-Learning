{
  "cells": [
    {
      "cell_type": "markdown",
      "metadata": {
        "id": "view-in-github",
        "colab_type": "text"
      },
      "source": [
        "<a href=\"https://colab.research.google.com/github/Requenamar3/Machine-Learning/blob/main/MR2_CAP4631C_Mini_project_Group_1_Anays_Garcia%2C_Martha_Requena_v2.ipynb\" target=\"_parent\"><img src=\"https://colab.research.google.com/assets/colab-badge.svg\" alt=\"Open In Colab\"/></a>"
      ]
    },
    {
      "cell_type": "markdown",
      "metadata": {
        "id": "NItAcnXNWs0e"
      },
      "source": [
        "# Comprehensive Assignment / Mini Project\n",
        "\n",
        "### CAP 4631C - Spring 2025\n",
        "\n",
        "## General Instructions\n",
        "\n",
        "# 1. **Submission Requirements:**\n",
        "# - Every member of the group MUST submit the same iPython Notebook on Canvas.\n",
        "# - You are only allowed **one** question/clarification for this assignment. If something is unclear, make a **reasonable assumption** and document it.\n",
        "# - Use **5% as the threshold** for assessing percentage reduction or increase when applicable.\n",
        "\n",
        "---\n",
        "\n"
      ]
    },
    {
      "cell_type": "code",
      "execution_count": null,
      "metadata": {
        "id": "E_2ePxybXAkw"
      },
      "outputs": [],
      "source": [
        "# Import necessary libraries for data processing and numerical calculations\n",
        "import numpy as np  # For numerical calculations\n",
        "import pandas as pd  # For handling datasets\n",
        "\n",
        "# Import visualization libraries\n",
        "import matplotlib.pyplot as plt  # For data visualization\n",
        "\n",
        "# Import dataset library\n",
        "from sklearn import datasets  # For loading sample datasets\n",
        "\n",
        "# Import model selection and evaluation tools\n",
        "from sklearn.model_selection import train_test_split, cross_val_score, KFold, GridSearchCV  # For model training, validation, and hyperparameter tuning\n",
        "from sklearn.metrics import mean_squared_error, root_mean_squared_error, r2_score\n",
        "\n",
        "# Import machine learning models - Regression\n",
        "from sklearn.linear_model import LinearRegression  # Linear regression model\n",
        "from sklearn.tree import DecisionTreeRegressor  # Decision tree regression model\n",
        "from sklearn import tree  # For visualizing decision trees\n",
        "# Explicitly import plot_tree function\n",
        "from sklearn.tree import plot_tree\n",
        "from sklearn.preprocessing import PolynomialFeatures  # Creating polynomial features\n",
        "from sklearn.pipeline import Pipeline  # Automating preprocessing + modeling\n",
        "from sklearn.preprocessing import StandardScaler # Used to center or standardize the desised variable(s)\n",
        "\n",
        "# Import ensemble learning models - Forest-based\n",
        "from sklearn.ensemble import RandomForestRegressor  # Random forest regression model\n",
        "from sklearn.ensemble import ExtraTreesRegressor  # Extremely Randomized Trees for regression\n",
        "\n",
        "# Import ensemble learning models - Boosting\n",
        "from sklearn.ensemble import GradientBoostingRegressor  # Gradient Boosting regression model\n",
        "from sklearn.ensemble import AdaBoostRegressor  # AdaBoost regression model\n",
        "from sklearn.ensemble import BaggingRegressor  # Bagging regression model"
      ]
    },
    {
      "cell_type": "markdown",
      "metadata": {
        "id": "3f6IynqZOaYP"
      },
      "source": [
        "---\n",
        "---\n",
        "# **Question 1 (30 points): Linear Regression & Best Subset Selection**\n",
        "\n",
        "# **Instructions:**\n",
        "# - Use the `diabetes_df` dataset.\n",
        "# - Outcome variable: `Y`\n",
        "# - Predictors: All columns except `Y`"
      ]
    },
    {
      "cell_type": "markdown",
      "metadata": {
        "id": "S7HBtz1MQmxc"
      },
      "source": [
        "## - **Diabetes Dataset** (from `sklearn.datasets`)"
      ]
    },
    {
      "cell_type": "markdown",
      "metadata": {
        "id": "o42wt3SmcUwm"
      },
      "source": [
        "### **Understanding Diabetes Progression with Linear Regression**\n",
        "\n",
        "---\n",
        "Imagine you're a data scientist tasked with predicting the progression of diabetes based on patient characteristics such as BMI (Body Mass Index), age, and other medical indicators. You want to build a machine learning model that helps doctors estimate the severity of diabetes for different patients. The dataset you have is from **Scikit-learn's Diabetes dataset**, which includes 10 independent variables (features) and one dependent variable (target), which represents a measure of diabetes progression.\n",
        "\n",
        "---\n"
      ]
    },
    {
      "cell_type": "code",
      "execution_count": null,
      "metadata": {
        "id": "_51HQAGyQhWd"
      },
      "outputs": [],
      "source": [
        "diabetes_data = datasets.load_diabetes()\n",
        "diabetes_df = pd.DataFrame(diabetes_data.data, columns=diabetes_data.feature_names)\n",
        "diabetes_df['Y'] = diabetes_data.target"
      ]
    },
    {
      "cell_type": "code",
      "execution_count": null,
      "metadata": {
        "id": "hd5uvwYPwYsR"
      },
      "outputs": [],
      "source": [
        "# Separate the independent variables (features) and the dependent variable (target)\n",
        "x_all_diabetes = diabetes_df.drop('Y', axis=1)  # All predictors\n",
        "y = diabetes_df['Y']  # Target variable"
      ]
    },
    {
      "cell_type": "markdown",
      "metadata": {
        "id": "uuxvlNg9Oin1"
      },
      "source": [
        "# **Part (a): Train Linear Regression with BMI & Age as predictors**\n"
      ]
    },
    {
      "cell_type": "code",
      "execution_count": null,
      "metadata": {
        "id": "TlCyslSezVIL"
      },
      "outputs": [],
      "source": [
        "# Split the dataset into training and testing sets (80% train, 20% test)\n",
        "x_train_d, x_test_d, y_train_d, y_test_d = train_test_split(x_all_diabetes, y, test_size=0.2, random_state=1)\n"
      ]
    },
    {
      "cell_type": "code",
      "execution_count": null,
      "metadata": {
        "id": "ZmjXEN057cv9"
      },
      "outputs": [],
      "source": [
        "# Select only 'bmi' and 'age' as independent variables\n",
        "x_train_diabet = x_train_d[['bmi', 'age']]\n",
        "x_test_diabet = x_test_d[['bmi', 'age']]"
      ]
    },
    {
      "cell_type": "code",
      "execution_count": null,
      "metadata": {
        "id": "3LhZSF6yfDnw"
      },
      "outputs": [],
      "source": [
        "# Train a linear regression model using only 'bmi' and 'age'\n",
        "lr_diabet_model = LinearRegression().fit(x_train_diabet, y_train_d)"
      ]
    },
    {
      "cell_type": "markdown",
      "metadata": {
        "id": "bcftroe5QA4J"
      },
      "source": [
        "# - Write the regression equation."
      ]
    },
    {
      "cell_type": "code",
      "execution_count": null,
      "metadata": {
        "id": "nq6S4I3rC1MQ"
      },
      "outputs": [],
      "source": [
        "# Retrieve the intercept and coefficients of the trained model\n",
        "intercept = lr_diabet_model.intercept_\n",
        "coefficients = lr_diabet_model.coef_"
      ]
    },
    {
      "cell_type": "code",
      "execution_count": null,
      "metadata": {
        "colab": {
          "base_uri": "https://localhost:8080/"
        },
        "id": "Oq0TWJfjCVPQ",
        "outputId": "4b112cda-e376-4a82-d9b1-3f612b7974b5"
      },
      "outputs": [
        {
          "output_type": "stream",
          "name": "stdout",
          "text": [
            "Regression Equation: Y = 151.7227 + 953.9009*bmi + 99.7463*age\n"
          ]
        }
      ],
      "source": [
        "# Print regression equation\n",
        "equation = f\"Y = {intercept:.4f} + {coefficients[0]:.4f}*bmi + {coefficients[1]:.4f}*age\"\n",
        "print(\"Regression Equation:\", equation)"
      ]
    },
    {
      "cell_type": "markdown",
      "metadata": {
        "id": "WiZK9z5XQE1u"
      },
      "source": [
        "# - Compute the **test Mean Squared Error (MSE)**."
      ]
    },
    {
      "cell_type": "code",
      "execution_count": null,
      "metadata": {
        "colab": {
          "base_uri": "https://localhost:8080/"
        },
        "id": "x0QkEheBRaP6",
        "outputId": "7bddd0cd-214e-46fc-9c24-fe41cc7467af"
      },
      "outputs": [
        {
          "output_type": "stream",
          "name": "stdout",
          "text": [
            "\n",
            "Test Mean Squared Error for Linear Regression Model: 3889.760177676556\n"
          ]
        }
      ],
      "source": [
        "# Obtain predictions on the test set\n",
        "y_pred_test_lr = lr_diabet_model.predict(x_test_diabet)\n",
        "\n",
        "# Compute Mean Squared Error (MSE)\n",
        "mse = mean_squared_error(y_test_d, y_pred_test_lr)\n",
        "\n",
        "# Display MSE\n",
        "print(\"\\nTest Mean Squared Error for Linear Regression Model:\", mse)"
      ]
    },
    {
      "cell_type": "code",
      "source": [
        "rmse_lr = np.sqrt(mean_squared_error(y_test_d, y_pred_test_lr))\n",
        "print(\"Root Mean Squared Error Lr:\", rmse_lr)\n"
      ],
      "metadata": {
        "colab": {
          "base_uri": "https://localhost:8080/"
        },
        "id": "xwoM5bOLl8um",
        "outputId": "f5969282-ec13-481b-d494-fb889819cb5f"
      },
      "execution_count": null,
      "outputs": [
        {
          "output_type": "stream",
          "name": "stdout",
          "text": [
            "Root Mean Squared Error Lr: 62.36794190669238\n"
          ]
        }
      ]
    },
    {
      "cell_type": "code",
      "source": [
        "# Normalizing the RMSE by dividing it by the mean of the target variable\n",
        "normalized_rmse_lr = rmse_lr / np.mean(y)"
      ],
      "metadata": {
        "id": "APZWG0i8tDsF"
      },
      "execution_count": null,
      "outputs": []
    },
    {
      "cell_type": "code",
      "source": [
        "# Printing results\n",
        "print(\"Root Mean Squared Error for Lr:\", rmse_lr)\n",
        "print(\"Normalized RMSE Lr:\", normalized_rmse_lr)"
      ],
      "metadata": {
        "colab": {
          "base_uri": "https://localhost:8080/"
        },
        "outputId": "d7565f86-21e6-4668-f440-63b44e5458e3",
        "id": "AJx_cLePtDsF"
      },
      "execution_count": null,
      "outputs": [
        {
          "output_type": "stream",
          "name": "stdout",
          "text": [
            "Root Mean Squared Error for Lr: 62.36794190669238\n",
            "Normalized RMSE Lr: 0.4099553904905794\n"
          ]
        }
      ]
    },
    {
      "cell_type": "markdown",
      "metadata": {
        "id": "xcOwEx3xQaU5"
      },
      "source": [
        "---\n"
      ]
    },
    {
      "cell_type": "markdown",
      "metadata": {
        "id": "GzfShrp7uIBF"
      },
      "source": [
        "##**Part (b): Best Subset Selection**"
      ]
    },
    {
      "cell_type": "code",
      "execution_count": null,
      "metadata": {
        "id": "7YjqBkbeP6pq"
      },
      "outputs": [],
      "source": [
        "# Run an external script (bss_definitions.py) from the specified directory\n",
        "%run \"/content/sample_data/bss_definitions.py\"\n",
        "\n"
      ]
    },
    {
      "cell_type": "code",
      "execution_count": null,
      "metadata": {
        "colab": {
          "base_uri": "https://localhost:8080/"
        },
        "collapsed": true,
        "id": "6x7OTzqB3UBB",
        "outputId": "e80b082f-986b-4319-db46-0daeda125d25"
      },
      "outputs": [
        {
          "output_type": "stream",
          "name": "stdout",
          "text": [
            "Cross-validation results for predictors: ['bmi']\n",
            "Cross-validation MSE values: [4428.58156781 3744.94528957 3449.02844641 5168.69924663 4100.97206098\n",
            " 3333.42686357 3572.49578957 3320.55211654 3569.1143104  4362.38219425]\n",
            "Mean cross-validation MSE: 3905.0198\n",
            "\n"
          ]
        },
        {
          "output_type": "stream",
          "name": "stderr",
          "text": [
            "/content/sample_data/bss_definitions.py:155: FutureWarning: The behavior of DataFrame concatenation with empty or all-NA entries is deprecated. In a future version, this will no longer exclude empty or all-NA columns when determining the result dtypes. To retain the old behavior, exclude the relevant entries before the concat operation.\n",
            "  out_df = pd.concat([out_df, df_iteration], ignore_index=True)\n"
          ]
        },
        {
          "output_type": "stream",
          "name": "stdout",
          "text": [
            "Cross-validation results for predictors: ['bmi', 's5']\n",
            "Cross-validation MSE values: [3627.25716083 3314.60374146 3403.72448862 4063.33802171 3620.28499082\n",
            " 2965.32576376 3035.39356039 2535.75424936 2612.15419454 3249.17233194]\n",
            "Mean cross-validation MSE: 3242.7009\n",
            "\n",
            "Cross-validation results for predictors: ['bmi', 'bp', 's5']\n",
            "Cross-validation MSE values: [3370.14873007 3351.09415337 3781.19404891 3612.61432856 3447.79996499\n",
            " 2832.76416333 2892.68468224 2425.49105815 2563.18859693 3209.45307596]\n",
            "Mean cross-validation MSE: 3148.6433\n",
            "\n",
            "Cross-validation results for predictors: ['bmi', 'bp', 's3', 's5']\n",
            "Cross-validation MSE values: [3233.92018207 3397.47425965 3517.09836969 3413.70202595 3449.74626566\n",
            " 2597.46994378 2847.98880853 2498.05480369 2685.74173376 3094.02162371]\n",
            "Mean cross-validation MSE: 3073.5218\n",
            "\n",
            "Cross-validation results for predictors: ['sex', 'bmi', 'bp', 's3', 's5']\n",
            "Cross-validation MSE values: [2933.3090766  3010.84058364 3479.61214591 3262.24990297 3099.89312772\n",
            " 2408.3177409  3144.61572841 2511.57620211 2745.58677716 3006.80376343]\n",
            "Mean cross-validation MSE: 2960.2805\n",
            "\n",
            "Cross-validation results for predictors: ['sex', 'bmi', 'bp', 's1', 's3', 's5']\n",
            "Cross-validation MSE values: [2943.51186922 3087.00393712 3469.42357845 3170.47243862 3328.24537363\n",
            " 2433.01811985 3141.46655559 2550.09172147 2651.65266862 2910.06418774]\n",
            "Mean cross-validation MSE: 2968.495\n",
            "\n",
            "Cross-validation results for predictors: ['sex', 'bmi', 'bp', 's1', 's2', 's4', 's5']\n",
            "Cross-validation MSE values: [2879.28558224 3231.41834059 3477.56283405 3164.3013503  3357.77173449\n",
            " 2357.35330072 3163.06220958 2554.07202974 2595.71038493 2913.48941042]\n",
            "Mean cross-validation MSE: 2969.4027\n",
            "\n",
            "Cross-validation results for predictors: ['sex', 'bmi', 'bp', 's1', 's2', 's4', 's5', 's6']\n",
            "Cross-validation MSE values: [2901.37293339 3309.62297061 3455.74182256 3163.80195317 3381.33037118\n",
            " 2387.03748895 3201.3313335  2528.31454994 2568.15830641 2889.8593286 ]\n",
            "Mean cross-validation MSE: 2978.6571\n",
            "\n",
            "Cross-validation results for predictors: ['age', 'sex', 'bmi', 'bp', 's1', 's2', 's4', 's5', 's6']\n",
            "Cross-validation MSE values: [2902.75800053 3335.16756345 3462.59712433 3193.24114449 3393.48455022\n",
            " 2386.94264474 3197.91645055 2537.05867017 2606.59836454 2907.46037064]\n",
            "Mean cross-validation MSE: 2992.3225\n",
            "\n",
            "Cross-validation results for predictors: ['age', 'sex', 'bmi', 'bp', 's1', 's2', 's3', 's4', 's5', 's6']\n",
            "Cross-validation MSE values: [2920.12008994 3402.34969106 3465.25975863 3193.36331192 3408.68633794\n",
            " 2412.16749769 3200.2098614  2541.62214976 2655.38094853 2907.41150226]\n",
            "Mean cross-validation MSE: 3010.6571\n",
            "\n"
          ]
        }
      ],
      "source": [
        "# Perform best subset selection\n",
        "bss_cv_diabet = my_best_subset_selection_cv(x_train_d, y_train_d, folds=10)\n"
      ]
    },
    {
      "cell_type": "markdown",
      "metadata": {
        "id": "Meut-elZOn29"
      },
      "source": [
        "# - Identify the **best predictors** for predicting `Y`.\n"
      ]
    },
    {
      "cell_type": "code",
      "execution_count": null,
      "metadata": {
        "colab": {
          "base_uri": "https://localhost:8080/",
          "height": 363
        },
        "id": "q46MKBSGYzcL",
        "outputId": "0c64837a-cc02-41ef-c9e0-deb9e3f9da4a"
      },
      "outputs": [
        {
          "output_type": "execute_result",
          "data": {
            "text/plain": [
              "                                    Predictors  Mean_CV_MSE\n",
              "0                                        [bmi]    3905.0198\n",
              "1                                    [bmi, s5]    3242.7009\n",
              "2                                [bmi, bp, s5]    3148.6433\n",
              "3                            [bmi, bp, s3, s5]    3073.5218\n",
              "4                       [sex, bmi, bp, s3, s5]    2960.2805\n",
              "5                   [sex, bmi, bp, s1, s3, s5]    2968.4950\n",
              "6               [sex, bmi, bp, s1, s2, s4, s5]    2969.4027\n",
              "7           [sex, bmi, bp, s1, s2, s4, s5, s6]    2978.6571\n",
              "8      [age, sex, bmi, bp, s1, s2, s4, s5, s6]    2992.3225\n",
              "9  [age, sex, bmi, bp, s1, s2, s3, s4, s5, s6]    3010.6571"
            ],
            "text/html": [
              "\n",
              "  <div id=\"df-2e80790b-9f34-40c5-89a6-4c7bb978e278\" class=\"colab-df-container\">\n",
              "    <div>\n",
              "<style scoped>\n",
              "    .dataframe tbody tr th:only-of-type {\n",
              "        vertical-align: middle;\n",
              "    }\n",
              "\n",
              "    .dataframe tbody tr th {\n",
              "        vertical-align: top;\n",
              "    }\n",
              "\n",
              "    .dataframe thead th {\n",
              "        text-align: right;\n",
              "    }\n",
              "</style>\n",
              "<table border=\"1\" class=\"dataframe\">\n",
              "  <thead>\n",
              "    <tr style=\"text-align: right;\">\n",
              "      <th></th>\n",
              "      <th>Predictors</th>\n",
              "      <th>Mean_CV_MSE</th>\n",
              "    </tr>\n",
              "  </thead>\n",
              "  <tbody>\n",
              "    <tr>\n",
              "      <th>0</th>\n",
              "      <td>[bmi]</td>\n",
              "      <td>3905.0198</td>\n",
              "    </tr>\n",
              "    <tr>\n",
              "      <th>1</th>\n",
              "      <td>[bmi, s5]</td>\n",
              "      <td>3242.7009</td>\n",
              "    </tr>\n",
              "    <tr>\n",
              "      <th>2</th>\n",
              "      <td>[bmi, bp, s5]</td>\n",
              "      <td>3148.6433</td>\n",
              "    </tr>\n",
              "    <tr>\n",
              "      <th>3</th>\n",
              "      <td>[bmi, bp, s3, s5]</td>\n",
              "      <td>3073.5218</td>\n",
              "    </tr>\n",
              "    <tr>\n",
              "      <th>4</th>\n",
              "      <td>[sex, bmi, bp, s3, s5]</td>\n",
              "      <td>2960.2805</td>\n",
              "    </tr>\n",
              "    <tr>\n",
              "      <th>5</th>\n",
              "      <td>[sex, bmi, bp, s1, s3, s5]</td>\n",
              "      <td>2968.4950</td>\n",
              "    </tr>\n",
              "    <tr>\n",
              "      <th>6</th>\n",
              "      <td>[sex, bmi, bp, s1, s2, s4, s5]</td>\n",
              "      <td>2969.4027</td>\n",
              "    </tr>\n",
              "    <tr>\n",
              "      <th>7</th>\n",
              "      <td>[sex, bmi, bp, s1, s2, s4, s5, s6]</td>\n",
              "      <td>2978.6571</td>\n",
              "    </tr>\n",
              "    <tr>\n",
              "      <th>8</th>\n",
              "      <td>[age, sex, bmi, bp, s1, s2, s4, s5, s6]</td>\n",
              "      <td>2992.3225</td>\n",
              "    </tr>\n",
              "    <tr>\n",
              "      <th>9</th>\n",
              "      <td>[age, sex, bmi, bp, s1, s2, s3, s4, s5, s6]</td>\n",
              "      <td>3010.6571</td>\n",
              "    </tr>\n",
              "  </tbody>\n",
              "</table>\n",
              "</div>\n",
              "    <div class=\"colab-df-buttons\">\n",
              "\n",
              "  <div class=\"colab-df-container\">\n",
              "    <button class=\"colab-df-convert\" onclick=\"convertToInteractive('df-2e80790b-9f34-40c5-89a6-4c7bb978e278')\"\n",
              "            title=\"Convert this dataframe to an interactive table.\"\n",
              "            style=\"display:none;\">\n",
              "\n",
              "  <svg xmlns=\"http://www.w3.org/2000/svg\" height=\"24px\" viewBox=\"0 -960 960 960\">\n",
              "    <path d=\"M120-120v-720h720v720H120Zm60-500h600v-160H180v160Zm220 220h160v-160H400v160Zm0 220h160v-160H400v160ZM180-400h160v-160H180v160Zm440 0h160v-160H620v160ZM180-180h160v-160H180v160Zm440 0h160v-160H620v160Z\"/>\n",
              "  </svg>\n",
              "    </button>\n",
              "\n",
              "  <style>\n",
              "    .colab-df-container {\n",
              "      display:flex;\n",
              "      gap: 12px;\n",
              "    }\n",
              "\n",
              "    .colab-df-convert {\n",
              "      background-color: #E8F0FE;\n",
              "      border: none;\n",
              "      border-radius: 50%;\n",
              "      cursor: pointer;\n",
              "      display: none;\n",
              "      fill: #1967D2;\n",
              "      height: 32px;\n",
              "      padding: 0 0 0 0;\n",
              "      width: 32px;\n",
              "    }\n",
              "\n",
              "    .colab-df-convert:hover {\n",
              "      background-color: #E2EBFA;\n",
              "      box-shadow: 0px 1px 2px rgba(60, 64, 67, 0.3), 0px 1px 3px 1px rgba(60, 64, 67, 0.15);\n",
              "      fill: #174EA6;\n",
              "    }\n",
              "\n",
              "    .colab-df-buttons div {\n",
              "      margin-bottom: 4px;\n",
              "    }\n",
              "\n",
              "    [theme=dark] .colab-df-convert {\n",
              "      background-color: #3B4455;\n",
              "      fill: #D2E3FC;\n",
              "    }\n",
              "\n",
              "    [theme=dark] .colab-df-convert:hover {\n",
              "      background-color: #434B5C;\n",
              "      box-shadow: 0px 1px 3px 1px rgba(0, 0, 0, 0.15);\n",
              "      filter: drop-shadow(0px 1px 2px rgba(0, 0, 0, 0.3));\n",
              "      fill: #FFFFFF;\n",
              "    }\n",
              "  </style>\n",
              "\n",
              "    <script>\n",
              "      const buttonEl =\n",
              "        document.querySelector('#df-2e80790b-9f34-40c5-89a6-4c7bb978e278 button.colab-df-convert');\n",
              "      buttonEl.style.display =\n",
              "        google.colab.kernel.accessAllowed ? 'block' : 'none';\n",
              "\n",
              "      async function convertToInteractive(key) {\n",
              "        const element = document.querySelector('#df-2e80790b-9f34-40c5-89a6-4c7bb978e278');\n",
              "        const dataTable =\n",
              "          await google.colab.kernel.invokeFunction('convertToInteractive',\n",
              "                                                    [key], {});\n",
              "        if (!dataTable) return;\n",
              "\n",
              "        const docLinkHtml = 'Like what you see? Visit the ' +\n",
              "          '<a target=\"_blank\" href=https://colab.research.google.com/notebooks/data_table.ipynb>data table notebook</a>'\n",
              "          + ' to learn more about interactive tables.';\n",
              "        element.innerHTML = '';\n",
              "        dataTable['output_type'] = 'display_data';\n",
              "        await google.colab.output.renderOutput(dataTable, element);\n",
              "        const docLink = document.createElement('div');\n",
              "        docLink.innerHTML = docLinkHtml;\n",
              "        element.appendChild(docLink);\n",
              "      }\n",
              "    </script>\n",
              "  </div>\n",
              "\n",
              "\n",
              "<div id=\"df-e7658b8e-304f-417e-9496-bc73afe7713b\">\n",
              "  <button class=\"colab-df-quickchart\" onclick=\"quickchart('df-e7658b8e-304f-417e-9496-bc73afe7713b')\"\n",
              "            title=\"Suggest charts\"\n",
              "            style=\"display:none;\">\n",
              "\n",
              "<svg xmlns=\"http://www.w3.org/2000/svg\" height=\"24px\"viewBox=\"0 0 24 24\"\n",
              "     width=\"24px\">\n",
              "    <g>\n",
              "        <path d=\"M19 3H5c-1.1 0-2 .9-2 2v14c0 1.1.9 2 2 2h14c1.1 0 2-.9 2-2V5c0-1.1-.9-2-2-2zM9 17H7v-7h2v7zm4 0h-2V7h2v10zm4 0h-2v-4h2v4z\"/>\n",
              "    </g>\n",
              "</svg>\n",
              "  </button>\n",
              "\n",
              "<style>\n",
              "  .colab-df-quickchart {\n",
              "      --bg-color: #E8F0FE;\n",
              "      --fill-color: #1967D2;\n",
              "      --hover-bg-color: #E2EBFA;\n",
              "      --hover-fill-color: #174EA6;\n",
              "      --disabled-fill-color: #AAA;\n",
              "      --disabled-bg-color: #DDD;\n",
              "  }\n",
              "\n",
              "  [theme=dark] .colab-df-quickchart {\n",
              "      --bg-color: #3B4455;\n",
              "      --fill-color: #D2E3FC;\n",
              "      --hover-bg-color: #434B5C;\n",
              "      --hover-fill-color: #FFFFFF;\n",
              "      --disabled-bg-color: #3B4455;\n",
              "      --disabled-fill-color: #666;\n",
              "  }\n",
              "\n",
              "  .colab-df-quickchart {\n",
              "    background-color: var(--bg-color);\n",
              "    border: none;\n",
              "    border-radius: 50%;\n",
              "    cursor: pointer;\n",
              "    display: none;\n",
              "    fill: var(--fill-color);\n",
              "    height: 32px;\n",
              "    padding: 0;\n",
              "    width: 32px;\n",
              "  }\n",
              "\n",
              "  .colab-df-quickchart:hover {\n",
              "    background-color: var(--hover-bg-color);\n",
              "    box-shadow: 0 1px 2px rgba(60, 64, 67, 0.3), 0 1px 3px 1px rgba(60, 64, 67, 0.15);\n",
              "    fill: var(--button-hover-fill-color);\n",
              "  }\n",
              "\n",
              "  .colab-df-quickchart-complete:disabled,\n",
              "  .colab-df-quickchart-complete:disabled:hover {\n",
              "    background-color: var(--disabled-bg-color);\n",
              "    fill: var(--disabled-fill-color);\n",
              "    box-shadow: none;\n",
              "  }\n",
              "\n",
              "  .colab-df-spinner {\n",
              "    border: 2px solid var(--fill-color);\n",
              "    border-color: transparent;\n",
              "    border-bottom-color: var(--fill-color);\n",
              "    animation:\n",
              "      spin 1s steps(1) infinite;\n",
              "  }\n",
              "\n",
              "  @keyframes spin {\n",
              "    0% {\n",
              "      border-color: transparent;\n",
              "      border-bottom-color: var(--fill-color);\n",
              "      border-left-color: var(--fill-color);\n",
              "    }\n",
              "    20% {\n",
              "      border-color: transparent;\n",
              "      border-left-color: var(--fill-color);\n",
              "      border-top-color: var(--fill-color);\n",
              "    }\n",
              "    30% {\n",
              "      border-color: transparent;\n",
              "      border-left-color: var(--fill-color);\n",
              "      border-top-color: var(--fill-color);\n",
              "      border-right-color: var(--fill-color);\n",
              "    }\n",
              "    40% {\n",
              "      border-color: transparent;\n",
              "      border-right-color: var(--fill-color);\n",
              "      border-top-color: var(--fill-color);\n",
              "    }\n",
              "    60% {\n",
              "      border-color: transparent;\n",
              "      border-right-color: var(--fill-color);\n",
              "    }\n",
              "    80% {\n",
              "      border-color: transparent;\n",
              "      border-right-color: var(--fill-color);\n",
              "      border-bottom-color: var(--fill-color);\n",
              "    }\n",
              "    90% {\n",
              "      border-color: transparent;\n",
              "      border-bottom-color: var(--fill-color);\n",
              "    }\n",
              "  }\n",
              "</style>\n",
              "\n",
              "  <script>\n",
              "    async function quickchart(key) {\n",
              "      const quickchartButtonEl =\n",
              "        document.querySelector('#' + key + ' button');\n",
              "      quickchartButtonEl.disabled = true;  // To prevent multiple clicks.\n",
              "      quickchartButtonEl.classList.add('colab-df-spinner');\n",
              "      try {\n",
              "        const charts = await google.colab.kernel.invokeFunction(\n",
              "            'suggestCharts', [key], {});\n",
              "      } catch (error) {\n",
              "        console.error('Error during call to suggestCharts:', error);\n",
              "      }\n",
              "      quickchartButtonEl.classList.remove('colab-df-spinner');\n",
              "      quickchartButtonEl.classList.add('colab-df-quickchart-complete');\n",
              "    }\n",
              "    (() => {\n",
              "      let quickchartButtonEl =\n",
              "        document.querySelector('#df-e7658b8e-304f-417e-9496-bc73afe7713b button');\n",
              "      quickchartButtonEl.style.display =\n",
              "        google.colab.kernel.accessAllowed ? 'block' : 'none';\n",
              "    })();\n",
              "  </script>\n",
              "</div>\n",
              "\n",
              "  <div id=\"id_afbf0eec-ad72-4dae-a071-289738401216\">\n",
              "    <style>\n",
              "      .colab-df-generate {\n",
              "        background-color: #E8F0FE;\n",
              "        border: none;\n",
              "        border-radius: 50%;\n",
              "        cursor: pointer;\n",
              "        display: none;\n",
              "        fill: #1967D2;\n",
              "        height: 32px;\n",
              "        padding: 0 0 0 0;\n",
              "        width: 32px;\n",
              "      }\n",
              "\n",
              "      .colab-df-generate:hover {\n",
              "        background-color: #E2EBFA;\n",
              "        box-shadow: 0px 1px 2px rgba(60, 64, 67, 0.3), 0px 1px 3px 1px rgba(60, 64, 67, 0.15);\n",
              "        fill: #174EA6;\n",
              "      }\n",
              "\n",
              "      [theme=dark] .colab-df-generate {\n",
              "        background-color: #3B4455;\n",
              "        fill: #D2E3FC;\n",
              "      }\n",
              "\n",
              "      [theme=dark] .colab-df-generate:hover {\n",
              "        background-color: #434B5C;\n",
              "        box-shadow: 0px 1px 3px 1px rgba(0, 0, 0, 0.15);\n",
              "        filter: drop-shadow(0px 1px 2px rgba(0, 0, 0, 0.3));\n",
              "        fill: #FFFFFF;\n",
              "      }\n",
              "    </style>\n",
              "    <button class=\"colab-df-generate\" onclick=\"generateWithVariable('bss_cv_diabet')\"\n",
              "            title=\"Generate code using this dataframe.\"\n",
              "            style=\"display:none;\">\n",
              "\n",
              "  <svg xmlns=\"http://www.w3.org/2000/svg\" height=\"24px\"viewBox=\"0 0 24 24\"\n",
              "       width=\"24px\">\n",
              "    <path d=\"M7,19H8.4L18.45,9,17,7.55,7,17.6ZM5,21V16.75L18.45,3.32a2,2,0,0,1,2.83,0l1.4,1.43a1.91,1.91,0,0,1,.58,1.4,1.91,1.91,0,0,1-.58,1.4L9.25,21ZM18.45,9,17,7.55Zm-12,3A5.31,5.31,0,0,0,4.9,8.1,5.31,5.31,0,0,0,1,6.5,5.31,5.31,0,0,0,4.9,4.9,5.31,5.31,0,0,0,6.5,1,5.31,5.31,0,0,0,8.1,4.9,5.31,5.31,0,0,0,12,6.5,5.46,5.46,0,0,0,6.5,12Z\"/>\n",
              "  </svg>\n",
              "    </button>\n",
              "    <script>\n",
              "      (() => {\n",
              "      const buttonEl =\n",
              "        document.querySelector('#id_afbf0eec-ad72-4dae-a071-289738401216 button.colab-df-generate');\n",
              "      buttonEl.style.display =\n",
              "        google.colab.kernel.accessAllowed ? 'block' : 'none';\n",
              "\n",
              "      buttonEl.onclick = () => {\n",
              "        google.colab.notebook.generateWithVariable('bss_cv_diabet');\n",
              "      }\n",
              "      })();\n",
              "    </script>\n",
              "  </div>\n",
              "\n",
              "    </div>\n",
              "  </div>\n"
            ],
            "application/vnd.google.colaboratory.intrinsic+json": {
              "type": "dataframe",
              "variable_name": "bss_cv_diabet",
              "summary": "{\n  \"name\": \"bss_cv_diabet\",\n  \"rows\": 10,\n  \"fields\": [\n    {\n      \"column\": \"Predictors\",\n      \"properties\": {\n        \"dtype\": \"object\",\n        \"semantic_type\": \"\",\n        \"description\": \"\"\n      }\n    },\n    {\n      \"column\": \"Mean_CV_MSE\",\n      \"properties\": {\n        \"dtype\": \"number\",\n        \"std\": 289.33335304234595,\n        \"min\": 2960.2805,\n        \"max\": 3905.0198,\n        \"num_unique_values\": 10,\n        \"samples\": [\n          2992.3225,\n          3242.7009,\n          2968.495\n        ],\n        \"semantic_type\": \"\",\n        \"description\": \"\"\n      }\n    }\n  ]\n}"
            }
          },
          "metadata": {},
          "execution_count": 187
        }
      ],
      "source": [
        "# Ensure that all column contents are fully visible when printed\n",
        "pd.set_option('display.max_colwidth', None)\n",
        "# Display the cross-validation results for the BSS (Best Subset Selection) model\n",
        "bss_cv_diabet"
      ]
    },
    {
      "cell_type": "code",
      "execution_count": null,
      "metadata": {
        "id": "6uqm1uXJxSJi"
      },
      "outputs": [],
      "source": [
        "# Define the threshold for percent reduction in Mean Cross-Validation MSE (CV MSE)\n",
        "percent_reduction_threshold = 5"
      ]
    },
    {
      "cell_type": "code",
      "execution_count": null,
      "metadata": {
        "id": "YahuUPT5g6db"
      },
      "outputs": [],
      "source": [
        "# Compute the percentage reduction in Mean CV MSE between successive models\n",
        "percent_reduction = -(bss_cv_diabet['Mean_CV_MSE'].pct_change().dropna()) * 100\n",
        "percent_reduction.name = \"Pct reduc from previous model\""
      ]
    },
    {
      "cell_type": "markdown",
      "metadata": {
        "id": "Y6tcD7xgQsUt"
      },
      "source": [
        "# - Report the selected predictors.\n",
        "\n"
      ]
    },
    {
      "cell_type": "code",
      "execution_count": null,
      "metadata": {
        "colab": {
          "base_uri": "https://localhost:8080/"
        },
        "id": "WsiBWId4ZGmR",
        "outputId": "a4e29c13-b7e8-4ee0-a7a0-dd4f2a6a0c1b"
      },
      "outputs": [
        {
          "output_type": "stream",
          "name": "stdout",
          "text": [
            "BSS selects the following predictors for the model:\n",
            "['bmi', 's5']\n",
            "\n",
            "Adding additional predictors results in a % reduction in Mean CV MSE below 5 %:\n"
          ]
        }
      ],
      "source": [
        "# Identify the last model where the percent reduction in Mean CV MSE meets or exceeds the threshold\n",
        "last_row_above_threshold = bss_cv_diabet.iloc[\n",
        "    percent_reduction[percent_reduction >= percent_reduction_threshold].index[-1]\n",
        "]['Predictors']\n",
        "\n",
        "# Print the selected predictors based on the threshold\n",
        "print(\"BSS selects the following predictors for the model:\")\n",
        "print(last_row_above_threshold)  # Display the predictors selected\n",
        "print()  # Print an empty line for better readability\n",
        "\n",
        "# Inform the user that adding more predictors results in diminishing returns\n",
        "print(\"Adding additional predictors results in a % reduction in Mean CV MSE below\",\n",
        "      percent_reduction_threshold, \"%:\")"
      ]
    },
    {
      "cell_type": "code",
      "execution_count": null,
      "metadata": {
        "id": "5bg-jnUeU0Bm"
      },
      "outputs": [],
      "source": [
        "# Train a linear regression model using the selected predictors\n",
        "selected_features = list(last_row_above_threshold)  # Convert selected predictors to a list\n",
        "x_train_selected = x_train_d[selected_features]\n",
        "x_test_selected = x_test_d[selected_features]"
      ]
    },
    {
      "cell_type": "code",
      "execution_count": null,
      "metadata": {
        "id": "nkaPEIFKU6gj"
      },
      "outputs": [],
      "source": [
        "# Fit model with best subset of features\n",
        "lr_diabet_bss_training = LinearRegression().fit(x_train_selected, y_train_d)"
      ]
    },
    {
      "cell_type": "code",
      "execution_count": null,
      "metadata": {
        "id": "TsCCMVaoVITw"
      },
      "outputs": [],
      "source": [
        "# Predict on test set\n",
        "y_pred_test_diabet_bss = lr_diabet_bss_training.predict(x_test_selected)"
      ]
    },
    {
      "cell_type": "markdown",
      "metadata": {
        "id": "U52Dy4m3QuMY"
      },
      "source": [
        "# - Compute the **test MSE**."
      ]
    },
    {
      "cell_type": "code",
      "execution_count": null,
      "metadata": {
        "colab": {
          "base_uri": "https://localhost:8080/"
        },
        "id": "e2ok2Ur4OHMP",
        "outputId": "d4781485-885f-4f66-8231-df70032e2d58"
      },
      "outputs": [
        {
          "output_type": "stream",
          "name": "stdout",
          "text": [
            "\n",
            "Test Mean Squared Error (MSE) for Best Subset Selection Model: 3254.1047720984925\n"
          ]
        }
      ],
      "source": [
        "# Compute Test Mean Squared Error (MSE)\n",
        "mse_bss = mean_squared_error(y_test_d, y_pred_test_diabet_bss)\n",
        "\n",
        "# Print the test MSE\n",
        "print(\"\\nTest Mean Squared Error (MSE) for Best Subset Selection Model:\", mse_bss)"
      ]
    },
    {
      "cell_type": "code",
      "source": [
        "rmse_bss = np.sqrt(mean_squared_error(y_test_d, y_pred_test_diabet_bss))"
      ],
      "metadata": {
        "id": "6wjU-mZ3uO3-"
      },
      "execution_count": null,
      "outputs": []
    },
    {
      "cell_type": "code",
      "source": [
        "# Normalizing the RMSE by dividing it by the mean of the target variable\n",
        "normalized_rmse_bss = rmse_bss / np.mean(y)"
      ],
      "metadata": {
        "id": "g8zUOcAyuBLT"
      },
      "execution_count": null,
      "outputs": []
    },
    {
      "cell_type": "code",
      "source": [
        "# Printing results\n",
        "print(\"Root Mean Squared Error  for Bss:\", rmse_bss)\n",
        "print(\"Normalized RMSE for Bss:\", normalized_rmse_bss)"
      ],
      "metadata": {
        "colab": {
          "base_uri": "https://localhost:8080/"
        },
        "outputId": "a4474601-ec5f-46ec-be02-befa11447760",
        "id": "UMGjDfA7uBLT"
      },
      "execution_count": null,
      "outputs": [
        {
          "output_type": "stream",
          "name": "stdout",
          "text": [
            "Root Mean Squared Error  for Bss: 57.04476112754345\n",
            "Normalized RMSE for Bss: 0.374965192189138\n"
          ]
        }
      ]
    },
    {
      "cell_type": "code",
      "source": [
        "# Normalizing the RMSE by dividing it by the mean of the target variable\n",
        "normalized_rmse_lr = rmse_lr / np.mean(y)"
      ],
      "metadata": {
        "id": "xXRo9hRnuO3_"
      },
      "execution_count": null,
      "outputs": []
    },
    {
      "cell_type": "markdown",
      "metadata": {
        "id": "eDGtdSKnOw4f"
      },
      "source": [
        "---\n",
        "---\n",
        "# **Part (c): Model Comparison**\n",
        "# - Compare the **MSE** values of models from (a) and (b).\n"
      ]
    },
    {
      "cell_type": "code",
      "execution_count": null,
      "metadata": {
        "colab": {
          "base_uri": "https://localhost:8080/"
        },
        "id": "nKnItErRlXqo",
        "outputId": "0caf1582-bcab-4930-aeb1-ec2aec158c76"
      },
      "outputs": [
        {
          "output_type": "stream",
          "name": "stdout",
          "text": [
            "Test MSE (Linear Regression): 3889.7602\n",
            "Test MSE (Best Subset Selection): 3254.1048\n"
          ]
        }
      ],
      "source": [
        "# Print test MSE comparison\n",
        "print(f\"Test MSE (Linear Regression): {mse:.4f}\")\n",
        "print(f\"Test MSE (Best Subset Selection): {mse_bss:.4f}\")"
      ]
    },
    {
      "cell_type": "code",
      "source": [
        "mse_difference = (mse - mse_bss) / mse *100  # Difference in MSE\n",
        "mse_difference"
      ],
      "metadata": {
        "colab": {
          "base_uri": "https://localhost:8080/"
        },
        "id": "G_4ZufokxSmM",
        "outputId": "da758b2d-d06c-43a2-8451-10a2fcf1b091"
      },
      "execution_count": null,
      "outputs": [
        {
          "output_type": "execute_result",
          "data": {
            "text/plain": [
              "16.341763413233235"
            ]
          },
          "metadata": {},
          "execution_count": 200
        }
      ]
    },
    {
      "cell_type": "code",
      "source": [
        "mse_difference = mse - mse_bss\n",
        "mse_improvement_percentage = (mse_difference / mse_bss) * 100\n",
        "\n",
        "# Print improvement results\n",
        "print(f\"\\nMSE Improvement using Best Subset Selection: {mse_difference:.2f}\")\n",
        "print(f\"Percentage Improvement in MSE: {mse_improvement_percentage:.2f}%\")\n"
      ],
      "metadata": {
        "colab": {
          "base_uri": "https://localhost:8080/"
        },
        "id": "q2cSs6_KOmOY",
        "outputId": "b4f36556-3b24-425e-f0b2-ca09ecd6e051"
      },
      "execution_count": null,
      "outputs": [
        {
          "output_type": "stream",
          "name": "stdout",
          "text": [
            "\n",
            "MSE Improvement using Best Subset Selection: 635.66\n",
            "Percentage Improvement in MSE: 19.53%\n"
          ]
        }
      ]
    },
    {
      "cell_type": "code",
      "execution_count": null,
      "metadata": {
        "colab": {
          "base_uri": "https://localhost:8080/"
        },
        "id": "LNBipeseaHQ5",
        "outputId": "7dee0965-d252-42f8-94a3-e70d716ba801"
      },
      "outputs": [
        {
          "output_type": "stream",
          "name": "stdout",
          "text": [
            "\n",
            "📌 Difference\n",
            "Training MSE (Linear Regression): 3846.9565\n",
            "Training MSE (BSS): 3194.1284\n",
            "Diference in Training Error: 652.83\n"
          ]
        }
      ],
      "source": [
        "# Compute Training MSE using the best subset selection model\n",
        "y_pred_train_bss = lr_diabet_bss_training.predict(x_train_selected)  # Predict on training data\n",
        "train_mse_bss = mean_squared_error(y_train_d, y_pred_train_bss)  # Calculate train MSE\n",
        "\n",
        "# Predict on training data using only the features the model was trained on\n",
        "y_pred_train_lr = lr_diabet_model.predict(x_train_d[['bmi', 'age']])\n",
        "\n",
        "# Compute Training Mean Squared Error (MSE)\n",
        "train_mse_lr = mean_squared_error(y_train_d, y_pred_train_lr)\n",
        "\n",
        "# Calculate the difference\n",
        "mse_difference = train_mse_lr - train_mse_bss\n",
        "\n",
        "print(\"\\n📌 Difference\")\n",
        "print(f\"Training MSE (Linear Regression): {train_mse_lr:.4f}\")\n",
        "print(f\"Training MSE (BSS): {train_mse_bss:.4f}\")\n",
        "print(f\"Diference in Training Error: {mse_difference:.2f}\")\n"
      ]
    },
    {
      "cell_type": "markdown",
      "source": [
        "---\n",
        "The **Best Subset Selection (BSS) model** improves over the **Linear Regression model** by achieving a **lower Test MSE (3254.10 vs. 3889.76)**, meaning it predicts with less overall error. By selecting only the most relevant predictors (**`bmi` and `s5`**), it makes the model more efficient and reduces the risk of overfitting.  \n",
        "However, the **coefficient of variation (40.36%)** is still quite high, exceeding the acceptable threshold of **20%**, which raises concerns about prediction stability. While the BSS model eliminates unnecessary predictors, it may have also removed variables that contribute to more precise predictions.  \n",
        "\n",
        "---\n"
      ],
      "metadata": {
        "id": "kx7XPn9XQ3sE"
      }
    },
    {
      "cell_type": "markdown",
      "metadata": {
        "id": "tc3K0E4hW2Es"
      },
      "source": [
        "# **Part (d): Predictions for 8 New Patients**"
      ]
    },
    {
      "cell_type": "markdown",
      "metadata": {
        "id": "pFBVNmgCWTZ_"
      },
      "source": [
        "✅ **Input the given standardized values for `Age`, `BMI`, `BP`, and `S5`**  "
      ]
    },
    {
      "cell_type": "code",
      "execution_count": null,
      "metadata": {
        "id": "KfmxBxbxVVC-"
      },
      "outputs": [],
      "source": [
        "# Provided data for new patients\n",
        "age_data = np.array([0.037, -0.045, 0.101, 0.67, 0.38, 0.002, -0.011, 0.018])\n",
        "bmi_data = np.array([0.061, 0.03, -0.034, 0.11, -0.087, 0.0001, 0.018, -0.057])\n",
        "s5_data = np.array([0.031, 0.09, -0.054, -0.011, -0.087, 0.006, 0.058, -0.032])\n",
        "y_actual = np.array([144, 168, 59, 205, 97, 134, 79, 88])\n"
      ]
    },
    {
      "cell_type": "markdown",
      "metadata": {
        "id": "lRbcN7NzWEXy"
      },
      "source": [
        "✅ **Use the selected predictors from Part (b) to predict `Y` for 8 new patients**"
      ]
    },
    {
      "cell_type": "code",
      "execution_count": null,
      "metadata": {
        "id": "KJdY_yijFOB8"
      },
      "outputs": [],
      "source": [
        "# Ensure correct predictors are used from Best Subset Selection\n",
        "best_subset_features = [selected_features]  # BSS results"
      ]
    },
    {
      "cell_type": "code",
      "execution_count": null,
      "metadata": {
        "id": "dY89f-QyVVGW"
      },
      "outputs": [],
      "source": [
        "# Create a dataframe for new patient data with selected predictors ['bmi', 's5']\n",
        "new_patient_data = pd.DataFrame({\n",
        "    'bmi': bmi_data,\n",
        "    's5': s5_data\n",
        "})"
      ]
    },
    {
      "cell_type": "code",
      "execution_count": null,
      "metadata": {
        "id": "xttOY2HTF8Y4"
      },
      "outputs": [],
      "source": [
        "# Select only the predictors identified by Best Subset Selection\n",
        "new_patient_data = new_patient_data[selected_features]"
      ]
    },
    {
      "cell_type": "code",
      "execution_count": null,
      "metadata": {
        "colab": {
          "base_uri": "https://localhost:8080/",
          "height": 80
        },
        "id": "DWzrETCWGP1B",
        "outputId": "c83aee09-1bd2-44ec-9345-691703aa5e23"
      },
      "outputs": [
        {
          "output_type": "execute_result",
          "data": {
            "text/plain": [
              "LinearRegression()"
            ],
            "text/html": [
              "<style>#sk-container-id-8 {\n",
              "  /* Definition of color scheme common for light and dark mode */\n",
              "  --sklearn-color-text: #000;\n",
              "  --sklearn-color-text-muted: #666;\n",
              "  --sklearn-color-line: gray;\n",
              "  /* Definition of color scheme for unfitted estimators */\n",
              "  --sklearn-color-unfitted-level-0: #fff5e6;\n",
              "  --sklearn-color-unfitted-level-1: #f6e4d2;\n",
              "  --sklearn-color-unfitted-level-2: #ffe0b3;\n",
              "  --sklearn-color-unfitted-level-3: chocolate;\n",
              "  /* Definition of color scheme for fitted estimators */\n",
              "  --sklearn-color-fitted-level-0: #f0f8ff;\n",
              "  --sklearn-color-fitted-level-1: #d4ebff;\n",
              "  --sklearn-color-fitted-level-2: #b3dbfd;\n",
              "  --sklearn-color-fitted-level-3: cornflowerblue;\n",
              "\n",
              "  /* Specific color for light theme */\n",
              "  --sklearn-color-text-on-default-background: var(--sg-text-color, var(--theme-code-foreground, var(--jp-content-font-color1, black)));\n",
              "  --sklearn-color-background: var(--sg-background-color, var(--theme-background, var(--jp-layout-color0, white)));\n",
              "  --sklearn-color-border-box: var(--sg-text-color, var(--theme-code-foreground, var(--jp-content-font-color1, black)));\n",
              "  --sklearn-color-icon: #696969;\n",
              "\n",
              "  @media (prefers-color-scheme: dark) {\n",
              "    /* Redefinition of color scheme for dark theme */\n",
              "    --sklearn-color-text-on-default-background: var(--sg-text-color, var(--theme-code-foreground, var(--jp-content-font-color1, white)));\n",
              "    --sklearn-color-background: var(--sg-background-color, var(--theme-background, var(--jp-layout-color0, #111)));\n",
              "    --sklearn-color-border-box: var(--sg-text-color, var(--theme-code-foreground, var(--jp-content-font-color1, white)));\n",
              "    --sklearn-color-icon: #878787;\n",
              "  }\n",
              "}\n",
              "\n",
              "#sk-container-id-8 {\n",
              "  color: var(--sklearn-color-text);\n",
              "}\n",
              "\n",
              "#sk-container-id-8 pre {\n",
              "  padding: 0;\n",
              "}\n",
              "\n",
              "#sk-container-id-8 input.sk-hidden--visually {\n",
              "  border: 0;\n",
              "  clip: rect(1px 1px 1px 1px);\n",
              "  clip: rect(1px, 1px, 1px, 1px);\n",
              "  height: 1px;\n",
              "  margin: -1px;\n",
              "  overflow: hidden;\n",
              "  padding: 0;\n",
              "  position: absolute;\n",
              "  width: 1px;\n",
              "}\n",
              "\n",
              "#sk-container-id-8 div.sk-dashed-wrapped {\n",
              "  border: 1px dashed var(--sklearn-color-line);\n",
              "  margin: 0 0.4em 0.5em 0.4em;\n",
              "  box-sizing: border-box;\n",
              "  padding-bottom: 0.4em;\n",
              "  background-color: var(--sklearn-color-background);\n",
              "}\n",
              "\n",
              "#sk-container-id-8 div.sk-container {\n",
              "  /* jupyter's `normalize.less` sets `[hidden] { display: none; }`\n",
              "     but bootstrap.min.css set `[hidden] { display: none !important; }`\n",
              "     so we also need the `!important` here to be able to override the\n",
              "     default hidden behavior on the sphinx rendered scikit-learn.org.\n",
              "     See: https://github.com/scikit-learn/scikit-learn/issues/21755 */\n",
              "  display: inline-block !important;\n",
              "  position: relative;\n",
              "}\n",
              "\n",
              "#sk-container-id-8 div.sk-text-repr-fallback {\n",
              "  display: none;\n",
              "}\n",
              "\n",
              "div.sk-parallel-item,\n",
              "div.sk-serial,\n",
              "div.sk-item {\n",
              "  /* draw centered vertical line to link estimators */\n",
              "  background-image: linear-gradient(var(--sklearn-color-text-on-default-background), var(--sklearn-color-text-on-default-background));\n",
              "  background-size: 2px 100%;\n",
              "  background-repeat: no-repeat;\n",
              "  background-position: center center;\n",
              "}\n",
              "\n",
              "/* Parallel-specific style estimator block */\n",
              "\n",
              "#sk-container-id-8 div.sk-parallel-item::after {\n",
              "  content: \"\";\n",
              "  width: 100%;\n",
              "  border-bottom: 2px solid var(--sklearn-color-text-on-default-background);\n",
              "  flex-grow: 1;\n",
              "}\n",
              "\n",
              "#sk-container-id-8 div.sk-parallel {\n",
              "  display: flex;\n",
              "  align-items: stretch;\n",
              "  justify-content: center;\n",
              "  background-color: var(--sklearn-color-background);\n",
              "  position: relative;\n",
              "}\n",
              "\n",
              "#sk-container-id-8 div.sk-parallel-item {\n",
              "  display: flex;\n",
              "  flex-direction: column;\n",
              "}\n",
              "\n",
              "#sk-container-id-8 div.sk-parallel-item:first-child::after {\n",
              "  align-self: flex-end;\n",
              "  width: 50%;\n",
              "}\n",
              "\n",
              "#sk-container-id-8 div.sk-parallel-item:last-child::after {\n",
              "  align-self: flex-start;\n",
              "  width: 50%;\n",
              "}\n",
              "\n",
              "#sk-container-id-8 div.sk-parallel-item:only-child::after {\n",
              "  width: 0;\n",
              "}\n",
              "\n",
              "/* Serial-specific style estimator block */\n",
              "\n",
              "#sk-container-id-8 div.sk-serial {\n",
              "  display: flex;\n",
              "  flex-direction: column;\n",
              "  align-items: center;\n",
              "  background-color: var(--sklearn-color-background);\n",
              "  padding-right: 1em;\n",
              "  padding-left: 1em;\n",
              "}\n",
              "\n",
              "\n",
              "/* Toggleable style: style used for estimator/Pipeline/ColumnTransformer box that is\n",
              "clickable and can be expanded/collapsed.\n",
              "- Pipeline and ColumnTransformer use this feature and define the default style\n",
              "- Estimators will overwrite some part of the style using the `sk-estimator` class\n",
              "*/\n",
              "\n",
              "/* Pipeline and ColumnTransformer style (default) */\n",
              "\n",
              "#sk-container-id-8 div.sk-toggleable {\n",
              "  /* Default theme specific background. It is overwritten whether we have a\n",
              "  specific estimator or a Pipeline/ColumnTransformer */\n",
              "  background-color: var(--sklearn-color-background);\n",
              "}\n",
              "\n",
              "/* Toggleable label */\n",
              "#sk-container-id-8 label.sk-toggleable__label {\n",
              "  cursor: pointer;\n",
              "  display: flex;\n",
              "  width: 100%;\n",
              "  margin-bottom: 0;\n",
              "  padding: 0.5em;\n",
              "  box-sizing: border-box;\n",
              "  text-align: center;\n",
              "  align-items: start;\n",
              "  justify-content: space-between;\n",
              "  gap: 0.5em;\n",
              "}\n",
              "\n",
              "#sk-container-id-8 label.sk-toggleable__label .caption {\n",
              "  font-size: 0.6rem;\n",
              "  font-weight: lighter;\n",
              "  color: var(--sklearn-color-text-muted);\n",
              "}\n",
              "\n",
              "#sk-container-id-8 label.sk-toggleable__label-arrow:before {\n",
              "  /* Arrow on the left of the label */\n",
              "  content: \"▸\";\n",
              "  float: left;\n",
              "  margin-right: 0.25em;\n",
              "  color: var(--sklearn-color-icon);\n",
              "}\n",
              "\n",
              "#sk-container-id-8 label.sk-toggleable__label-arrow:hover:before {\n",
              "  color: var(--sklearn-color-text);\n",
              "}\n",
              "\n",
              "/* Toggleable content - dropdown */\n",
              "\n",
              "#sk-container-id-8 div.sk-toggleable__content {\n",
              "  max-height: 0;\n",
              "  max-width: 0;\n",
              "  overflow: hidden;\n",
              "  text-align: left;\n",
              "  /* unfitted */\n",
              "  background-color: var(--sklearn-color-unfitted-level-0);\n",
              "}\n",
              "\n",
              "#sk-container-id-8 div.sk-toggleable__content.fitted {\n",
              "  /* fitted */\n",
              "  background-color: var(--sklearn-color-fitted-level-0);\n",
              "}\n",
              "\n",
              "#sk-container-id-8 div.sk-toggleable__content pre {\n",
              "  margin: 0.2em;\n",
              "  border-radius: 0.25em;\n",
              "  color: var(--sklearn-color-text);\n",
              "  /* unfitted */\n",
              "  background-color: var(--sklearn-color-unfitted-level-0);\n",
              "}\n",
              "\n",
              "#sk-container-id-8 div.sk-toggleable__content.fitted pre {\n",
              "  /* unfitted */\n",
              "  background-color: var(--sklearn-color-fitted-level-0);\n",
              "}\n",
              "\n",
              "#sk-container-id-8 input.sk-toggleable__control:checked~div.sk-toggleable__content {\n",
              "  /* Expand drop-down */\n",
              "  max-height: 200px;\n",
              "  max-width: 100%;\n",
              "  overflow: auto;\n",
              "}\n",
              "\n",
              "#sk-container-id-8 input.sk-toggleable__control:checked~label.sk-toggleable__label-arrow:before {\n",
              "  content: \"▾\";\n",
              "}\n",
              "\n",
              "/* Pipeline/ColumnTransformer-specific style */\n",
              "\n",
              "#sk-container-id-8 div.sk-label input.sk-toggleable__control:checked~label.sk-toggleable__label {\n",
              "  color: var(--sklearn-color-text);\n",
              "  background-color: var(--sklearn-color-unfitted-level-2);\n",
              "}\n",
              "\n",
              "#sk-container-id-8 div.sk-label.fitted input.sk-toggleable__control:checked~label.sk-toggleable__label {\n",
              "  background-color: var(--sklearn-color-fitted-level-2);\n",
              "}\n",
              "\n",
              "/* Estimator-specific style */\n",
              "\n",
              "/* Colorize estimator box */\n",
              "#sk-container-id-8 div.sk-estimator input.sk-toggleable__control:checked~label.sk-toggleable__label {\n",
              "  /* unfitted */\n",
              "  background-color: var(--sklearn-color-unfitted-level-2);\n",
              "}\n",
              "\n",
              "#sk-container-id-8 div.sk-estimator.fitted input.sk-toggleable__control:checked~label.sk-toggleable__label {\n",
              "  /* fitted */\n",
              "  background-color: var(--sklearn-color-fitted-level-2);\n",
              "}\n",
              "\n",
              "#sk-container-id-8 div.sk-label label.sk-toggleable__label,\n",
              "#sk-container-id-8 div.sk-label label {\n",
              "  /* The background is the default theme color */\n",
              "  color: var(--sklearn-color-text-on-default-background);\n",
              "}\n",
              "\n",
              "/* On hover, darken the color of the background */\n",
              "#sk-container-id-8 div.sk-label:hover label.sk-toggleable__label {\n",
              "  color: var(--sklearn-color-text);\n",
              "  background-color: var(--sklearn-color-unfitted-level-2);\n",
              "}\n",
              "\n",
              "/* Label box, darken color on hover, fitted */\n",
              "#sk-container-id-8 div.sk-label.fitted:hover label.sk-toggleable__label.fitted {\n",
              "  color: var(--sklearn-color-text);\n",
              "  background-color: var(--sklearn-color-fitted-level-2);\n",
              "}\n",
              "\n",
              "/* Estimator label */\n",
              "\n",
              "#sk-container-id-8 div.sk-label label {\n",
              "  font-family: monospace;\n",
              "  font-weight: bold;\n",
              "  display: inline-block;\n",
              "  line-height: 1.2em;\n",
              "}\n",
              "\n",
              "#sk-container-id-8 div.sk-label-container {\n",
              "  text-align: center;\n",
              "}\n",
              "\n",
              "/* Estimator-specific */\n",
              "#sk-container-id-8 div.sk-estimator {\n",
              "  font-family: monospace;\n",
              "  border: 1px dotted var(--sklearn-color-border-box);\n",
              "  border-radius: 0.25em;\n",
              "  box-sizing: border-box;\n",
              "  margin-bottom: 0.5em;\n",
              "  /* unfitted */\n",
              "  background-color: var(--sklearn-color-unfitted-level-0);\n",
              "}\n",
              "\n",
              "#sk-container-id-8 div.sk-estimator.fitted {\n",
              "  /* fitted */\n",
              "  background-color: var(--sklearn-color-fitted-level-0);\n",
              "}\n",
              "\n",
              "/* on hover */\n",
              "#sk-container-id-8 div.sk-estimator:hover {\n",
              "  /* unfitted */\n",
              "  background-color: var(--sklearn-color-unfitted-level-2);\n",
              "}\n",
              "\n",
              "#sk-container-id-8 div.sk-estimator.fitted:hover {\n",
              "  /* fitted */\n",
              "  background-color: var(--sklearn-color-fitted-level-2);\n",
              "}\n",
              "\n",
              "/* Specification for estimator info (e.g. \"i\" and \"?\") */\n",
              "\n",
              "/* Common style for \"i\" and \"?\" */\n",
              "\n",
              ".sk-estimator-doc-link,\n",
              "a:link.sk-estimator-doc-link,\n",
              "a:visited.sk-estimator-doc-link {\n",
              "  float: right;\n",
              "  font-size: smaller;\n",
              "  line-height: 1em;\n",
              "  font-family: monospace;\n",
              "  background-color: var(--sklearn-color-background);\n",
              "  border-radius: 1em;\n",
              "  height: 1em;\n",
              "  width: 1em;\n",
              "  text-decoration: none !important;\n",
              "  margin-left: 0.5em;\n",
              "  text-align: center;\n",
              "  /* unfitted */\n",
              "  border: var(--sklearn-color-unfitted-level-1) 1pt solid;\n",
              "  color: var(--sklearn-color-unfitted-level-1);\n",
              "}\n",
              "\n",
              ".sk-estimator-doc-link.fitted,\n",
              "a:link.sk-estimator-doc-link.fitted,\n",
              "a:visited.sk-estimator-doc-link.fitted {\n",
              "  /* fitted */\n",
              "  border: var(--sklearn-color-fitted-level-1) 1pt solid;\n",
              "  color: var(--sklearn-color-fitted-level-1);\n",
              "}\n",
              "\n",
              "/* On hover */\n",
              "div.sk-estimator:hover .sk-estimator-doc-link:hover,\n",
              ".sk-estimator-doc-link:hover,\n",
              "div.sk-label-container:hover .sk-estimator-doc-link:hover,\n",
              ".sk-estimator-doc-link:hover {\n",
              "  /* unfitted */\n",
              "  background-color: var(--sklearn-color-unfitted-level-3);\n",
              "  color: var(--sklearn-color-background);\n",
              "  text-decoration: none;\n",
              "}\n",
              "\n",
              "div.sk-estimator.fitted:hover .sk-estimator-doc-link.fitted:hover,\n",
              ".sk-estimator-doc-link.fitted:hover,\n",
              "div.sk-label-container:hover .sk-estimator-doc-link.fitted:hover,\n",
              ".sk-estimator-doc-link.fitted:hover {\n",
              "  /* fitted */\n",
              "  background-color: var(--sklearn-color-fitted-level-3);\n",
              "  color: var(--sklearn-color-background);\n",
              "  text-decoration: none;\n",
              "}\n",
              "\n",
              "/* Span, style for the box shown on hovering the info icon */\n",
              ".sk-estimator-doc-link span {\n",
              "  display: none;\n",
              "  z-index: 9999;\n",
              "  position: relative;\n",
              "  font-weight: normal;\n",
              "  right: .2ex;\n",
              "  padding: .5ex;\n",
              "  margin: .5ex;\n",
              "  width: min-content;\n",
              "  min-width: 20ex;\n",
              "  max-width: 50ex;\n",
              "  color: var(--sklearn-color-text);\n",
              "  box-shadow: 2pt 2pt 4pt #999;\n",
              "  /* unfitted */\n",
              "  background: var(--sklearn-color-unfitted-level-0);\n",
              "  border: .5pt solid var(--sklearn-color-unfitted-level-3);\n",
              "}\n",
              "\n",
              ".sk-estimator-doc-link.fitted span {\n",
              "  /* fitted */\n",
              "  background: var(--sklearn-color-fitted-level-0);\n",
              "  border: var(--sklearn-color-fitted-level-3);\n",
              "}\n",
              "\n",
              ".sk-estimator-doc-link:hover span {\n",
              "  display: block;\n",
              "}\n",
              "\n",
              "/* \"?\"-specific style due to the `<a>` HTML tag */\n",
              "\n",
              "#sk-container-id-8 a.estimator_doc_link {\n",
              "  float: right;\n",
              "  font-size: 1rem;\n",
              "  line-height: 1em;\n",
              "  font-family: monospace;\n",
              "  background-color: var(--sklearn-color-background);\n",
              "  border-radius: 1rem;\n",
              "  height: 1rem;\n",
              "  width: 1rem;\n",
              "  text-decoration: none;\n",
              "  /* unfitted */\n",
              "  color: var(--sklearn-color-unfitted-level-1);\n",
              "  border: var(--sklearn-color-unfitted-level-1) 1pt solid;\n",
              "}\n",
              "\n",
              "#sk-container-id-8 a.estimator_doc_link.fitted {\n",
              "  /* fitted */\n",
              "  border: var(--sklearn-color-fitted-level-1) 1pt solid;\n",
              "  color: var(--sklearn-color-fitted-level-1);\n",
              "}\n",
              "\n",
              "/* On hover */\n",
              "#sk-container-id-8 a.estimator_doc_link:hover {\n",
              "  /* unfitted */\n",
              "  background-color: var(--sklearn-color-unfitted-level-3);\n",
              "  color: var(--sklearn-color-background);\n",
              "  text-decoration: none;\n",
              "}\n",
              "\n",
              "#sk-container-id-8 a.estimator_doc_link.fitted:hover {\n",
              "  /* fitted */\n",
              "  background-color: var(--sklearn-color-fitted-level-3);\n",
              "}\n",
              "</style><div id=\"sk-container-id-8\" class=\"sk-top-container\"><div class=\"sk-text-repr-fallback\"><pre>LinearRegression()</pre><b>In a Jupyter environment, please rerun this cell to show the HTML representation or trust the notebook. <br />On GitHub, the HTML representation is unable to render, please try loading this page with nbviewer.org.</b></div><div class=\"sk-container\" hidden><div class=\"sk-item\"><div class=\"sk-estimator fitted sk-toggleable\"><input class=\"sk-toggleable__control sk-hidden--visually\" id=\"sk-estimator-id-8\" type=\"checkbox\" checked><label for=\"sk-estimator-id-8\" class=\"sk-toggleable__label fitted sk-toggleable__label-arrow\"><div><div>LinearRegression</div></div><div><a class=\"sk-estimator-doc-link fitted\" rel=\"noreferrer\" target=\"_blank\" href=\"https://scikit-learn.org/1.6/modules/generated/sklearn.linear_model.LinearRegression.html\">?<span>Documentation for LinearRegression</span></a><span class=\"sk-estimator-doc-link fitted\">i<span>Fitted</span></span></div></label><div class=\"sk-toggleable__content fitted\"><pre>LinearRegression()</pre></div> </div></div></div></div>"
            ]
          },
          "metadata": {},
          "execution_count": 207
        }
      ],
      "source": [
        "# Train the model using the correct predictors from the training set\n",
        "x_train_bss = x_train_d[selected_features]  # Use only the BSS-selected predictors\n",
        "new_model_bss = LinearRegression()\n",
        "new_model_bss.fit(x_train_bss, y_train_d)  # Train on selected features"
      ]
    },
    {
      "cell_type": "markdown",
      "metadata": {
        "id": "3nh689KiSTEh"
      },
      "source": [
        "# - Predict `Y` for new patients using the model from (b).\n"
      ]
    },
    {
      "cell_type": "code",
      "execution_count": null,
      "metadata": {
        "id": "jrmokgJXmKfr"
      },
      "outputs": [],
      "source": [
        "# Predict Y for new patients\n",
        "y_pred_new_bss = new_model_bss.predict(new_patient_data)"
      ]
    },
    {
      "cell_type": "markdown",
      "metadata": {
        "id": "ZowCszQmWl1r"
      },
      "source": [
        "✅ **Compute the Root Mean Squared Error (RMSE)** for these predictions"
      ]
    },
    {
      "cell_type": "code",
      "execution_count": null,
      "metadata": {
        "colab": {
          "base_uri": "https://localhost:8080/"
        },
        "id": "GLpkvXd5mHiv",
        "outputId": "8c602066-daa0-43e9-a2a8-2ecb335b1d1c"
      },
      "outputs": [
        {
          "output_type": "stream",
          "name": "stdout",
          "text": [
            "\n",
            "📌 Predictions for New Patients:\n",
            "   Actual Y  Predicted Y (BSS)\n",
            "0       144             212.97\n",
            "1       168             227.05\n",
            "2        59              95.39\n",
            "3       205             221.72\n",
            "4        97              38.51\n",
            "5       134             155.43\n",
            "6        79             199.34\n",
            "7        88              92.67\n"
          ]
        }
      ],
      "source": [
        "# Create a DataFrame to display results\n",
        "df_results_bss = pd.DataFrame({\n",
        "    'Actual Y': y_actual,\n",
        "    'Predicted Y (BSS)': y_pred_new_bss.round(2)\n",
        "})\n",
        "\n",
        "# Display the DataFrame\n",
        "print(\"\\n📌 Predictions for New Patients:\")\n",
        "print(df_results_bss)"
      ]
    },
    {
      "cell_type": "code",
      "execution_count": null,
      "metadata": {
        "colab": {
          "base_uri": "https://localhost:8080/"
        },
        "outputId": "fef274d9-2c89-44a9-e189-85034f3a159a",
        "id": "9HDeLyH9yzE-"
      },
      "outputs": [
        {
          "output_type": "stream",
          "name": "stdout",
          "text": [
            "\n",
            "Test Mean Squared Error for new_bss: 3528.829917394264\n"
          ]
        }
      ],
      "source": [
        "# Compute Mean Squared Error (MSE)\n",
        "mse_new_bss = mean_squared_error(y_actual, y_pred_new_bss)\n",
        "print(\"\\nTest Mean Squared Error for new_bss:\", mse_new_bss)"
      ]
    },
    {
      "cell_type": "code",
      "execution_count": null,
      "metadata": {
        "id": "zM1RSVMrmqKS",
        "colab": {
          "base_uri": "https://localhost:8080/"
        },
        "outputId": "050d6beb-e6aa-4ea6-b848-2d480eea3351"
      },
      "outputs": [
        {
          "output_type": "stream",
          "name": "stdout",
          "text": [
            "Root Mean Squared Error New Bss: 59.403955401928116\n"
          ]
        }
      ],
      "source": [
        "# Compute Root Mean Squared Error (RMSE)\n",
        "rmse_new_bss = np.sqrt(mean_squared_error(y_actual, y_pred_new_bss))\n",
        "print(\"Root Mean Squared Error New Bss:\", rmse_new_bss)"
      ]
    },
    {
      "cell_type": "code",
      "execution_count": null,
      "metadata": {
        "id": "U6Gsq5ndndtz"
      },
      "outputs": [],
      "source": [
        "# Compute Relative RMSE\n",
        "mean_y = np.mean(y_test_d)  # Average Y from test data\n",
        "coeff_variation_bss = (rmse_new_bss / mean_y) * 100"
      ]
    },
    {
      "cell_type": "code",
      "execution_count": null,
      "metadata": {
        "colab": {
          "base_uri": "https://localhost:8080/"
        },
        "id": "JMpKALyynjvy",
        "outputId": "23094e01-4649-4aea-939b-f50de9661b6a"
      },
      "outputs": [
        {
          "output_type": "stream",
          "name": "stdout",
          "text": [
            "\n",
            "📌 Model Performance Evaluation:\n",
            "Root Mean Squared Error (RMSE): 59.4040\n",
            "Mean of Y: 147.2022\n",
            "Coefficient of Variation (BSS): 40.36%\n"
          ]
        }
      ],
      "source": [
        "print(f\"\\n📌 Model Performance Evaluation:\")\n",
        "print(f\"Root Mean Squared Error (RMSE): {rmse_new_bss:.4f}\")\n",
        "print(f\"Mean of Y: {mean_y:.4f}\")\n",
        "print(f\"Coefficient of Variation (BSS): {coeff_variation_bss:.2f}%\")"
      ]
    },
    {
      "cell_type": "code",
      "source": [
        "# Normalizing the RMSE by dividing it by the mean of the target variable\n",
        "normalized_rmse_new_bss = rmse_new_bss/ np.mean(y_actual)"
      ],
      "metadata": {
        "id": "T86_ISdDyT0O"
      },
      "execution_count": null,
      "outputs": []
    },
    {
      "cell_type": "code",
      "source": [
        "# Printing results\n",
        "print(\"Root Mean Squared Error for new_bss:\", rmse_new_bss)\n",
        "print(\"Normalized rmse_new_bss:\", normalized_rmse_new_bss )"
      ],
      "metadata": {
        "colab": {
          "base_uri": "https://localhost:8080/"
        },
        "outputId": "1ca9cbe4-c7a9-461b-9a04-661964ecb862",
        "id": "OrdJA7jqyT0O"
      },
      "execution_count": null,
      "outputs": [
        {
          "output_type": "stream",
          "name": "stdout",
          "text": [
            "Root Mean Squared Error for new_bss: 59.403955401928116\n",
            "Normalized rmse_new_bss: 0.4879174981677874\n"
          ]
        }
      ]
    },
    {
      "cell_type": "markdown",
      "source": [
        "The error value we obtained **is higher than ideal**, suggesting that the model’s predictions **may not be highly reliable**. With an **RMSE of 59.40** and a **mean Y value of 147.20**, the **coefficient of variation is 40.36%**, which is **well above the acceptable threshold of 20%**. This indicates that the model’s predictions **deviate significantly** from actual values, raising concerns about its accuracy.  \n",
        "\n",
        "While the Best Subset Selection method helped by **eliminating unnecessary predictors**, it may have also **removed important variables**, leading to a **loss of predictive power**. Using only `bmi` and `s5` **may not fully capture** the complexity of the relationship between the predictors and Y, which could explain the high error.  \n",
        "\n",
        "Overall, while the model **provides a general estimate, its accuracy is not yet sufficient for reliable predictions**. Incorporating additional predictors or exploring alternative modeling techniques **could help improve performance**.  \n",
        "\n",
        "---\n"
      ],
      "metadata": {
        "id": "CpkyQQQB27IR"
      }
    },
    {
      "cell_type": "markdown",
      "metadata": {
        "id": "Gj44HcEbKeBD"
      },
      "source": [
        "---\n",
        "---"
      ]
    },
    {
      "cell_type": "markdown",
      "metadata": {
        "id": "JV15d3UYXVXa"
      },
      "source": [
        "---\n",
        "# Question 2 (25 points): Decision Trees, Random Forest, and Boosting\n",
        "\n"
      ]
    },
    {
      "cell_type": "markdown",
      "metadata": {
        "id": "n5Wx9ht5WoI_"
      },
      "source": [
        "##**Part (a): Cost-Complexity Pruning for Decision Tree**"
      ]
    },
    {
      "cell_type": "markdown",
      "metadata": {
        "id": "OgO2PM8Qf_sc"
      },
      "source": [
        "### - Train a Decision Tree with **cost-complexity pruning**.\n"
      ]
    },
    {
      "cell_type": "code",
      "execution_count": null,
      "metadata": {
        "colab": {
          "base_uri": "https://localhost:8080/",
          "height": 80
        },
        "id": "jtYiaCreVluS",
        "outputId": "586ddbec-ed17-4250-fa35-d9dbe1611c5c"
      },
      "outputs": [
        {
          "output_type": "execute_result",
          "data": {
            "text/plain": [
              "DecisionTreeRegressor(random_state=1)"
            ],
            "text/html": [
              "<style>#sk-container-id-9 {\n",
              "  /* Definition of color scheme common for light and dark mode */\n",
              "  --sklearn-color-text: #000;\n",
              "  --sklearn-color-text-muted: #666;\n",
              "  --sklearn-color-line: gray;\n",
              "  /* Definition of color scheme for unfitted estimators */\n",
              "  --sklearn-color-unfitted-level-0: #fff5e6;\n",
              "  --sklearn-color-unfitted-level-1: #f6e4d2;\n",
              "  --sklearn-color-unfitted-level-2: #ffe0b3;\n",
              "  --sklearn-color-unfitted-level-3: chocolate;\n",
              "  /* Definition of color scheme for fitted estimators */\n",
              "  --sklearn-color-fitted-level-0: #f0f8ff;\n",
              "  --sklearn-color-fitted-level-1: #d4ebff;\n",
              "  --sklearn-color-fitted-level-2: #b3dbfd;\n",
              "  --sklearn-color-fitted-level-3: cornflowerblue;\n",
              "\n",
              "  /* Specific color for light theme */\n",
              "  --sklearn-color-text-on-default-background: var(--sg-text-color, var(--theme-code-foreground, var(--jp-content-font-color1, black)));\n",
              "  --sklearn-color-background: var(--sg-background-color, var(--theme-background, var(--jp-layout-color0, white)));\n",
              "  --sklearn-color-border-box: var(--sg-text-color, var(--theme-code-foreground, var(--jp-content-font-color1, black)));\n",
              "  --sklearn-color-icon: #696969;\n",
              "\n",
              "  @media (prefers-color-scheme: dark) {\n",
              "    /* Redefinition of color scheme for dark theme */\n",
              "    --sklearn-color-text-on-default-background: var(--sg-text-color, var(--theme-code-foreground, var(--jp-content-font-color1, white)));\n",
              "    --sklearn-color-background: var(--sg-background-color, var(--theme-background, var(--jp-layout-color0, #111)));\n",
              "    --sklearn-color-border-box: var(--sg-text-color, var(--theme-code-foreground, var(--jp-content-font-color1, white)));\n",
              "    --sklearn-color-icon: #878787;\n",
              "  }\n",
              "}\n",
              "\n",
              "#sk-container-id-9 {\n",
              "  color: var(--sklearn-color-text);\n",
              "}\n",
              "\n",
              "#sk-container-id-9 pre {\n",
              "  padding: 0;\n",
              "}\n",
              "\n",
              "#sk-container-id-9 input.sk-hidden--visually {\n",
              "  border: 0;\n",
              "  clip: rect(1px 1px 1px 1px);\n",
              "  clip: rect(1px, 1px, 1px, 1px);\n",
              "  height: 1px;\n",
              "  margin: -1px;\n",
              "  overflow: hidden;\n",
              "  padding: 0;\n",
              "  position: absolute;\n",
              "  width: 1px;\n",
              "}\n",
              "\n",
              "#sk-container-id-9 div.sk-dashed-wrapped {\n",
              "  border: 1px dashed var(--sklearn-color-line);\n",
              "  margin: 0 0.4em 0.5em 0.4em;\n",
              "  box-sizing: border-box;\n",
              "  padding-bottom: 0.4em;\n",
              "  background-color: var(--sklearn-color-background);\n",
              "}\n",
              "\n",
              "#sk-container-id-9 div.sk-container {\n",
              "  /* jupyter's `normalize.less` sets `[hidden] { display: none; }`\n",
              "     but bootstrap.min.css set `[hidden] { display: none !important; }`\n",
              "     so we also need the `!important` here to be able to override the\n",
              "     default hidden behavior on the sphinx rendered scikit-learn.org.\n",
              "     See: https://github.com/scikit-learn/scikit-learn/issues/21755 */\n",
              "  display: inline-block !important;\n",
              "  position: relative;\n",
              "}\n",
              "\n",
              "#sk-container-id-9 div.sk-text-repr-fallback {\n",
              "  display: none;\n",
              "}\n",
              "\n",
              "div.sk-parallel-item,\n",
              "div.sk-serial,\n",
              "div.sk-item {\n",
              "  /* draw centered vertical line to link estimators */\n",
              "  background-image: linear-gradient(var(--sklearn-color-text-on-default-background), var(--sklearn-color-text-on-default-background));\n",
              "  background-size: 2px 100%;\n",
              "  background-repeat: no-repeat;\n",
              "  background-position: center center;\n",
              "}\n",
              "\n",
              "/* Parallel-specific style estimator block */\n",
              "\n",
              "#sk-container-id-9 div.sk-parallel-item::after {\n",
              "  content: \"\";\n",
              "  width: 100%;\n",
              "  border-bottom: 2px solid var(--sklearn-color-text-on-default-background);\n",
              "  flex-grow: 1;\n",
              "}\n",
              "\n",
              "#sk-container-id-9 div.sk-parallel {\n",
              "  display: flex;\n",
              "  align-items: stretch;\n",
              "  justify-content: center;\n",
              "  background-color: var(--sklearn-color-background);\n",
              "  position: relative;\n",
              "}\n",
              "\n",
              "#sk-container-id-9 div.sk-parallel-item {\n",
              "  display: flex;\n",
              "  flex-direction: column;\n",
              "}\n",
              "\n",
              "#sk-container-id-9 div.sk-parallel-item:first-child::after {\n",
              "  align-self: flex-end;\n",
              "  width: 50%;\n",
              "}\n",
              "\n",
              "#sk-container-id-9 div.sk-parallel-item:last-child::after {\n",
              "  align-self: flex-start;\n",
              "  width: 50%;\n",
              "}\n",
              "\n",
              "#sk-container-id-9 div.sk-parallel-item:only-child::after {\n",
              "  width: 0;\n",
              "}\n",
              "\n",
              "/* Serial-specific style estimator block */\n",
              "\n",
              "#sk-container-id-9 div.sk-serial {\n",
              "  display: flex;\n",
              "  flex-direction: column;\n",
              "  align-items: center;\n",
              "  background-color: var(--sklearn-color-background);\n",
              "  padding-right: 1em;\n",
              "  padding-left: 1em;\n",
              "}\n",
              "\n",
              "\n",
              "/* Toggleable style: style used for estimator/Pipeline/ColumnTransformer box that is\n",
              "clickable and can be expanded/collapsed.\n",
              "- Pipeline and ColumnTransformer use this feature and define the default style\n",
              "- Estimators will overwrite some part of the style using the `sk-estimator` class\n",
              "*/\n",
              "\n",
              "/* Pipeline and ColumnTransformer style (default) */\n",
              "\n",
              "#sk-container-id-9 div.sk-toggleable {\n",
              "  /* Default theme specific background. It is overwritten whether we have a\n",
              "  specific estimator or a Pipeline/ColumnTransformer */\n",
              "  background-color: var(--sklearn-color-background);\n",
              "}\n",
              "\n",
              "/* Toggleable label */\n",
              "#sk-container-id-9 label.sk-toggleable__label {\n",
              "  cursor: pointer;\n",
              "  display: flex;\n",
              "  width: 100%;\n",
              "  margin-bottom: 0;\n",
              "  padding: 0.5em;\n",
              "  box-sizing: border-box;\n",
              "  text-align: center;\n",
              "  align-items: start;\n",
              "  justify-content: space-between;\n",
              "  gap: 0.5em;\n",
              "}\n",
              "\n",
              "#sk-container-id-9 label.sk-toggleable__label .caption {\n",
              "  font-size: 0.6rem;\n",
              "  font-weight: lighter;\n",
              "  color: var(--sklearn-color-text-muted);\n",
              "}\n",
              "\n",
              "#sk-container-id-9 label.sk-toggleable__label-arrow:before {\n",
              "  /* Arrow on the left of the label */\n",
              "  content: \"▸\";\n",
              "  float: left;\n",
              "  margin-right: 0.25em;\n",
              "  color: var(--sklearn-color-icon);\n",
              "}\n",
              "\n",
              "#sk-container-id-9 label.sk-toggleable__label-arrow:hover:before {\n",
              "  color: var(--sklearn-color-text);\n",
              "}\n",
              "\n",
              "/* Toggleable content - dropdown */\n",
              "\n",
              "#sk-container-id-9 div.sk-toggleable__content {\n",
              "  max-height: 0;\n",
              "  max-width: 0;\n",
              "  overflow: hidden;\n",
              "  text-align: left;\n",
              "  /* unfitted */\n",
              "  background-color: var(--sklearn-color-unfitted-level-0);\n",
              "}\n",
              "\n",
              "#sk-container-id-9 div.sk-toggleable__content.fitted {\n",
              "  /* fitted */\n",
              "  background-color: var(--sklearn-color-fitted-level-0);\n",
              "}\n",
              "\n",
              "#sk-container-id-9 div.sk-toggleable__content pre {\n",
              "  margin: 0.2em;\n",
              "  border-radius: 0.25em;\n",
              "  color: var(--sklearn-color-text);\n",
              "  /* unfitted */\n",
              "  background-color: var(--sklearn-color-unfitted-level-0);\n",
              "}\n",
              "\n",
              "#sk-container-id-9 div.sk-toggleable__content.fitted pre {\n",
              "  /* unfitted */\n",
              "  background-color: var(--sklearn-color-fitted-level-0);\n",
              "}\n",
              "\n",
              "#sk-container-id-9 input.sk-toggleable__control:checked~div.sk-toggleable__content {\n",
              "  /* Expand drop-down */\n",
              "  max-height: 200px;\n",
              "  max-width: 100%;\n",
              "  overflow: auto;\n",
              "}\n",
              "\n",
              "#sk-container-id-9 input.sk-toggleable__control:checked~label.sk-toggleable__label-arrow:before {\n",
              "  content: \"▾\";\n",
              "}\n",
              "\n",
              "/* Pipeline/ColumnTransformer-specific style */\n",
              "\n",
              "#sk-container-id-9 div.sk-label input.sk-toggleable__control:checked~label.sk-toggleable__label {\n",
              "  color: var(--sklearn-color-text);\n",
              "  background-color: var(--sklearn-color-unfitted-level-2);\n",
              "}\n",
              "\n",
              "#sk-container-id-9 div.sk-label.fitted input.sk-toggleable__control:checked~label.sk-toggleable__label {\n",
              "  background-color: var(--sklearn-color-fitted-level-2);\n",
              "}\n",
              "\n",
              "/* Estimator-specific style */\n",
              "\n",
              "/* Colorize estimator box */\n",
              "#sk-container-id-9 div.sk-estimator input.sk-toggleable__control:checked~label.sk-toggleable__label {\n",
              "  /* unfitted */\n",
              "  background-color: var(--sklearn-color-unfitted-level-2);\n",
              "}\n",
              "\n",
              "#sk-container-id-9 div.sk-estimator.fitted input.sk-toggleable__control:checked~label.sk-toggleable__label {\n",
              "  /* fitted */\n",
              "  background-color: var(--sklearn-color-fitted-level-2);\n",
              "}\n",
              "\n",
              "#sk-container-id-9 div.sk-label label.sk-toggleable__label,\n",
              "#sk-container-id-9 div.sk-label label {\n",
              "  /* The background is the default theme color */\n",
              "  color: var(--sklearn-color-text-on-default-background);\n",
              "}\n",
              "\n",
              "/* On hover, darken the color of the background */\n",
              "#sk-container-id-9 div.sk-label:hover label.sk-toggleable__label {\n",
              "  color: var(--sklearn-color-text);\n",
              "  background-color: var(--sklearn-color-unfitted-level-2);\n",
              "}\n",
              "\n",
              "/* Label box, darken color on hover, fitted */\n",
              "#sk-container-id-9 div.sk-label.fitted:hover label.sk-toggleable__label.fitted {\n",
              "  color: var(--sklearn-color-text);\n",
              "  background-color: var(--sklearn-color-fitted-level-2);\n",
              "}\n",
              "\n",
              "/* Estimator label */\n",
              "\n",
              "#sk-container-id-9 div.sk-label label {\n",
              "  font-family: monospace;\n",
              "  font-weight: bold;\n",
              "  display: inline-block;\n",
              "  line-height: 1.2em;\n",
              "}\n",
              "\n",
              "#sk-container-id-9 div.sk-label-container {\n",
              "  text-align: center;\n",
              "}\n",
              "\n",
              "/* Estimator-specific */\n",
              "#sk-container-id-9 div.sk-estimator {\n",
              "  font-family: monospace;\n",
              "  border: 1px dotted var(--sklearn-color-border-box);\n",
              "  border-radius: 0.25em;\n",
              "  box-sizing: border-box;\n",
              "  margin-bottom: 0.5em;\n",
              "  /* unfitted */\n",
              "  background-color: var(--sklearn-color-unfitted-level-0);\n",
              "}\n",
              "\n",
              "#sk-container-id-9 div.sk-estimator.fitted {\n",
              "  /* fitted */\n",
              "  background-color: var(--sklearn-color-fitted-level-0);\n",
              "}\n",
              "\n",
              "/* on hover */\n",
              "#sk-container-id-9 div.sk-estimator:hover {\n",
              "  /* unfitted */\n",
              "  background-color: var(--sklearn-color-unfitted-level-2);\n",
              "}\n",
              "\n",
              "#sk-container-id-9 div.sk-estimator.fitted:hover {\n",
              "  /* fitted */\n",
              "  background-color: var(--sklearn-color-fitted-level-2);\n",
              "}\n",
              "\n",
              "/* Specification for estimator info (e.g. \"i\" and \"?\") */\n",
              "\n",
              "/* Common style for \"i\" and \"?\" */\n",
              "\n",
              ".sk-estimator-doc-link,\n",
              "a:link.sk-estimator-doc-link,\n",
              "a:visited.sk-estimator-doc-link {\n",
              "  float: right;\n",
              "  font-size: smaller;\n",
              "  line-height: 1em;\n",
              "  font-family: monospace;\n",
              "  background-color: var(--sklearn-color-background);\n",
              "  border-radius: 1em;\n",
              "  height: 1em;\n",
              "  width: 1em;\n",
              "  text-decoration: none !important;\n",
              "  margin-left: 0.5em;\n",
              "  text-align: center;\n",
              "  /* unfitted */\n",
              "  border: var(--sklearn-color-unfitted-level-1) 1pt solid;\n",
              "  color: var(--sklearn-color-unfitted-level-1);\n",
              "}\n",
              "\n",
              ".sk-estimator-doc-link.fitted,\n",
              "a:link.sk-estimator-doc-link.fitted,\n",
              "a:visited.sk-estimator-doc-link.fitted {\n",
              "  /* fitted */\n",
              "  border: var(--sklearn-color-fitted-level-1) 1pt solid;\n",
              "  color: var(--sklearn-color-fitted-level-1);\n",
              "}\n",
              "\n",
              "/* On hover */\n",
              "div.sk-estimator:hover .sk-estimator-doc-link:hover,\n",
              ".sk-estimator-doc-link:hover,\n",
              "div.sk-label-container:hover .sk-estimator-doc-link:hover,\n",
              ".sk-estimator-doc-link:hover {\n",
              "  /* unfitted */\n",
              "  background-color: var(--sklearn-color-unfitted-level-3);\n",
              "  color: var(--sklearn-color-background);\n",
              "  text-decoration: none;\n",
              "}\n",
              "\n",
              "div.sk-estimator.fitted:hover .sk-estimator-doc-link.fitted:hover,\n",
              ".sk-estimator-doc-link.fitted:hover,\n",
              "div.sk-label-container:hover .sk-estimator-doc-link.fitted:hover,\n",
              ".sk-estimator-doc-link.fitted:hover {\n",
              "  /* fitted */\n",
              "  background-color: var(--sklearn-color-fitted-level-3);\n",
              "  color: var(--sklearn-color-background);\n",
              "  text-decoration: none;\n",
              "}\n",
              "\n",
              "/* Span, style for the box shown on hovering the info icon */\n",
              ".sk-estimator-doc-link span {\n",
              "  display: none;\n",
              "  z-index: 9999;\n",
              "  position: relative;\n",
              "  font-weight: normal;\n",
              "  right: .2ex;\n",
              "  padding: .5ex;\n",
              "  margin: .5ex;\n",
              "  width: min-content;\n",
              "  min-width: 20ex;\n",
              "  max-width: 50ex;\n",
              "  color: var(--sklearn-color-text);\n",
              "  box-shadow: 2pt 2pt 4pt #999;\n",
              "  /* unfitted */\n",
              "  background: var(--sklearn-color-unfitted-level-0);\n",
              "  border: .5pt solid var(--sklearn-color-unfitted-level-3);\n",
              "}\n",
              "\n",
              ".sk-estimator-doc-link.fitted span {\n",
              "  /* fitted */\n",
              "  background: var(--sklearn-color-fitted-level-0);\n",
              "  border: var(--sklearn-color-fitted-level-3);\n",
              "}\n",
              "\n",
              ".sk-estimator-doc-link:hover span {\n",
              "  display: block;\n",
              "}\n",
              "\n",
              "/* \"?\"-specific style due to the `<a>` HTML tag */\n",
              "\n",
              "#sk-container-id-9 a.estimator_doc_link {\n",
              "  float: right;\n",
              "  font-size: 1rem;\n",
              "  line-height: 1em;\n",
              "  font-family: monospace;\n",
              "  background-color: var(--sklearn-color-background);\n",
              "  border-radius: 1rem;\n",
              "  height: 1rem;\n",
              "  width: 1rem;\n",
              "  text-decoration: none;\n",
              "  /* unfitted */\n",
              "  color: var(--sklearn-color-unfitted-level-1);\n",
              "  border: var(--sklearn-color-unfitted-level-1) 1pt solid;\n",
              "}\n",
              "\n",
              "#sk-container-id-9 a.estimator_doc_link.fitted {\n",
              "  /* fitted */\n",
              "  border: var(--sklearn-color-fitted-level-1) 1pt solid;\n",
              "  color: var(--sklearn-color-fitted-level-1);\n",
              "}\n",
              "\n",
              "/* On hover */\n",
              "#sk-container-id-9 a.estimator_doc_link:hover {\n",
              "  /* unfitted */\n",
              "  background-color: var(--sklearn-color-unfitted-level-3);\n",
              "  color: var(--sklearn-color-background);\n",
              "  text-decoration: none;\n",
              "}\n",
              "\n",
              "#sk-container-id-9 a.estimator_doc_link.fitted:hover {\n",
              "  /* fitted */\n",
              "  background-color: var(--sklearn-color-fitted-level-3);\n",
              "}\n",
              "</style><div id=\"sk-container-id-9\" class=\"sk-top-container\"><div class=\"sk-text-repr-fallback\"><pre>DecisionTreeRegressor(random_state=1)</pre><b>In a Jupyter environment, please rerun this cell to show the HTML representation or trust the notebook. <br />On GitHub, the HTML representation is unable to render, please try loading this page with nbviewer.org.</b></div><div class=\"sk-container\" hidden><div class=\"sk-item\"><div class=\"sk-estimator fitted sk-toggleable\"><input class=\"sk-toggleable__control sk-hidden--visually\" id=\"sk-estimator-id-9\" type=\"checkbox\" checked><label for=\"sk-estimator-id-9\" class=\"sk-toggleable__label fitted sk-toggleable__label-arrow\"><div><div>DecisionTreeRegressor</div></div><div><a class=\"sk-estimator-doc-link fitted\" rel=\"noreferrer\" target=\"_blank\" href=\"https://scikit-learn.org/1.6/modules/generated/sklearn.tree.DecisionTreeRegressor.html\">?<span>Documentation for DecisionTreeRegressor</span></a><span class=\"sk-estimator-doc-link fitted\">i<span>Fitted</span></span></div></label><div class=\"sk-toggleable__content fitted\"><pre>DecisionTreeRegressor(random_state=1)</pre></div> </div></div></div></div>"
            ]
          },
          "metadata": {},
          "execution_count": 216
        }
      ],
      "source": [
        "# Train a Decision Tree without pruning\n",
        "reg_tree_unpruned = DecisionTreeRegressor(random_state=1)\n",
        "\n",
        "# Fit the model on the training dataset\n",
        "reg_tree_unpruned.fit(x_train_d, y_train_d)"
      ]
    },
    {
      "cell_type": "code",
      "execution_count": null,
      "metadata": {
        "id": "dxnoEyUSVluS"
      },
      "outputs": [],
      "source": [
        "# Retrieve the cost complexity pruning path (ccp_alpha values)\n",
        "ccp_path = reg_tree_unpruned.cost_complexity_pruning_path(x_train_d, y_train_d)"
      ]
    },
    {
      "cell_type": "code",
      "execution_count": null,
      "metadata": {
        "id": "ymHpQ558VluS"
      },
      "outputs": [],
      "source": [
        "# Define the hyperparameter grid using the extracted alpha values\n",
        "hyperparam_grid_alpha = {'ccp_alpha': ccp_path['ccp_alphas']}"
      ]
    },
    {
      "cell_type": "code",
      "source": [
        "# Set up K-Fold cross-validation to evaluate the model performance\n",
        "cv_set_up = KFold(n_splits=5, shuffle=True, random_state=1)  # 10-fold cross-validation with shuffling\n"
      ],
      "metadata": {
        "id": "ziqXjFryTSkN"
      },
      "execution_count": null,
      "outputs": []
    },
    {
      "cell_type": "code",
      "execution_count": null,
      "metadata": {
        "id": "PKhxfOrRVluT",
        "colab": {
          "base_uri": "https://localhost:8080/",
          "height": 211
        },
        "outputId": "9564da5f-f0d4-4660-e739-b8fabc624ff4"
      },
      "outputs": [
        {
          "output_type": "error",
          "ename": "NameError",
          "evalue": "name 'cv_set_up' is not defined",
          "traceback": [
            "\u001b[0;31m---------------------------------------------------------------------------\u001b[0m",
            "\u001b[0;31mNameError\u001b[0m                                 Traceback (most recent call last)",
            "\u001b[0;32m<ipython-input-219-e9d938bf5d5d>\u001b[0m in \u001b[0;36m<cell line: 0>\u001b[0;34m()\u001b[0m\n\u001b[1;32m      3\u001b[0m     \u001b[0mestimator\u001b[0m\u001b[0;34m=\u001b[0m\u001b[0mDecisionTreeRegressor\u001b[0m\u001b[0;34m(\u001b[0m\u001b[0mrandom_state\u001b[0m\u001b[0;34m=\u001b[0m\u001b[0;36m1\u001b[0m\u001b[0;34m)\u001b[0m\u001b[0;34m,\u001b[0m\u001b[0;34m\u001b[0m\u001b[0;34m\u001b[0m\u001b[0m\n\u001b[1;32m      4\u001b[0m     \u001b[0mparam_grid\u001b[0m\u001b[0;34m=\u001b[0m\u001b[0mhyperparam_grid_alpha\u001b[0m\u001b[0;34m,\u001b[0m\u001b[0;34m\u001b[0m\u001b[0;34m\u001b[0m\u001b[0m\n\u001b[0;32m----> 5\u001b[0;31m     \u001b[0mcv\u001b[0m\u001b[0;34m=\u001b[0m\u001b[0mcv_set_up\u001b[0m\u001b[0;34m,\u001b[0m\u001b[0;34m\u001b[0m\u001b[0;34m\u001b[0m\u001b[0m\n\u001b[0m\u001b[1;32m      6\u001b[0m     \u001b[0mscoring\u001b[0m\u001b[0;34m=\u001b[0m\u001b[0;34m'neg_mean_squared_error'\u001b[0m\u001b[0;34m\u001b[0m\u001b[0;34m\u001b[0m\u001b[0m\n\u001b[1;32m      7\u001b[0m )\n",
            "\u001b[0;31mNameError\u001b[0m: name 'cv_set_up' is not defined"
          ]
        }
      ],
      "source": [
        "# Set up Grid Search CV for pruning using different ccp_alpha values\n",
        "grid_search_setting_alpha = GridSearchCV(\n",
        "    estimator=DecisionTreeRegressor(random_state=1),\n",
        "    param_grid=hyperparam_grid_alpha,\n",
        "    cv=cv_set_up,\n",
        "    scoring='neg_mean_squared_error'\n",
        ")"
      ]
    },
    {
      "cell_type": "code",
      "execution_count": null,
      "metadata": {
        "id": "nux2_baOVluT"
      },
      "outputs": [],
      "source": [
        "# Train the Decision Tree model using the best ccp_alpha value\n",
        "grid_search_setting_alpha.fit(x_train_d, y_train_d)"
      ]
    },
    {
      "cell_type": "code",
      "execution_count": null,
      "metadata": {
        "id": "YLEsPqlcVluT"
      },
      "outputs": [],
      "source": [
        "# Print the best ccp_alpha value that resulted in the lowest cross-validation (CV) MSE\n",
        "print(\"The alpha that led to the lowest CV MSE was: \", grid_search_setting_alpha.best_params_)"
      ]
    },
    {
      "cell_type": "code",
      "execution_count": null,
      "metadata": {
        "id": "z8teb4JCVluT"
      },
      "outputs": [],
      "source": [
        "# Train a pruned Decision Tree Regressor using the optimal ccp_alpha found via grid search\n",
        "reg_tree_diabet_postp = DecisionTreeRegressor(\n",
        "    random_state=1,\n",
        "    ccp_alpha=grid_search_setting_alpha.best_params_['ccp_alpha']\n",
        ")\n"
      ]
    },
    {
      "cell_type": "code",
      "execution_count": null,
      "metadata": {
        "id": "wthjgFiaVluT"
      },
      "outputs": [],
      "source": [
        "reg_tree_diabet_postp.fit(x_train_d, y_train_d)"
      ]
    },
    {
      "cell_type": "code",
      "source": [
        "y_pred_test_tree_diabet_postp = reg_tree_diabet_postp.predict(x_test_d)"
      ],
      "metadata": {
        "id": "au1XfOgOGeo9"
      },
      "execution_count": null,
      "outputs": []
    },
    {
      "cell_type": "code",
      "source": [
        "root_mean_squared_error(y_test_d, y_pred_test_tree_diabet_postp)"
      ],
      "metadata": {
        "id": "2zHh3sE1GetK"
      },
      "execution_count": null,
      "outputs": []
    },
    {
      "cell_type": "code",
      "source": [
        "coeff_variation_tree= root_mean_squared_error(y_test_d, y_pred_test_tree_diabet_postp) / np.mean(y)\n",
        "print(f\"coeff_variation_tree: {coeff_variation_tree:.2f}%\")"
      ],
      "metadata": {
        "id": "E0zTBWLDGev0"
      },
      "execution_count": null,
      "outputs": []
    },
    {
      "cell_type": "markdown",
      "source": [],
      "metadata": {
        "id": "VuQKhyln2fg8"
      }
    },
    {
      "cell_type": "code",
      "execution_count": null,
      "metadata": {
        "id": "Rf3U8Lz72Xs0"
      },
      "outputs": [],
      "source": [
        "# Compute Mean Squared Error (MSE)\n",
        "mse_tree = mean_squared_error(y_test_d, y_pred_test_tree_diabet_postp)\n",
        "print(\"\\nTest Mean Squared Error for Tree:\", y_pred_test_tree_diabet_postp)"
      ]
    },
    {
      "cell_type": "code",
      "execution_count": null,
      "metadata": {
        "id": "9XLZ54baVluT"
      },
      "outputs": [],
      "source": [
        "plt.rcParams['figure.figsize'] = [20, 10]\n",
        "tree.plot_tree(reg_tree_diabet_postp,filled=True,rounded=True,feature_names=x_train_d.columns,fontsize=8)\n",
        "plt.show()"
      ]
    },
    {
      "cell_type": "code",
      "source": [
        "x_train_d.columns [reg_tree_diabet_postp.feature_importances_!=0]"
      ],
      "metadata": {
        "id": "YqyIBMhAUJ-r"
      },
      "execution_count": null,
      "outputs": []
    },
    {
      "cell_type": "code",
      "source": [
        "reg_tree_diabet_postp.get_depth()"
      ],
      "metadata": {
        "id": "hKBzTTG_WwvL"
      },
      "execution_count": null,
      "outputs": []
    },
    {
      "cell_type": "markdown",
      "source": [
        "### - Write all **IF-THEN rules** from the tree."
      ],
      "metadata": {
        "id": "gH-S-YYs4SO8"
      }
    },
    {
      "cell_type": "markdown",
      "metadata": {
        "id": "WeRlzQ8e0zfc"
      },
      "source": [
        "**Rule 1:**  \n",
        "   **IF** `bmi <= 0.009` **AND** `s5 <= -0.004`  \n",
        "   **THEN** Prediction = `95.684`  \n",
        "\n",
        "---\n",
        "**Rule 2:**  \n",
        "   **IF** `bmi <= 0.009` **AND** `s5 > -0.004`  \n",
        "   **THEN** Prediction = `156.205`  \n",
        "\n",
        "---\n",
        "**Rule 3:**  \n",
        "   **IF** `bmi > 0.009` **AND** `bp <= 0.024`  \n",
        "   **THEN** Prediction = `176.347`  \n",
        "\n",
        "---\n",
        "**Rule 4:**  \n",
        "   **IF** `bmi > 0.009` **AND** `bp > 0.024`  \n",
        "   **THEN** Prediction = `242.369`  \n",
        "\n",
        "---"
      ]
    },
    {
      "cell_type": "markdown",
      "metadata": {
        "id": "5LTA86CrW8iB"
      },
      "source": [
        "## **Part (b): Train a Random Forest**"
      ]
    },
    {
      "cell_type": "markdown",
      "source": [
        "###- Set `p/2` as the number of predictors.\n"
      ],
      "metadata": {
        "id": "NV4idkYXoMsP"
      }
    },
    {
      "cell_type": "code",
      "source": [
        "num_features = x_train_d.shape[1] # Get the total number of features\n",
        "max_features = int(num_features / 2)\n",
        "feature_subset_array = np.arange(1, max_features + 1)\n",
        "\n",
        "print(\"Feature Subset Array:\", feature_subset_array)\n"
      ],
      "metadata": {
        "id": "Fi5UvbGZnesc"
      },
      "execution_count": null,
      "outputs": []
    },
    {
      "cell_type": "markdown",
      "source": [
        "### - Train trees with **50 to 1000** trees (increase by 50 each time)."
      ],
      "metadata": {
        "id": "nF6SQhycoR3m"
      }
    },
    {
      "cell_type": "code",
      "execution_count": null,
      "metadata": {
        "id": "ztkuGB-6nI1C"
      },
      "outputs": [],
      "source": [
        "number_of_trees = np.arange(50, 1001, 50)\n",
        "#number_of_trees"
      ]
    },
    {
      "cell_type": "code",
      "execution_count": null,
      "metadata": {
        "id": "j0RHVY9qplfO"
      },
      "outputs": [],
      "source": [
        "# Defining the hyperparameter grid for Random Forest tuning / model\n",
        "hyperparam_grid_rf = {\n",
        "    'n_estimators': number_of_trees,  # Number of trees in the forest (controls complexity and performance)\n",
        "    'max_features': feature_subset_array  # Number of features to consider for best split at each node\n",
        "}\n"
      ]
    },
    {
      "cell_type": "markdown",
      "source": [
        "### - Use **5-fold Cross Validation**."
      ],
      "metadata": {
        "id": "Sh41gdmuoVgA"
      }
    },
    {
      "cell_type": "code",
      "source": [
        "# Setting up cross-validation with 3 splits, shuffling data, and ensuring reproducibility\n",
        "cv_set_up_ = KFold(n_splits=5, shuffle=True, random_state=1)\n"
      ],
      "metadata": {
        "id": "jNlyzidFp4gr"
      },
      "execution_count": null,
      "outputs": []
    },
    {
      "cell_type": "code",
      "execution_count": null,
      "metadata": {
        "id": "nXLZYi9Uq5xS"
      },
      "outputs": [],
      "source": [
        "# Set up GridSearchCV for hyperparameter tuning of Random Forest Regressor\n",
        "grid_search_setting_rf = GridSearchCV(\n",
        "    estimator=RandomForestRegressor(random_state=1),  # Initialize Random Forest model with a fixed random state for reproducibility\n",
        "    param_grid=hyperparam_grid_rf,  # Use the defined hyperparameter grid for tuning\n",
        "    cv=cv_set_up,  # Cross-validation strategy (e.g., K-Fold or other CV method)\n",
        "    scoring='neg_mean_squared_error'  # Evaluation metric (negative MSE for minimizing error in regression tasks)\n",
        ")\n"
      ]
    },
    {
      "cell_type": "code",
      "execution_count": null,
      "metadata": {
        "id": "FQylcpjBrSgc"
      },
      "outputs": [],
      "source": [
        "# Performing hyperparameter tuning using GridSearchCV on the training data\n",
        "grid_search_setting_rf.fit(x_train_d, y_train_d)\n"
      ]
    },
    {
      "cell_type": "code",
      "execution_count": null,
      "metadata": {
        "id": "7bfdd64d"
      },
      "outputs": [],
      "source": [
        "\n",
        "# Printing the best hyperparameter values found by GridSearchCV\n",
        "print('Selected hyperparameter values:', grid_search_setting_rf.best_params_)\n"
      ]
    },
    {
      "cell_type": "code",
      "source": [
        "rf_diabetes = RandomForestRegressor(n_estimators=600, max_features=4, random_state=1)"
      ],
      "metadata": {
        "id": "j4TWRSVfNrM1"
      },
      "execution_count": null,
      "outputs": []
    },
    {
      "cell_type": "code",
      "source": [
        "rf_diabetes.fit(x_train_d, y_train_d)"
      ],
      "metadata": {
        "id": "x8tVO-dlNrPi"
      },
      "execution_count": null,
      "outputs": []
    },
    {
      "cell_type": "code",
      "source": [
        "# Making predictions on the test set using the trained Random Forest model\n",
        "y_pred_test_rf = rf_diabetes.predict(x_test_d)"
      ],
      "metadata": {
        "id": "raC6FLzfENeG"
      },
      "execution_count": null,
      "outputs": []
    },
    {
      "cell_type": "code",
      "source": [
        "# Calculating the Root Mean Squared Error (RMSE) for model evaluation\n",
        "rmse_rf = root_mean_squared_error(y_test_d, y_pred_test_rf)\n",
        "rmse_rf"
      ],
      "metadata": {
        "id": "fXkkyYe1ENcA"
      },
      "execution_count": null,
      "outputs": []
    },
    {
      "cell_type": "code",
      "source": [
        "\n",
        "# Normalizing the RMSE by dividing it by the mean of the target variable\n",
        "normalized_rmse_rf = rmse_rf / np.mean(y)"
      ],
      "metadata": {
        "id": "E5fHOd0odz8w"
      },
      "execution_count": null,
      "outputs": []
    },
    {
      "cell_type": "code",
      "source": [
        "# Printing results\n",
        "print(\"Root Mean Squared Error (RMSE):\", rmse_rf)\n",
        "print(\"Normalized RMSE:\", normalized_rmse_rf)"
      ],
      "metadata": {
        "id": "_5w1AbOUg1ua"
      },
      "execution_count": null,
      "outputs": []
    },
    {
      "cell_type": "code",
      "source": [
        "df_feature_imp = pd.Series(data=rf_diabetes.feature_importances_, index=x_train_d.columns , name= \"Predictor Importance in Forest\")\n"
      ],
      "metadata": {
        "id": "gpCtSFCx3Sr4"
      },
      "execution_count": null,
      "outputs": []
    },
    {
      "cell_type": "code",
      "source": [
        "df_feature_imp.sort_values(ascending=False)"
      ],
      "metadata": {
        "id": "jHxzEkxh7HTB"
      },
      "execution_count": null,
      "outputs": []
    },
    {
      "cell_type": "markdown",
      "metadata": {
        "id": "VNxrrheGXEqt"
      },
      "source": [
        "## **Part (c): Train a Boosted Tree Model**"
      ]
    },
    {
      "cell_type": "markdown",
      "metadata": {
        "id": "z4PaO94tgNkb"
      },
      "source": [
        "### - Learning rate = **0.01**.\n",
        "### - Number of trees = **100**.\n",
        "### - Max depth = **2 to 6** (increase by 1 each time).\n",
        "### - Use **5-fold Cross Validation**.\n",
        "\n"
      ]
    },
    {
      "cell_type": "code",
      "source": [
        "# Define hyperparameter values\n",
        "learning_rate = 0.01\n",
        "n_estimators = 100\n",
        "max_depth_values = range(2, 7)  # 2, 3, 4, 5, 6\n",
        "cv_folds = 5"
      ],
      "metadata": {
        "id": "qGmjWjHoNrU5"
      },
      "execution_count": null,
      "outputs": []
    },
    {
      "cell_type": "code",
      "source": [
        "number_of_trees_boosting = 100"
      ],
      "metadata": {
        "id": "C9jp-gkyoVnA"
      },
      "execution_count": null,
      "outputs": []
    },
    {
      "cell_type": "code",
      "source": [
        "# Displaying the values for verification\n",
        "print(number_of_trees_boosting)"
      ],
      "metadata": {
        "id": "lYRCJoX_Yh2E"
      },
      "execution_count": null,
      "outputs": []
    },
    {
      "cell_type": "code",
      "source": [
        "# As suggested by the textbook, let's try small values\n",
        "\n",
        "# Defining a range of tree depths for Gradient Boosting, as suggested by the textbook\n",
        "depth_values = range(2, 7)\n",
        "depth_values"
      ],
      "metadata": {
        "id": "S-DHohUoo3nx"
      },
      "execution_count": null,
      "outputs": []
    },
    {
      "cell_type": "code",
      "source": [
        "# Defining lambda (learning rate) values for Gradient Boosting tuning\n",
        "lambda_values = 0.01"
      ],
      "metadata": {
        "id": "gj35ts8eonTh"
      },
      "execution_count": null,
      "outputs": []
    },
    {
      "cell_type": "code",
      "source": [],
      "metadata": {
        "id": "f-xm5UKiNrXQ"
      },
      "execution_count": null,
      "outputs": []
    },
    {
      "cell_type": "code",
      "source": [],
      "metadata": {
        "id": "Arln5jE8NrZj"
      },
      "execution_count": null,
      "outputs": []
    },
    {
      "cell_type": "code",
      "source": [],
      "metadata": {
        "id": "ray1sKXMNrcs"
      },
      "execution_count": null,
      "outputs": []
    },
    {
      "cell_type": "code",
      "source": [],
      "metadata": {
        "id": "y3_vJB7iNrgF"
      },
      "execution_count": null,
      "outputs": []
    },
    {
      "cell_type": "markdown",
      "metadata": {
        "id": "fnGXgKERgFsC"
      },
      "source": [
        "###- Set `p/2` as the number of predictors.\n",
        "### - Train trees with **50 to 1000** trees (increase by 50 each time).\n",
        "### - Use **5-fold Cross Validation**.\n",
        "\n"
      ]
    },
    {
      "cell_type": "code",
      "execution_count": null,
      "metadata": {
        "id": "Y9q4M3PW8IQr"
      },
      "outputs": [],
      "source": [
        "# Use the trained and pruned decision tree to make predictions on the test dataset\n",
        "y_pred_test_tree_diabet_postp = reg_tree_diabet_postp.predict(x_test_d)\n",
        "\n",
        "\n"
      ]
    },
    {
      "cell_type": "code",
      "execution_count": null,
      "metadata": {
        "id": "XcTrc1gk8EBp"
      },
      "outputs": [],
      "source": [
        "# Calculate RMSE (Root Mean Squared Error) on the test data\n",
        "# RMSE measures how far predictions are from actual values\n",
        "test_rmse_2nd_tree = root_mean_squared_error(y_test_d, y_pred_test_tree_diabet_postp)\n"
      ]
    },
    {
      "cell_type": "code",
      "execution_count": null,
      "metadata": {
        "id": "WfStFgRZDQr5"
      },
      "outputs": [],
      "source": [
        "# Compute the percentage difference dynamically\n",
        "rmse_difference_ratio_among_trees = ((rmse - test_rmse_2nd_tree) / rmse) *100\n",
        "\n",
        "# Print the results\n",
        "print(f\"test_rmse_1st_tree: {rmse:.4f}\")\n",
        "print(f\"test_rmse_2nd_treet: {test_rmse_2nd_tree:.4f}\")\n",
        "print(f\"Relative RMSE Difference among trees: {rmse_difference_ratio_among_trees:.4f}\")\n"
      ]
    },
    {
      "cell_type": "code",
      "execution_count": null,
      "metadata": {
        "id": "7oOabBW0rn5s"
      },
      "outputs": [],
      "source": []
    },
    {
      "cell_type": "code",
      "execution_count": null,
      "metadata": {
        "id": "8Yr2QNnGEPvR"
      },
      "outputs": [],
      "source": [
        "# Define the range of trees to test\n",
        "number_of_trees = np.arange(50, 1001, 50)\n",
        "\n",
        "# Determine the number of features available\n",
        "x_train_d.shape[1]\n",
        "\n",
        "# Determine the number of features available from x_train_d\n",
        "p = x_train_d.shape[1]\n",
        "p_over_2 = p // 2  # Use integer division to get a whole number\n",
        "\n",
        "# Define the range of features to consider\n",
        "number_of_features = np.arange(3, x_train_cr.shape[1] + 1, 2)\n",
        "\n",
        "# Define the hyperparameter grid for Random Forest\n",
        "hyperparam_grid_rf = {\n",
        "    'n_estimators': number_of_trees,  # Number of trees in the forest\n",
        "    'max_features': number_of_features  # Number of features to consider per split\n",
        "}"
      ]
    },
    {
      "cell_type": "code",
      "execution_count": null,
      "metadata": {
        "id": "SeVO3b5b9meT"
      },
      "outputs": [],
      "source": [
        "# Set up 3-fold cross-validation\n",
        "cv_set_up= KFold(n_splits=5, shuffle=True, random_state=1)\n",
        "\n",
        "# Use GridSearchCV to find the best hyperparameters\n",
        "grid_search_setting_rf = GridSearchCV(\n",
        "    estimator=RandomForestRegressor(random_state=1),\n",
        "    param_grid=hyperparam_grid_rf,\n",
        "    cv=cv_set_up,\n",
        "    scoring='neg_mean_squared_error'\n",
        ")\n",
        "\n",
        "# Train using Grid Search\n",
        "grid_search_setting_rf.fit(x_train_d, y_train_d)\n",
        "\n",
        "# Print the best hyperparameters found\n",
        "print('This is the hyperparameter combination that led to the lowest CV MSE:', grid_search_setting_rf.best_params_)"
      ]
    },
    {
      "cell_type": "code",
      "execution_count": null,
      "metadata": {
        "id": "23b12648"
      },
      "outputs": [],
      "source": [
        "# Creating an array of values representing the number of trees for a Random Forest model\n",
        "# The values range from 500 to 1000 (inclusive) in increments of 100\n",
        "number_of_trees = np.arange(50, 1001, 50)\n",
        "number_of_trees"
      ]
    },
    {
      "cell_type": "code",
      "execution_count": null,
      "metadata": {
        "id": "31QGLCVJdHq9"
      },
      "outputs": [],
      "source": [
        "# Getting the number of features in the training set\n",
        "x_train_d.shape[1]\n"
      ]
    },
    {
      "cell_type": "code",
      "execution_count": null,
      "metadata": {
        "id": "17ea9aa4"
      },
      "outputs": [],
      "source": [
        "# Let's try 2, 4, ..., 12\n",
        "# I do not try the full range to minimize computation time.\n",
        "\n",
        "# Generate an array of even numbers starting from 2 up to the total number of features in X_train_b\n",
        "# This will be used to evaluate model performance with different feature subset sizes\n",
        "number_of_features = np.arange(2, X_train_b.shape[1] + 1, 2)\n",
        "number_of_features\n"
      ]
    },
    {
      "cell_type": "code",
      "execution_count": null,
      "metadata": {
        "id": "1da0eee9"
      },
      "outputs": [],
      "source": [
        "# Defining the hyperparameter grid for Random Forest tuning / model\n",
        "hyperparam_grid_rf = {\n",
        "    'n_estimators': number_of_trees,  # Number of trees in the forest (controls complexity and performance)\n",
        "    'max_features': number_of_features  # Number of features to consider for best split at each node\n",
        "}\n"
      ]
    },
    {
      "cell_type": "code",
      "execution_count": null,
      "metadata": {
        "id": "rfLmNL_KX2Jg"
      },
      "outputs": [],
      "source": [
        "# USE 3 folds , not 10 !!!!\n",
        "\n",
        "# Setting up cross-validation with 3 splits, shuffling data, and ensuring reproducibility\n",
        "cv_set_up= KFold(n_splits=3, shuffle=True, random_state=1)\n"
      ]
    },
    {
      "cell_type": "code",
      "execution_count": null,
      "metadata": {
        "id": "b67f9668"
      },
      "outputs": [],
      "source": [
        "# Set up GridSearchCV for hyperparameter tuning of Random Forest Regressor\n",
        "grid_search_setting_rf = GridSearchCV(\n",
        "    estimator=RandomForestRegressor(random_state=1),  # Initialize Random Forest model with a fixed random state for reproducibility\n",
        "    param_grid=hyperparam_grid_rf,  # Use the defined hyperparameter grid for tuning\n",
        "    cv=cv_set_up,  # Cross-validation strategy (e.g., K-Fold or other CV method)\n",
        "    scoring='neg_mean_squared_error'  # Evaluation metric (negative MSE for minimizing error in regression tasks)\n",
        ")\n"
      ]
    },
    {
      "cell_type": "code",
      "execution_count": null,
      "metadata": {
        "id": "d0a2083e"
      },
      "outputs": [],
      "source": [
        "# Performing hyperparameter tuning using GridSearchCV on the training data\n",
        "grid_search_setting_rf.fit(X_train_b, y_train_b)\n"
      ]
    },
    {
      "cell_type": "markdown",
      "metadata": {
        "id": "4bOZKnTkXLHd"
      },
      "source": [
        "## **Part (d): Compare Boosted Trees vs Random Forest**"
      ]
    },
    {
      "cell_type": "markdown",
      "metadata": {
        "id": "EEsv51udgPXb"
      },
      "source": [
        "### - Determine which model is better using **error metrics**."
      ]
    },
    {
      "cell_type": "markdown",
      "metadata": {
        "id": "4cQ426aOBvMh"
      },
      "source": [
        "---\n",
        "---"
      ]
    },
    {
      "cell_type": "code",
      "execution_count": null,
      "metadata": {
        "id": "LPm2aBZcKqOL"
      },
      "outputs": [],
      "source": []
    },
    {
      "cell_type": "code",
      "execution_count": null,
      "metadata": {
        "id": "4Z3JVUPkKqQ1"
      },
      "outputs": [],
      "source": []
    },
    {
      "cell_type": "code",
      "execution_count": null,
      "metadata": {
        "id": "XaDdibnAKqTt"
      },
      "outputs": [],
      "source": []
    },
    {
      "cell_type": "code",
      "execution_count": null,
      "metadata": {
        "id": "NXrg9IXzKqWq"
      },
      "outputs": [],
      "source": []
    },
    {
      "cell_type": "code",
      "execution_count": null,
      "metadata": {
        "id": "XVSRxFzyKqZL"
      },
      "outputs": [],
      "source": []
    },
    {
      "cell_type": "code",
      "execution_count": null,
      "metadata": {
        "id": "RWfY4MakJpM8"
      },
      "outputs": [],
      "source": []
    },
    {
      "cell_type": "code",
      "execution_count": null,
      "metadata": {
        "id": "0ogv73AOJoJi"
      },
      "outputs": [],
      "source": []
    },
    {
      "cell_type": "code",
      "execution_count": null,
      "metadata": {
        "id": "hceDfBZo_sc0"
      },
      "outputs": [],
      "source": []
    },
    {
      "cell_type": "code",
      "execution_count": null,
      "metadata": {
        "id": "orq__Iud_sfy"
      },
      "outputs": [],
      "source": []
    },
    {
      "cell_type": "code",
      "execution_count": null,
      "metadata": {
        "id": "9k4233DY_sjD"
      },
      "outputs": [],
      "source": []
    },
    {
      "cell_type": "code",
      "execution_count": null,
      "metadata": {
        "id": "ifx0YCor_sln"
      },
      "outputs": [],
      "source": []
    },
    {
      "cell_type": "code",
      "execution_count": null,
      "metadata": {
        "id": "2jfP3MNA_sok"
      },
      "outputs": [],
      "source": []
    },
    {
      "cell_type": "code",
      "execution_count": null,
      "metadata": {
        "id": "_QGV5lEn_srf"
      },
      "outputs": [],
      "source": []
    },
    {
      "cell_type": "code",
      "execution_count": null,
      "metadata": {
        "id": "pTWTwdwc_sug"
      },
      "outputs": [],
      "source": []
    },
    {
      "cell_type": "code",
      "execution_count": null,
      "metadata": {
        "id": "Uo2KjT55_sxn"
      },
      "outputs": [],
      "source": []
    },
    {
      "cell_type": "code",
      "execution_count": null,
      "metadata": {
        "id": "xZDGbKDG5CVa"
      },
      "outputs": [],
      "source": []
    },
    {
      "cell_type": "code",
      "execution_count": null,
      "metadata": {
        "id": "9zuGHcY05C40"
      },
      "outputs": [],
      "source": []
    },
    {
      "cell_type": "code",
      "execution_count": null,
      "metadata": {
        "id": "wFz3ag5FXVlx"
      },
      "outputs": [],
      "source": []
    },
    {
      "cell_type": "markdown",
      "metadata": {
        "id": "xTCkFBlfXg4t"
      },
      "source": [
        "# ---\n",
        "\n",
        "# ## Question 3 (10 points): Regression Tree Analysis\n",
        "\n",
        "# **Instructions:**\n",
        "# - Answer the following questions based on a given regression tree image.\n",
        "\n",
        "# **Part (a): Find tree depth**\n",
        "# **Part (b): Identify the leaf with the lowest number of observations**\n",
        "# **Part (c): List all predictor variables in the tree**\n",
        "# **Part (d): Predict `Y` for given `X` values**\n",
        "# **Part (e): Identify the leaf with the smallest prediction error**\n",
        "# **Part (f): Determine `min_samples_split` from the tree**\n"
      ]
    },
    {
      "cell_type": "markdown",
      "metadata": {
        "id": "h8CwflsDXwX3"
      },
      "source": [
        "# TODO: Answer based on tree visualization (Markdown cell)"
      ]
    },
    {
      "cell_type": "code",
      "execution_count": null,
      "metadata": {
        "id": "ex6VmtyFXrwb"
      },
      "outputs": [],
      "source": []
    },
    {
      "cell_type": "code",
      "execution_count": null,
      "metadata": {
        "id": "VKrWCCAOf48R"
      },
      "outputs": [],
      "source": []
    },
    {
      "cell_type": "code",
      "execution_count": null,
      "metadata": {
        "id": "GmHY-ghef4-_"
      },
      "outputs": [],
      "source": []
    },
    {
      "cell_type": "code",
      "execution_count": null,
      "metadata": {
        "id": "66iWiyRaf5Bi"
      },
      "outputs": [],
      "source": []
    },
    {
      "cell_type": "code",
      "execution_count": null,
      "metadata": {
        "id": "2hAINx5-f5D4"
      },
      "outputs": [],
      "source": []
    },
    {
      "cell_type": "code",
      "execution_count": null,
      "metadata": {
        "id": "kF6uAm6Wf5Gd"
      },
      "outputs": [],
      "source": []
    },
    {
      "cell_type": "code",
      "execution_count": null,
      "metadata": {
        "id": "S10JoP9yf5Ir"
      },
      "outputs": [],
      "source": []
    },
    {
      "cell_type": "code",
      "execution_count": null,
      "metadata": {
        "id": "LGKO9twIf5K6"
      },
      "outputs": [],
      "source": []
    },
    {
      "cell_type": "code",
      "execution_count": null,
      "metadata": {
        "id": "A_EH3kzBf5NQ"
      },
      "outputs": [],
      "source": []
    },
    {
      "cell_type": "markdown",
      "metadata": {
        "id": "HALiBVzNX8Wg"
      },
      "source": [
        "# - **Orange Dataset** (CSV file from Canvas) → Used for Question 4."
      ]
    },
    {
      "cell_type": "markdown",
      "metadata": {
        "id": "gpJpjD_bX3W5"
      },
      "source": [
        "# ## Question 4 (15 points): Predicting Tree Age from Circumference\n",
        "\n",
        "# **Instructions:**\n",
        "# - Load the **Orange dataset**.\n",
        "# - Train at least **three regression models**.\n",
        "# - Use **Adjusted R²** to select the best model.\n",
        "# - Propose the best regression equation for predicting tree age.\n"
      ]
    },
    {
      "cell_type": "markdown",
      "metadata": {
        "id": "lfsYPHwlE7aO"
      },
      "source": [
        "Stat approach\n",
        "Evaluate the performance of the equation only on the training data, but make sure to adjust the evaluation for overfitting.\n",
        "\n",
        "How to adjust for overfitting?\n",
        "\n",
        "Use adjusted R squared, Residuals Standard Error (RSE), Cp, BIC, ... (or any metric that adjusts for overfitting)."
      ]
    },
    {
      "cell_type": "markdown",
      "metadata": {
        "id": "U2i6x0z7f8iq"
      },
      "source": [
        "### **Step 1: Load & Explore the Orange Dataset**\n",
        "✅ **Load the Orange dataset**  \n",
        "✅ **Display sample data to understand its structure**  \n",
        "✅ **Identify the outcome variable (`Tree Age`) and predictor (`Circumference`)**  \n",
        "✅ **Visualize the relationship between `Circumference` and `Tree Age` using scatter plots**  \n",
        "\n",
        "---"
      ]
    },
    {
      "cell_type": "code",
      "execution_count": null,
      "metadata": {
        "id": "T1K9yCiOONzz"
      },
      "outputs": [],
      "source": [
        "url= 'https://raw.githubusercontent.com/Requenamar3/Machine-Learning/refs/heads/main/Orange.csv'"
      ]
    },
    {
      "cell_type": "code",
      "execution_count": null,
      "metadata": {
        "id": "LqWY7JEYON7-"
      },
      "outputs": [],
      "source": [
        "orange_tree_df = pd.read_csv(url)"
      ]
    },
    {
      "cell_type": "code",
      "execution_count": null,
      "metadata": {
        "id": "WYRAUPR1ON-i"
      },
      "outputs": [],
      "source": [
        "orange_tree_df.info()"
      ]
    },
    {
      "cell_type": "code",
      "execution_count": null,
      "metadata": {
        "id": "fbm-veFlOOBd"
      },
      "outputs": [],
      "source": [
        "x = orange_tree_df[['circumference']]\n",
        "y = orange_tree_df['age']"
      ]
    },
    {
      "cell_type": "code",
      "execution_count": null,
      "metadata": {
        "id": "9rzzOmXJD-YN"
      },
      "outputs": [],
      "source": [
        "orange_tree_df[[\"circumference\",'age']].corr()"
      ]
    },
    {
      "cell_type": "code",
      "execution_count": null,
      "metadata": {
        "id": "dLKHm9BWHlWt"
      },
      "outputs": [],
      "source": [
        "plt.figure(figsize=(10, 6))\n",
        "plt.scatter(orange_tree_df['circumference'], orange_tree_df['age'], c= 'blue')\n",
        "plt.xlabel('Circumference')\n",
        "plt.ylabel('Age')\n",
        "plt.title('Scatter Plot of Circumference vs Age')\n",
        "plt.show()"
      ]
    },
    {
      "cell_type": "code",
      "execution_count": null,
      "metadata": {
        "id": "T4eNd1wEOODz"
      },
      "outputs": [],
      "source": [
        "print(np.array(orange_tree_df ['age']).reshape(-1,1).ndim)\n",
        "print(np.array(orange_tree_df ['age']).reshape(-1,1).shape)"
      ]
    },
    {
      "cell_type": "markdown",
      "metadata": {
        "id": "UKBg4W3RPr57"
      },
      "source": []
    },
    {
      "cell_type": "code",
      "execution_count": null,
      "metadata": {
        "id": "BglxRZ_vOOGZ"
      },
      "outputs": [],
      "source": [
        "x_circu = np.array(orange_tree_df ['circumference']).reshape(-1,1)\n",
        "y_age = np.array(orange_tree_df ['age']).reshape(-1,1)"
      ]
    },
    {
      "cell_type": "markdown",
      "metadata": {
        "id": "A9bQStLMPpVm"
      },
      "source": [
        "### Linear regression"
      ]
    },
    {
      "cell_type": "code",
      "execution_count": null,
      "metadata": {
        "id": "_vTB_P57OOI1"
      },
      "outputs": [],
      "source": [
        "lr_orange_circ = LinearRegression()\n",
        "lr_orange_circ.fit(x_circu, y_age)"
      ]
    },
    {
      "cell_type": "code",
      "execution_count": null,
      "metadata": {
        "id": "W2v9oImTMFR6"
      },
      "outputs": [],
      "source": [
        "lr_orange_circ.coef_\n"
      ]
    },
    {
      "cell_type": "code",
      "execution_count": null,
      "metadata": {
        "id": "sSj5-f9TMN2o"
      },
      "outputs": [],
      "source": [
        "lr_orange_circ.intercept_"
      ]
    },
    {
      "cell_type": "code",
      "execution_count": null,
      "metadata": {
        "id": "hKU4UHQlMT3-"
      },
      "outputs": [],
      "source": [
        "y_pred_circ = lr_orange_circ.predict(x_circu)"
      ]
    },
    {
      "cell_type": "code",
      "execution_count": null,
      "metadata": {
        "id": "pOgGxqCHNY0Z"
      },
      "outputs": [],
      "source": [
        "r2 = r2_score(y_age, y_pred_circ)\n",
        "r2\n"
      ]
    },
    {
      "cell_type": "code",
      "execution_count": null,
      "metadata": {
        "id": "72QMSMuxOQVh"
      },
      "outputs": [],
      "source": [
        "def rse_calculator(y_actual, y_predicted, p):\n",
        "\n",
        "    # Compute the sum of squared residuals (errors)\n",
        "    residual_sum = np.sum((y_actual - y_predicted) ** 2)\n",
        "\n",
        "    # Compute the RSE using the formula: sqrt(SSE / (n - p - 1))\n",
        "    rse_value = np.sqrt(residual_sum / (y_actual.size - p - 1))\n",
        "\n",
        "    # Return the RSE value rounded to 4 decimal places\n",
        "    return np.round(rse_value, 4)"
      ]
    },
    {
      "cell_type": "code",
      "execution_count": null,
      "metadata": {
        "id": "pTcbxl4vPIFU"
      },
      "outputs": [],
      "source": [
        "rse_calculator(y_age, y_pred_circ, 1) / np.mean(y_age)"
      ]
    },
    {
      "cell_type": "markdown",
      "metadata": {
        "id": "4Pnamw1MiTSa"
      },
      "source": [
        "**R² Score (0.8345) Interpretation:**\n",
        "   - The model explains approximately **83.45% of the variance** in the actual data.\n",
        "   - This indicates a **good fit**, though some variance remains unexplained.\n",
        "\n",
        "**Relative Standard Error (RSE):**\n",
        "   - The RSE value divided by the mean (0.2202) suggests that the typical prediction error is about **22.02% of the average actual value**.\n",
        "   - While this is relatively low, it still suggests some **room for model improvement**."
      ]
    },
    {
      "cell_type": "code",
      "execution_count": null,
      "metadata": {
        "id": "rWfG8QNMQKN6"
      },
      "outputs": [],
      "source": [
        "intercept = lr_orange_circ.intercept_.item()\n",
        "slope = lr_orange_circ.coef_.item()\n",
        "\n",
        "# Print regression equation\n",
        "print(f\"Regression Equation: Age = {intercept:.4f} + {slope:.4f} * Circumference\")"
      ]
    },
    {
      "cell_type": "code",
      "execution_count": null,
      "metadata": {
        "id": "v9bqETvgOOV-"
      },
      "outputs": [],
      "source": [
        "plt.figure(figsize=(10, 6))\n",
        "\n",
        "# Scatter plot (Age vs Circumference)\n",
        "plt.scatter(orange_tree_df['circumference'], orange_tree_df['age'], c='blue')\n",
        "\n",
        "# Proper axis labels\n",
        "plt.xlabel('Circumference')\n",
        "plt.ylabel('Age')\n",
        "\n",
        "# Title\n",
        "plt.title('Scatter Plot of Circumference vs Age')\n",
        "\n",
        "# Correct yticks range and formatting\n",
        "plt.yticks(np.linspace(orange_tree_df['age'].min(), orange_tree_df['age'].max(), num=10).astype(int))\n",
        "\n",
        "# Plot the regression line\n",
        "plt.plot(orange_tree_df['circumference'], y_pred_circ, c='red', linestyle='-')  # Red solid line for regression\n",
        "\n",
        "# Enable grid\n",
        "plt.grid(True)\n",
        "\n",
        "# Show plot\n",
        "plt.show()\n"
      ]
    },
    {
      "cell_type": "code",
      "execution_count": null,
      "metadata": {
        "id": "74a78e30"
      },
      "outputs": [],
      "source": [
        "residuals_circ = y_age - y_pred_circ"
      ]
    },
    {
      "cell_type": "code",
      "execution_count": null,
      "metadata": {
        "id": "26990790"
      },
      "outputs": [],
      "source": [
        "plt.scatter(y_pred_circ, residuals_circ,c='blue')\n",
        "\n",
        "plt.xlabel(\"Predicted y\")\n",
        "plt.ylabel(\"Residuals\")  # Difference between actual and predicted values\n",
        "plt.axhline(0, c='red', ls='--')\n",
        "\n",
        "plt.show()"
      ]
    },
    {
      "cell_type": "code",
      "execution_count": null,
      "metadata": {
        "id": "jX4_jSjMkBGk"
      },
      "outputs": [],
      "source": [
        "rse_circ= rse_calculator(y_age, y_pred_circ, x_circu.shape[1])\n",
        "rse_circ"
      ]
    },
    {
      "cell_type": "markdown",
      "metadata": {
        "id": "jnyy-e3ig6A2"
      },
      "source": [
        "The residual plot shows no strong bias, but potential heteroscedasticity and outliers. The model may not fully capture some patterns, suggesting a need for further refinement or a different model."
      ]
    },
    {
      "cell_type": "markdown",
      "metadata": {
        "id": "Gho6ZIlEPdwl"
      },
      "source": [
        "---\n",
        "### Polynomial Regression"
      ]
    },
    {
      "cell_type": "code",
      "execution_count": null,
      "metadata": {
        "id": "DN4yh3Aeuc5o"
      },
      "outputs": [],
      "source": [
        "# Initialize a polynomial transformer with degree 2\n",
        "poly2_object = PolynomialFeatures(degree=2)\n",
        "\n",
        "# Convert 'circumference' column into a NumPy array and reshape it for transformation\n",
        "x_circu = np.array(orange_tree_df['circumference']).reshape(-1, 1)\n",
        "\n",
        "# Define the target variable (MPG)\n",
        "y_age = orange_tree_df['age']"
      ]
    },
    {
      "cell_type": "code",
      "execution_count": null,
      "metadata": {
        "id": "Me1M5bOfOOdX"
      },
      "outputs": [],
      "source": [
        "orange_tree_df['circumference'].corr(orange_tree_df['circumference']**2)"
      ]
    },
    {
      "cell_type": "code",
      "execution_count": null,
      "metadata": {
        "id": "O8pEBTDm4JFT"
      },
      "outputs": [],
      "source": [
        "# Pipeline with two steps: centering and polynomial feature transformation\n",
        "poly2_pipeline = Pipeline([\n",
        "    ('scaler', StandardScaler(with_mean=True, with_std=False)),  # Step 1: Center the predictor. We do with_std=False bc we want to center only, not standardize\n",
        "    ('poly_features', PolynomialFeatures(degree=2))  # Step 2: Apply polynomial transformation\n",
        "])"
      ]
    },
    {
      "cell_type": "code",
      "execution_count": null,
      "metadata": {
        "id": "fJC6FKRYQJER"
      },
      "outputs": [],
      "source": [
        "x_circu_transf_poly2 = poly2_pipeline.fit_transform(x_circu)\n",
        "x_circu_transf_poly2"
      ]
    },
    {
      "cell_type": "code",
      "execution_count": null,
      "metadata": {
        "id": "1QjtI7hFROC2"
      },
      "outputs": [],
      "source": [
        "lr_poly2 = LinearRegression()\n",
        "lr_poly2.fit(x_circu_transf_poly2, y_age)"
      ]
    },
    {
      "cell_type": "code",
      "execution_count": null,
      "metadata": {
        "id": "9Oa87GJESfdd"
      },
      "outputs": [],
      "source": [
        "lr_poly2.intercept_"
      ]
    },
    {
      "cell_type": "code",
      "execution_count": null,
      "metadata": {
        "id": "UiMybeSFSfgl"
      },
      "outputs": [],
      "source": [
        "lr_poly2.coef_"
      ]
    },
    {
      "cell_type": "code",
      "execution_count": null,
      "metadata": {
        "id": "mzNw7iCgSfjF"
      },
      "outputs": [],
      "source": [
        "intercept = lr_poly2.intercept_\n",
        "coefficients = lr_poly2.coef_[1:]"
      ]
    },
    {
      "cell_type": "code",
      "execution_count": null,
      "metadata": {
        "id": "Lri4UKU8Sfl-"
      },
      "outputs": [],
      "source": [
        "feature_names = ['Intercept'] + ['Coeff_degree_'+ str(i) for i in range(1, len(coefficients)+1)]\n",
        "\n",
        "coefficients_df = pd.DataFrame({'Coefficient Name': feature_names, 'Coefficient Value': np.concatenate(([intercept], coefficients))})\n",
        "\n",
        "print(coefficients_df)"
      ]
    },
    {
      "cell_type": "markdown",
      "metadata": {
        "id": "0W0mYxHR2ON8"
      },
      "source": [
        "### **👉 Why do we do this?**  \n",
        "- The **intercept represents the baseline prediction** when all features are zero.  \n",
        "- The **coefficients show the impact of each polynomial term** on the target variable.  \n",
        "- Helps **interpret how `circumference²` affects MPG differently than `circumference` alone**.  \n",
        "\n",
        "✅ **Avalon Dataset Example:**  \n",
        "- When predicting **the age of abalone based on shell diameter**, coefficients tell us how much each feature contributes.  \n",
        "- If `diameter²` has a **larger positive coefficient** than `diameter`, the **growth rate accelerates with size**.  \n",
        "\n",
        "---"
      ]
    },
    {
      "cell_type": "code",
      "execution_count": null,
      "metadata": {
        "id": "63f4lW0cHjG0"
      },
      "outputs": [],
      "source": [
        "import pandas as pd\n",
        "\n",
        "# Example DataFrame with coefficients\n",
        "coefficients_df = pd.DataFrame({\n",
        "    \"Coefficient Name\": [\"Intercept\", \"Coeff_degree_1\", \"Coeff_degree_2\"],\n",
        "    \"Coefficient Value\": [1029.928998, 7.816031, -0.033573]\n",
        "})\n",
        "\n",
        "# Extracting values dynamically\n",
        "intercept = coefficients_df.loc[coefficients_df[\"Coefficient Name\"] == \"Intercept\", \"Coefficient Value\"].values[0]\n",
        "coeff_1 = coefficients_df.loc[coefficients_df[\"Coefficient Name\"] == \"Coeff_degree_1\", \"Coefficient Value\"].values[0]\n",
        "coeff_2 = coefficients_df.loc[coefficients_df[\"Coefficient Name\"] == \"Coeff_degree_2\", \"Coefficient Value\"].values[0]\n",
        "\n",
        "# Variable name\n",
        "variable = \"centered circumference\"\n",
        "\n",
        "# Dynamically construct the regression equation\n",
        "equation = f\"Predicted mpg = {intercept:.2f} {coeff_1:+.2f} * ({variable}) {coeff_2:+.3f} * ({variable} squared)\"\n",
        "\n",
        "print(equation)\n"
      ]
    },
    {
      "cell_type": "code",
      "execution_count": null,
      "metadata": {
        "id": "Qe_ELTpFRO5b"
      },
      "outputs": [],
      "source": [
        "# Scatter plot\n",
        "plt.figure(figsize=(8, 8))\n",
        "plt.scatter(orange_tree_df['circumference'], orange_tree_df['age'], c='blue')\n",
        "plt.xlabel(\"circumference\")\n",
        "plt.ylabel(\"age\")\n",
        "plt.title(\"Orange tree age vs its circumference\")\n",
        "\n",
        "# Linear regression line\n",
        "linear_model = LinearRegression().fit(x_circu, y_age)\n",
        "linear_predictions = linear_model.predict(x_circu)\n",
        "plt.plot(x_circu, linear_predictions, c='red', ls='-', linewidth=3, label='Linear Model')\n",
        "\n",
        "# Create xaxis_values (these are sorted x values)\n",
        "xaxis_values = orange_tree_df['circumference'].sort_values().values.reshape(-1, 1)\n",
        "\n",
        "# Transform the xaxis_values using the pipeline\n",
        "xaxis_values_transf_poly2 = poly2_pipeline.fit_transform(xaxis_values)\n",
        "\n",
        "# Second degree poly curve\n",
        "poly_predictions = lr_poly2.predict(xaxis_values_transf_poly2)\n",
        "plt.plot(xaxis_values, poly_predictions, c='green', ls='-', linewidth=3, label='Poly of Second Degree')\n",
        "\n",
        "plt.legend()\n",
        "plt.show()\n",
        "\n"
      ]
    },
    {
      "cell_type": "code",
      "execution_count": null,
      "metadata": {
        "id": "GSPgye7qZo7O"
      },
      "outputs": [],
      "source": [
        "# Calculate the mean (average) circumference of all vehicles in the dataset\n",
        "mean_circumference = orange_tree_df['circumference'].mean()\n",
        "\n",
        "# Calculate the maximum circumference value in the dataset\n",
        "max_circumference = orange_tree_df['circumference'].max()\n",
        "\n",
        "# Print the calculated mean circumference\n",
        "print(\"Mean circumference:\", mean_circumference)\n",
        "\n",
        "# Print the maximum circumference value\n",
        "print(\"Max circumference:\", max_circumference)\n",
        "\n"
      ]
    },
    {
      "cell_type": "code",
      "execution_count": null,
      "metadata": {
        "id": "BsFBMRD6WeNr"
      },
      "outputs": [],
      "source": [
        "np.random.seed(1)\n",
        "X_age_new = np.random.randint(116, 214, 5).reshape(-1, 1)  # New random circumference values\n",
        "X_age_new"
      ]
    },
    {
      "cell_type": "code",
      "execution_count": null,
      "metadata": {
        "id": "XBU7H1eQKw5n"
      },
      "outputs": [],
      "source": [
        "\n",
        "X_age_new_transformed = poly2_pipeline.fit_transform(X_age_new)"
      ]
    },
    {
      "cell_type": "code",
      "execution_count": null,
      "metadata": {
        "id": "pSZVhPxha8-t"
      },
      "outputs": [],
      "source": [
        "\n",
        "y_pred_poly2_age = lr_poly2.predict(X_age_new_transformed)\n",
        "\n",
        "# Display predictions\n",
        "print(\"Predicted Age for New Circumference Values:\")\n",
        "print(pd.DataFrame({'Circumference': X_age_new.flatten(), 'Predicted Age': y_pred_poly2_age.round(2)}))"
      ]
    },
    {
      "cell_type": "code",
      "execution_count": null,
      "metadata": {
        "id": "TO-pdUq2b0pv"
      },
      "outputs": [],
      "source": [
        "\n",
        "y_pred_poly2_tr_age = lr_poly2.predict(x_circu_transf_poly2)"
      ]
    },
    {
      "cell_type": "code",
      "execution_count": null,
      "metadata": {
        "id": "wLIORIS9ZCtA"
      },
      "outputs": [],
      "source": [
        "# Function to calculate adjusted R-squared\n",
        "def adj_r2_calculator(r2, n, p):\n",
        "    return 1 - (1 - r2) * ((n - 1) / (n - p - 1))"
      ]
    },
    {
      "cell_type": "code",
      "execution_count": null,
      "metadata": {
        "id": "WCkul4CQam03"
      },
      "outputs": [],
      "source": [
        "# Compute R² value for the polynomial regression model\n",
        "r2_value_poly2_circ = r2_score(y_age, y_pred_poly2_tr_age)"
      ]
    },
    {
      "cell_type": "code",
      "execution_count": null,
      "metadata": {
        "id": "OKSFPQ1uftQn"
      },
      "outputs": [],
      "source": [
        "# Compute Adjusted R² value (accounting for number of predictors)\n",
        "adj_r2_value = adj_r2_calculator(r2_value_poly2_circ, n=orange_tree_df.shape[0], p=2)"
      ]
    },
    {
      "cell_type": "code",
      "execution_count": null,
      "metadata": {
        "id": "lRqt886Sf5_L"
      },
      "outputs": [],
      "source": [
        "# Print results\n",
        "print(f\"R² (Polynomial of Second Degree): {r2_value_poly2_circ:.4f}\")\n",
        "print(f\"Adjusted R² Value 2nd degree: {adj_r2_value:.4f}\")"
      ]
    },
    {
      "cell_type": "code",
      "execution_count": null,
      "metadata": {
        "id": "SABQRH_GkonZ"
      },
      "outputs": [],
      "source": [
        "# Compute Residual Standard Error (RSE) using actual vs. predicted values with 2 predictors\n",
        "rse_calculator (y_age, y_pred_poly2_tr_age, p = 2)\n"
      ]
    },
    {
      "cell_type": "markdown",
      "metadata": {
        "id": "5oIQ3TOfg0P-"
      },
      "source": [
        "#Train a Third-Degree Polynomial Regression Model"
      ]
    },
    {
      "cell_type": "code",
      "execution_count": null,
      "metadata": {
        "id": "ZV74suqy-YAg"
      },
      "outputs": [],
      "source": [
        "# Create a pipeline for polynomial feature transformation (degree 3) with feature centering\n",
        "poly3_pipeline = Pipeline([\n",
        "    ('scaler', StandardScaler(with_mean=True, with_std=False)),  # Center data without scaling variance\n",
        "    ('poly_features', PolynomialFeatures(degree=3))  # Generate polynomial features up to degree 3\n",
        "])\n"
      ]
    },
    {
      "cell_type": "code",
      "execution_count": null,
      "metadata": {
        "id": "LYurrfmFhUT3"
      },
      "outputs": [],
      "source": [
        "x_circu_transf_poly3 = poly3_pipeline.fit_transform(x_circu)\n",
        "x_circu_transf_poly3"
      ]
    },
    {
      "cell_type": "code",
      "execution_count": null,
      "metadata": {
        "id": "iVHTXDehhUT3"
      },
      "outputs": [],
      "source": [
        "lr_poly3 = LinearRegression()\n",
        "lr_poly3.fit(x_circu_transf_poly3, y_age)"
      ]
    },
    {
      "cell_type": "code",
      "execution_count": null,
      "metadata": {
        "id": "wPdGIVRvnpp8"
      },
      "outputs": [],
      "source": [
        "# Transform the data through the pipeline\n",
        "\n",
        "x_circu_transf_poly3 = poly3_pipeline.fit_transform(x_circu)"
      ]
    },
    {
      "cell_type": "code",
      "execution_count": null,
      "metadata": {
        "id": "z-qNPauUmu7i"
      },
      "outputs": [],
      "source": [
        "# Train the cubic polynomial regression model\n",
        "lr_poly3 = LinearRegression().fit(x_circu_transf_poly3, y_age)"
      ]
    },
    {
      "cell_type": "code",
      "execution_count": null,
      "metadata": {
        "id": "J4GwODUV-vcZ"
      },
      "outputs": [],
      "source": [
        "# Extract model coefficients\n",
        "intercept = lr_poly3.intercept_\n",
        "coefficients = lr_poly3.coef_[1:]  # Skip the first zero value\n",
        "\n",
        "# Create coefficient names\n",
        "feature_names = ['Intercept'] + [f'Coeff_degree_{i}' for i in range(1, len(coefficients) + 1)]\n",
        "\n",
        "# Store coefficients in a DataFrame\n",
        "coefficients_df = pd.DataFrame({'Coefficient Name': feature_names, 'Coefficient Value': np.concatenate(([intercept], coefficients))})\n",
        "\n",
        "# Display coefficient values\n",
        "print(coefficients_df)"
      ]
    },
    {
      "cell_type": "code",
      "execution_count": null,
      "metadata": {
        "id": "5YEsoweLifX-"
      },
      "outputs": [],
      "source": [
        "# Scatter plot\n",
        "plt.figure(figsize=(8, 8))\n",
        "plt.scatter(orange_tree_df['circumference'], orange_tree_df['age'], c='blue')\n",
        "plt.xlabel(\"circumference\")\n",
        "plt.ylabel(\"age\")\n",
        "plt.title(\"Orange tree age vs its circumference\")\n",
        "\n",
        "# Linear regression line\n",
        "linear_model = LinearRegression().fit(x_circu, y_age)\n",
        "linear_predictions = linear_model.predict(x_circu)\n",
        "plt.plot(x_circu, linear_predictions, c='red', ls='-', linewidth=3, label='Linear Model')\n",
        "\n",
        "# Create xaxis_values (these are sorted x values)\n",
        "xaxis_values = orange_tree_df['circumference'].sort_values().values.reshape(-1, 1)\n",
        "\n",
        "# Transform the xaxis_values using the pipeline\n",
        "xaxis_values_transf_poly2 = poly2_pipeline.fit_transform(xaxis_values)\n",
        "\n",
        "# Second degree poly curve\n",
        "poly_predictions = lr_poly2.predict(xaxis_values_transf_poly2)\n",
        "plt.plot(xaxis_values, poly_predictions, c='green', ls='-', linewidth=3, label='Poly of Second Degree')\n",
        "\n",
        "\n",
        "# Transform the xaxis_values using the pipeline\n",
        "xaxis_values_transf_poly3 = poly3_pipeline.fit_transform(xaxis_values)\n",
        "\n",
        "# Third degree poly curve\n",
        "poly_predictions_poly3 = lr_poly3.predict(xaxis_values_transf_poly3)\n",
        "plt.plot(xaxis_values, poly_predictions_poly3, c='orange', ls='-', linewidth=3, label='Poly of Third Degree')\n",
        "\n",
        "\n",
        "plt.legend()\n",
        "plt.show()\n",
        "\n"
      ]
    },
    {
      "cell_type": "code",
      "execution_count": null,
      "metadata": {
        "id": "5N8k4R4o_-OJ"
      },
      "outputs": [],
      "source": [
        "# Make predictions using the trained polynomial regression model (degree 3)\n",
        "y_pred_poly3 = lr_poly3.predict(x_circu_transf_poly3)\n",
        "\n",
        "# Compute R-squared (R²) value to measure how well the model explains variance in the data\n",
        "r2_value_poly3 = r2_score(y_age, y_pred_poly3)\n",
        "\n",
        "# Calculate Adjusted R-squared, which accounts for the number of predictors (p=3) and sample size (n)\n",
        "adj_r2_calculator(r2_value_poly3, n=orange_tree_df.shape[0], p=3)\n"
      ]
    },
    {
      "cell_type": "code",
      "execution_count": null,
      "metadata": {
        "id": "BiEJKrI5p3Y1"
      },
      "outputs": [],
      "source": [
        "# Compute Residual Standard Error (RSE) to measure the standard deviation of residuals,\n",
        "# adjusting for the number of predictors (p=3)\n",
        "rse_calculator(y_age, y_pred_poly3, p=3)\n"
      ]
    },
    {
      "cell_type": "markdown",
      "metadata": {
        "id": "NqCxtq6Hn5ul"
      },
      "source": [
        "3rd degree polynomial is worst that the second dgree  polynomial so we should stay with 2nd degree polynomial"
      ]
    },
    {
      "cell_type": "markdown",
      "metadata": {
        "id": "EJ_BGgemnsyF"
      },
      "source": [
        "# Regression Tree"
      ]
    },
    {
      "cell_type": "code",
      "execution_count": null,
      "metadata": {
        "id": "vDbzq9V7nr8r"
      },
      "outputs": [],
      "source": []
    },
    {
      "cell_type": "code",
      "execution_count": null,
      "metadata": {
        "id": "tAk-uJi6nr_k"
      },
      "outputs": [],
      "source": []
    },
    {
      "cell_type": "markdown",
      "metadata": {
        "id": "f5DCYQDqX0kT"
      },
      "source": [
        "# - **Student Performance Dataset** (CSV file from Canvas) → Used for Question 5."
      ]
    },
    {
      "cell_type": "markdown",
      "metadata": {
        "id": "S8n5vsltRyBX"
      },
      "source": [
        "# ## Question 5 (20 points): Predicting Final Exam Scores\n",
        "\n",
        "# **Instructions:**\n",
        "# - Load the **Student Performance dataset**.\n",
        "# - Train a **Linear Regression model** to predict `G3` (final exam score) using `G1` and `G2`.\n",
        "# - Compute **Mean Squared Error (MSE)** on **10 new students' data**.\n",
        "# - Evaluate and **justify** if the model performs well.\n",
        "\n",
        "\n"
      ]
    },
    {
      "cell_type": "markdown",
      "metadata": {
        "id": "HTSkaTCsYFPx"
      },
      "source": [
        "# TODO: Load Student Performance dataset and train regression model"
      ]
    },
    {
      "cell_type": "code",
      "execution_count": null,
      "metadata": {
        "id": "Un8mk0x3YGD8"
      },
      "outputs": [],
      "source": []
    },
    {
      "cell_type": "markdown",
      "metadata": {
        "id": "Fz8LJopoYBsp"
      },
      "source": [
        "\n",
        "# ---\n",
        "\n",
        "# **Final Notes:**\n",
        "# - Ensure all steps are included in your notebook.\n",
        "# - Justify your model selection with **data-driven reasoning**.\n",
        "# - Clearly comment on all code for readability.\n",
        "\n",
        "# ---\n"
      ]
    },
    {
      "cell_type": "code",
      "execution_count": null,
      "metadata": {
        "id": "pneJgCrrXniK"
      },
      "outputs": [],
      "source": []
    }
  ],
  "metadata": {
    "colab": {
      "provenance": [],
      "toc_visible": true,
      "authorship_tag": "ABX9TyNNo7f1Ryup9lEG9KIBXJUi",
      "include_colab_link": true
    },
    "kernelspec": {
      "display_name": "Python 3",
      "name": "python3"
    },
    "language_info": {
      "name": "python"
    }
  },
  "nbformat": 4,
  "nbformat_minor": 0
}