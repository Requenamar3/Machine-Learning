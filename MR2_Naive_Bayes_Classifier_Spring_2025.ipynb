{
  "cells": [
    {
      "cell_type": "markdown",
      "metadata": {
        "id": "view-in-github",
        "colab_type": "text"
      },
      "source": [
        "<a href=\"https://colab.research.google.com/github/Requenamar3/Machine-Learning/blob/main/MR2_Naive_Bayes_Classifier_Spring_2025.ipynb\" target=\"_parent\"><img src=\"https://colab.research.google.com/assets/colab-badge.svg\" alt=\"Open In Colab\"/></a>"
      ]
    },
    {
      "cell_type": "markdown",
      "source": [
        "# 📌 **Applying Naïve Bayes for Credit Default Prediction**\n"
      ],
      "metadata": {
        "id": "fRbOnM7SE1uz"
      },
      "id": "fRbOnM7SE1uz"
    },
    {
      "cell_type": "markdown",
      "source": [
        "## 🔍 **Import Necessary Libraries**"
      ],
      "metadata": {
        "id": "NeF6qvcBE8Nr"
      },
      "id": "NeF6qvcBE8Nr"
    },
    {
      "cell_type": "code",
      "execution_count": 6,
      "id": "7055edfa",
      "metadata": {
        "id": "7055edfa"
      },
      "outputs": [],
      "source": [
        "# Import necessary libraries\n",
        "import numpy as np  # For numerical operations and array manipulation\n",
        "import pandas as pd  # For data manipulation and analysis\n",
        "import matplotlib.pyplot as plt  # For visualization\n",
        "\n",
        "# Import machine learning components from scikit-learn\n",
        "from sklearn.naive_bayes import GaussianNB  # Gaussian Naive Bayes model\n",
        "from sklearn.model_selection import train_test_split  # For splitting dataset into training and testing sets\n",
        "from sklearn.metrics import (\n",
        "    confusion_matrix,  # To evaluate classification performance\n",
        "    classification_report,  # To generate a detailed classification report\n",
        "    roc_auc_score,  # To calculate the ROC AUC score\n",
        "    roc_curve,  # To plot the Receiver Operating Characteristic (ROC) curve\n",
        "    ConfusionMatrixDisplay  # To visualize the confusion matrix\n",
        ")\n"
      ]
    },
    {
      "cell_type": "markdown",
      "source": [
        "---\n",
        "## 📌 **Load and Explore the Dataset**"
      ],
      "metadata": {
        "id": "8BKM3Ms2Fi3H"
      },
      "id": "8BKM3Ms2Fi3H"
    },
    {
      "cell_type": "code",
      "source": [
        "# Load dataset from an online source\n",
        "url = 'https://raw.githubusercontent.com/Requenamar3/Machine-Learning/refs/heads/main/Default.csv'\n",
        "default_df = pd.read_csv(url)\n",
        "\n",
        "# Display basic dataset information\n",
        "default_df.info()  # Column types and missing values\n",
        "default_df.head()  # First few rows of data"
      ],
      "metadata": {
        "id": "WpJtr3Sq3E7f",
        "colab": {
          "base_uri": "https://localhost:8080/",
          "height": 397
        },
        "outputId": "e29fa9e5-0774-4f56-8d81-75ff18317f2f"
      },
      "execution_count": 39,
      "outputs": [
        {
          "output_type": "stream",
          "name": "stdout",
          "text": [
            "<class 'pandas.core.frame.DataFrame'>\n",
            "RangeIndex: 10000 entries, 0 to 9999\n",
            "Data columns (total 4 columns):\n",
            " #   Column   Non-Null Count  Dtype  \n",
            "---  ------   --------------  -----  \n",
            " 0   default  10000 non-null  object \n",
            " 1   student  10000 non-null  object \n",
            " 2   balance  10000 non-null  float64\n",
            " 3   income   10000 non-null  float64\n",
            "dtypes: float64(2), object(2)\n",
            "memory usage: 312.6+ KB\n"
          ]
        },
        {
          "output_type": "execute_result",
          "data": {
            "text/plain": [
              "  default student      balance        income\n",
              "0      No      No   729.526495  44361.625074\n",
              "1      No     Yes   817.180407  12106.134700\n",
              "2      No      No  1073.549164  31767.138947\n",
              "3      No      No   529.250605  35704.493935\n",
              "4      No      No   785.655883  38463.495879"
            ],
            "text/html": [
              "\n",
              "  <div id=\"df-12b3f2f9-62c8-44db-850b-413885a7c033\" class=\"colab-df-container\">\n",
              "    <div>\n",
              "<style scoped>\n",
              "    .dataframe tbody tr th:only-of-type {\n",
              "        vertical-align: middle;\n",
              "    }\n",
              "\n",
              "    .dataframe tbody tr th {\n",
              "        vertical-align: top;\n",
              "    }\n",
              "\n",
              "    .dataframe thead th {\n",
              "        text-align: right;\n",
              "    }\n",
              "</style>\n",
              "<table border=\"1\" class=\"dataframe\">\n",
              "  <thead>\n",
              "    <tr style=\"text-align: right;\">\n",
              "      <th></th>\n",
              "      <th>default</th>\n",
              "      <th>student</th>\n",
              "      <th>balance</th>\n",
              "      <th>income</th>\n",
              "    </tr>\n",
              "  </thead>\n",
              "  <tbody>\n",
              "    <tr>\n",
              "      <th>0</th>\n",
              "      <td>No</td>\n",
              "      <td>No</td>\n",
              "      <td>729.526495</td>\n",
              "      <td>44361.625074</td>\n",
              "    </tr>\n",
              "    <tr>\n",
              "      <th>1</th>\n",
              "      <td>No</td>\n",
              "      <td>Yes</td>\n",
              "      <td>817.180407</td>\n",
              "      <td>12106.134700</td>\n",
              "    </tr>\n",
              "    <tr>\n",
              "      <th>2</th>\n",
              "      <td>No</td>\n",
              "      <td>No</td>\n",
              "      <td>1073.549164</td>\n",
              "      <td>31767.138947</td>\n",
              "    </tr>\n",
              "    <tr>\n",
              "      <th>3</th>\n",
              "      <td>No</td>\n",
              "      <td>No</td>\n",
              "      <td>529.250605</td>\n",
              "      <td>35704.493935</td>\n",
              "    </tr>\n",
              "    <tr>\n",
              "      <th>4</th>\n",
              "      <td>No</td>\n",
              "      <td>No</td>\n",
              "      <td>785.655883</td>\n",
              "      <td>38463.495879</td>\n",
              "    </tr>\n",
              "  </tbody>\n",
              "</table>\n",
              "</div>\n",
              "    <div class=\"colab-df-buttons\">\n",
              "\n",
              "  <div class=\"colab-df-container\">\n",
              "    <button class=\"colab-df-convert\" onclick=\"convertToInteractive('df-12b3f2f9-62c8-44db-850b-413885a7c033')\"\n",
              "            title=\"Convert this dataframe to an interactive table.\"\n",
              "            style=\"display:none;\">\n",
              "\n",
              "  <svg xmlns=\"http://www.w3.org/2000/svg\" height=\"24px\" viewBox=\"0 -960 960 960\">\n",
              "    <path d=\"M120-120v-720h720v720H120Zm60-500h600v-160H180v160Zm220 220h160v-160H400v160Zm0 220h160v-160H400v160ZM180-400h160v-160H180v160Zm440 0h160v-160H620v160ZM180-180h160v-160H180v160Zm440 0h160v-160H620v160Z\"/>\n",
              "  </svg>\n",
              "    </button>\n",
              "\n",
              "  <style>\n",
              "    .colab-df-container {\n",
              "      display:flex;\n",
              "      gap: 12px;\n",
              "    }\n",
              "\n",
              "    .colab-df-convert {\n",
              "      background-color: #E8F0FE;\n",
              "      border: none;\n",
              "      border-radius: 50%;\n",
              "      cursor: pointer;\n",
              "      display: none;\n",
              "      fill: #1967D2;\n",
              "      height: 32px;\n",
              "      padding: 0 0 0 0;\n",
              "      width: 32px;\n",
              "    }\n",
              "\n",
              "    .colab-df-convert:hover {\n",
              "      background-color: #E2EBFA;\n",
              "      box-shadow: 0px 1px 2px rgba(60, 64, 67, 0.3), 0px 1px 3px 1px rgba(60, 64, 67, 0.15);\n",
              "      fill: #174EA6;\n",
              "    }\n",
              "\n",
              "    .colab-df-buttons div {\n",
              "      margin-bottom: 4px;\n",
              "    }\n",
              "\n",
              "    [theme=dark] .colab-df-convert {\n",
              "      background-color: #3B4455;\n",
              "      fill: #D2E3FC;\n",
              "    }\n",
              "\n",
              "    [theme=dark] .colab-df-convert:hover {\n",
              "      background-color: #434B5C;\n",
              "      box-shadow: 0px 1px 3px 1px rgba(0, 0, 0, 0.15);\n",
              "      filter: drop-shadow(0px 1px 2px rgba(0, 0, 0, 0.3));\n",
              "      fill: #FFFFFF;\n",
              "    }\n",
              "  </style>\n",
              "\n",
              "    <script>\n",
              "      const buttonEl =\n",
              "        document.querySelector('#df-12b3f2f9-62c8-44db-850b-413885a7c033 button.colab-df-convert');\n",
              "      buttonEl.style.display =\n",
              "        google.colab.kernel.accessAllowed ? 'block' : 'none';\n",
              "\n",
              "      async function convertToInteractive(key) {\n",
              "        const element = document.querySelector('#df-12b3f2f9-62c8-44db-850b-413885a7c033');\n",
              "        const dataTable =\n",
              "          await google.colab.kernel.invokeFunction('convertToInteractive',\n",
              "                                                    [key], {});\n",
              "        if (!dataTable) return;\n",
              "\n",
              "        const docLinkHtml = 'Like what you see? Visit the ' +\n",
              "          '<a target=\"_blank\" href=https://colab.research.google.com/notebooks/data_table.ipynb>data table notebook</a>'\n",
              "          + ' to learn more about interactive tables.';\n",
              "        element.innerHTML = '';\n",
              "        dataTable['output_type'] = 'display_data';\n",
              "        await google.colab.output.renderOutput(dataTable, element);\n",
              "        const docLink = document.createElement('div');\n",
              "        docLink.innerHTML = docLinkHtml;\n",
              "        element.appendChild(docLink);\n",
              "      }\n",
              "    </script>\n",
              "  </div>\n",
              "\n",
              "\n",
              "<div id=\"df-da7bc1e1-7d19-49cf-bc12-799a50b7df8f\">\n",
              "  <button class=\"colab-df-quickchart\" onclick=\"quickchart('df-da7bc1e1-7d19-49cf-bc12-799a50b7df8f')\"\n",
              "            title=\"Suggest charts\"\n",
              "            style=\"display:none;\">\n",
              "\n",
              "<svg xmlns=\"http://www.w3.org/2000/svg\" height=\"24px\"viewBox=\"0 0 24 24\"\n",
              "     width=\"24px\">\n",
              "    <g>\n",
              "        <path d=\"M19 3H5c-1.1 0-2 .9-2 2v14c0 1.1.9 2 2 2h14c1.1 0 2-.9 2-2V5c0-1.1-.9-2-2-2zM9 17H7v-7h2v7zm4 0h-2V7h2v10zm4 0h-2v-4h2v4z\"/>\n",
              "    </g>\n",
              "</svg>\n",
              "  </button>\n",
              "\n",
              "<style>\n",
              "  .colab-df-quickchart {\n",
              "      --bg-color: #E8F0FE;\n",
              "      --fill-color: #1967D2;\n",
              "      --hover-bg-color: #E2EBFA;\n",
              "      --hover-fill-color: #174EA6;\n",
              "      --disabled-fill-color: #AAA;\n",
              "      --disabled-bg-color: #DDD;\n",
              "  }\n",
              "\n",
              "  [theme=dark] .colab-df-quickchart {\n",
              "      --bg-color: #3B4455;\n",
              "      --fill-color: #D2E3FC;\n",
              "      --hover-bg-color: #434B5C;\n",
              "      --hover-fill-color: #FFFFFF;\n",
              "      --disabled-bg-color: #3B4455;\n",
              "      --disabled-fill-color: #666;\n",
              "  }\n",
              "\n",
              "  .colab-df-quickchart {\n",
              "    background-color: var(--bg-color);\n",
              "    border: none;\n",
              "    border-radius: 50%;\n",
              "    cursor: pointer;\n",
              "    display: none;\n",
              "    fill: var(--fill-color);\n",
              "    height: 32px;\n",
              "    padding: 0;\n",
              "    width: 32px;\n",
              "  }\n",
              "\n",
              "  .colab-df-quickchart:hover {\n",
              "    background-color: var(--hover-bg-color);\n",
              "    box-shadow: 0 1px 2px rgba(60, 64, 67, 0.3), 0 1px 3px 1px rgba(60, 64, 67, 0.15);\n",
              "    fill: var(--button-hover-fill-color);\n",
              "  }\n",
              "\n",
              "  .colab-df-quickchart-complete:disabled,\n",
              "  .colab-df-quickchart-complete:disabled:hover {\n",
              "    background-color: var(--disabled-bg-color);\n",
              "    fill: var(--disabled-fill-color);\n",
              "    box-shadow: none;\n",
              "  }\n",
              "\n",
              "  .colab-df-spinner {\n",
              "    border: 2px solid var(--fill-color);\n",
              "    border-color: transparent;\n",
              "    border-bottom-color: var(--fill-color);\n",
              "    animation:\n",
              "      spin 1s steps(1) infinite;\n",
              "  }\n",
              "\n",
              "  @keyframes spin {\n",
              "    0% {\n",
              "      border-color: transparent;\n",
              "      border-bottom-color: var(--fill-color);\n",
              "      border-left-color: var(--fill-color);\n",
              "    }\n",
              "    20% {\n",
              "      border-color: transparent;\n",
              "      border-left-color: var(--fill-color);\n",
              "      border-top-color: var(--fill-color);\n",
              "    }\n",
              "    30% {\n",
              "      border-color: transparent;\n",
              "      border-left-color: var(--fill-color);\n",
              "      border-top-color: var(--fill-color);\n",
              "      border-right-color: var(--fill-color);\n",
              "    }\n",
              "    40% {\n",
              "      border-color: transparent;\n",
              "      border-right-color: var(--fill-color);\n",
              "      border-top-color: var(--fill-color);\n",
              "    }\n",
              "    60% {\n",
              "      border-color: transparent;\n",
              "      border-right-color: var(--fill-color);\n",
              "    }\n",
              "    80% {\n",
              "      border-color: transparent;\n",
              "      border-right-color: var(--fill-color);\n",
              "      border-bottom-color: var(--fill-color);\n",
              "    }\n",
              "    90% {\n",
              "      border-color: transparent;\n",
              "      border-bottom-color: var(--fill-color);\n",
              "    }\n",
              "  }\n",
              "</style>\n",
              "\n",
              "  <script>\n",
              "    async function quickchart(key) {\n",
              "      const quickchartButtonEl =\n",
              "        document.querySelector('#' + key + ' button');\n",
              "      quickchartButtonEl.disabled = true;  // To prevent multiple clicks.\n",
              "      quickchartButtonEl.classList.add('colab-df-spinner');\n",
              "      try {\n",
              "        const charts = await google.colab.kernel.invokeFunction(\n",
              "            'suggestCharts', [key], {});\n",
              "      } catch (error) {\n",
              "        console.error('Error during call to suggestCharts:', error);\n",
              "      }\n",
              "      quickchartButtonEl.classList.remove('colab-df-spinner');\n",
              "      quickchartButtonEl.classList.add('colab-df-quickchart-complete');\n",
              "    }\n",
              "    (() => {\n",
              "      let quickchartButtonEl =\n",
              "        document.querySelector('#df-da7bc1e1-7d19-49cf-bc12-799a50b7df8f button');\n",
              "      quickchartButtonEl.style.display =\n",
              "        google.colab.kernel.accessAllowed ? 'block' : 'none';\n",
              "    })();\n",
              "  </script>\n",
              "</div>\n",
              "\n",
              "    </div>\n",
              "  </div>\n"
            ],
            "application/vnd.google.colaboratory.intrinsic+json": {
              "type": "dataframe",
              "variable_name": "default_df",
              "summary": "{\n  \"name\": \"default_df\",\n  \"rows\": 10000,\n  \"fields\": [\n    {\n      \"column\": \"default\",\n      \"properties\": {\n        \"dtype\": \"category\",\n        \"num_unique_values\": 2,\n        \"samples\": [\n          \"Yes\",\n          \"No\"\n        ],\n        \"semantic_type\": \"\",\n        \"description\": \"\"\n      }\n    },\n    {\n      \"column\": \"student\",\n      \"properties\": {\n        \"dtype\": \"category\",\n        \"num_unique_values\": 2,\n        \"samples\": [\n          \"Yes\",\n          \"No\"\n        ],\n        \"semantic_type\": \"\",\n        \"description\": \"\"\n      }\n    },\n    {\n      \"column\": \"balance\",\n      \"properties\": {\n        \"dtype\": \"number\",\n        \"std\": 483.71498520561767,\n        \"min\": 0.0,\n        \"max\": 2654.32257628018,\n        \"num_unique_values\": 9502,\n        \"samples\": [\n          245.346492518079,\n          186.523520052956\n        ],\n        \"semantic_type\": \"\",\n        \"description\": \"\"\n      }\n    },\n    {\n      \"column\": \"income\",\n      \"properties\": {\n        \"dtype\": \"number\",\n        \"std\": 13336.639562689912,\n        \"min\": 771.967729386357,\n        \"max\": 73554.2334951972,\n        \"num_unique_values\": 10000,\n        \"samples\": [\n          31507.0892769087,\n          42139.0702685072\n        ],\n        \"semantic_type\": \"\",\n        \"description\": \"\"\n      }\n    }\n  ]\n}"
            }
          },
          "metadata": {},
          "execution_count": 39
        }
      ],
      "id": "WpJtr3Sq3E7f"
    },
    {
      "cell_type": "markdown",
      "source": [
        "\n",
        "### **🤔 Why do we do this?**\n",
        "- **`info()`** → Helps us check **data types** and **missing values**.\n",
        "- **`head()`** → Allows us to quickly **see column names and sample data**.\n",
        "- Ensures we **understand what each column represents** before modeling.\n",
        "\n",
        "✅ **Real-Life Example:**\n",
        "Imagine a **bank analyst** 🏦 evaluating customer profiles for loan approval.\n",
        "- Before applying machine learning, they need to **ensure all required financial metrics are available**.\n",
        "- If some columns are missing values, predictions might be **biased or inaccurate**.\n",
        "\n",
        "---"
      ],
      "metadata": {
        "id": "Bm2P0wGIFuL1"
      },
      "id": "Bm2P0wGIFuL1"
    },
    {
      "cell_type": "markdown",
      "source": [
        "## 📌 **Convert Categorical Variables**"
      ],
      "metadata": {
        "id": "8YC-W28WFzX3"
      },
      "id": "8YC-W28WFzX3"
    },
    {
      "cell_type": "code",
      "execution_count": 40,
      "id": "f245a79f",
      "metadata": {
        "id": "f245a79f",
        "colab": {
          "base_uri": "https://localhost:8080/"
        },
        "outputId": "a7973a74-28e5-4384-e750-a36fcff05310"
      },
      "outputs": [
        {
          "output_type": "stream",
          "name": "stdout",
          "text": [
            "<class 'pandas.core.frame.DataFrame'>\n",
            "RangeIndex: 10000 entries, 0 to 9999\n",
            "Data columns (total 4 columns):\n",
            " #   Column       Non-Null Count  Dtype  \n",
            "---  ------       --------------  -----  \n",
            " 0   default      10000 non-null  object \n",
            " 1   balance      10000 non-null  float64\n",
            " 2   income       10000 non-null  float64\n",
            " 3   student_Yes  10000 non-null  bool   \n",
            "dtypes: bool(1), float64(2), object(1)\n",
            "memory usage: 244.3+ KB\n"
          ]
        }
      ],
      "source": [
        "# Convert categorical variable \"student\" into a numeric format\n",
        "default_df_dummies = pd.get_dummies(default_df, columns=['student'], drop_first=True)\n",
        "default_df_dummies.info()"
      ]
    },
    {
      "cell_type": "markdown",
      "source": [
        "### **🤔 Why do we do this?**\n",
        "- Machine learning models **work with numbers, not text**.\n",
        "- **One-hot encoding** (converting categories into 0s and 1s) ensures that the model **understands categorical data**.\n",
        "- **`drop_first=True`** prevents redundancy by keeping only **one binary column** for `student`.\n",
        "\n",
        "✅ **Real-Life Example:**\n",
        "Imagine an **e-commerce company** 🛒 analyzing customer data.\n",
        "- Instead of \"Gold\", \"Silver\", and \"Bronze\" memberships as text labels, they use **numbers (0s and 1s)**.\n",
        "- This way, the AI can determine if **Gold members spend more** without confusion.\n",
        "\n",
        "---"
      ],
      "metadata": {
        "id": "S-vF9IiqGU-7"
      },
      "id": "S-vF9IiqGU-7"
    },
    {
      "cell_type": "markdown",
      "source": [
        "---\n",
        "\n",
        "## 📌 **Split Data into Training and Testing Sets**"
      ],
      "metadata": {
        "id": "BPyE2sPXGkqc"
      },
      "id": "BPyE2sPXGkqc"
    },
    {
      "cell_type": "markdown",
      "source": [
        "Scikit-learn documentation about NB:\n",
        "\n",
        "https://scikit-learn.org/stable/modules/naive_bayes.html\n"
      ],
      "metadata": {
        "id": "K_yTorIEl7v9"
      },
      "id": "K_yTorIEl7v9"
    },
    {
      "cell_type": "code",
      "source": [
        "# Separate predictors and target variable\n",
        "X_all = default_df_dummies.drop('default', axis=1)\n",
        "y_default = default_df_dummies['default']"
      ],
      "metadata": {
        "id": "V_N3Q7Zh5vJV"
      },
      "id": "V_N3Q7Zh5vJV",
      "execution_count": 41,
      "outputs": []
    },
    {
      "cell_type": "code",
      "source": [
        "# Calculate the proportion of each unique value in the target variable (y_default)\n",
        "# This helps to check class distribution and identify any imbalance in the dataset\n",
        "y_default.value_counts(normalize=True)"
      ],
      "metadata": {
        "id": "MNk7afGDIier"
      },
      "id": "MNk7afGDIier",
      "execution_count": null,
      "outputs": []
    },
    {
      "cell_type": "code",
      "source": [
        "# Preserve class balance when splitting data\n",
        "X_train, X_test, y_train, y_test = train_test_split(X_all, y_default, test_size=0.2, random_state=1, stratify=y_default)"
      ],
      "metadata": {
        "id": "mVZXVCEybN-x"
      },
      "id": "mVZXVCEybN-x",
      "execution_count": 42,
      "outputs": []
    },
    {
      "cell_type": "code",
      "source": [
        "\n",
        "# Check class distribution in train and test sets\n",
        "y_train.value_counts(normalize=True)"
      ],
      "metadata": {
        "id": "ePbWNBIoIsd7"
      },
      "id": "ePbWNBIoIsd7",
      "execution_count": null,
      "outputs": []
    },
    {
      "cell_type": "code",
      "source": [
        "y_test.value_counts(normalize=True)"
      ],
      "metadata": {
        "id": "6LRmPXeZ5em2",
        "colab": {
          "base_uri": "https://localhost:8080/",
          "height": 178
        },
        "outputId": "c5b79015-3763-4555-b1fb-4bbdff00d8ae"
      },
      "id": "6LRmPXeZ5em2",
      "execution_count": 18,
      "outputs": [
        {
          "output_type": "execute_result",
          "data": {
            "text/plain": [
              "default\n",
              "No     0.9665\n",
              "Yes    0.0335\n",
              "Name: proportion, dtype: float64"
            ],
            "text/html": [
              "<div>\n",
              "<style scoped>\n",
              "    .dataframe tbody tr th:only-of-type {\n",
              "        vertical-align: middle;\n",
              "    }\n",
              "\n",
              "    .dataframe tbody tr th {\n",
              "        vertical-align: top;\n",
              "    }\n",
              "\n",
              "    .dataframe thead th {\n",
              "        text-align: right;\n",
              "    }\n",
              "</style>\n",
              "<table border=\"1\" class=\"dataframe\">\n",
              "  <thead>\n",
              "    <tr style=\"text-align: right;\">\n",
              "      <th></th>\n",
              "      <th>proportion</th>\n",
              "    </tr>\n",
              "    <tr>\n",
              "      <th>default</th>\n",
              "      <th></th>\n",
              "    </tr>\n",
              "  </thead>\n",
              "  <tbody>\n",
              "    <tr>\n",
              "      <th>No</th>\n",
              "      <td>0.9665</td>\n",
              "    </tr>\n",
              "    <tr>\n",
              "      <th>Yes</th>\n",
              "      <td>0.0335</td>\n",
              "    </tr>\n",
              "  </tbody>\n",
              "</table>\n",
              "</div><br><label><b>dtype:</b> float64</label>"
            ]
          },
          "metadata": {},
          "execution_count": 18
        }
      ]
    },
    {
      "cell_type": "markdown",
      "source": [
        "### **🤔 Why do we do this?**\n",
        "- **Stratification** ensures that the **train and test sets have the same proportion** of \"default\" and \"no default\" cases.\n",
        "- Checking **class distribution before and after splitting** helps ensure that **both sets are representative**.\n",
        "- Prevents **bias**, ensuring the model isn’t trained on **imbalanced data**.\n",
        "\n",
        "✅ **Real-Life Example:**\n",
        "Imagine a **fraud detection team** 💳 training an AI model to detect **credit card fraud**.\n",
        "- If the **fraud cases (minority class) aren’t well-represented**, the model might **fail to detect fraud**.\n",
        "- **Stratified splitting** ensures that both **fraudulent and non-fraudulent transactions are present** in both training and test data.\n",
        "\n",
        "---"
      ],
      "metadata": {
        "id": "f44HkgyAHWa3"
      },
      "id": "f44HkgyAHWa3"
    },
    {
      "cell_type": "markdown",
      "source": [
        "Compared to the whole dataset, do the proportions of 'No' and 'Yes' remain similar in the train and test datasets?"
      ],
      "metadata": {
        "id": "4Ey7RHzD7n1m"
      },
      "id": "4Ey7RHzD7n1m"
    },
    {
      "cell_type": "markdown",
      "source": [
        "There are two hyperparameters only in NB and usually the default values are used (which means that usually no hyperparameter is tuned when applying NB):\n",
        "\n",
        "_priors:_ array-like of shape (n_classes,), default=None\n",
        "\n",
        "Prior probabilities of the classes. If specified, the priors are not adjusted according to the data.\n",
        "\n",
        "_var_smoothing:_ float, default=1e-9\n",
        "\n",
        "Portion of the largest variance of all features that is added to variances for calculation stability."
      ],
      "metadata": {
        "id": "w0-2XyKKsvAQ"
      },
      "id": "w0-2XyKKsvAQ"
    },
    {
      "cell_type": "markdown",
      "source": [
        "---\n",
        "\n",
        "## 📌 **Train the Naïve Bayes Model**"
      ],
      "metadata": {
        "id": "Ru1Fu1HZJT3h"
      },
      "id": "Ru1Fu1HZJT3h"
    },
    {
      "cell_type": "code",
      "execution_count": 19,
      "id": "dab1a70f",
      "metadata": {
        "id": "dab1a70f"
      },
      "outputs": [],
      "source": [
        "# Train the Naïve Bayes classifier\n",
        "nb_classifier_default = GaussianNB()\n",
        "nb_classifier_default.fit(X_train, y_train)"
      ]
    },
    {
      "cell_type": "markdown",
      "source": [
        "\n",
        "### **🤔 Why do we do this?**\n",
        "- **Naïve Bayes** calculates probabilities based on the assumption that **features are independent**.\n",
        "- It is **fast and works well with small datasets**.\n",
        "\n",
        "✅ **Real-Life Example:**\n",
        "Imagine a **spam detection system** 📧.\n",
        "- If an email contains words like \"free\", \"win\", or \"urgent\", **NB estimates the probability** of it being spam.\n",
        "- Even if it **doesn’t analyze sentence meaning**, it is **still highly effective**.\n",
        "\n",
        "---\n"
      ],
      "metadata": {
        "id": "O5lkUxJqJbOG"
      },
      "id": "O5lkUxJqJbOG"
    },
    {
      "cell_type": "markdown",
      "source": [
        "## 📌 **Make Predictions with the Trained Model**"
      ],
      "metadata": {
        "id": "jPbA-uXjLVTc"
      },
      "id": "jPbA-uXjLVTc"
    },
    {
      "cell_type": "code",
      "execution_count": 21,
      "id": "62224794",
      "metadata": {
        "id": "62224794"
      },
      "outputs": [],
      "source": [
        "# Generate predictions on the test dataset\n",
        "y_pred_test_default = nb_classifier_default.predict(X_test)"
      ]
    },
    {
      "cell_type": "markdown",
      "source": [
        "### **🤔 Why do we do this?**\n",
        "- Once the model is trained, we use it to **predict default cases on unseen data**.\n",
        "- Helps **evaluate how well the model generalizes** to new customers.\n",
        "\n",
        "✅ **Real-Life Example:**\n",
        "Imagine a **bank loan system** 🏦 where a new applicant applies for a loan.\n",
        "- The system takes their financial history and **predicts if they are likely to default** before approving the loan.\n",
        "\n",
        "---"
      ],
      "metadata": {
        "id": "BOsMw3ZfLeVZ"
      },
      "id": "BOsMw3ZfLeVZ"
    },
    {
      "cell_type": "markdown",
      "source": [
        "## 📌 **Evaluate Model Performance with a Confusion Matrix**"
      ],
      "metadata": {
        "id": "05OT9MPoLrYJ"
      },
      "id": "05OT9MPoLrYJ"
    },
    {
      "cell_type": "code",
      "execution_count": 22,
      "id": "e28f7e51",
      "metadata": {
        "id": "e28f7e51",
        "colab": {
          "base_uri": "https://localhost:8080/"
        },
        "outputId": "b18e3792-0c5a-4cfc-9e63-4b75ddbca634"
      },
      "outputs": [
        {
          "output_type": "execute_result",
          "data": {
            "text/plain": [
              "array([[1924,    9],\n",
              "       [  48,   19]])"
            ]
          },
          "metadata": {},
          "execution_count": 22
        }
      ],
      "source": [
        "# Compute confusion matrix to assess correct and incorrect predictions\n",
        "conf_matrix = confusion_matrix(y_test, y_pred_test_default)"
      ]
    },
    {
      "cell_type": "code",
      "source": [
        "# Retrieve the unique class labels recognized by the trained Naive Bayes classifier\n",
        "# This confirms which classes the model has been trained to predict\n",
        "nb_classifier_default.classes_\n"
      ],
      "metadata": {
        "id": "eCA1XgED8FIJ",
        "colab": {
          "base_uri": "https://localhost:8080/"
        },
        "outputId": "b47abb6d-8021-4d33-a99d-631036275b5e"
      },
      "id": "eCA1XgED8FIJ",
      "execution_count": 23,
      "outputs": [
        {
          "output_type": "execute_result",
          "data": {
            "text/plain": [
              "array(['No', 'Yes'], dtype='<U3')"
            ]
          },
          "metadata": {},
          "execution_count": 23
        }
      ]
    },
    {
      "cell_type": "code",
      "source": [
        "\n",
        "# Format it for better visualization\n",
        "df_conf_mattrix = pd.DataFrame(conf_matrix, index=['Actual_No','Actual_Yes'], columns=['Pred_No','Pred_Yes'])\n",
        "\n",
        "df_conf_mattrix"
      ],
      "metadata": {
        "id": "WUO-2B_w8SB4"
      },
      "id": "WUO-2B_w8SB4",
      "execution_count": 24,
      "outputs": []
    },
    {
      "cell_type": "code",
      "source": [
        "df_conf_mattrix"
      ],
      "metadata": {
        "id": "Q9U54nPG8WxY",
        "colab": {
          "base_uri": "https://localhost:8080/",
          "height": 125
        },
        "outputId": "68255603-8c52-4617-d5f1-ec047095bb4c"
      },
      "id": "Q9U54nPG8WxY",
      "execution_count": 25,
      "outputs": [
        {
          "output_type": "execute_result",
          "data": {
            "text/plain": [
              "            Pred_No  Pred_Yes\n",
              "Actual_No      1924         9\n",
              "Actual_Yes       48        19"
            ],
            "text/html": [
              "\n",
              "  <div id=\"df-56c159c1-ddae-4aec-9253-16e81fffbf11\" class=\"colab-df-container\">\n",
              "    <div>\n",
              "<style scoped>\n",
              "    .dataframe tbody tr th:only-of-type {\n",
              "        vertical-align: middle;\n",
              "    }\n",
              "\n",
              "    .dataframe tbody tr th {\n",
              "        vertical-align: top;\n",
              "    }\n",
              "\n",
              "    .dataframe thead th {\n",
              "        text-align: right;\n",
              "    }\n",
              "</style>\n",
              "<table border=\"1\" class=\"dataframe\">\n",
              "  <thead>\n",
              "    <tr style=\"text-align: right;\">\n",
              "      <th></th>\n",
              "      <th>Pred_No</th>\n",
              "      <th>Pred_Yes</th>\n",
              "    </tr>\n",
              "  </thead>\n",
              "  <tbody>\n",
              "    <tr>\n",
              "      <th>Actual_No</th>\n",
              "      <td>1924</td>\n",
              "      <td>9</td>\n",
              "    </tr>\n",
              "    <tr>\n",
              "      <th>Actual_Yes</th>\n",
              "      <td>48</td>\n",
              "      <td>19</td>\n",
              "    </tr>\n",
              "  </tbody>\n",
              "</table>\n",
              "</div>\n",
              "    <div class=\"colab-df-buttons\">\n",
              "\n",
              "  <div class=\"colab-df-container\">\n",
              "    <button class=\"colab-df-convert\" onclick=\"convertToInteractive('df-56c159c1-ddae-4aec-9253-16e81fffbf11')\"\n",
              "            title=\"Convert this dataframe to an interactive table.\"\n",
              "            style=\"display:none;\">\n",
              "\n",
              "  <svg xmlns=\"http://www.w3.org/2000/svg\" height=\"24px\" viewBox=\"0 -960 960 960\">\n",
              "    <path d=\"M120-120v-720h720v720H120Zm60-500h600v-160H180v160Zm220 220h160v-160H400v160Zm0 220h160v-160H400v160ZM180-400h160v-160H180v160Zm440 0h160v-160H620v160ZM180-180h160v-160H180v160Zm440 0h160v-160H620v160Z\"/>\n",
              "  </svg>\n",
              "    </button>\n",
              "\n",
              "  <style>\n",
              "    .colab-df-container {\n",
              "      display:flex;\n",
              "      gap: 12px;\n",
              "    }\n",
              "\n",
              "    .colab-df-convert {\n",
              "      background-color: #E8F0FE;\n",
              "      border: none;\n",
              "      border-radius: 50%;\n",
              "      cursor: pointer;\n",
              "      display: none;\n",
              "      fill: #1967D2;\n",
              "      height: 32px;\n",
              "      padding: 0 0 0 0;\n",
              "      width: 32px;\n",
              "    }\n",
              "\n",
              "    .colab-df-convert:hover {\n",
              "      background-color: #E2EBFA;\n",
              "      box-shadow: 0px 1px 2px rgba(60, 64, 67, 0.3), 0px 1px 3px 1px rgba(60, 64, 67, 0.15);\n",
              "      fill: #174EA6;\n",
              "    }\n",
              "\n",
              "    .colab-df-buttons div {\n",
              "      margin-bottom: 4px;\n",
              "    }\n",
              "\n",
              "    [theme=dark] .colab-df-convert {\n",
              "      background-color: #3B4455;\n",
              "      fill: #D2E3FC;\n",
              "    }\n",
              "\n",
              "    [theme=dark] .colab-df-convert:hover {\n",
              "      background-color: #434B5C;\n",
              "      box-shadow: 0px 1px 3px 1px rgba(0, 0, 0, 0.15);\n",
              "      filter: drop-shadow(0px 1px 2px rgba(0, 0, 0, 0.3));\n",
              "      fill: #FFFFFF;\n",
              "    }\n",
              "  </style>\n",
              "\n",
              "    <script>\n",
              "      const buttonEl =\n",
              "        document.querySelector('#df-56c159c1-ddae-4aec-9253-16e81fffbf11 button.colab-df-convert');\n",
              "      buttonEl.style.display =\n",
              "        google.colab.kernel.accessAllowed ? 'block' : 'none';\n",
              "\n",
              "      async function convertToInteractive(key) {\n",
              "        const element = document.querySelector('#df-56c159c1-ddae-4aec-9253-16e81fffbf11');\n",
              "        const dataTable =\n",
              "          await google.colab.kernel.invokeFunction('convertToInteractive',\n",
              "                                                    [key], {});\n",
              "        if (!dataTable) return;\n",
              "\n",
              "        const docLinkHtml = 'Like what you see? Visit the ' +\n",
              "          '<a target=\"_blank\" href=https://colab.research.google.com/notebooks/data_table.ipynb>data table notebook</a>'\n",
              "          + ' to learn more about interactive tables.';\n",
              "        element.innerHTML = '';\n",
              "        dataTable['output_type'] = 'display_data';\n",
              "        await google.colab.output.renderOutput(dataTable, element);\n",
              "        const docLink = document.createElement('div');\n",
              "        docLink.innerHTML = docLinkHtml;\n",
              "        element.appendChild(docLink);\n",
              "      }\n",
              "    </script>\n",
              "  </div>\n",
              "\n",
              "\n",
              "<div id=\"df-c557853e-850c-441f-bf35-bbb841e3cd7a\">\n",
              "  <button class=\"colab-df-quickchart\" onclick=\"quickchart('df-c557853e-850c-441f-bf35-bbb841e3cd7a')\"\n",
              "            title=\"Suggest charts\"\n",
              "            style=\"display:none;\">\n",
              "\n",
              "<svg xmlns=\"http://www.w3.org/2000/svg\" height=\"24px\"viewBox=\"0 0 24 24\"\n",
              "     width=\"24px\">\n",
              "    <g>\n",
              "        <path d=\"M19 3H5c-1.1 0-2 .9-2 2v14c0 1.1.9 2 2 2h14c1.1 0 2-.9 2-2V5c0-1.1-.9-2-2-2zM9 17H7v-7h2v7zm4 0h-2V7h2v10zm4 0h-2v-4h2v4z\"/>\n",
              "    </g>\n",
              "</svg>\n",
              "  </button>\n",
              "\n",
              "<style>\n",
              "  .colab-df-quickchart {\n",
              "      --bg-color: #E8F0FE;\n",
              "      --fill-color: #1967D2;\n",
              "      --hover-bg-color: #E2EBFA;\n",
              "      --hover-fill-color: #174EA6;\n",
              "      --disabled-fill-color: #AAA;\n",
              "      --disabled-bg-color: #DDD;\n",
              "  }\n",
              "\n",
              "  [theme=dark] .colab-df-quickchart {\n",
              "      --bg-color: #3B4455;\n",
              "      --fill-color: #D2E3FC;\n",
              "      --hover-bg-color: #434B5C;\n",
              "      --hover-fill-color: #FFFFFF;\n",
              "      --disabled-bg-color: #3B4455;\n",
              "      --disabled-fill-color: #666;\n",
              "  }\n",
              "\n",
              "  .colab-df-quickchart {\n",
              "    background-color: var(--bg-color);\n",
              "    border: none;\n",
              "    border-radius: 50%;\n",
              "    cursor: pointer;\n",
              "    display: none;\n",
              "    fill: var(--fill-color);\n",
              "    height: 32px;\n",
              "    padding: 0;\n",
              "    width: 32px;\n",
              "  }\n",
              "\n",
              "  .colab-df-quickchart:hover {\n",
              "    background-color: var(--hover-bg-color);\n",
              "    box-shadow: 0 1px 2px rgba(60, 64, 67, 0.3), 0 1px 3px 1px rgba(60, 64, 67, 0.15);\n",
              "    fill: var(--button-hover-fill-color);\n",
              "  }\n",
              "\n",
              "  .colab-df-quickchart-complete:disabled,\n",
              "  .colab-df-quickchart-complete:disabled:hover {\n",
              "    background-color: var(--disabled-bg-color);\n",
              "    fill: var(--disabled-fill-color);\n",
              "    box-shadow: none;\n",
              "  }\n",
              "\n",
              "  .colab-df-spinner {\n",
              "    border: 2px solid var(--fill-color);\n",
              "    border-color: transparent;\n",
              "    border-bottom-color: var(--fill-color);\n",
              "    animation:\n",
              "      spin 1s steps(1) infinite;\n",
              "  }\n",
              "\n",
              "  @keyframes spin {\n",
              "    0% {\n",
              "      border-color: transparent;\n",
              "      border-bottom-color: var(--fill-color);\n",
              "      border-left-color: var(--fill-color);\n",
              "    }\n",
              "    20% {\n",
              "      border-color: transparent;\n",
              "      border-left-color: var(--fill-color);\n",
              "      border-top-color: var(--fill-color);\n",
              "    }\n",
              "    30% {\n",
              "      border-color: transparent;\n",
              "      border-left-color: var(--fill-color);\n",
              "      border-top-color: var(--fill-color);\n",
              "      border-right-color: var(--fill-color);\n",
              "    }\n",
              "    40% {\n",
              "      border-color: transparent;\n",
              "      border-right-color: var(--fill-color);\n",
              "      border-top-color: var(--fill-color);\n",
              "    }\n",
              "    60% {\n",
              "      border-color: transparent;\n",
              "      border-right-color: var(--fill-color);\n",
              "    }\n",
              "    80% {\n",
              "      border-color: transparent;\n",
              "      border-right-color: var(--fill-color);\n",
              "      border-bottom-color: var(--fill-color);\n",
              "    }\n",
              "    90% {\n",
              "      border-color: transparent;\n",
              "      border-bottom-color: var(--fill-color);\n",
              "    }\n",
              "  }\n",
              "</style>\n",
              "\n",
              "  <script>\n",
              "    async function quickchart(key) {\n",
              "      const quickchartButtonEl =\n",
              "        document.querySelector('#' + key + ' button');\n",
              "      quickchartButtonEl.disabled = true;  // To prevent multiple clicks.\n",
              "      quickchartButtonEl.classList.add('colab-df-spinner');\n",
              "      try {\n",
              "        const charts = await google.colab.kernel.invokeFunction(\n",
              "            'suggestCharts', [key], {});\n",
              "      } catch (error) {\n",
              "        console.error('Error during call to suggestCharts:', error);\n",
              "      }\n",
              "      quickchartButtonEl.classList.remove('colab-df-spinner');\n",
              "      quickchartButtonEl.classList.add('colab-df-quickchart-complete');\n",
              "    }\n",
              "    (() => {\n",
              "      let quickchartButtonEl =\n",
              "        document.querySelector('#df-c557853e-850c-441f-bf35-bbb841e3cd7a button');\n",
              "      quickchartButtonEl.style.display =\n",
              "        google.colab.kernel.accessAllowed ? 'block' : 'none';\n",
              "    })();\n",
              "  </script>\n",
              "</div>\n",
              "\n",
              "  <div id=\"id_72c32bc8-68c1-4ecf-8c35-2fdba666a41d\">\n",
              "    <style>\n",
              "      .colab-df-generate {\n",
              "        background-color: #E8F0FE;\n",
              "        border: none;\n",
              "        border-radius: 50%;\n",
              "        cursor: pointer;\n",
              "        display: none;\n",
              "        fill: #1967D2;\n",
              "        height: 32px;\n",
              "        padding: 0 0 0 0;\n",
              "        width: 32px;\n",
              "      }\n",
              "\n",
              "      .colab-df-generate:hover {\n",
              "        background-color: #E2EBFA;\n",
              "        box-shadow: 0px 1px 2px rgba(60, 64, 67, 0.3), 0px 1px 3px 1px rgba(60, 64, 67, 0.15);\n",
              "        fill: #174EA6;\n",
              "      }\n",
              "\n",
              "      [theme=dark] .colab-df-generate {\n",
              "        background-color: #3B4455;\n",
              "        fill: #D2E3FC;\n",
              "      }\n",
              "\n",
              "      [theme=dark] .colab-df-generate:hover {\n",
              "        background-color: #434B5C;\n",
              "        box-shadow: 0px 1px 3px 1px rgba(0, 0, 0, 0.15);\n",
              "        filter: drop-shadow(0px 1px 2px rgba(0, 0, 0, 0.3));\n",
              "        fill: #FFFFFF;\n",
              "      }\n",
              "    </style>\n",
              "    <button class=\"colab-df-generate\" onclick=\"generateWithVariable('df_conf_mattrix')\"\n",
              "            title=\"Generate code using this dataframe.\"\n",
              "            style=\"display:none;\">\n",
              "\n",
              "  <svg xmlns=\"http://www.w3.org/2000/svg\" height=\"24px\"viewBox=\"0 0 24 24\"\n",
              "       width=\"24px\">\n",
              "    <path d=\"M7,19H8.4L18.45,9,17,7.55,7,17.6ZM5,21V16.75L18.45,3.32a2,2,0,0,1,2.83,0l1.4,1.43a1.91,1.91,0,0,1,.58,1.4,1.91,1.91,0,0,1-.58,1.4L9.25,21ZM18.45,9,17,7.55Zm-12,3A5.31,5.31,0,0,0,4.9,8.1,5.31,5.31,0,0,0,1,6.5,5.31,5.31,0,0,0,4.9,4.9,5.31,5.31,0,0,0,6.5,1,5.31,5.31,0,0,0,8.1,4.9,5.31,5.31,0,0,0,12,6.5,5.46,5.46,0,0,0,6.5,12Z\"/>\n",
              "  </svg>\n",
              "    </button>\n",
              "    <script>\n",
              "      (() => {\n",
              "      const buttonEl =\n",
              "        document.querySelector('#id_72c32bc8-68c1-4ecf-8c35-2fdba666a41d button.colab-df-generate');\n",
              "      buttonEl.style.display =\n",
              "        google.colab.kernel.accessAllowed ? 'block' : 'none';\n",
              "\n",
              "      buttonEl.onclick = () => {\n",
              "        google.colab.notebook.generateWithVariable('df_conf_mattrix');\n",
              "      }\n",
              "      })();\n",
              "    </script>\n",
              "  </div>\n",
              "\n",
              "    </div>\n",
              "  </div>\n"
            ],
            "application/vnd.google.colaboratory.intrinsic+json": {
              "type": "dataframe",
              "variable_name": "df_conf_mattrix",
              "summary": "{\n  \"name\": \"df_conf_mattrix\",\n  \"rows\": 2,\n  \"fields\": [\n    {\n      \"column\": \"Pred_No\",\n      \"properties\": {\n        \"dtype\": \"number\",\n        \"std\": 1326,\n        \"min\": 48,\n        \"max\": 1924,\n        \"num_unique_values\": 2,\n        \"samples\": [\n          48,\n          1924\n        ],\n        \"semantic_type\": \"\",\n        \"description\": \"\"\n      }\n    },\n    {\n      \"column\": \"Pred_Yes\",\n      \"properties\": {\n        \"dtype\": \"number\",\n        \"std\": 7,\n        \"min\": 9,\n        \"max\": 19,\n        \"num_unique_values\": 2,\n        \"samples\": [\n          19,\n          9\n        ],\n        \"semantic_type\": \"\",\n        \"description\": \"\"\n      }\n    }\n  ]\n}"
            }
          },
          "metadata": {},
          "execution_count": 25
        }
      ]
    },
    {
      "cell_type": "markdown",
      "source": [
        "\n",
        "### **🤔 Why do we do this?**\n",
        "- The confusion matrix **reveals the types of errors** the model makes.\n",
        "- It shows **false positives (wrongly predicted defaults)** and **false negatives (missed actual defaults)**.\n",
        "\n",
        "✅ **Real-Life Example:**\n",
        "Imagine an **airport security system** ✈️.\n",
        "- A **False Positive** means an innocent traveler is wrongly flagged as a security threat.\n",
        "- A **False Negative** means an actual threat is **missed**, leading to **high risk**.\n",
        "- The confusion matrix helps improve the accuracy of **security screenings**.\n",
        "\n",
        "---"
      ],
      "metadata": {
        "id": "dYCexyYjMGP_"
      },
      "id": "dYCexyYjMGP_"
    },
    {
      "cell_type": "markdown",
      "source": [
        "## 📌 **Generate Classification Report**"
      ],
      "metadata": {
        "id": "XdYSAMBWMK5k"
      },
      "id": "XdYSAMBWMK5k"
    },
    {
      "cell_type": "code",
      "source": [
        "# Generate a classification report with precision, recall, and F1-score\n",
        "print(classification_report(y_test, y_pred_test_default))"
      ],
      "metadata": {
        "id": "-fZvqxA5v8lz",
        "colab": {
          "base_uri": "https://localhost:8080/"
        },
        "outputId": "7c52dd54-2432-4fd9-c2c4-1f6afe2dec84"
      },
      "id": "-fZvqxA5v8lz",
      "execution_count": 26,
      "outputs": [
        {
          "output_type": "stream",
          "name": "stdout",
          "text": [
            "              precision    recall  f1-score   support\n",
            "\n",
            "          No       0.98      1.00      0.99      1933\n",
            "         Yes       0.68      0.28      0.40        67\n",
            "\n",
            "    accuracy                           0.97      2000\n",
            "   macro avg       0.83      0.64      0.69      2000\n",
            "weighted avg       0.97      0.97      0.97      2000\n",
            "\n"
          ]
        }
      ]
    },
    {
      "cell_type": "markdown",
      "source": [
        "### **🤔 Why do we do this?**\n",
        "- **Precision** tells us how many of the predicted defaults were **actually correct**.\n",
        "- **Recall** shows how many of the actual defaults were **correctly identified**.\n",
        "- **F1-score** balances precision and recall to measure **overall model effectiveness**.\n",
        "\n",
        "✅ **Real-Life Example:**\n",
        "Imagine a **medical diagnosis system** 🏥 detecting cancer.\n",
        "- **High precision** means **most diagnosed cases actually have cancer**.\n",
        "- **High recall** means **we are catching most cancer cases**.\n",
        "- If recall is low, **some patients will go undiagnosed**, making the model dangerous.\n",
        "\n",
        "---"
      ],
      "metadata": {
        "id": "dzKxduXLMTTW"
      },
      "id": "dzKxduXLMTTW"
    },
    {
      "cell_type": "markdown",
      "source": [
        "100% recall for the 'No' class? Does not that contradict the confusion matrix?"
      ],
      "metadata": {
        "id": "QN20AsEq-ySm"
      },
      "id": "QN20AsEq-ySm"
    },
    {
      "cell_type": "markdown",
      "source": [
        "**What are the most important predictors used by the NB classifier?**\n",
        "\n",
        "Although NB uses all the features when predicting Y, we know that not all predictors are equally important.\n",
        "\n",
        "Unfortunately, there is not direct way to evaluate importance of each feature in NB.\n",
        "\n",
        "But fortunately, there is an indirect way, applicable to any classification method: the permutation importance method."
      ],
      "metadata": {
        "id": "Tk19cndghJ_o"
      },
      "id": "Tk19cndghJ_o"
    },
    {
      "cell_type": "markdown",
      "source": [
        "From the scikit-learn documentation:\n",
        "\n",
        "\"Permutation_importance is a method used to estimate the importance of each feature in a predictive model by randomly shuffling the values of a single feature and observing the impact on the model's performance.\"\n",
        "\n",
        "\"Use the original trained model to make predictions on the test set with permuted features (X_test with one feature permuted at a time).\"\n",
        "\n",
        "\"Compare the performance of the model on the test set with permuted features to the baseline performance.\"\n",
        "\n",
        "\"The permutation importance is defined to be the difference between the baseline metric and metric from permutating the feature column.\"\n",
        "\n",
        "\"The drop in performance indicates the importance of the feature. If permuting a feature leads to a significant drop in performance, that feature is considered important.\""
      ],
      "metadata": {
        "id": "gJ4Mbk_XhP1k"
      },
      "id": "gJ4Mbk_XhP1k"
    },
    {
      "cell_type": "markdown",
      "source": [
        "The permutation_importance function is typically used on the test set, not the training set. This is because you want to evaluate the impact of permuting the feature values on the model's performance in predicting new, unseen data."
      ],
      "metadata": {
        "id": "XfzINgu7hXoP"
      },
      "id": "XfzINgu7hXoP"
    },
    {
      "cell_type": "markdown",
      "source": [
        "## 📌 **Feature Importance Using Permutation Importance (Skip Running This Step)**"
      ],
      "metadata": {
        "id": "M2-WHy79MqK6"
      },
      "id": "M2-WHy79MqK6"
    },
    {
      "cell_type": "code",
      "source": [
        "from sklearn.inspection import permutation_importance"
      ],
      "metadata": {
        "id": "gz-hw-m7e41H"
      },
      "id": "gz-hw-m7e41H",
      "execution_count": 27,
      "outputs": []
    },
    {
      "cell_type": "code",
      "source": [
        "# Estimate feature importance using permutation importance\n",
        "# n_repeats represents the # of times we permute each column (each feature)\n",
        "permutation_imp_results = permutation_importance(nb_classifier_default, X_test, y_test, n_repeats=10, random_state=1)\n",
        "\n",
        "# Extract mean importance scores for each feature\n",
        "# The final importance is the average obtained after each feature has been permuted 'n_repeats' times\n",
        "permutation_feature_imp = permutation_imp_results.importances_mean\n",
        "\n",
        "# Convert results into a DataFrame\n",
        "permutation_importance_df = pd.DataFrame({'Feature': X_train.columns, 'Importance': permutation_feature_imp})"
      ],
      "metadata": {
        "id": "FFFanezVM4Sy"
      },
      "id": "FFFanezVM4Sy",
      "execution_count": null,
      "outputs": []
    },
    {
      "cell_type": "code",
      "source": [
        "permutation_importance_df"
      ],
      "metadata": {
        "id": "AbHn9Uk3ffgW",
        "colab": {
          "base_uri": "https://localhost:8080/",
          "height": 144
        },
        "outputId": "03b0c455-293d-4df4-d1ed-8c07c0897be1"
      },
      "id": "AbHn9Uk3ffgW",
      "execution_count": 46,
      "outputs": [
        {
          "output_type": "execute_result",
          "data": {
            "text/plain": [
              "       Feature  Importance\n",
              "0      balance     0.01685\n",
              "1       income    -0.00145\n",
              "2  student_Yes    -0.00125"
            ],
            "text/html": [
              "\n",
              "  <div id=\"df-05d53ceb-9a32-4e88-9868-c0d451d0eb8a\" class=\"colab-df-container\">\n",
              "    <div>\n",
              "<style scoped>\n",
              "    .dataframe tbody tr th:only-of-type {\n",
              "        vertical-align: middle;\n",
              "    }\n",
              "\n",
              "    .dataframe tbody tr th {\n",
              "        vertical-align: top;\n",
              "    }\n",
              "\n",
              "    .dataframe thead th {\n",
              "        text-align: right;\n",
              "    }\n",
              "</style>\n",
              "<table border=\"1\" class=\"dataframe\">\n",
              "  <thead>\n",
              "    <tr style=\"text-align: right;\">\n",
              "      <th></th>\n",
              "      <th>Feature</th>\n",
              "      <th>Importance</th>\n",
              "    </tr>\n",
              "  </thead>\n",
              "  <tbody>\n",
              "    <tr>\n",
              "      <th>0</th>\n",
              "      <td>balance</td>\n",
              "      <td>0.01685</td>\n",
              "    </tr>\n",
              "    <tr>\n",
              "      <th>1</th>\n",
              "      <td>income</td>\n",
              "      <td>-0.00145</td>\n",
              "    </tr>\n",
              "    <tr>\n",
              "      <th>2</th>\n",
              "      <td>student_Yes</td>\n",
              "      <td>-0.00125</td>\n",
              "    </tr>\n",
              "  </tbody>\n",
              "</table>\n",
              "</div>\n",
              "    <div class=\"colab-df-buttons\">\n",
              "\n",
              "  <div class=\"colab-df-container\">\n",
              "    <button class=\"colab-df-convert\" onclick=\"convertToInteractive('df-05d53ceb-9a32-4e88-9868-c0d451d0eb8a')\"\n",
              "            title=\"Convert this dataframe to an interactive table.\"\n",
              "            style=\"display:none;\">\n",
              "\n",
              "  <svg xmlns=\"http://www.w3.org/2000/svg\" height=\"24px\" viewBox=\"0 -960 960 960\">\n",
              "    <path d=\"M120-120v-720h720v720H120Zm60-500h600v-160H180v160Zm220 220h160v-160H400v160Zm0 220h160v-160H400v160ZM180-400h160v-160H180v160Zm440 0h160v-160H620v160ZM180-180h160v-160H180v160Zm440 0h160v-160H620v160Z\"/>\n",
              "  </svg>\n",
              "    </button>\n",
              "\n",
              "  <style>\n",
              "    .colab-df-container {\n",
              "      display:flex;\n",
              "      gap: 12px;\n",
              "    }\n",
              "\n",
              "    .colab-df-convert {\n",
              "      background-color: #E8F0FE;\n",
              "      border: none;\n",
              "      border-radius: 50%;\n",
              "      cursor: pointer;\n",
              "      display: none;\n",
              "      fill: #1967D2;\n",
              "      height: 32px;\n",
              "      padding: 0 0 0 0;\n",
              "      width: 32px;\n",
              "    }\n",
              "\n",
              "    .colab-df-convert:hover {\n",
              "      background-color: #E2EBFA;\n",
              "      box-shadow: 0px 1px 2px rgba(60, 64, 67, 0.3), 0px 1px 3px 1px rgba(60, 64, 67, 0.15);\n",
              "      fill: #174EA6;\n",
              "    }\n",
              "\n",
              "    .colab-df-buttons div {\n",
              "      margin-bottom: 4px;\n",
              "    }\n",
              "\n",
              "    [theme=dark] .colab-df-convert {\n",
              "      background-color: #3B4455;\n",
              "      fill: #D2E3FC;\n",
              "    }\n",
              "\n",
              "    [theme=dark] .colab-df-convert:hover {\n",
              "      background-color: #434B5C;\n",
              "      box-shadow: 0px 1px 3px 1px rgba(0, 0, 0, 0.15);\n",
              "      filter: drop-shadow(0px 1px 2px rgba(0, 0, 0, 0.3));\n",
              "      fill: #FFFFFF;\n",
              "    }\n",
              "  </style>\n",
              "\n",
              "    <script>\n",
              "      const buttonEl =\n",
              "        document.querySelector('#df-05d53ceb-9a32-4e88-9868-c0d451d0eb8a button.colab-df-convert');\n",
              "      buttonEl.style.display =\n",
              "        google.colab.kernel.accessAllowed ? 'block' : 'none';\n",
              "\n",
              "      async function convertToInteractive(key) {\n",
              "        const element = document.querySelector('#df-05d53ceb-9a32-4e88-9868-c0d451d0eb8a');\n",
              "        const dataTable =\n",
              "          await google.colab.kernel.invokeFunction('convertToInteractive',\n",
              "                                                    [key], {});\n",
              "        if (!dataTable) return;\n",
              "\n",
              "        const docLinkHtml = 'Like what you see? Visit the ' +\n",
              "          '<a target=\"_blank\" href=https://colab.research.google.com/notebooks/data_table.ipynb>data table notebook</a>'\n",
              "          + ' to learn more about interactive tables.';\n",
              "        element.innerHTML = '';\n",
              "        dataTable['output_type'] = 'display_data';\n",
              "        await google.colab.output.renderOutput(dataTable, element);\n",
              "        const docLink = document.createElement('div');\n",
              "        docLink.innerHTML = docLinkHtml;\n",
              "        element.appendChild(docLink);\n",
              "      }\n",
              "    </script>\n",
              "  </div>\n",
              "\n",
              "\n",
              "<div id=\"df-9f7c9960-222f-4d2e-a21d-256930321923\">\n",
              "  <button class=\"colab-df-quickchart\" onclick=\"quickchart('df-9f7c9960-222f-4d2e-a21d-256930321923')\"\n",
              "            title=\"Suggest charts\"\n",
              "            style=\"display:none;\">\n",
              "\n",
              "<svg xmlns=\"http://www.w3.org/2000/svg\" height=\"24px\"viewBox=\"0 0 24 24\"\n",
              "     width=\"24px\">\n",
              "    <g>\n",
              "        <path d=\"M19 3H5c-1.1 0-2 .9-2 2v14c0 1.1.9 2 2 2h14c1.1 0 2-.9 2-2V5c0-1.1-.9-2-2-2zM9 17H7v-7h2v7zm4 0h-2V7h2v10zm4 0h-2v-4h2v4z\"/>\n",
              "    </g>\n",
              "</svg>\n",
              "  </button>\n",
              "\n",
              "<style>\n",
              "  .colab-df-quickchart {\n",
              "      --bg-color: #E8F0FE;\n",
              "      --fill-color: #1967D2;\n",
              "      --hover-bg-color: #E2EBFA;\n",
              "      --hover-fill-color: #174EA6;\n",
              "      --disabled-fill-color: #AAA;\n",
              "      --disabled-bg-color: #DDD;\n",
              "  }\n",
              "\n",
              "  [theme=dark] .colab-df-quickchart {\n",
              "      --bg-color: #3B4455;\n",
              "      --fill-color: #D2E3FC;\n",
              "      --hover-bg-color: #434B5C;\n",
              "      --hover-fill-color: #FFFFFF;\n",
              "      --disabled-bg-color: #3B4455;\n",
              "      --disabled-fill-color: #666;\n",
              "  }\n",
              "\n",
              "  .colab-df-quickchart {\n",
              "    background-color: var(--bg-color);\n",
              "    border: none;\n",
              "    border-radius: 50%;\n",
              "    cursor: pointer;\n",
              "    display: none;\n",
              "    fill: var(--fill-color);\n",
              "    height: 32px;\n",
              "    padding: 0;\n",
              "    width: 32px;\n",
              "  }\n",
              "\n",
              "  .colab-df-quickchart:hover {\n",
              "    background-color: var(--hover-bg-color);\n",
              "    box-shadow: 0 1px 2px rgba(60, 64, 67, 0.3), 0 1px 3px 1px rgba(60, 64, 67, 0.15);\n",
              "    fill: var(--button-hover-fill-color);\n",
              "  }\n",
              "\n",
              "  .colab-df-quickchart-complete:disabled,\n",
              "  .colab-df-quickchart-complete:disabled:hover {\n",
              "    background-color: var(--disabled-bg-color);\n",
              "    fill: var(--disabled-fill-color);\n",
              "    box-shadow: none;\n",
              "  }\n",
              "\n",
              "  .colab-df-spinner {\n",
              "    border: 2px solid var(--fill-color);\n",
              "    border-color: transparent;\n",
              "    border-bottom-color: var(--fill-color);\n",
              "    animation:\n",
              "      spin 1s steps(1) infinite;\n",
              "  }\n",
              "\n",
              "  @keyframes spin {\n",
              "    0% {\n",
              "      border-color: transparent;\n",
              "      border-bottom-color: var(--fill-color);\n",
              "      border-left-color: var(--fill-color);\n",
              "    }\n",
              "    20% {\n",
              "      border-color: transparent;\n",
              "      border-left-color: var(--fill-color);\n",
              "      border-top-color: var(--fill-color);\n",
              "    }\n",
              "    30% {\n",
              "      border-color: transparent;\n",
              "      border-left-color: var(--fill-color);\n",
              "      border-top-color: var(--fill-color);\n",
              "      border-right-color: var(--fill-color);\n",
              "    }\n",
              "    40% {\n",
              "      border-color: transparent;\n",
              "      border-right-color: var(--fill-color);\n",
              "      border-top-color: var(--fill-color);\n",
              "    }\n",
              "    60% {\n",
              "      border-color: transparent;\n",
              "      border-right-color: var(--fill-color);\n",
              "    }\n",
              "    80% {\n",
              "      border-color: transparent;\n",
              "      border-right-color: var(--fill-color);\n",
              "      border-bottom-color: var(--fill-color);\n",
              "    }\n",
              "    90% {\n",
              "      border-color: transparent;\n",
              "      border-bottom-color: var(--fill-color);\n",
              "    }\n",
              "  }\n",
              "</style>\n",
              "\n",
              "  <script>\n",
              "    async function quickchart(key) {\n",
              "      const quickchartButtonEl =\n",
              "        document.querySelector('#' + key + ' button');\n",
              "      quickchartButtonEl.disabled = true;  // To prevent multiple clicks.\n",
              "      quickchartButtonEl.classList.add('colab-df-spinner');\n",
              "      try {\n",
              "        const charts = await google.colab.kernel.invokeFunction(\n",
              "            'suggestCharts', [key], {});\n",
              "      } catch (error) {\n",
              "        console.error('Error during call to suggestCharts:', error);\n",
              "      }\n",
              "      quickchartButtonEl.classList.remove('colab-df-spinner');\n",
              "      quickchartButtonEl.classList.add('colab-df-quickchart-complete');\n",
              "    }\n",
              "    (() => {\n",
              "      let quickchartButtonEl =\n",
              "        document.querySelector('#df-9f7c9960-222f-4d2e-a21d-256930321923 button');\n",
              "      quickchartButtonEl.style.display =\n",
              "        google.colab.kernel.accessAllowed ? 'block' : 'none';\n",
              "    })();\n",
              "  </script>\n",
              "</div>\n",
              "\n",
              "  <div id=\"id_414bc796-64f5-47c3-98f0-e13da4a5b32d\">\n",
              "    <style>\n",
              "      .colab-df-generate {\n",
              "        background-color: #E8F0FE;\n",
              "        border: none;\n",
              "        border-radius: 50%;\n",
              "        cursor: pointer;\n",
              "        display: none;\n",
              "        fill: #1967D2;\n",
              "        height: 32px;\n",
              "        padding: 0 0 0 0;\n",
              "        width: 32px;\n",
              "      }\n",
              "\n",
              "      .colab-df-generate:hover {\n",
              "        background-color: #E2EBFA;\n",
              "        box-shadow: 0px 1px 2px rgba(60, 64, 67, 0.3), 0px 1px 3px 1px rgba(60, 64, 67, 0.15);\n",
              "        fill: #174EA6;\n",
              "      }\n",
              "\n",
              "      [theme=dark] .colab-df-generate {\n",
              "        background-color: #3B4455;\n",
              "        fill: #D2E3FC;\n",
              "      }\n",
              "\n",
              "      [theme=dark] .colab-df-generate:hover {\n",
              "        background-color: #434B5C;\n",
              "        box-shadow: 0px 1px 3px 1px rgba(0, 0, 0, 0.15);\n",
              "        filter: drop-shadow(0px 1px 2px rgba(0, 0, 0, 0.3));\n",
              "        fill: #FFFFFF;\n",
              "      }\n",
              "    </style>\n",
              "    <button class=\"colab-df-generate\" onclick=\"generateWithVariable('permutation_importance_df')\"\n",
              "            title=\"Generate code using this dataframe.\"\n",
              "            style=\"display:none;\">\n",
              "\n",
              "  <svg xmlns=\"http://www.w3.org/2000/svg\" height=\"24px\"viewBox=\"0 0 24 24\"\n",
              "       width=\"24px\">\n",
              "    <path d=\"M7,19H8.4L18.45,9,17,7.55,7,17.6ZM5,21V16.75L18.45,3.32a2,2,0,0,1,2.83,0l1.4,1.43a1.91,1.91,0,0,1,.58,1.4,1.91,1.91,0,0,1-.58,1.4L9.25,21ZM18.45,9,17,7.55Zm-12,3A5.31,5.31,0,0,0,4.9,8.1,5.31,5.31,0,0,0,1,6.5,5.31,5.31,0,0,0,4.9,4.9,5.31,5.31,0,0,0,6.5,1,5.31,5.31,0,0,0,8.1,4.9,5.31,5.31,0,0,0,12,6.5,5.46,5.46,0,0,0,6.5,12Z\"/>\n",
              "  </svg>\n",
              "    </button>\n",
              "    <script>\n",
              "      (() => {\n",
              "      const buttonEl =\n",
              "        document.querySelector('#id_414bc796-64f5-47c3-98f0-e13da4a5b32d button.colab-df-generate');\n",
              "      buttonEl.style.display =\n",
              "        google.colab.kernel.accessAllowed ? 'block' : 'none';\n",
              "\n",
              "      buttonEl.onclick = () => {\n",
              "        google.colab.notebook.generateWithVariable('permutation_importance_df');\n",
              "      }\n",
              "      })();\n",
              "    </script>\n",
              "  </div>\n",
              "\n",
              "    </div>\n",
              "  </div>\n"
            ],
            "application/vnd.google.colaboratory.intrinsic+json": {
              "type": "dataframe",
              "variable_name": "permutation_importance_df",
              "summary": "{\n  \"name\": \"permutation_importance_df\",\n  \"rows\": 3,\n  \"fields\": [\n    {\n      \"column\": \"Feature\",\n      \"properties\": {\n        \"dtype\": \"string\",\n        \"num_unique_values\": 3,\n        \"samples\": [\n          \"balance\",\n          \"income\",\n          \"student_Yes\"\n        ],\n        \"semantic_type\": \"\",\n        \"description\": \"\"\n      }\n    },\n    {\n      \"column\": \"Importance\",\n      \"properties\": {\n        \"dtype\": \"number\",\n        \"std\": 0.010508250726611618,\n        \"min\": -0.0014499999999999624,\n        \"max\": 0.016850000000000052,\n        \"num_unique_values\": 3,\n        \"samples\": [\n          0.016850000000000052,\n          -0.0014499999999999624,\n          -0.0012499999999999734\n        ],\n        \"semantic_type\": \"\",\n        \"description\": \"\"\n      }\n    }\n  ]\n}"
            }
          },
          "metadata": {},
          "execution_count": 46
        }
      ]
    },
    {
      "cell_type": "code",
      "source": [
        "# Display sorted feature importance values\n",
        "permutation_importance_df.sort_values(by='Importance', ascending=False)"
      ],
      "metadata": {
        "id": "3fShPFgLg-xK",
        "colab": {
          "base_uri": "https://localhost:8080/",
          "height": 144
        },
        "outputId": "df74ce2d-7f0f-4ffd-fb34-b8bb47be6d84"
      },
      "id": "3fShPFgLg-xK",
      "execution_count": 47,
      "outputs": [
        {
          "output_type": "execute_result",
          "data": {
            "text/plain": [
              "       Feature  Importance\n",
              "0      balance     0.01685\n",
              "2  student_Yes    -0.00125\n",
              "1       income    -0.00145"
            ],
            "text/html": [
              "\n",
              "  <div id=\"df-0fd0883e-e0d9-448a-80d3-926e8e0e262a\" class=\"colab-df-container\">\n",
              "    <div>\n",
              "<style scoped>\n",
              "    .dataframe tbody tr th:only-of-type {\n",
              "        vertical-align: middle;\n",
              "    }\n",
              "\n",
              "    .dataframe tbody tr th {\n",
              "        vertical-align: top;\n",
              "    }\n",
              "\n",
              "    .dataframe thead th {\n",
              "        text-align: right;\n",
              "    }\n",
              "</style>\n",
              "<table border=\"1\" class=\"dataframe\">\n",
              "  <thead>\n",
              "    <tr style=\"text-align: right;\">\n",
              "      <th></th>\n",
              "      <th>Feature</th>\n",
              "      <th>Importance</th>\n",
              "    </tr>\n",
              "  </thead>\n",
              "  <tbody>\n",
              "    <tr>\n",
              "      <th>0</th>\n",
              "      <td>balance</td>\n",
              "      <td>0.01685</td>\n",
              "    </tr>\n",
              "    <tr>\n",
              "      <th>2</th>\n",
              "      <td>student_Yes</td>\n",
              "      <td>-0.00125</td>\n",
              "    </tr>\n",
              "    <tr>\n",
              "      <th>1</th>\n",
              "      <td>income</td>\n",
              "      <td>-0.00145</td>\n",
              "    </tr>\n",
              "  </tbody>\n",
              "</table>\n",
              "</div>\n",
              "    <div class=\"colab-df-buttons\">\n",
              "\n",
              "  <div class=\"colab-df-container\">\n",
              "    <button class=\"colab-df-convert\" onclick=\"convertToInteractive('df-0fd0883e-e0d9-448a-80d3-926e8e0e262a')\"\n",
              "            title=\"Convert this dataframe to an interactive table.\"\n",
              "            style=\"display:none;\">\n",
              "\n",
              "  <svg xmlns=\"http://www.w3.org/2000/svg\" height=\"24px\" viewBox=\"0 -960 960 960\">\n",
              "    <path d=\"M120-120v-720h720v720H120Zm60-500h600v-160H180v160Zm220 220h160v-160H400v160Zm0 220h160v-160H400v160ZM180-400h160v-160H180v160Zm440 0h160v-160H620v160ZM180-180h160v-160H180v160Zm440 0h160v-160H620v160Z\"/>\n",
              "  </svg>\n",
              "    </button>\n",
              "\n",
              "  <style>\n",
              "    .colab-df-container {\n",
              "      display:flex;\n",
              "      gap: 12px;\n",
              "    }\n",
              "\n",
              "    .colab-df-convert {\n",
              "      background-color: #E8F0FE;\n",
              "      border: none;\n",
              "      border-radius: 50%;\n",
              "      cursor: pointer;\n",
              "      display: none;\n",
              "      fill: #1967D2;\n",
              "      height: 32px;\n",
              "      padding: 0 0 0 0;\n",
              "      width: 32px;\n",
              "    }\n",
              "\n",
              "    .colab-df-convert:hover {\n",
              "      background-color: #E2EBFA;\n",
              "      box-shadow: 0px 1px 2px rgba(60, 64, 67, 0.3), 0px 1px 3px 1px rgba(60, 64, 67, 0.15);\n",
              "      fill: #174EA6;\n",
              "    }\n",
              "\n",
              "    .colab-df-buttons div {\n",
              "      margin-bottom: 4px;\n",
              "    }\n",
              "\n",
              "    [theme=dark] .colab-df-convert {\n",
              "      background-color: #3B4455;\n",
              "      fill: #D2E3FC;\n",
              "    }\n",
              "\n",
              "    [theme=dark] .colab-df-convert:hover {\n",
              "      background-color: #434B5C;\n",
              "      box-shadow: 0px 1px 3px 1px rgba(0, 0, 0, 0.15);\n",
              "      filter: drop-shadow(0px 1px 2px rgba(0, 0, 0, 0.3));\n",
              "      fill: #FFFFFF;\n",
              "    }\n",
              "  </style>\n",
              "\n",
              "    <script>\n",
              "      const buttonEl =\n",
              "        document.querySelector('#df-0fd0883e-e0d9-448a-80d3-926e8e0e262a button.colab-df-convert');\n",
              "      buttonEl.style.display =\n",
              "        google.colab.kernel.accessAllowed ? 'block' : 'none';\n",
              "\n",
              "      async function convertToInteractive(key) {\n",
              "        const element = document.querySelector('#df-0fd0883e-e0d9-448a-80d3-926e8e0e262a');\n",
              "        const dataTable =\n",
              "          await google.colab.kernel.invokeFunction('convertToInteractive',\n",
              "                                                    [key], {});\n",
              "        if (!dataTable) return;\n",
              "\n",
              "        const docLinkHtml = 'Like what you see? Visit the ' +\n",
              "          '<a target=\"_blank\" href=https://colab.research.google.com/notebooks/data_table.ipynb>data table notebook</a>'\n",
              "          + ' to learn more about interactive tables.';\n",
              "        element.innerHTML = '';\n",
              "        dataTable['output_type'] = 'display_data';\n",
              "        await google.colab.output.renderOutput(dataTable, element);\n",
              "        const docLink = document.createElement('div');\n",
              "        docLink.innerHTML = docLinkHtml;\n",
              "        element.appendChild(docLink);\n",
              "      }\n",
              "    </script>\n",
              "  </div>\n",
              "\n",
              "\n",
              "<div id=\"df-3bd91ae0-b1e5-4a77-995d-b59e1faffbfa\">\n",
              "  <button class=\"colab-df-quickchart\" onclick=\"quickchart('df-3bd91ae0-b1e5-4a77-995d-b59e1faffbfa')\"\n",
              "            title=\"Suggest charts\"\n",
              "            style=\"display:none;\">\n",
              "\n",
              "<svg xmlns=\"http://www.w3.org/2000/svg\" height=\"24px\"viewBox=\"0 0 24 24\"\n",
              "     width=\"24px\">\n",
              "    <g>\n",
              "        <path d=\"M19 3H5c-1.1 0-2 .9-2 2v14c0 1.1.9 2 2 2h14c1.1 0 2-.9 2-2V5c0-1.1-.9-2-2-2zM9 17H7v-7h2v7zm4 0h-2V7h2v10zm4 0h-2v-4h2v4z\"/>\n",
              "    </g>\n",
              "</svg>\n",
              "  </button>\n",
              "\n",
              "<style>\n",
              "  .colab-df-quickchart {\n",
              "      --bg-color: #E8F0FE;\n",
              "      --fill-color: #1967D2;\n",
              "      --hover-bg-color: #E2EBFA;\n",
              "      --hover-fill-color: #174EA6;\n",
              "      --disabled-fill-color: #AAA;\n",
              "      --disabled-bg-color: #DDD;\n",
              "  }\n",
              "\n",
              "  [theme=dark] .colab-df-quickchart {\n",
              "      --bg-color: #3B4455;\n",
              "      --fill-color: #D2E3FC;\n",
              "      --hover-bg-color: #434B5C;\n",
              "      --hover-fill-color: #FFFFFF;\n",
              "      --disabled-bg-color: #3B4455;\n",
              "      --disabled-fill-color: #666;\n",
              "  }\n",
              "\n",
              "  .colab-df-quickchart {\n",
              "    background-color: var(--bg-color);\n",
              "    border: none;\n",
              "    border-radius: 50%;\n",
              "    cursor: pointer;\n",
              "    display: none;\n",
              "    fill: var(--fill-color);\n",
              "    height: 32px;\n",
              "    padding: 0;\n",
              "    width: 32px;\n",
              "  }\n",
              "\n",
              "  .colab-df-quickchart:hover {\n",
              "    background-color: var(--hover-bg-color);\n",
              "    box-shadow: 0 1px 2px rgba(60, 64, 67, 0.3), 0 1px 3px 1px rgba(60, 64, 67, 0.15);\n",
              "    fill: var(--button-hover-fill-color);\n",
              "  }\n",
              "\n",
              "  .colab-df-quickchart-complete:disabled,\n",
              "  .colab-df-quickchart-complete:disabled:hover {\n",
              "    background-color: var(--disabled-bg-color);\n",
              "    fill: var(--disabled-fill-color);\n",
              "    box-shadow: none;\n",
              "  }\n",
              "\n",
              "  .colab-df-spinner {\n",
              "    border: 2px solid var(--fill-color);\n",
              "    border-color: transparent;\n",
              "    border-bottom-color: var(--fill-color);\n",
              "    animation:\n",
              "      spin 1s steps(1) infinite;\n",
              "  }\n",
              "\n",
              "  @keyframes spin {\n",
              "    0% {\n",
              "      border-color: transparent;\n",
              "      border-bottom-color: var(--fill-color);\n",
              "      border-left-color: var(--fill-color);\n",
              "    }\n",
              "    20% {\n",
              "      border-color: transparent;\n",
              "      border-left-color: var(--fill-color);\n",
              "      border-top-color: var(--fill-color);\n",
              "    }\n",
              "    30% {\n",
              "      border-color: transparent;\n",
              "      border-left-color: var(--fill-color);\n",
              "      border-top-color: var(--fill-color);\n",
              "      border-right-color: var(--fill-color);\n",
              "    }\n",
              "    40% {\n",
              "      border-color: transparent;\n",
              "      border-right-color: var(--fill-color);\n",
              "      border-top-color: var(--fill-color);\n",
              "    }\n",
              "    60% {\n",
              "      border-color: transparent;\n",
              "      border-right-color: var(--fill-color);\n",
              "    }\n",
              "    80% {\n",
              "      border-color: transparent;\n",
              "      border-right-color: var(--fill-color);\n",
              "      border-bottom-color: var(--fill-color);\n",
              "    }\n",
              "    90% {\n",
              "      border-color: transparent;\n",
              "      border-bottom-color: var(--fill-color);\n",
              "    }\n",
              "  }\n",
              "</style>\n",
              "\n",
              "  <script>\n",
              "    async function quickchart(key) {\n",
              "      const quickchartButtonEl =\n",
              "        document.querySelector('#' + key + ' button');\n",
              "      quickchartButtonEl.disabled = true;  // To prevent multiple clicks.\n",
              "      quickchartButtonEl.classList.add('colab-df-spinner');\n",
              "      try {\n",
              "        const charts = await google.colab.kernel.invokeFunction(\n",
              "            'suggestCharts', [key], {});\n",
              "      } catch (error) {\n",
              "        console.error('Error during call to suggestCharts:', error);\n",
              "      }\n",
              "      quickchartButtonEl.classList.remove('colab-df-spinner');\n",
              "      quickchartButtonEl.classList.add('colab-df-quickchart-complete');\n",
              "    }\n",
              "    (() => {\n",
              "      let quickchartButtonEl =\n",
              "        document.querySelector('#df-3bd91ae0-b1e5-4a77-995d-b59e1faffbfa button');\n",
              "      quickchartButtonEl.style.display =\n",
              "        google.colab.kernel.accessAllowed ? 'block' : 'none';\n",
              "    })();\n",
              "  </script>\n",
              "</div>\n",
              "\n",
              "    </div>\n",
              "  </div>\n"
            ],
            "application/vnd.google.colaboratory.intrinsic+json": {
              "type": "dataframe",
              "summary": "{\n  \"name\": \"permutation_importance_df\",\n  \"rows\": 3,\n  \"fields\": [\n    {\n      \"column\": \"Feature\",\n      \"properties\": {\n        \"dtype\": \"string\",\n        \"num_unique_values\": 3,\n        \"samples\": [\n          \"balance\",\n          \"student_Yes\",\n          \"income\"\n        ],\n        \"semantic_type\": \"\",\n        \"description\": \"\"\n      }\n    },\n    {\n      \"column\": \"Importance\",\n      \"properties\": {\n        \"dtype\": \"number\",\n        \"std\": 0.010508250726611618,\n        \"min\": -0.0014499999999999624,\n        \"max\": 0.016850000000000052,\n        \"num_unique_values\": 3,\n        \"samples\": [\n          0.016850000000000052,\n          -0.0012499999999999734,\n          -0.0014499999999999624\n        ],\n        \"semantic_type\": \"\",\n        \"description\": \"\"\n      }\n    }\n  ]\n}"
            }
          },
          "metadata": {},
          "execution_count": 47
        }
      ]
    },
    {
      "cell_type": "markdown",
      "source": [
        "### **🤔 Why do we do this?**\n",
        "- Permutation importance helps **understand which features most affect predictions**.\n",
        "- If a feature’s importance is low, it might not be useful for the model and can be removed.\n",
        "\n",
        "✅ **Real-Life Example:**\n",
        "Imagine a **retail company** 🛒 predicting customer purchases.\n",
        "- **Income** might be a strong predictor of spending, while **ZIP code** might not be.\n",
        "- If **ZIP code** has low importance, the company can **ignore it to simplify the model**.\n",
        "\n",
        "---"
      ],
      "metadata": {
        "id": "XoaXbdbhNW0V"
      },
      "id": "XoaXbdbhNW0V"
    },
    {
      "cell_type": "markdown",
      "source": [
        "AUC and ROC curve"
      ],
      "metadata": {
        "id": "AnQtOd5NyAve"
      },
      "id": "AnQtOd5NyAve"
    },
    {
      "cell_type": "markdown",
      "source": [
        "\n",
        "---\n",
        "\n",
        "## 📌 **Compute the ROC-AUC Score & Plot the ROC Curve**"
      ],
      "metadata": {
        "id": "M5wHIsHfNeBX"
      },
      "id": "M5wHIsHfNeBX"
    },
    {
      "cell_type": "code",
      "source": [
        "# Compute the Area Under the ROC Curve (AUC)\n",
        "roc_auc_nb = roc_auc_score(y_test, nb_classifier_default.predict_proba(X_test)[:, 1])"
      ],
      "metadata": {
        "id": "y5nHu2d5ytAr"
      },
      "id": "y5nHu2d5ytAr",
      "execution_count": 48,
      "outputs": []
    },
    {
      "cell_type": "code",
      "source": [
        "# Area under the ROC curve\n",
        "\n",
        "np.round (roc_auc_nb, 3)"
      ],
      "metadata": {
        "id": "Hx7mgYEvz481",
        "colab": {
          "base_uri": "https://localhost:8080/"
        },
        "outputId": "d8a70824-bf19-4ddf-97d5-64358abd0066"
      },
      "id": "Hx7mgYEvz481",
      "execution_count": 34,
      "outputs": [
        {
          "output_type": "execute_result",
          "data": {
            "text/plain": [
              "0.951"
            ]
          },
          "metadata": {},
          "execution_count": 34
        }
      ]
    },
    {
      "cell_type": "code",
      "source": [
        "# Plot ROC Curve\n",
        "\n",
        "# Compute the False Positive Rate (FPR), True Positive Rate (TPR), and threshold values\n",
        "# The ROC curve helps evaluate the classification model's performance\n",
        "fpr, tpr, threshold = roc_curve(y_test, nb_classifier_default.predict_proba(X_test)[:, 1], pos_label='Yes')\n",
        "\n",
        "# Set the title of the plot\n",
        "plt.title('Receiver Operating Characteristic')\n",
        "\n",
        "# Plot the ROC curve using FPR and TPR\n",
        "# The blue line represents the ROC curve\n",
        "plt.plot(fpr, tpr, 'b', label='AUC =' + str(np.round(roc_auc_nb, 3)))\n",
        "\n",
        "# Add a legend at the lower right to display the AUC score\n",
        "plt.legend(loc='lower right')\n",
        "\n",
        "# Plot a diagonal dashed line (random classifier baseline)\n",
        "plt.plot([0, 1], [0, 1], 'k--')\n",
        "\n",
        "# Label the x-axis as 'False Positive Rate'\n",
        "plt.xlabel('False Positive Rate')\n",
        "\n",
        "# Label the y-axis as 'True Positive Rate'\n",
        "plt.ylabel('True Positive Rate')\n",
        "\n",
        "# Display the ROC curve plot\n",
        "plt.show()\n"
      ],
      "metadata": {
        "id": "nFUtpZkdyDT6",
        "colab": {
          "base_uri": "https://localhost:8080/",
          "height": 472
        },
        "outputId": "ba9ac5b2-cb6b-407e-8dce-1920c57fc9f2"
      },
      "id": "nFUtpZkdyDT6",
      "execution_count": 49,
      "outputs": [
        {
          "output_type": "display_data",
          "data": {
            "text/plain": [
              "<Figure size 640x480 with 1 Axes>"
            ],
            "image/png": "[encoded data removed]"
          },
          "metadata": {}
        }
      ]
    },
    {
      "cell_type": "markdown",
      "source": [
        "### **🤔 Why do we do this?**\n",
        "- The **ROC curve** visualizes the trade-off between true positives and false positives.\n",
        "- **AUC score** (Area Under the Curve) measures how well the model distinguishes between defaulters and non-defaulters.\n",
        "\n",
        "✅ **Real-Life Example:**\n",
        "Imagine a **fraud detection model** 💳 flagging fraudulent transactions.\n",
        "- **High AUC** means the model effectively separates **fraudulent vs. legitimate transactions**.\n",
        "- **Low AUC** means the model **struggles to differentiate fraud from normal spending**, leading to financial risks.\n",
        "\n",
        "---"
      ],
      "metadata": {
        "id": "CB_SLm8oOBDR"
      },
      "id": "CB_SLm8oOBDR"
    },
    {
      "cell_type": "markdown",
      "source": [
        "\n",
        "\n",
        "## **🔎 Conclusion & Next Steps**\n",
        "✔ **Naïve Bayes is computationally efficient** but **assumes feature independence**.\n",
        "✔ **AUC score and confusion matrix** are crucial for evaluating performance beyond just accuracy.\n",
        "✔ **Next Step:** Apply Naïve Bayes to a different dataset (Customer Churn Prediction). 🚀"
      ],
      "metadata": {
        "id": "YxuHyjVDOEKC"
      },
      "id": "YxuHyjVDOEKC"
    },
    {
      "cell_type": "markdown",
      "id": "97c8bbee",
      "metadata": {
        "id": "97c8bbee"
      },
      "source": [
        "# 📌 **Applying Naïve Bayes for Credit Default & Customer Churn Prediction**"
      ]
    },
    {
      "cell_type": "markdown",
      "source": [
        "## 📌 **Load and Explore the Customer Churn Dataset**"
      ],
      "metadata": {
        "id": "7awWTagQPAIi"
      },
      "id": "7awWTagQPAIi"
    },
    {
      "cell_type": "code",
      "source": [
        "# Load the customer churn dataset\n",
        "url = 'https://raw.githubusercontent.com/Requenamar3/Machine-Learning/refs/heads/main/bank_customer_churn.csv'\n",
        "churning_df = pd.read_csv(url)\n",
        "\n",
        "# Display basic dataset information\n",
        "churning_df.info()  # Check column names, data types, and missing values\n",
        "churning_df.head()  # Show first few rows"
      ],
      "metadata": {
        "colab": {
          "base_uri": "https://localhost:8080/",
          "height": 591
        },
        "id": "d72ej0GdKXMM",
        "outputId": "e610b7ff-3a2c-43c8-c1d9-c76618c2264e"
      },
      "id": "d72ej0GdKXMM",
      "execution_count": 59,
      "outputs": [
        {
          "output_type": "stream",
          "name": "stdout",
          "text": [
            "<class 'pandas.core.frame.DataFrame'>\n",
            "RangeIndex: 10000 entries, 0 to 9999\n",
            "Data columns (total 14 columns):\n",
            " #   Column           Non-Null Count  Dtype  \n",
            "---  ------           --------------  -----  \n",
            " 0   RowNumber        10000 non-null  int64  \n",
            " 1   CustomerId       10000 non-null  int64  \n",
            " 2   Surname          10000 non-null  object \n",
            " 3   CreditScore      10000 non-null  int64  \n",
            " 4   Geography        10000 non-null  object \n",
            " 5   Gender           10000 non-null  object \n",
            " 6   Age              10000 non-null  int64  \n",
            " 7   Tenure           10000 non-null  int64  \n",
            " 8   Balance          10000 non-null  float64\n",
            " 9   NumOfProducts    10000 non-null  int64  \n",
            " 10  HasCrCard        10000 non-null  int64  \n",
            " 11  IsActiveMember   10000 non-null  int64  \n",
            " 12  EstimatedSalary  10000 non-null  float64\n",
            " 13  Exited           10000 non-null  int64  \n",
            "dtypes: float64(2), int64(9), object(3)\n",
            "memory usage: 1.1+ MB\n"
          ]
        },
        {
          "output_type": "execute_result",
          "data": {
            "text/plain": [
              "   RowNumber  CustomerId   Surname  CreditScore Geography  Gender  Age  \\\n",
              "0          1    15634602  Hargrave          619    France  Female   42   \n",
              "1          2    15647311      Hill          608     Spain  Female   41   \n",
              "2          3    15619304      Onio          502    France  Female   42   \n",
              "3          4    15701354      Boni          699    France  Female   39   \n",
              "4          5    15737888  Mitchell          850     Spain  Female   43   \n",
              "\n",
              "   Tenure    Balance  NumOfProducts  HasCrCard  IsActiveMember  \\\n",
              "0       2       0.00              1          1               1   \n",
              "1       1   83807.86              1          0               1   \n",
              "2       8  159660.80              3          1               0   \n",
              "3       1       0.00              2          0               0   \n",
              "4       2  125510.82              1          1               1   \n",
              "\n",
              "   EstimatedSalary  Exited  \n",
              "0        101348.88       1  \n",
              "1        112542.58       0  \n",
              "2        113931.57       1  \n",
              "3         93826.63       0  \n",
              "4         79084.10       0  "
            ],
            "text/html": [
              "\n",
              "  <div id=\"df-d13461f8-2efe-4509-a328-3f23520af179\" class=\"colab-df-container\">\n",
              "    <div>\n",
              "<style scoped>\n",
              "    .dataframe tbody tr th:only-of-type {\n",
              "        vertical-align: middle;\n",
              "    }\n",
              "\n",
              "    .dataframe tbody tr th {\n",
              "        vertical-align: top;\n",
              "    }\n",
              "\n",
              "    .dataframe thead th {\n",
              "        text-align: right;\n",
              "    }\n",
              "</style>\n",
              "<table border=\"1\" class=\"dataframe\">\n",
              "  <thead>\n",
              "    <tr style=\"text-align: right;\">\n",
              "      <th></th>\n",
              "      <th>RowNumber</th>\n",
              "      <th>CustomerId</th>\n",
              "      <th>Surname</th>\n",
              "      <th>CreditScore</th>\n",
              "      <th>Geography</th>\n",
              "      <th>Gender</th>\n",
              "      <th>Age</th>\n",
              "      <th>Tenure</th>\n",
              "      <th>Balance</th>\n",
              "      <th>NumOfProducts</th>\n",
              "      <th>HasCrCard</th>\n",
              "      <th>IsActiveMember</th>\n",
              "      <th>EstimatedSalary</th>\n",
              "      <th>Exited</th>\n",
              "    </tr>\n",
              "  </thead>\n",
              "  <tbody>\n",
              "    <tr>\n",
              "      <th>0</th>\n",
              "      <td>1</td>\n",
              "      <td>15634602</td>\n",
              "      <td>Hargrave</td>\n",
              "      <td>619</td>\n",
              "      <td>France</td>\n",
              "      <td>Female</td>\n",
              "      <td>42</td>\n",
              "      <td>2</td>\n",
              "      <td>0.00</td>\n",
              "      <td>1</td>\n",
              "      <td>1</td>\n",
              "      <td>1</td>\n",
              "      <td>101348.88</td>\n",
              "      <td>1</td>\n",
              "    </tr>\n",
              "    <tr>\n",
              "      <th>1</th>\n",
              "      <td>2</td>\n",
              "      <td>15647311</td>\n",
              "      <td>Hill</td>\n",
              "      <td>608</td>\n",
              "      <td>Spain</td>\n",
              "      <td>Female</td>\n",
              "      <td>41</td>\n",
              "      <td>1</td>\n",
              "      <td>83807.86</td>\n",
              "      <td>1</td>\n",
              "      <td>0</td>\n",
              "      <td>1</td>\n",
              "      <td>112542.58</td>\n",
              "      <td>0</td>\n",
              "    </tr>\n",
              "    <tr>\n",
              "      <th>2</th>\n",
              "      <td>3</td>\n",
              "      <td>15619304</td>\n",
              "      <td>Onio</td>\n",
              "      <td>502</td>\n",
              "      <td>France</td>\n",
              "      <td>Female</td>\n",
              "      <td>42</td>\n",
              "      <td>8</td>\n",
              "      <td>159660.80</td>\n",
              "      <td>3</td>\n",
              "      <td>1</td>\n",
              "      <td>0</td>\n",
              "      <td>113931.57</td>\n",
              "      <td>1</td>\n",
              "    </tr>\n",
              "    <tr>\n",
              "      <th>3</th>\n",
              "      <td>4</td>\n",
              "      <td>15701354</td>\n",
              "      <td>Boni</td>\n",
              "      <td>699</td>\n",
              "      <td>France</td>\n",
              "      <td>Female</td>\n",
              "      <td>39</td>\n",
              "      <td>1</td>\n",
              "      <td>0.00</td>\n",
              "      <td>2</td>\n",
              "      <td>0</td>\n",
              "      <td>0</td>\n",
              "      <td>93826.63</td>\n",
              "      <td>0</td>\n",
              "    </tr>\n",
              "    <tr>\n",
              "      <th>4</th>\n",
              "      <td>5</td>\n",
              "      <td>15737888</td>\n",
              "      <td>Mitchell</td>\n",
              "      <td>850</td>\n",
              "      <td>Spain</td>\n",
              "      <td>Female</td>\n",
              "      <td>43</td>\n",
              "      <td>2</td>\n",
              "      <td>125510.82</td>\n",
              "      <td>1</td>\n",
              "      <td>1</td>\n",
              "      <td>1</td>\n",
              "      <td>79084.10</td>\n",
              "      <td>0</td>\n",
              "    </tr>\n",
              "  </tbody>\n",
              "</table>\n",
              "</div>\n",
              "    <div class=\"colab-df-buttons\">\n",
              "\n",
              "  <div class=\"colab-df-container\">\n",
              "    <button class=\"colab-df-convert\" onclick=\"convertToInteractive('df-d13461f8-2efe-4509-a328-3f23520af179')\"\n",
              "            title=\"Convert this dataframe to an interactive table.\"\n",
              "            style=\"display:none;\">\n",
              "\n",
              "  <svg xmlns=\"http://www.w3.org/2000/svg\" height=\"24px\" viewBox=\"0 -960 960 960\">\n",
              "    <path d=\"M120-120v-720h720v720H120Zm60-500h600v-160H180v160Zm220 220h160v-160H400v160Zm0 220h160v-160H400v160ZM180-400h160v-160H180v160Zm440 0h160v-160H620v160ZM180-180h160v-160H180v160Zm440 0h160v-160H620v160Z\"/>\n",
              "  </svg>\n",
              "    </button>\n",
              "\n",
              "  <style>\n",
              "    .colab-df-container {\n",
              "      display:flex;\n",
              "      gap: 12px;\n",
              "    }\n",
              "\n",
              "    .colab-df-convert {\n",
              "      background-color: #E8F0FE;\n",
              "      border: none;\n",
              "      border-radius: 50%;\n",
              "      cursor: pointer;\n",
              "      display: none;\n",
              "      fill: #1967D2;\n",
              "      height: 32px;\n",
              "      padding: 0 0 0 0;\n",
              "      width: 32px;\n",
              "    }\n",
              "\n",
              "    .colab-df-convert:hover {\n",
              "      background-color: #E2EBFA;\n",
              "      box-shadow: 0px 1px 2px rgba(60, 64, 67, 0.3), 0px 1px 3px 1px rgba(60, 64, 67, 0.15);\n",
              "      fill: #174EA6;\n",
              "    }\n",
              "\n",
              "    .colab-df-buttons div {\n",
              "      margin-bottom: 4px;\n",
              "    }\n",
              "\n",
              "    [theme=dark] .colab-df-convert {\n",
              "      background-color: #3B4455;\n",
              "      fill: #D2E3FC;\n",
              "    }\n",
              "\n",
              "    [theme=dark] .colab-df-convert:hover {\n",
              "      background-color: #434B5C;\n",
              "      box-shadow: 0px 1px 3px 1px rgba(0, 0, 0, 0.15);\n",
              "      filter: drop-shadow(0px 1px 2px rgba(0, 0, 0, 0.3));\n",
              "      fill: #FFFFFF;\n",
              "    }\n",
              "  </style>\n",
              "\n",
              "    <script>\n",
              "      const buttonEl =\n",
              "        document.querySelector('#df-d13461f8-2efe-4509-a328-3f23520af179 button.colab-df-convert');\n",
              "      buttonEl.style.display =\n",
              "        google.colab.kernel.accessAllowed ? 'block' : 'none';\n",
              "\n",
              "      async function convertToInteractive(key) {\n",
              "        const element = document.querySelector('#df-d13461f8-2efe-4509-a328-3f23520af179');\n",
              "        const dataTable =\n",
              "          await google.colab.kernel.invokeFunction('convertToInteractive',\n",
              "                                                    [key], {});\n",
              "        if (!dataTable) return;\n",
              "\n",
              "        const docLinkHtml = 'Like what you see? Visit the ' +\n",
              "          '<a target=\"_blank\" href=https://colab.research.google.com/notebooks/data_table.ipynb>data table notebook</a>'\n",
              "          + ' to learn more about interactive tables.';\n",
              "        element.innerHTML = '';\n",
              "        dataTable['output_type'] = 'display_data';\n",
              "        await google.colab.output.renderOutput(dataTable, element);\n",
              "        const docLink = document.createElement('div');\n",
              "        docLink.innerHTML = docLinkHtml;\n",
              "        element.appendChild(docLink);\n",
              "      }\n",
              "    </script>\n",
              "  </div>\n",
              "\n",
              "\n",
              "<div id=\"df-4a8921ac-3d86-43ee-a1f2-d002c9fb2f2a\">\n",
              "  <button class=\"colab-df-quickchart\" onclick=\"quickchart('df-4a8921ac-3d86-43ee-a1f2-d002c9fb2f2a')\"\n",
              "            title=\"Suggest charts\"\n",
              "            style=\"display:none;\">\n",
              "\n",
              "<svg xmlns=\"http://www.w3.org/2000/svg\" height=\"24px\"viewBox=\"0 0 24 24\"\n",
              "     width=\"24px\">\n",
              "    <g>\n",
              "        <path d=\"M19 3H5c-1.1 0-2 .9-2 2v14c0 1.1.9 2 2 2h14c1.1 0 2-.9 2-2V5c0-1.1-.9-2-2-2zM9 17H7v-7h2v7zm4 0h-2V7h2v10zm4 0h-2v-4h2v4z\"/>\n",
              "    </g>\n",
              "</svg>\n",
              "  </button>\n",
              "\n",
              "<style>\n",
              "  .colab-df-quickchart {\n",
              "      --bg-color: #E8F0FE;\n",
              "      --fill-color: #1967D2;\n",
              "      --hover-bg-color: #E2EBFA;\n",
              "      --hover-fill-color: #174EA6;\n",
              "      --disabled-fill-color: #AAA;\n",
              "      --disabled-bg-color: #DDD;\n",
              "  }\n",
              "\n",
              "  [theme=dark] .colab-df-quickchart {\n",
              "      --bg-color: #3B4455;\n",
              "      --fill-color: #D2E3FC;\n",
              "      --hover-bg-color: #434B5C;\n",
              "      --hover-fill-color: #FFFFFF;\n",
              "      --disabled-bg-color: #3B4455;\n",
              "      --disabled-fill-color: #666;\n",
              "  }\n",
              "\n",
              "  .colab-df-quickchart {\n",
              "    background-color: var(--bg-color);\n",
              "    border: none;\n",
              "    border-radius: 50%;\n",
              "    cursor: pointer;\n",
              "    display: none;\n",
              "    fill: var(--fill-color);\n",
              "    height: 32px;\n",
              "    padding: 0;\n",
              "    width: 32px;\n",
              "  }\n",
              "\n",
              "  .colab-df-quickchart:hover {\n",
              "    background-color: var(--hover-bg-color);\n",
              "    box-shadow: 0 1px 2px rgba(60, 64, 67, 0.3), 0 1px 3px 1px rgba(60, 64, 67, 0.15);\n",
              "    fill: var(--button-hover-fill-color);\n",
              "  }\n",
              "\n",
              "  .colab-df-quickchart-complete:disabled,\n",
              "  .colab-df-quickchart-complete:disabled:hover {\n",
              "    background-color: var(--disabled-bg-color);\n",
              "    fill: var(--disabled-fill-color);\n",
              "    box-shadow: none;\n",
              "  }\n",
              "\n",
              "  .colab-df-spinner {\n",
              "    border: 2px solid var(--fill-color);\n",
              "    border-color: transparent;\n",
              "    border-bottom-color: var(--fill-color);\n",
              "    animation:\n",
              "      spin 1s steps(1) infinite;\n",
              "  }\n",
              "\n",
              "  @keyframes spin {\n",
              "    0% {\n",
              "      border-color: transparent;\n",
              "      border-bottom-color: var(--fill-color);\n",
              "      border-left-color: var(--fill-color);\n",
              "    }\n",
              "    20% {\n",
              "      border-color: transparent;\n",
              "      border-left-color: var(--fill-color);\n",
              "      border-top-color: var(--fill-color);\n",
              "    }\n",
              "    30% {\n",
              "      border-color: transparent;\n",
              "      border-left-color: var(--fill-color);\n",
              "      border-top-color: var(--fill-color);\n",
              "      border-right-color: var(--fill-color);\n",
              "    }\n",
              "    40% {\n",
              "      border-color: transparent;\n",
              "      border-right-color: var(--fill-color);\n",
              "      border-top-color: var(--fill-color);\n",
              "    }\n",
              "    60% {\n",
              "      border-color: transparent;\n",
              "      border-right-color: var(--fill-color);\n",
              "    }\n",
              "    80% {\n",
              "      border-color: transparent;\n",
              "      border-right-color: var(--fill-color);\n",
              "      border-bottom-color: var(--fill-color);\n",
              "    }\n",
              "    90% {\n",
              "      border-color: transparent;\n",
              "      border-bottom-color: var(--fill-color);\n",
              "    }\n",
              "  }\n",
              "</style>\n",
              "\n",
              "  <script>\n",
              "    async function quickchart(key) {\n",
              "      const quickchartButtonEl =\n",
              "        document.querySelector('#' + key + ' button');\n",
              "      quickchartButtonEl.disabled = true;  // To prevent multiple clicks.\n",
              "      quickchartButtonEl.classList.add('colab-df-spinner');\n",
              "      try {\n",
              "        const charts = await google.colab.kernel.invokeFunction(\n",
              "            'suggestCharts', [key], {});\n",
              "      } catch (error) {\n",
              "        console.error('Error during call to suggestCharts:', error);\n",
              "      }\n",
              "      quickchartButtonEl.classList.remove('colab-df-spinner');\n",
              "      quickchartButtonEl.classList.add('colab-df-quickchart-complete');\n",
              "    }\n",
              "    (() => {\n",
              "      let quickchartButtonEl =\n",
              "        document.querySelector('#df-4a8921ac-3d86-43ee-a1f2-d002c9fb2f2a button');\n",
              "      quickchartButtonEl.style.display =\n",
              "        google.colab.kernel.accessAllowed ? 'block' : 'none';\n",
              "    })();\n",
              "  </script>\n",
              "</div>\n",
              "\n",
              "    </div>\n",
              "  </div>\n"
            ],
            "application/vnd.google.colaboratory.intrinsic+json": {
              "type": "dataframe",
              "variable_name": "churning_df",
              "summary": "{\n  \"name\": \"churning_df\",\n  \"rows\": 10000,\n  \"fields\": [\n    {\n      \"column\": \"RowNumber\",\n      \"properties\": {\n        \"dtype\": \"number\",\n        \"std\": 2886,\n        \"min\": 1,\n        \"max\": 10000,\n        \"num_unique_values\": 10000,\n        \"samples\": [\n          6253,\n          4685,\n          1732\n        ],\n        \"semantic_type\": \"\",\n        \"description\": \"\"\n      }\n    },\n    {\n      \"column\": \"CustomerId\",\n      \"properties\": {\n        \"dtype\": \"number\",\n        \"std\": 71936,\n        \"min\": 15565701,\n        \"max\": 15815690,\n        \"num_unique_values\": 10000,\n        \"samples\": [\n          15687492,\n          15736963,\n          15721730\n        ],\n        \"semantic_type\": \"\",\n        \"description\": \"\"\n      }\n    },\n    {\n      \"column\": \"Surname\",\n      \"properties\": {\n        \"dtype\": \"category\",\n        \"num_unique_values\": 2932,\n        \"samples\": [\n          \"McGuirk\",\n          \"Torkelson\",\n          \"Rapuluchukwu\"\n        ],\n        \"semantic_type\": \"\",\n        \"description\": \"\"\n      }\n    },\n    {\n      \"column\": \"CreditScore\",\n      \"properties\": {\n        \"dtype\": \"number\",\n        \"std\": 96,\n        \"min\": 350,\n        \"max\": 850,\n        \"num_unique_values\": 460,\n        \"samples\": [\n          754,\n          533,\n          744\n        ],\n        \"semantic_type\": \"\",\n        \"description\": \"\"\n      }\n    },\n    {\n      \"column\": \"Geography\",\n      \"properties\": {\n        \"dtype\": \"category\",\n        \"num_unique_values\": 3,\n        \"samples\": [\n          \"France\",\n          \"Spain\",\n          \"Germany\"\n        ],\n        \"semantic_type\": \"\",\n        \"description\": \"\"\n      }\n    },\n    {\n      \"column\": \"Gender\",\n      \"properties\": {\n        \"dtype\": \"category\",\n        \"num_unique_values\": 2,\n        \"samples\": [\n          \"Male\",\n          \"Female\"\n        ],\n        \"semantic_type\": \"\",\n        \"description\": \"\"\n      }\n    },\n    {\n      \"column\": \"Age\",\n      \"properties\": {\n        \"dtype\": \"number\",\n        \"std\": 10,\n        \"min\": 18,\n        \"max\": 92,\n        \"num_unique_values\": 70,\n        \"samples\": [\n          61,\n          42\n        ],\n        \"semantic_type\": \"\",\n        \"description\": \"\"\n      }\n    },\n    {\n      \"column\": \"Tenure\",\n      \"properties\": {\n        \"dtype\": \"number\",\n        \"std\": 2,\n        \"min\": 0,\n        \"max\": 10,\n        \"num_unique_values\": 11,\n        \"samples\": [\n          6,\n          2\n        ],\n        \"semantic_type\": \"\",\n        \"description\": \"\"\n      }\n    },\n    {\n      \"column\": \"Balance\",\n      \"properties\": {\n        \"dtype\": \"number\",\n        \"std\": 62397.40520238623,\n        \"min\": 0.0,\n        \"max\": 250898.09,\n        \"num_unique_values\": 6382,\n        \"samples\": [\n          117707.18,\n          133050.97\n        ],\n        \"semantic_type\": \"\",\n        \"description\": \"\"\n      }\n    },\n    {\n      \"column\": \"NumOfProducts\",\n      \"properties\": {\n        \"dtype\": \"number\",\n        \"std\": 0,\n        \"min\": 1,\n        \"max\": 4,\n        \"num_unique_values\": 4,\n        \"samples\": [\n          3,\n          4\n        ],\n        \"semantic_type\": \"\",\n        \"description\": \"\"\n      }\n    },\n    {\n      \"column\": \"HasCrCard\",\n      \"properties\": {\n        \"dtype\": \"number\",\n        \"std\": 0,\n        \"min\": 0,\n        \"max\": 1,\n        \"num_unique_values\": 2,\n        \"samples\": [\n          0,\n          1\n        ],\n        \"semantic_type\": \"\",\n        \"description\": \"\"\n      }\n    },\n    {\n      \"column\": \"IsActiveMember\",\n      \"properties\": {\n        \"dtype\": \"number\",\n        \"std\": 0,\n        \"min\": 0,\n        \"max\": 1,\n        \"num_unique_values\": 2,\n        \"samples\": [\n          0,\n          1\n        ],\n        \"semantic_type\": \"\",\n        \"description\": \"\"\n      }\n    },\n    {\n      \"column\": \"EstimatedSalary\",\n      \"properties\": {\n        \"dtype\": \"number\",\n        \"std\": 57510.49281769822,\n        \"min\": 11.58,\n        \"max\": 199992.48,\n        \"num_unique_values\": 9999,\n        \"samples\": [\n          100809.99,\n          95273.73\n        ],\n        \"semantic_type\": \"\",\n        \"description\": \"\"\n      }\n    },\n    {\n      \"column\": \"Exited\",\n      \"properties\": {\n        \"dtype\": \"number\",\n        \"std\": 0,\n        \"min\": 0,\n        \"max\": 1,\n        \"num_unique_values\": 2,\n        \"samples\": [\n          0,\n          1\n        ],\n        \"semantic_type\": \"\",\n        \"description\": \"\"\n      }\n    }\n  ]\n}"
            }
          },
          "metadata": {},
          "execution_count": 59
        }
      ]
    },
    {
      "cell_type": "markdown",
      "source": [
        "### **🤔 Why do we do this?**\n",
        "- **`info()`** helps us check for **missing values and data types**.\n",
        "- **`head()`** gives a quick preview of the dataset’s structure.\n",
        "- Understanding the data **prevents errors** before training the model.\n",
        "\n",
        "✅ **Real-Life Example:**\n",
        "Imagine a **telecom company** 📞 analyzing customer data.\n",
        "- Before predicting **who will cancel their subscription**, they must check if **all customer details are complete**.\n",
        "- Missing data in **monthly charges or contract type** can lead to **incorrect predictions**.\n",
        "\n",
        "---"
      ],
      "metadata": {
        "id": "6vntCesePLMs"
      },
      "id": "6vntCesePLMs"
    },
    {
      "cell_type": "markdown",
      "source": [
        "## 📌 **Remove Unnecessary Columns**"
      ],
      "metadata": {
        "id": "SKNwj_9BPPHt"
      },
      "id": "SKNwj_9BPPHt"
    },
    {
      "cell_type": "code",
      "source": [
        "# Remove columns that don't contribute to model predictions\n",
        "churning_df.drop([\"RowNumber\", \"CustomerId\", \"Surname\"], axis=1, inplace=True)\n",
        "\n",
        "# Display dataset structure after column removal\n",
        "churning_df.info()"
      ],
      "metadata": {
        "id": "8abkL8ISlZCE"
      },
      "id": "8abkL8ISlZCE",
      "execution_count": 53,
      "outputs": []
    },
    {
      "cell_type": "markdown",
      "source": [
        "### **🤔 Why do we do this?**\n",
        "- **Customer ID and Surname** are **unique identifiers**, not predictive features.\n",
        "- Removing irrelevant data **improves model efficiency and prevents noise**.\n",
        "\n",
        "✅ **Real-Life Example:**\n",
        "Imagine a **car rental company** 🚗 predicting accident risks.\n",
        "- The **customer’s ID number** has no impact on accident probability.\n",
        "- However, **driving experience, vehicle type, and past accidents matter**.\n",
        "\n",
        "---"
      ],
      "metadata": {
        "id": "9F9en4l5PfP3"
      },
      "id": "9F9en4l5PfP3"
    },
    {
      "cell_type": "markdown",
      "source": [
        "## 📌 **Analyze Class Distribution**"
      ],
      "metadata": {
        "id": "Qiz9QxhqPieX"
      },
      "id": "Qiz9QxhqPieX"
    },
    {
      "cell_type": "code",
      "source": [
        "# Check the proportion of customers who left (Exited = 1) vs. stayed (Exited = 0)\n",
        "churning_df['Exited'].value_counts(normalize=True)"
      ],
      "metadata": {
        "id": "9BtjxMR7lejl",
        "colab": {
          "base_uri": "https://localhost:8080/",
          "height": 178
        },
        "outputId": "997d775d-b3c3-48fe-9c66-6badad144111"
      },
      "id": "9BtjxMR7lejl",
      "execution_count": 55,
      "outputs": [
        {
          "output_type": "execute_result",
          "data": {
            "text/plain": [
              "Exited\n",
              "0    0.7963\n",
              "1    0.2037\n",
              "Name: proportion, dtype: float64"
            ],
            "text/html": [
              "<div>\n",
              "<style scoped>\n",
              "    .dataframe tbody tr th:only-of-type {\n",
              "        vertical-align: middle;\n",
              "    }\n",
              "\n",
              "    .dataframe tbody tr th {\n",
              "        vertical-align: top;\n",
              "    }\n",
              "\n",
              "    .dataframe thead th {\n",
              "        text-align: right;\n",
              "    }\n",
              "</style>\n",
              "<table border=\"1\" class=\"dataframe\">\n",
              "  <thead>\n",
              "    <tr style=\"text-align: right;\">\n",
              "      <th></th>\n",
              "      <th>proportion</th>\n",
              "    </tr>\n",
              "    <tr>\n",
              "      <th>Exited</th>\n",
              "      <th></th>\n",
              "    </tr>\n",
              "  </thead>\n",
              "  <tbody>\n",
              "    <tr>\n",
              "      <th>0</th>\n",
              "      <td>0.7963</td>\n",
              "    </tr>\n",
              "    <tr>\n",
              "      <th>1</th>\n",
              "      <td>0.2037</td>\n",
              "    </tr>\n",
              "  </tbody>\n",
              "</table>\n",
              "</div><br><label><b>dtype:</b> float64</label>"
            ]
          },
          "metadata": {},
          "execution_count": 55
        }
      ]
    },
    {
      "cell_type": "markdown",
      "source": [
        "### **🤔 Why do we do this?**\n",
        "- Helps detect **imbalanced data**, where one class is significantly larger.\n",
        "- **If too many customers didn’t churn**, the model might **favor predicting 'No Churn'**.\n",
        "\n",
        "✅ **Real-Life Example:**\n",
        "Imagine an **online streaming service** 🎬 predicting subscription cancellations.\n",
        "- If **95% of users renew**, the model might just **predict 'renew' for everyone**.\n",
        "- This would give **high accuracy but zero value** in spotting real cancellations.\n",
        "\n",
        "---"
      ],
      "metadata": {
        "id": "Wfq-SxULPssw"
      },
      "id": "Wfq-SxULPssw"
    },
    {
      "cell_type": "markdown",
      "source": [
        "## 📌 **Convert Categorical Variables**"
      ],
      "metadata": {
        "id": "1UYMYYQWPvMU"
      },
      "id": "1UYMYYQWPvMU"
    },
    {
      "cell_type": "markdown",
      "source": [
        "There are four categorical predictors: Geography, Gender, HasCrCard, and IsActiveMember.\n",
        "\n",
        "However, only two are coded as categorical: Geography and Gender.\n",
        "\n",
        "HasCrCard and IsActiveMember are already coded as binary variables.\n",
        "\n",
        "We only need to create the dummies for Geography and Gender."
      ],
      "metadata": {
        "id": "dKPcRmMOlm4G"
      },
      "id": "dKPcRmMOlm4G"
    },
    {
      "cell_type": "code",
      "source": [
        "# Convert categorical features 'Geography' and 'Gender' into numeric values\n",
        "churning_df_dummies = pd.get_dummies(churning_df, columns=['Geography', 'Gender'], drop_first=True)\n",
        "\n",
        "# Display updated dataset structure\n",
        "churning_df_dummies.info()"
      ],
      "metadata": {
        "id": "V1vLjSeQln3F",
        "colab": {
          "base_uri": "https://localhost:8080/"
        },
        "outputId": "ca8f3ac7-996b-4c79-8da1-d3be8856e2c9"
      },
      "id": "V1vLjSeQln3F",
      "execution_count": 60,
      "outputs": [
        {
          "output_type": "stream",
          "name": "stdout",
          "text": [
            "<class 'pandas.core.frame.DataFrame'>\n",
            "RangeIndex: 10000 entries, 0 to 9999\n",
            "Data columns (total 15 columns):\n",
            " #   Column             Non-Null Count  Dtype  \n",
            "---  ------             --------------  -----  \n",
            " 0   RowNumber          10000 non-null  int64  \n",
            " 1   CustomerId         10000 non-null  int64  \n",
            " 2   Surname            10000 non-null  object \n",
            " 3   CreditScore        10000 non-null  int64  \n",
            " 4   Age                10000 non-null  int64  \n",
            " 5   Tenure             10000 non-null  int64  \n",
            " 6   Balance            10000 non-null  float64\n",
            " 7   NumOfProducts      10000 non-null  int64  \n",
            " 8   HasCrCard          10000 non-null  int64  \n",
            " 9   IsActiveMember     10000 non-null  int64  \n",
            " 10  EstimatedSalary    10000 non-null  float64\n",
            " 11  Exited             10000 non-null  int64  \n",
            " 12  Geography_Germany  10000 non-null  bool   \n",
            " 13  Geography_Spain    10000 non-null  bool   \n",
            " 14  Gender_Male        10000 non-null  bool   \n",
            "dtypes: bool(3), float64(2), int64(9), object(1)\n",
            "memory usage: 966.9+ KB\n"
          ]
        }
      ]
    },
    {
      "cell_type": "markdown",
      "source": [
        "### **🤔 Why do we do this?**\n",
        "- Machine learning models **only process numerical data**.\n",
        "- **One-hot encoding** converts categories into **binary variables (0s and 1s)**.\n",
        "- **`drop_first=True`** avoids redundancy by dropping the first category.\n",
        "\n",
        "✅ **Real-Life Example:**\n",
        "Imagine a **hotel booking system** 🏨 predicting cancellations.\n",
        "- A customer’s country might affect **booking behavior**.\n",
        "- Instead of using \"USA, UK, France\" as text, we create **binary indicators** for each.\n",
        "\n",
        "---"
      ],
      "metadata": {
        "id": "ZL4lEDtOP6mo"
      },
      "id": "ZL4lEDtOP6mo"
    },
    {
      "cell_type": "code",
      "source": [
        "# Count the number of occurrences for each country in 'Geography'\n",
        "churning_df['Geography'].value_counts()"
      ],
      "metadata": {
        "id": "dWBmeTtil4we",
        "colab": {
          "base_uri": "https://localhost:8080/",
          "height": 210
        },
        "outputId": "21b47e95-87ed-47fb-c69e-f7c74d53998e"
      },
      "id": "dWBmeTtil4we",
      "execution_count": 58,
      "outputs": [
        {
          "output_type": "execute_result",
          "data": {
            "text/plain": [
              "Geography\n",
              "France     5014\n",
              "Germany    2509\n",
              "Spain      2477\n",
              "Name: count, dtype: int64"
            ],
            "text/html": [
              "<div>\n",
              "<style scoped>\n",
              "    .dataframe tbody tr th:only-of-type {\n",
              "        vertical-align: middle;\n",
              "    }\n",
              "\n",
              "    .dataframe tbody tr th {\n",
              "        vertical-align: top;\n",
              "    }\n",
              "\n",
              "    .dataframe thead th {\n",
              "        text-align: right;\n",
              "    }\n",
              "</style>\n",
              "<table border=\"1\" class=\"dataframe\">\n",
              "  <thead>\n",
              "    <tr style=\"text-align: right;\">\n",
              "      <th></th>\n",
              "      <th>count</th>\n",
              "    </tr>\n",
              "    <tr>\n",
              "      <th>Geography</th>\n",
              "      <th></th>\n",
              "    </tr>\n",
              "  </thead>\n",
              "  <tbody>\n",
              "    <tr>\n",
              "      <th>France</th>\n",
              "      <td>5014</td>\n",
              "    </tr>\n",
              "    <tr>\n",
              "      <th>Germany</th>\n",
              "      <td>2509</td>\n",
              "    </tr>\n",
              "    <tr>\n",
              "      <th>Spain</th>\n",
              "      <td>2477</td>\n",
              "    </tr>\n",
              "  </tbody>\n",
              "</table>\n",
              "</div><br><label><b>dtype:</b> int64</label>"
            ]
          },
          "metadata": {},
          "execution_count": 58
        }
      ]
    },
    {
      "cell_type": "markdown",
      "source": [
        "### **🤔 Why do we do this?**\n",
        "- Helps verify if certain categories are **overrepresented**.\n",
        "- **A dominant category might bias the model**, making it assume all customers behave the same.\n",
        "\n",
        "✅ **Real-Life Example:**\n",
        "Imagine a **car insurance company** 🚘 predicting accident risks.\n",
        "- If **80% of customers are from one city**, the model might wrongly assume **location doesn’t matter**.\n",
        "- This could lead to **incorrect risk assessments for other cities**.\n",
        "\n",
        "---"
      ],
      "metadata": {
        "id": "WlqId1qlQFE2"
      },
      "id": "WlqId1qlQFE2"
    },
    {
      "cell_type": "markdown",
      "source": [
        "\n",
        "## **🔎 Next Steps**\n",
        "✔ **Data is now preprocessed** and ready for training.\n",
        "✔ **Next Step:** Apply **Naïve Bayes on customer churn data** to predict who will leave. 🚀"
      ],
      "metadata": {
        "id": "W2kRCzr7QKWO"
      },
      "id": "W2kRCzr7QKWO"
    },
    {
      "cell_type": "markdown",
      "source": [
        "CONTINUE FROM HERE AND ON !\n",
        "\n",
        "DO NOT RUN THE PERMUTATION IMPORTANCE!"
      ],
      "metadata": {
        "id": "0ZwCR-15mq-K"
      },
      "id": "0ZwCR-15mq-K"
    },
    {
      "cell_type": "code",
      "source": [],
      "metadata": {
        "id": "6ZX-hMtQCbCp"
      },
      "id": "6ZX-hMtQCbCp",
      "execution_count": 58,
      "outputs": []
    },
    {
      "cell_type": "code",
      "source": [],
      "metadata": {
        "id": "2DOqI0jaCbAD"
      },
      "id": "2DOqI0jaCbAD",
      "execution_count": 58,
      "outputs": []
    },
    {
      "cell_type": "code",
      "source": [],
      "metadata": {
        "id": "k3Lvyxw1Ca9z"
      },
      "id": "k3Lvyxw1Ca9z",
      "execution_count": 58,
      "outputs": []
    }
  ],
  "metadata": {
    "kernelspec": {
      "display_name": "Python 3 (ipykernel)",
      "language": "python",
      "name": "python3"
    },
    "language_info": {
      "codemirror_mode": {
        "name": "ipython",
        "version": 3
      },
      "file_extension": ".py",
      "mimetype": "text/x-python",
      "name": "python",
      "nbconvert_exporter": "python",
      "pygments_lexer": "ipython3",
      "version": "3.9.13"
    },
    "colab": {
      "provenance": [],
      "include_colab_link": true
    }
  },
  "nbformat": 4,
  "nbformat_minor": 5
}