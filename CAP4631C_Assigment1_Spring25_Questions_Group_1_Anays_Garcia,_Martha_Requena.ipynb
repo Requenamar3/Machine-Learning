{
  "cells": [
    {
      "cell_type": "markdown",
      "metadata": {
        "id": "view-in-github",
        "colab_type": "text"
      },
      "source": [
        "<a href=\"https://colab.research.google.com/github/Requenamar3/Machine-Learning/blob/main/CAP4631C_Assigment1_Spring25_Questions_Group_1_Anays_Garcia%2C_Martha_Requena.ipynb\" target=\"_parent\"><img src=\"https://colab.research.google.com/assets/colab-badge.svg\" alt=\"Open In Colab\"/></a>"
      ]
    },
    {
      "cell_type": "markdown",
      "source": [],
      "metadata": {
        "id": "SPOp1s85CYzt"
      },
      "id": "SPOp1s85CYzt"
    },
    {
      "cell_type": "markdown",
      "id": "a1624fd8",
      "metadata": {
        "id": "a1624fd8"
      },
      "source": [
        "## Assignment 1. CAP 4631C. Spring 2025\n",
        "\n",
        "### Instructions:\n",
        "\n",
        "Download the file \"radiation_clean.csv\" from Canvas (especifically from the Assignment 1 section). Open a python notebook in Colab and read this file as a data frame in this notebook (as we have done in class with other csv files). Call this data frame __df_assig1__\n",
        "\n",
        "The radiation_clean dataset is part of EPA's RadNet Database. It contains the near-real-time environmental radiation data from fixed and deployable air monitors in different locations in the US. It contains data about the level of several radioactive substances in different locations."
      ]
    },
    {
      "cell_type": "code",
      "source": [
        "import numpy as np\n",
        "import pandas as pd"
      ],
      "metadata": {
        "id": "K-mhN6VayHxW"
      },
      "id": "K-mhN6VayHxW",
      "execution_count": 45,
      "outputs": []
    },
    {
      "cell_type": "code",
      "source": [
        "from google.colab import drive\n",
        "drive.mount('/content/drive')"
      ],
      "metadata": {
        "colab": {
          "base_uri": "https://localhost:8080/"
        },
        "id": "TIFhAQIryLO7",
        "outputId": "2b0e9859-01d5-4d20-dd46-a690148e9c95"
      },
      "id": "TIFhAQIryLO7",
      "execution_count": 46,
      "outputs": [
        {
          "output_type": "stream",
          "name": "stdout",
          "text": [
            "Drive already mounted at /content/drive; to attempt to forcibly remount, call drive.mount(\"/content/drive\", force_remount=True).\n"
          ]
        }
      ]
    },
    {
      "cell_type": "code",
      "source": [
        "df_assig1= \"/content/drive/MyDrive/Colab Notebooks/Machine learning/Data set/radiation_clean.csv\""
      ],
      "metadata": {
        "id": "tspbJ6Qu1IWJ"
      },
      "id": "tspbJ6Qu1IWJ",
      "execution_count": 47,
      "outputs": []
    },
    {
      "cell_type": "code",
      "source": [
        "df_assig1 = pd.read_csv(df_assig1)"
      ],
      "metadata": {
        "id": "27MQhDc915F-"
      },
      "id": "27MQhDc915F-",
      "execution_count": 48,
      "outputs": []
    },
    {
      "cell_type": "markdown",
      "id": "43cc3cfe",
      "metadata": {
        "id": "43cc3cfe"
      },
      "source": [
        "__AFTER__ you read the csv file as a data frame, take a look at __df_assig1__ by running the following code cell:"
      ]
    },
    {
      "cell_type": "code",
      "execution_count": 49,
      "id": "bd73aae9",
      "metadata": {
        "scrolled": true,
        "id": "bd73aae9",
        "colab": {
          "base_uri": "https://localhost:8080/"
        },
        "outputId": "f6d4f9e6-dfef-48a7-97ad-20e644c4fb26"
      },
      "outputs": [
        {
          "output_type": "stream",
          "name": "stdout",
          "text": [
            "<class 'pandas.core.frame.DataFrame'>\n",
            "RangeIndex: 606 entries, 0 to 605\n",
            "Data columns (total 18 columns):\n",
            " #   Column          Non-Null Count  Dtype  \n",
            "---  ------          --------------  -----  \n",
            " 0   State           606 non-null    object \n",
            " 1   Location        606 non-null    object \n",
            " 2   Date Posted     606 non-null    object \n",
            " 3   Date Collected  606 non-null    object \n",
            " 4   Sample Type     606 non-null    object \n",
            " 5   Unit            606 non-null    object \n",
            " 6   Ba-140          605 non-null    float64\n",
            " 7   Co-60           605 non-null    float64\n",
            " 8   Cs-134          606 non-null    int64  \n",
            " 9   Cs-136          506 non-null    float64\n",
            " 10  Cs-137          606 non-null    int64  \n",
            " 11  I-131           606 non-null    int64  \n",
            " 12  I-132           606 non-null    int64  \n",
            " 13  I-133           605 non-null    float64\n",
            " 14  Te-129          506 non-null    float64\n",
            " 15  Te-129m         506 non-null    float64\n",
            " 16  Te-132          606 non-null    int64  \n",
            " 17  Ba-140.1        0 non-null      float64\n",
            "dtypes: float64(7), int64(5), object(6)\n",
            "memory usage: 85.3+ KB\n"
          ]
        }
      ],
      "source": [
        "df_assig1.info()"
      ]
    },
    {
      "cell_type": "markdown",
      "id": "71b93188",
      "metadata": {
        "id": "71b93188"
      },
      "source": [
        "__Question 1__ (8 points): Create a Numpy array called _i131_data_ with the data from the column _I-131_ in __df_assig1__.\n",
        "\n",
        "Note: I-131 (i.e., Iodine-131) is one of many radiactive substances.\n",
        "\n",
        "Hint: Use the same method we used in class to read the PRCP column from the rain dataset into a NumPy array."
      ]
    },
    {
      "cell_type": "code",
      "execution_count": 50,
      "id": "8200ebd7",
      "metadata": {
        "id": "8200ebd7",
        "colab": {
          "base_uri": "https://localhost:8080/"
        },
        "outputId": "7842e1d6-4e90-43f0-d606-e65d86ea6ac5"
      },
      "outputs": [
        {
          "output_type": "stream",
          "name": "stdout",
          "text": [
            "[  0   0   0   0   0   0   0   0   0   0   1   1   0   1   2   0   0   1\n",
            "   0   1   1   1   0   0   0   0   0   0   0   0   0   0   0   0   0   0\n",
            "   0   0   1   1   0   0   1   1   0   0   0   0   0   0   0   0   0   2\n",
            "   3   1   1   0   0   0   0   0   0   0   0   0   0   0   0   0   1   0\n",
            "   1   0   0   0   0   0   0   0   0   0   0   0   0   0   0   0   0   0\n",
            "   0   0   0   0   0   0   0   0   0   0   0   0   0   1   0   0   0   1\n",
            "   0   0   0   0   0   0   0   0   0   0   1   1   0   1   1   0   0   0\n",
            "   0   0   0   0   0   0   0   0   0   1   0   0   0   0   0   0   0   0\n",
            "   0   0   0   0   1   0   1   0   0   1   0   0   0   0   0   0   0   0\n",
            "   0   1   1   0   0   0   0   0   0   0   0   0   0   0   1   1   0   1\n",
            "   0   0   0   0   0   0   0   0   0   0   0   0   0   0   1   0   0   0\n",
            "   0   0   0   0   0   0   0   0   0   0   0   0   0   0   0   0   0   0\n",
            "   0   0   0   0   0   0   0   0   0   0   0   0   0   0   0   0   0   0\n",
            "   0   0   0   0   0   0   0   0   0   0   0   0   0   0   0   0   2   0\n",
            "   0   0   0   0   0   0   0   0   0   0   0   0   0   0   0   0   0   0\n",
            "   0   0   0   0   0   0   0   0   0   0   0   0   0   0   0   0   0   0\n",
            "   0   0   0   0   0   0   0   0   0   0   0   0   0   0   0   0   0   0\n",
            "   0   0   0   0   0   0   0   0   0   0   0   0   0   0   0   0   0   0\n",
            "   0   0   0   1   0   0   0   0   0   0   0   0   0   0   0   0   0   1\n",
            "   2   2   1   0   0   0   0   0   0   0   0   0   0   0   0   0   0   0\n",
            "   0   0   0   0   0   0   0   0   0   0   0   0   0   0   0   0   0   0\n",
            "   0   0   0   0   0   0   0   0   0   0   0   0   0   0   0   0   0   0\n",
            "   0   0   0   0   0   0   0   0   0   0   0   0  18   0   0   3   0   0\n",
            "   0   9   0   3   4   0   0   4   0   4   3   0   0   0   0   0   0   0\n",
            "   0   0   0   0   0   0   0   1   0   0   0   0   0   0   0   0   0   0\n",
            "   0  30   4   0  22   0  17   0 242 390   0  92  15  20  10   0   7  45\n",
            "  15   4   3   0  24  47   0  43   0   0   0   0   6   0   0  26  19  12\n",
            "   2  32 150  22   0   0 200  18   0   3  26   0  21   0  44   6   0   0\n",
            "   0   9   0  17   4   0   0  72  19   0   5   0  18  19  40   0   0  18\n",
            "  81  21   4  13   0  54   2  20   0 125  37   7  12   7   0   2   0   0\n",
            "  47   6  87   0 138 138   0   0   0   0   8 190   8  14   0  32  16   0\n",
            "   9  19   4  15   0   0   0   0   0   0   0   0   0   0   0   0   7   0\n",
            "   0   0   0   3   0   2   0   0   0   4   0   0   0   0   0   0   0   0\n",
            "   0   0   0   0   6   0   0   6   0   0   0   0]\n"
          ]
        }
      ],
      "source": [
        "# Extract the I-131 column from df_assig1 and convert it to a NumPy array\n",
        "i131_data = df_assig1['I-131'].to_numpy()\n",
        "\n",
        "# Display the first few elements of the array (optional)\n",
        "print(i131_data)"
      ]
    },
    {
      "cell_type": "markdown",
      "id": "ed97b568",
      "metadata": {
        "id": "ed97b568"
      },
      "source": [
        "__Question 2__ (8 points): Return the first, sixth, and twelfth elements of i131_data. __Write only one line of code__ to answer this question."
      ]
    },
    {
      "cell_type": "code",
      "execution_count": 51,
      "id": "2bbad1f1",
      "metadata": {
        "scrolled": true,
        "id": "2bbad1f1",
        "colab": {
          "base_uri": "https://localhost:8080/"
        },
        "outputId": "b0646503-a7cc-4eb3-d6b6-2d8311f34e2e"
      },
      "outputs": [
        {
          "output_type": "execute_result",
          "data": {
            "text/plain": [
              "array([0, 0, 1])"
            ]
          },
          "metadata": {},
          "execution_count": 51
        }
      ],
      "source": [
        "# Answer question 2 here\n",
        "i131_data[[0, 5, 11]]\n"
      ]
    },
    {
      "cell_type": "markdown",
      "id": "e61259e9",
      "metadata": {
        "id": "e61259e9"
      },
      "source": [
        "__Question 3__ (8 points): Return the last five elements of i131_data.\n",
        "\n",
        "Spring 24: __Write only one line of code__ to answer this question."
      ]
    },
    {
      "cell_type": "code",
      "execution_count": 52,
      "id": "01d79cf8",
      "metadata": {
        "scrolled": false,
        "id": "01d79cf8",
        "colab": {
          "base_uri": "https://localhost:8080/"
        },
        "outputId": "57fcf4f6-e710-4e50-f4cd-003de706a2ff"
      },
      "outputs": [
        {
          "output_type": "execute_result",
          "data": {
            "text/plain": [
              "array([6, 0, 0, 0, 0])"
            ]
          },
          "metadata": {},
          "execution_count": 52
        }
      ],
      "source": [
        "# Answer question 3 here\n",
        "i131_data[-5:]\n"
      ]
    },
    {
      "cell_type": "markdown",
      "id": "fff14664",
      "metadata": {
        "id": "fff14664"
      },
      "source": [
        "__Question 4__ (8 points): Return how many times the value of i131_data is between 2 and 4 (both numbers included).\n",
        "\n",
        "__Write only one line of code__ to answer this question."
      ]
    },
    {
      "cell_type": "code",
      "execution_count": 53,
      "id": "c3690811",
      "metadata": {
        "scrolled": true,
        "id": "c3690811",
        "colab": {
          "base_uri": "https://localhost:8080/"
        },
        "outputId": "bb3609f7-dd50-4931-9b10-fbde5baeed8c"
      },
      "outputs": [
        {
          "output_type": "execute_result",
          "data": {
            "text/plain": [
              "25"
            ]
          },
          "metadata": {},
          "execution_count": 53
        }
      ],
      "source": [
        "# Answer question 4 here\n",
        "np.sum((i131_data >= 2) & (i131_data <= 4))\n"
      ]
    },
    {
      "cell_type": "markdown",
      "id": "ed9e3d98",
      "metadata": {
        "id": "ed9e3d98"
      },
      "source": [
        "__Question 5__ (8 points): Return how many times the value of i131_data is either zero or 1. To answer this question, you __CANNOT__ use the symbol < in your answer (the _less than_ symbol). You __must__ answer it without using this symbol."
      ]
    },
    {
      "cell_type": "code",
      "execution_count": 54,
      "id": "73cd4879",
      "metadata": {
        "scrolled": true,
        "id": "73cd4879",
        "colab": {
          "base_uri": "https://localhost:8080/"
        },
        "outputId": "35889c5a-bd36-4dcb-c62a-4e37c9d3f5da"
      },
      "outputs": [
        {
          "output_type": "execute_result",
          "data": {
            "text/plain": [
              "515"
            ]
          },
          "metadata": {},
          "execution_count": 54
        }
      ],
      "source": [
        "# Answer question 5 here\n",
        "np.sum((i131_data == 0) | (i131_data == 1))"
      ]
    },
    {
      "cell_type": "markdown",
      "id": "75d0192a",
      "metadata": {
        "id": "75d0192a"
      },
      "source": [
        "__Question 6__ (8 points): Return the names of the States where i131_data has been above 2. Use ONLY ONE line of code.\n",
        "\n",
        "Hint: It is ok if your output shows the same State repeated many times."
      ]
    },
    {
      "cell_type": "code",
      "execution_count": 55,
      "id": "a1902b64",
      "metadata": {
        "scrolled": true,
        "id": "a1902b64",
        "colab": {
          "base_uri": "https://localhost:8080/",
          "height": 458
        },
        "outputId": "658ee6b0-5493-4d00-e8d4-9e71b7bb0197"
      },
      "outputs": [
        {
          "output_type": "execute_result",
          "data": {
            "text/plain": [
              "54     AK\n",
              "408    HI\n",
              "411    MO\n",
              "415    AR\n",
              "417    CA\n",
              "       ..\n",
              "574    CO\n",
              "579    CT\n",
              "585    MI\n",
              "598    WA\n",
              "601    CA\n",
              "Name: State, Length: 82, dtype: object"
            ],
            "text/html": [
              "<div>\n",
              "<style scoped>\n",
              "    .dataframe tbody tr th:only-of-type {\n",
              "        vertical-align: middle;\n",
              "    }\n",
              "\n",
              "    .dataframe tbody tr th {\n",
              "        vertical-align: top;\n",
              "    }\n",
              "\n",
              "    .dataframe thead th {\n",
              "        text-align: right;\n",
              "    }\n",
              "</style>\n",
              "<table border=\"1\" class=\"dataframe\">\n",
              "  <thead>\n",
              "    <tr style=\"text-align: right;\">\n",
              "      <th></th>\n",
              "      <th>State</th>\n",
              "    </tr>\n",
              "  </thead>\n",
              "  <tbody>\n",
              "    <tr>\n",
              "      <th>54</th>\n",
              "      <td>AK</td>\n",
              "    </tr>\n",
              "    <tr>\n",
              "      <th>408</th>\n",
              "      <td>HI</td>\n",
              "    </tr>\n",
              "    <tr>\n",
              "      <th>411</th>\n",
              "      <td>MO</td>\n",
              "    </tr>\n",
              "    <tr>\n",
              "      <th>415</th>\n",
              "      <td>AR</td>\n",
              "    </tr>\n",
              "    <tr>\n",
              "      <th>417</th>\n",
              "      <td>CA</td>\n",
              "    </tr>\n",
              "    <tr>\n",
              "      <th>...</th>\n",
              "      <td>...</td>\n",
              "    </tr>\n",
              "    <tr>\n",
              "      <th>574</th>\n",
              "      <td>CO</td>\n",
              "    </tr>\n",
              "    <tr>\n",
              "      <th>579</th>\n",
              "      <td>CT</td>\n",
              "    </tr>\n",
              "    <tr>\n",
              "      <th>585</th>\n",
              "      <td>MI</td>\n",
              "    </tr>\n",
              "    <tr>\n",
              "      <th>598</th>\n",
              "      <td>WA</td>\n",
              "    </tr>\n",
              "    <tr>\n",
              "      <th>601</th>\n",
              "      <td>CA</td>\n",
              "    </tr>\n",
              "  </tbody>\n",
              "</table>\n",
              "<p>82 rows × 1 columns</p>\n",
              "</div><br><label><b>dtype:</b> object</label>"
            ]
          },
          "metadata": {},
          "execution_count": 55
        }
      ],
      "source": [
        "# Answer question 6 here\n",
        "df_assig1.loc[i131_data > 2, 'State']\n"
      ]
    },
    {
      "cell_type": "markdown",
      "id": "14d54d37",
      "metadata": {
        "id": "14d54d37"
      },
      "source": [
        "__Question 7__ (8 points): Return how many times i131_data has a value of zero in California.\n",
        "\n",
        "Hint: California is recorded as CA in the State colum."
      ]
    },
    {
      "cell_type": "code",
      "execution_count": 56,
      "id": "d78de261",
      "metadata": {
        "scrolled": false,
        "id": "d78de261",
        "colab": {
          "base_uri": "https://localhost:8080/"
        },
        "outputId": "c2327153-5fca-4e29-8bb6-87c93651d9b0"
      },
      "outputs": [
        {
          "output_type": "execute_result",
          "data": {
            "text/plain": [
              "31"
            ]
          },
          "metadata": {},
          "execution_count": 56
        }
      ],
      "source": [
        "# Answer question 7 here\n",
        "np.sum((i131_data == 0) & (df_assig1['State'] == 'CA'))\n"
      ]
    },
    {
      "cell_type": "markdown",
      "id": "95284077",
      "metadata": {
        "id": "95284077"
      },
      "source": [
        "__Question 8__ (8 points): Write a print statement that returns this message: _The highest registered value of I-131 is:_ FILL IN THE BLANK\n",
        "\n",
        "where, FILL IN THE BLANK is the actual highest registered value of i131_data."
      ]
    },
    {
      "cell_type": "code",
      "execution_count": 57,
      "id": "36641cf4",
      "metadata": {
        "scrolled": true,
        "id": "36641cf4",
        "colab": {
          "base_uri": "https://localhost:8080/"
        },
        "outputId": "09c84059-bc40-41ef-ea59-8c192c4bedfe"
      },
      "outputs": [
        {
          "output_type": "stream",
          "name": "stdout",
          "text": [
            "The highest registered value of I-131 is: 390\n"
          ]
        }
      ],
      "source": [
        "highest_value = i131_data.max()\n",
        "print(f\"The highest registered value of I-131 is: {highest_value}\")"
      ]
    },
    {
      "cell_type": "markdown",
      "source": [
        "__Question 9__ (8 points): Run the following code cell to create an array called q9_array."
      ],
      "metadata": {
        "id": "m21OlDseUJ8H"
      },
      "id": "m21OlDseUJ8H"
    },
    {
      "cell_type": "code",
      "source": [
        "q9_array = np.array ([13, 8, 3, 6, 8, 17, 2, 5, 10])"
      ],
      "metadata": {
        "id": "dSRz1aM6XcVL"
      },
      "id": "dSRz1aM6XcVL",
      "execution_count": 58,
      "outputs": []
    },
    {
      "cell_type": "markdown",
      "source": [
        "9a) Create a new array called q9_array_sorted that contains the sorted values of q9_array."
      ],
      "metadata": {
        "id": "1SZ9_sCOXuID"
      },
      "id": "1SZ9_sCOXuID"
    },
    {
      "cell_type": "code",
      "source": [
        "\n",
        "q9_array_sorted = np.array(sorted(q9_array))\n",
        "q9_array_sorted\n"
      ],
      "metadata": {
        "id": "ESPlLYYVUM7b",
        "colab": {
          "base_uri": "https://localhost:8080/"
        },
        "outputId": "f91e467c-a074-4f64-cbc1-b86720b5bf9c"
      },
      "id": "ESPlLYYVUM7b",
      "execution_count": 59,
      "outputs": [
        {
          "output_type": "execute_result",
          "data": {
            "text/plain": [
              "array([ 2,  3,  5,  6,  8,  8, 10, 13, 17])"
            ]
          },
          "metadata": {},
          "execution_count": 59
        }
      ]
    },
    {
      "cell_type": "markdown",
      "source": [
        "9b) Create a new array called q9_array_2dim that re-arranges the values of q9_array in a two-dimensional squared array (squared= with the same number of rows and columns)."
      ],
      "metadata": {
        "id": "OuNHC7XgYBav"
      },
      "id": "OuNHC7XgYBav"
    },
    {
      "cell_type": "code",
      "source": [
        "\n",
        "total_elements = len(q9_array)\n",
        "dimension_size = int(total_elements**0.5)\n",
        "q9_array_2dim = q9_array.reshape(dimension_size, dimension_size)\n",
        "print(q9_array_2dim)"
      ],
      "metadata": {
        "id": "HeLoBpq0aKm4",
        "colab": {
          "base_uri": "https://localhost:8080/"
        },
        "outputId": "5e36343d-d8ee-4e13-afab-1623c343c24b"
      },
      "id": "HeLoBpq0aKm4",
      "execution_count": 60,
      "outputs": [
        {
          "output_type": "stream",
          "name": "stdout",
          "text": [
            "[[13  8  3]\n",
            " [ 6  8 17]\n",
            " [ 2  5 10]]\n"
          ]
        }
      ]
    },
    {
      "cell_type": "markdown",
      "id": "e98b7419",
      "metadata": {
        "id": "e98b7419"
      },
      "source": [
        "__Question 10__ (8 points): Use NumPy methods to generate the following arrays:\n",
        "\n",
        "10 a) Generate an array with the numbers from 96 to 0, decreasing in steps of 8 (i.e., 96, 88, 80, ...., 0). Call this array a1.\n",
        "\n",
        "10 b) Generate an array with the number 2 repeated as many times as the size of array a1. Call this array a2.\n",
        "\n",
        "10 c) Add the arrays created in a) and b) and save the results in a3. Return the values of a3 (i.e., print the values of a3).\n",
        "\n",
        "Note: To answer question 10 and create the arrays requested in a, b, and c, you __CANNOT__ enter the values of the arrays manually. You __must__ use the NumPy methods we learned in class to create them."
      ]
    },
    {
      "cell_type": "code",
      "execution_count": 61,
      "id": "9b897ca9",
      "metadata": {
        "scrolled": true,
        "id": "9b897ca9",
        "colab": {
          "base_uri": "https://localhost:8080/"
        },
        "outputId": "2dc5c697-5c0f-4242-85a3-bd9ff899bfcd"
      },
      "outputs": [
        {
          "output_type": "stream",
          "name": "stdout",
          "text": [
            "[96 88 80 72 64 56 48 40 32 24 16  8  0]\n"
          ]
        }
      ],
      "source": [
        "\n",
        "a1 = np.arange(96, -1, -8)\n",
        "print(a1)"
      ]
    },
    {
      "cell_type": "code",
      "execution_count": 62,
      "id": "4bbaf072",
      "metadata": {
        "scrolled": true,
        "id": "4bbaf072",
        "colab": {
          "base_uri": "https://localhost:8080/"
        },
        "outputId": "c91715b4-11df-4439-d586-ac768f2104fd"
      },
      "outputs": [
        {
          "output_type": "stream",
          "name": "stdout",
          "text": [
            "[2 2 2 2 2 2 2 2 2 2 2 2 2]\n"
          ]
        }
      ],
      "source": [
        "size_of_a1 = len(a1)\n",
        "a2 = np.full(size_of_a1, 2)\n",
        "\n",
        "print(a2)"
      ]
    },
    {
      "cell_type": "code",
      "execution_count": 63,
      "id": "f4a95fd0",
      "metadata": {
        "scrolled": true,
        "id": "f4a95fd0",
        "colab": {
          "base_uri": "https://localhost:8080/"
        },
        "outputId": "b7c51f41-5ab7-4103-bcd1-afc715f5cb46"
      },
      "outputs": [
        {
          "output_type": "stream",
          "name": "stdout",
          "text": [
            "[98 90 82 74 66 58 50 42 34 26 18 10  2]\n"
          ]
        }
      ],
      "source": [
        "a3=a1+a2\n",
        "print(a3)"
      ]
    },
    {
      "cell_type": "markdown",
      "id": "4e39bb78",
      "metadata": {
        "id": "4e39bb78"
      },
      "source": [
        "__Question 11__ (5 points): Return how many observations were taken at each State. __Write only one line of code__ to answer this question."
      ]
    },
    {
      "cell_type": "code",
      "execution_count": 64,
      "id": "acb83072",
      "metadata": {
        "id": "acb83072",
        "colab": {
          "base_uri": "https://localhost:8080/"
        },
        "outputId": "ade08c99-b135-4daf-ef65-457e7c433282"
      },
      "outputs": [
        {
          "output_type": "stream",
          "name": "stdout",
          "text": [
            "Occurrences of each state, ordered by name:\n",
            "State\n",
            "Ak      71\n",
            "Tn      56\n",
            "Hi      49\n",
            "Ca      42\n",
            "Id      29\n",
            "Guam    24\n",
            "Nv      23\n",
            "Ny      22\n",
            "Al      20\n",
            "Wa      19\n",
            "Oh      19\n",
            "Cnmi    19\n",
            "Pa      16\n",
            "Nc      12\n",
            "Ct      11\n",
            "Fl      11\n",
            "Ar      10\n",
            "Nh      10\n",
            "Ma      10\n",
            "Mi       9\n",
            "Ks       9\n",
            "Ut       9\n",
            "Mn       8\n",
            "Ga       8\n",
            "Sc       8\n",
            "Tx       7\n",
            "Va       6\n",
            "Or       6\n",
            "Md       6\n",
            "Co       6\n",
            "Nj       5\n",
            "De       4\n",
            "Ms       4\n",
            "Mo       4\n",
            "Ia       4\n",
            "Nm       4\n",
            "Il       4\n",
            "Az       3\n",
            "Ok       2\n",
            "Ri       2\n",
            "Wi       2\n",
            "Nd       2\n",
            "Ne       2\n",
            "Mt       2\n",
            "Wv       2\n",
            "Ky       2\n",
            "La       2\n",
            "Vt       1\n",
            "Name: count, dtype: int64\n"
          ]
        }
      ],
      "source": [
        "\n",
        "df_assig1['State'] = df_assig1['State'].str.strip().str.title()\n",
        "state_counts = df_assig1['State'].value_counts()\n",
        "print(\"Occurrences of each state, ordered by name:\")\n",
        "print(state_counts)"
      ]
    },
    {
      "cell_type": "markdown",
      "id": "a81f3441",
      "metadata": {
        "id": "a81f3441"
      },
      "source": [
        "__Question 12__ (5 points): Return the __df_assig1__ data frame sorted by the 'Date Collected'. Show the latest collected observations first. __Write only one line of code__ to answer this question."
      ]
    },
    {
      "cell_type": "code",
      "execution_count": 65,
      "id": "09cffa45",
      "metadata": {
        "id": "09cffa45",
        "colab": {
          "base_uri": "https://localhost:8080/"
        },
        "outputId": "b2eb6e2e-3e01-48bc-ce3d-68513f9a2361"
      },
      "outputs": [
        {
          "output_type": "stream",
          "name": "stdout",
          "text": [
            "    State     Location Date Posted Date Collected     Sample Type    Unit  \\\n",
            "577    Pa   Harrisburg  2011-05-24     2011-04-30  Precipitation    pCi/l   \n",
            "570    Nc    Charlotte  2011-05-24     2011-04-29  Precipitation    pCi/l   \n",
            "584    Tn    Knoxville  2011-05-24     2011-04-29  Precipitation    pCi/l   \n",
            "568    Ma       Boston  2011-05-24     2011-04-29  Precipitation    pCi/l   \n",
            "599    Oh  Painesville  2011-05-24     2011-04-29  Precipitation    pCi/l   \n",
            "..    ...          ...         ...            ...             ...     ...   \n",
            "539    Oh  Painesville  2011-04-04     2011-03-15   Precipitation   pCi/l   \n",
            "510    Tn    Nashville  2011-04-13     2011-03-15   Precipitation   pCi/l   \n",
            "213    Ca    Riverside  2011-03-30     2011-03-15      Air Filter  pCi/m3   \n",
            "543    Ca     Richmond  2011-04-04     2011-03-15   Precipitation   pCi/l   \n",
            "24     Ca      Anaheim  2011-03-30     2011-03-11      Air Filter  pCi/m3   \n",
            "\n",
            "     Ba-140  Co-60  Cs-134  Cs-136  Cs-137  I-131  I-132  I-133  Te-129  \\\n",
            "577     0.0    0.0       0     0.0       0      0      0    0.0     0.0   \n",
            "570     0.0    0.0       0     0.0       0      0      0    0.0     0.0   \n",
            "584     0.0    0.0       0     0.0       0      0      0    0.0     0.0   \n",
            "568     0.0    0.0       0     0.0       0      0      0    0.0     0.0   \n",
            "599     0.0    0.0       0     0.0       0      0      0    0.0     0.0   \n",
            "..      ...    ...     ...     ...     ...    ...    ...    ...     ...   \n",
            "539     0.0    0.0       0     NaN       0      0      0    0.0     NaN   \n",
            "510     0.0    0.0       0     0.0       0      0      0    0.0     0.0   \n",
            "213     0.0    0.0       0     NaN       0      0      0    0.0     NaN   \n",
            "543     0.0    0.0       0     NaN       0      0      0    0.0     NaN   \n",
            "24      0.0    0.0       0     NaN       0      0      0    0.0     NaN   \n",
            "\n",
            "     Te-129m  Te-132  Ba-140.1  \n",
            "577      0.0       0       NaN  \n",
            "570      0.0       0       NaN  \n",
            "584      0.0       0       NaN  \n",
            "568      0.0       0       NaN  \n",
            "599      0.0       0       NaN  \n",
            "..       ...     ...       ...  \n",
            "539      NaN       0       NaN  \n",
            "510      0.0       0       NaN  \n",
            "213      NaN       0       NaN  \n",
            "543      NaN       0       NaN  \n",
            "24       NaN       0       NaN  \n",
            "\n",
            "[606 rows x 18 columns]\n"
          ]
        }
      ],
      "source": [
        "sorted_df = df_assig1.sort_values(by='Date Collected', ascending=False)\n",
        "print(sorted_df)"
      ]
    },
    {
      "cell_type": "markdown",
      "id": "742f7700",
      "metadata": {
        "id": "742f7700"
      },
      "source": [
        "__Question 13__ (5 points): Return the __df_assig1__ data frame only showing the samples taken in Miami. Miami is one of the values from the column 'Location'. __Write only one line of code__ to answer this question."
      ]
    },
    {
      "cell_type": "code",
      "execution_count": 66,
      "id": "1c0aad00",
      "metadata": {
        "id": "1c0aad00",
        "colab": {
          "base_uri": "https://localhost:8080/"
        },
        "outputId": "7aefe3a7-01a8-4be4-8f6e-6a2f37b16672"
      },
      "outputs": [
        {
          "output_type": "stream",
          "name": "stdout",
          "text": [
            "    State Location Date Posted Date Collected     Sample Type   Unit  Ba-140  \\\n",
            "312    Fl    Miami  2011-04-08     2011-03-29  Drinking Water  pCi/l     0.0   \n",
            "\n",
            "     Co-60  Cs-134  Cs-136  Cs-137  I-131  I-132  I-133  Te-129  Te-129m  \\\n",
            "312    0.0       0     0.0       0      0      0    0.0     0.0      0.0   \n",
            "\n",
            "     Te-132  Ba-140.1  \n",
            "312       0       NaN  \n"
          ]
        }
      ],
      "source": [
        "miami_samples = df_assig1[df_assig1['Location'] == 'Miami']\n",
        "print(miami_samples)\n"
      ]
    },
    {
      "cell_type": "markdown",
      "id": "a9621810",
      "metadata": {
        "id": "a9621810"
      },
      "source": [
        "__Question 14__ (5 points): Return the average concentration of 'I-131' found on each state. __Write only one line of code__ to answer this question."
      ]
    },
    {
      "cell_type": "code",
      "execution_count": 67,
      "id": "f38ad10f",
      "metadata": {
        "id": "f38ad10f",
        "colab": {
          "base_uri": "https://localhost:8080/"
        },
        "outputId": "5b91ebb3-3aab-45dd-f595-7fe22a73d461"
      },
      "outputs": [
        {
          "output_type": "stream",
          "name": "stdout",
          "text": [
            "State\n",
            "Ak       0.154930\n",
            "Al       1.050000\n",
            "Ar       5.900000\n",
            "Az       1.000000\n",
            "Ca       7.119048\n",
            "Cnmi     0.105263\n",
            "Co       8.333333\n",
            "Ct       5.454545\n",
            "De       0.000000\n",
            "Fl      15.636364\n",
            "Ga       2.125000\n",
            "Guam     0.041667\n",
            "Hi       0.591837\n",
            "Ia       0.000000\n",
            "Id      23.068966\n",
            "Il       0.000000\n",
            "Ks      24.444444\n",
            "Ky       0.000000\n",
            "La       0.000000\n",
            "Ma      14.400000\n",
            "Md       0.000000\n",
            "Mi       2.777778\n",
            "Mn       7.125000\n",
            "Mo       0.750000\n",
            "Ms       0.000000\n",
            "Mt       0.000000\n",
            "Nc       7.500000\n",
            "Nd       0.000000\n",
            "Ne       0.000000\n",
            "Nh       7.100000\n",
            "Nj       0.000000\n",
            "Nm       0.000000\n",
            "Nv       0.173913\n",
            "Ny       3.227273\n",
            "Oh       2.789474\n",
            "Ok       0.000000\n",
            "Or      14.500000\n",
            "Pa       0.750000\n",
            "Ri       0.000000\n",
            "Sc       0.000000\n",
            "Tn       7.535714\n",
            "Tx       0.000000\n",
            "Ut      24.444444\n",
            "Va       1.500000\n",
            "Vt       0.000000\n",
            "Wa      10.368421\n",
            "Wi       0.000000\n",
            "Wv       0.000000\n",
            "Name: I-131, dtype: float64\n"
          ]
        }
      ],
      "source": [
        "average_concentration = df_assig1.groupby('State')['I-131'].mean()\n",
        "print(average_concentration)\n"
      ]
    }
  ],
  "metadata": {
    "kernelspec": {
      "display_name": "Python 3 (ipykernel)",
      "language": "python",
      "name": "python3"
    },
    "language_info": {
      "codemirror_mode": {
        "name": "ipython",
        "version": 3
      },
      "file_extension": ".py",
      "mimetype": "text/x-python",
      "name": "python",
      "nbconvert_exporter": "python",
      "pygments_lexer": "ipython3",
      "version": "3.9.13"
    },
    "colab": {
      "provenance": [],
      "toc_visible": true,
      "include_colab_link": true
    }
  },
  "nbformat": 4,
  "nbformat_minor": 5
}